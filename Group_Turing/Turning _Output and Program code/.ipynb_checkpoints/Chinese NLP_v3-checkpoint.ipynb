{
 "cells": [
  {
   "cell_type": "code",
   "execution_count": 1,
   "metadata": {},
   "outputs": [],
   "source": [
    "import pandas as pd\n",
    "import re"
   ]
  },
  {
   "cell_type": "code",
   "execution_count": 2,
   "metadata": {},
   "outputs": [],
   "source": [
    "from snownlp import sentiment\n",
    "sentiment.train('neg.txt', 'pos.txt')\n",
    "sentiment.save('sentiment.marshal')"
   ]
  },
  {
   "cell_type": "code",
   "execution_count": 5,
   "metadata": {},
   "outputs": [
    {
     "name": "stderr",
     "output_type": "stream",
     "text": [
      "Building prefix dict from C:\\Users\\PETER\\OneDrive\\桌面\\Klook 7\\dict.txt.big ...\n",
      "Loading model from cache C:\\Users\\PETER\\AppData\\Local\\Temp\\jieba.u6fb6e872883c6d9c08ea8e016e70c5c1.cache\n"
     ]
    },
    {
     "name": "stdout",
     "output_type": "stream",
     "text": [
      "10\n"
     ]
    },
    {
     "name": "stderr",
     "output_type": "stream",
     "text": [
      "Loading model cost 1.212 seconds.\n",
      "Prefix dict has been built succesfully.\n",
      "Building prefix dict from C:\\Users\\PETER\\OneDrive\\桌面\\Klook 7\\dict.txt.big ...\n",
      "Loading model from cache C:\\Users\\PETER\\AppData\\Local\\Temp\\jieba.u6fb6e872883c6d9c08ea8e016e70c5c1.cache\n"
     ]
    },
    {
     "name": "stdout",
     "output_type": "stream",
     "text": [
      "10325\n"
     ]
    },
    {
     "name": "stderr",
     "output_type": "stream",
     "text": [
      "Loading model cost 1.251 seconds.\n",
      "Prefix dict has been built succesfully.\n",
      "Building prefix dict from C:\\Users\\PETER\\OneDrive\\桌面\\Klook 7\\dict.txt.big ...\n",
      "Loading model from cache C:\\Users\\PETER\\AppData\\Local\\Temp\\jieba.u6fb6e872883c6d9c08ea8e016e70c5c1.cache\n"
     ]
    },
    {
     "name": "stdout",
     "output_type": "stream",
     "text": [
      "104\n"
     ]
    },
    {
     "name": "stderr",
     "output_type": "stream",
     "text": [
      "Loading model cost 1.250 seconds.\n",
      "Prefix dict has been built succesfully.\n",
      "Building prefix dict from C:\\Users\\PETER\\OneDrive\\桌面\\Klook 7\\dict.txt.big ...\n",
      "Loading model from cache C:\\Users\\PETER\\AppData\\Local\\Temp\\jieba.u6fb6e872883c6d9c08ea8e016e70c5c1.cache\n"
     ]
    },
    {
     "name": "stdout",
     "output_type": "stream",
     "text": [
      "10690\n"
     ]
    },
    {
     "name": "stderr",
     "output_type": "stream",
     "text": [
      "Loading model cost 1.220 seconds.\n",
      "Prefix dict has been built succesfully.\n",
      "Building prefix dict from C:\\Users\\PETER\\OneDrive\\桌面\\Klook 7\\dict.txt.big ...\n",
      "Loading model from cache C:\\Users\\PETER\\AppData\\Local\\Temp\\jieba.u6fb6e872883c6d9c08ea8e016e70c5c1.cache\n"
     ]
    },
    {
     "name": "stdout",
     "output_type": "stream",
     "text": [
      "11\n"
     ]
    },
    {
     "name": "stderr",
     "output_type": "stream",
     "text": [
      "Loading model cost 1.212 seconds.\n",
      "Prefix dict has been built succesfully.\n",
      "Building prefix dict from C:\\Users\\PETER\\OneDrive\\桌面\\Klook 7\\dict.txt.big ...\n",
      "Loading model from cache C:\\Users\\PETER\\AppData\\Local\\Temp\\jieba.u6fb6e872883c6d9c08ea8e016e70c5c1.cache\n"
     ]
    },
    {
     "name": "stdout",
     "output_type": "stream",
     "text": [
      "11334\n"
     ]
    },
    {
     "name": "stderr",
     "output_type": "stream",
     "text": [
      "Loading model cost 1.207 seconds.\n",
      "Prefix dict has been built succesfully.\n",
      "Building prefix dict from C:\\Users\\PETER\\OneDrive\\桌面\\Klook 7\\dict.txt.big ...\n",
      "Loading model from cache C:\\Users\\PETER\\AppData\\Local\\Temp\\jieba.u6fb6e872883c6d9c08ea8e016e70c5c1.cache\n"
     ]
    },
    {
     "name": "stdout",
     "output_type": "stream",
     "text": [
      "11417\n"
     ]
    },
    {
     "name": "stderr",
     "output_type": "stream",
     "text": [
      "Loading model cost 1.218 seconds.\n",
      "Prefix dict has been built succesfully.\n",
      "Building prefix dict from C:\\Users\\PETER\\OneDrive\\桌面\\Klook 7\\dict.txt.big ...\n",
      "Loading model from cache C:\\Users\\PETER\\AppData\\Local\\Temp\\jieba.u6fb6e872883c6d9c08ea8e016e70c5c1.cache\n"
     ]
    },
    {
     "name": "stdout",
     "output_type": "stream",
     "text": [
      "11466\n"
     ]
    },
    {
     "name": "stderr",
     "output_type": "stream",
     "text": [
      "Loading model cost 1.209 seconds.\n",
      "Prefix dict has been built succesfully.\n",
      "Building prefix dict from C:\\Users\\PETER\\OneDrive\\桌面\\Klook 7\\dict.txt.big ...\n",
      "Loading model from cache C:\\Users\\PETER\\AppData\\Local\\Temp\\jieba.u6fb6e872883c6d9c08ea8e016e70c5c1.cache\n"
     ]
    },
    {
     "name": "stdout",
     "output_type": "stream",
     "text": [
      "11527\n"
     ]
    },
    {
     "name": "stderr",
     "output_type": "stream",
     "text": [
      "Loading model cost 1.218 seconds.\n",
      "Prefix dict has been built succesfully.\n",
      "Building prefix dict from C:\\Users\\PETER\\OneDrive\\桌面\\Klook 7\\dict.txt.big ...\n",
      "Loading model from cache C:\\Users\\PETER\\AppData\\Local\\Temp\\jieba.u6fb6e872883c6d9c08ea8e016e70c5c1.cache\n"
     ]
    },
    {
     "name": "stdout",
     "output_type": "stream",
     "text": [
      "11741\n"
     ]
    },
    {
     "name": "stderr",
     "output_type": "stream",
     "text": [
      "Loading model cost 1.212 seconds.\n",
      "Prefix dict has been built succesfully.\n",
      "Building prefix dict from C:\\Users\\PETER\\OneDrive\\桌面\\Klook 7\\dict.txt.big ...\n",
      "Loading model from cache C:\\Users\\PETER\\AppData\\Local\\Temp\\jieba.u6fb6e872883c6d9c08ea8e016e70c5c1.cache\n"
     ]
    },
    {
     "name": "stdout",
     "output_type": "stream",
     "text": [
      "12555\n"
     ]
    },
    {
     "name": "stderr",
     "output_type": "stream",
     "text": [
      "Loading model cost 1.224 seconds.\n",
      "Prefix dict has been built succesfully.\n",
      "Building prefix dict from C:\\Users\\PETER\\OneDrive\\桌面\\Klook 7\\dict.txt.big ...\n",
      "Loading model from cache C:\\Users\\PETER\\AppData\\Local\\Temp\\jieba.u6fb6e872883c6d9c08ea8e016e70c5c1.cache\n"
     ]
    },
    {
     "name": "stdout",
     "output_type": "stream",
     "text": [
      "12556\n"
     ]
    },
    {
     "name": "stderr",
     "output_type": "stream",
     "text": [
      "Loading model cost 1.214 seconds.\n",
      "Prefix dict has been built succesfully.\n",
      "Building prefix dict from C:\\Users\\PETER\\OneDrive\\桌面\\Klook 7\\dict.txt.big ...\n",
      "Loading model from cache C:\\Users\\PETER\\AppData\\Local\\Temp\\jieba.u6fb6e872883c6d9c08ea8e016e70c5c1.cache\n"
     ]
    },
    {
     "name": "stdout",
     "output_type": "stream",
     "text": [
      "12557\n"
     ]
    },
    {
     "name": "stderr",
     "output_type": "stream",
     "text": [
      "Loading model cost 1.271 seconds.\n",
      "Prefix dict has been built succesfully.\n",
      "Building prefix dict from C:\\Users\\PETER\\OneDrive\\桌面\\Klook 7\\dict.txt.big ...\n",
      "Loading model from cache C:\\Users\\PETER\\AppData\\Local\\Temp\\jieba.u6fb6e872883c6d9c08ea8e016e70c5c1.cache\n"
     ]
    },
    {
     "name": "stdout",
     "output_type": "stream",
     "text": [
      "12559\n"
     ]
    },
    {
     "name": "stderr",
     "output_type": "stream",
     "text": [
      "Loading model cost 1.213 seconds.\n",
      "Prefix dict has been built succesfully.\n",
      "Building prefix dict from C:\\Users\\PETER\\OneDrive\\桌面\\Klook 7\\dict.txt.big ...\n",
      "Loading model from cache C:\\Users\\PETER\\AppData\\Local\\Temp\\jieba.u6fb6e872883c6d9c08ea8e016e70c5c1.cache\n"
     ]
    },
    {
     "name": "stdout",
     "output_type": "stream",
     "text": [
      "12599\n"
     ]
    },
    {
     "name": "stderr",
     "output_type": "stream",
     "text": [
      "Loading model cost 1.233 seconds.\n",
      "Prefix dict has been built succesfully.\n",
      "Building prefix dict from C:\\Users\\PETER\\OneDrive\\桌面\\Klook 7\\dict.txt.big ...\n",
      "Loading model from cache C:\\Users\\PETER\\AppData\\Local\\Temp\\jieba.u6fb6e872883c6d9c08ea8e016e70c5c1.cache\n"
     ]
    },
    {
     "name": "stdout",
     "output_type": "stream",
     "text": [
      "1280\n"
     ]
    },
    {
     "name": "stderr",
     "output_type": "stream",
     "text": [
      "Loading model cost 1.212 seconds.\n",
      "Prefix dict has been built succesfully.\n",
      "Building prefix dict from C:\\Users\\PETER\\OneDrive\\桌面\\Klook 7\\dict.txt.big ...\n",
      "Loading model from cache C:\\Users\\PETER\\AppData\\Local\\Temp\\jieba.u6fb6e872883c6d9c08ea8e016e70c5c1.cache\n"
     ]
    },
    {
     "name": "stdout",
     "output_type": "stream",
     "text": [
      "12804\n"
     ]
    },
    {
     "name": "stderr",
     "output_type": "stream",
     "text": [
      "Loading model cost 1.263 seconds.\n",
      "Prefix dict has been built succesfully.\n",
      "Building prefix dict from C:\\Users\\PETER\\OneDrive\\桌面\\Klook 7\\dict.txt.big ...\n",
      "Loading model from cache C:\\Users\\PETER\\AppData\\Local\\Temp\\jieba.u6fb6e872883c6d9c08ea8e016e70c5c1.cache\n"
     ]
    },
    {
     "name": "stdout",
     "output_type": "stream",
     "text": [
      "13\n"
     ]
    },
    {
     "name": "stderr",
     "output_type": "stream",
     "text": [
      "Loading model cost 1.220 seconds.\n",
      "Prefix dict has been built succesfully.\n",
      "Building prefix dict from C:\\Users\\PETER\\OneDrive\\桌面\\Klook 7\\dict.txt.big ...\n",
      "Loading model from cache C:\\Users\\PETER\\AppData\\Local\\Temp\\jieba.u6fb6e872883c6d9c08ea8e016e70c5c1.cache\n"
     ]
    },
    {
     "name": "stdout",
     "output_type": "stream",
     "text": [
      "13022\n"
     ]
    },
    {
     "name": "stderr",
     "output_type": "stream",
     "text": [
      "Loading model cost 1.269 seconds.\n",
      "Prefix dict has been built succesfully.\n",
      "Building prefix dict from C:\\Users\\PETER\\OneDrive\\桌面\\Klook 7\\dict.txt.big ...\n",
      "Loading model from cache C:\\Users\\PETER\\AppData\\Local\\Temp\\jieba.u6fb6e872883c6d9c08ea8e016e70c5c1.cache\n"
     ]
    },
    {
     "name": "stdout",
     "output_type": "stream",
     "text": [
      "13044\n"
     ]
    },
    {
     "name": "stderr",
     "output_type": "stream",
     "text": [
      "Loading model cost 1.288 seconds.\n",
      "Prefix dict has been built succesfully.\n",
      "Building prefix dict from C:\\Users\\PETER\\OneDrive\\桌面\\Klook 7\\dict.txt.big ...\n",
      "Loading model from cache C:\\Users\\PETER\\AppData\\Local\\Temp\\jieba.u6fb6e872883c6d9c08ea8e016e70c5c1.cache\n"
     ]
    },
    {
     "name": "stdout",
     "output_type": "stream",
     "text": [
      "13552\n"
     ]
    },
    {
     "name": "stderr",
     "output_type": "stream",
     "text": [
      "Loading model cost 1.274 seconds.\n",
      "Prefix dict has been built succesfully.\n",
      "Building prefix dict from C:\\Users\\PETER\\OneDrive\\桌面\\Klook 7\\dict.txt.big ...\n",
      "Loading model from cache C:\\Users\\PETER\\AppData\\Local\\Temp\\jieba.u6fb6e872883c6d9c08ea8e016e70c5c1.cache\n"
     ]
    },
    {
     "name": "stdout",
     "output_type": "stream",
     "text": [
      "13765\n"
     ]
    },
    {
     "name": "stderr",
     "output_type": "stream",
     "text": [
      "Loading model cost 1.262 seconds.\n",
      "Prefix dict has been built succesfully.\n",
      "Building prefix dict from C:\\Users\\PETER\\OneDrive\\桌面\\Klook 7\\dict.txt.big ...\n",
      "Loading model from cache C:\\Users\\PETER\\AppData\\Local\\Temp\\jieba.u6fb6e872883c6d9c08ea8e016e70c5c1.cache\n"
     ]
    },
    {
     "name": "stdout",
     "output_type": "stream",
     "text": [
      "13773\n"
     ]
    },
    {
     "name": "stderr",
     "output_type": "stream",
     "text": [
      "Loading model cost 1.224 seconds.\n",
      "Prefix dict has been built succesfully.\n",
      "Building prefix dict from C:\\Users\\PETER\\OneDrive\\桌面\\Klook 7\\dict.txt.big ...\n",
      "Loading model from cache C:\\Users\\PETER\\AppData\\Local\\Temp\\jieba.u6fb6e872883c6d9c08ea8e016e70c5c1.cache\n"
     ]
    },
    {
     "name": "stdout",
     "output_type": "stream",
     "text": [
      "14546\n"
     ]
    },
    {
     "name": "stderr",
     "output_type": "stream",
     "text": [
      "Loading model cost 1.224 seconds.\n",
      "Prefix dict has been built succesfully.\n",
      "Building prefix dict from C:\\Users\\PETER\\OneDrive\\桌面\\Klook 7\\dict.txt.big ...\n",
      "Loading model from cache C:\\Users\\PETER\\AppData\\Local\\Temp\\jieba.u6fb6e872883c6d9c08ea8e016e70c5c1.cache\n"
     ]
    },
    {
     "name": "stdout",
     "output_type": "stream",
     "text": [
      "1542\n"
     ]
    },
    {
     "name": "stderr",
     "output_type": "stream",
     "text": [
      "Loading model cost 1.253 seconds.\n",
      "Prefix dict has been built succesfully.\n",
      "Building prefix dict from C:\\Users\\PETER\\OneDrive\\桌面\\Klook 7\\dict.txt.big ...\n",
      "Loading model from cache C:\\Users\\PETER\\AppData\\Local\\Temp\\jieba.u6fb6e872883c6d9c08ea8e016e70c5c1.cache\n"
     ]
    },
    {
     "name": "stdout",
     "output_type": "stream",
     "text": [
      "1548\n"
     ]
    },
    {
     "name": "stderr",
     "output_type": "stream",
     "text": [
      "Loading model cost 1.257 seconds.\n",
      "Prefix dict has been built succesfully.\n",
      "Building prefix dict from C:\\Users\\PETER\\OneDrive\\桌面\\Klook 7\\dict.txt.big ...\n",
      "Loading model from cache C:\\Users\\PETER\\AppData\\Local\\Temp\\jieba.u6fb6e872883c6d9c08ea8e016e70c5c1.cache\n"
     ]
    },
    {
     "name": "stdout",
     "output_type": "stream",
     "text": [
      "15932\n"
     ]
    },
    {
     "name": "stderr",
     "output_type": "stream",
     "text": [
      "Loading model cost 1.263 seconds.\n",
      "Prefix dict has been built succesfully.\n",
      "Building prefix dict from C:\\Users\\PETER\\OneDrive\\桌面\\Klook 7\\dict.txt.big ...\n",
      "Loading model from cache C:\\Users\\PETER\\AppData\\Local\\Temp\\jieba.u6fb6e872883c6d9c08ea8e016e70c5c1.cache\n"
     ]
    },
    {
     "name": "stdout",
     "output_type": "stream",
     "text": [
      "16\n"
     ]
    },
    {
     "name": "stderr",
     "output_type": "stream",
     "text": [
      "Loading model cost 1.301 seconds.\n",
      "Prefix dict has been built succesfully.\n",
      "Building prefix dict from C:\\Users\\PETER\\OneDrive\\桌面\\Klook 7\\dict.txt.big ...\n",
      "Loading model from cache C:\\Users\\PETER\\AppData\\Local\\Temp\\jieba.u6fb6e872883c6d9c08ea8e016e70c5c1.cache\n"
     ]
    },
    {
     "name": "stdout",
     "output_type": "stream",
     "text": [
      "16050\n"
     ]
    },
    {
     "name": "stderr",
     "output_type": "stream",
     "text": [
      "Loading model cost 1.412 seconds.\n",
      "Prefix dict has been built succesfully.\n",
      "Building prefix dict from C:\\Users\\PETER\\OneDrive\\桌面\\Klook 7\\dict.txt.big ...\n",
      "Loading model from cache C:\\Users\\PETER\\AppData\\Local\\Temp\\jieba.u6fb6e872883c6d9c08ea8e016e70c5c1.cache\n"
     ]
    },
    {
     "name": "stdout",
     "output_type": "stream",
     "text": [
      "16058\n"
     ]
    },
    {
     "name": "stderr",
     "output_type": "stream",
     "text": [
      "Loading model cost 1.383 seconds.\n",
      "Prefix dict has been built succesfully.\n",
      "Building prefix dict from C:\\Users\\PETER\\OneDrive\\桌面\\Klook 7\\dict.txt.big ...\n",
      "Loading model from cache C:\\Users\\PETER\\AppData\\Local\\Temp\\jieba.u6fb6e872883c6d9c08ea8e016e70c5c1.cache\n"
     ]
    },
    {
     "name": "stdout",
     "output_type": "stream",
     "text": [
      "17\n"
     ]
    },
    {
     "name": "stderr",
     "output_type": "stream",
     "text": [
      "Loading model cost 1.289 seconds.\n",
      "Prefix dict has been built succesfully.\n",
      "Building prefix dict from C:\\Users\\PETER\\OneDrive\\桌面\\Klook 7\\dict.txt.big ...\n",
      "Loading model from cache C:\\Users\\PETER\\AppData\\Local\\Temp\\jieba.u6fb6e872883c6d9c08ea8e016e70c5c1.cache\n"
     ]
    },
    {
     "name": "stdout",
     "output_type": "stream",
     "text": [
      "178\n"
     ]
    },
    {
     "name": "stderr",
     "output_type": "stream",
     "text": [
      "Loading model cost 1.269 seconds.\n",
      "Prefix dict has been built succesfully.\n",
      "Building prefix dict from C:\\Users\\PETER\\OneDrive\\桌面\\Klook 7\\dict.txt.big ...\n",
      "Loading model from cache C:\\Users\\PETER\\AppData\\Local\\Temp\\jieba.u6fb6e872883c6d9c08ea8e016e70c5c1.cache\n"
     ]
    },
    {
     "name": "stdout",
     "output_type": "stream",
     "text": [
      "18\n"
     ]
    },
    {
     "name": "stderr",
     "output_type": "stream",
     "text": [
      "Loading model cost 1.247 seconds.\n",
      "Prefix dict has been built succesfully.\n",
      "Building prefix dict from C:\\Users\\PETER\\OneDrive\\桌面\\Klook 7\\dict.txt.big ...\n",
      "Loading model from cache C:\\Users\\PETER\\AppData\\Local\\Temp\\jieba.u6fb6e872883c6d9c08ea8e016e70c5c1.cache\n"
     ]
    },
    {
     "name": "stdout",
     "output_type": "stream",
     "text": [
      "1878\n"
     ]
    },
    {
     "name": "stderr",
     "output_type": "stream",
     "text": [
      "Loading model cost 1.243 seconds.\n",
      "Prefix dict has been built succesfully.\n",
      "Building prefix dict from C:\\Users\\PETER\\OneDrive\\桌面\\Klook 7\\dict.txt.big ...\n",
      "Loading model from cache C:\\Users\\PETER\\AppData\\Local\\Temp\\jieba.u6fb6e872883c6d9c08ea8e016e70c5c1.cache\n"
     ]
    },
    {
     "name": "stdout",
     "output_type": "stream",
     "text": [
      "1879\n"
     ]
    },
    {
     "name": "stderr",
     "output_type": "stream",
     "text": [
      "Loading model cost 1.280 seconds.\n",
      "Prefix dict has been built succesfully.\n",
      "Building prefix dict from C:\\Users\\PETER\\OneDrive\\桌面\\Klook 7\\dict.txt.big ...\n",
      "Loading model from cache C:\\Users\\PETER\\AppData\\Local\\Temp\\jieba.u6fb6e872883c6d9c08ea8e016e70c5c1.cache\n"
     ]
    },
    {
     "name": "stdout",
     "output_type": "stream",
     "text": [
      "18856\n"
     ]
    },
    {
     "name": "stderr",
     "output_type": "stream",
     "text": [
      "Loading model cost 1.286 seconds.\n",
      "Prefix dict has been built succesfully.\n",
      "Building prefix dict from C:\\Users\\PETER\\OneDrive\\桌面\\Klook 7\\dict.txt.big ...\n",
      "Loading model from cache C:\\Users\\PETER\\AppData\\Local\\Temp\\jieba.u6fb6e872883c6d9c08ea8e016e70c5c1.cache\n"
     ]
    },
    {
     "name": "stdout",
     "output_type": "stream",
     "text": [
      "19\n"
     ]
    },
    {
     "name": "stderr",
     "output_type": "stream",
     "text": [
      "Loading model cost 1.284 seconds.\n",
      "Prefix dict has been built succesfully.\n",
      "Building prefix dict from C:\\Users\\PETER\\OneDrive\\桌面\\Klook 7\\dict.txt.big ...\n",
      "Loading model from cache C:\\Users\\PETER\\AppData\\Local\\Temp\\jieba.u6fb6e872883c6d9c08ea8e016e70c5c1.cache\n"
     ]
    },
    {
     "name": "stdout",
     "output_type": "stream",
     "text": [
      "20\n"
     ]
    },
    {
     "name": "stderr",
     "output_type": "stream",
     "text": [
      "Loading model cost 1.313 seconds.\n",
      "Prefix dict has been built succesfully.\n",
      "Building prefix dict from C:\\Users\\PETER\\OneDrive\\桌面\\Klook 7\\dict.txt.big ...\n",
      "Loading model from cache C:\\Users\\PETER\\AppData\\Local\\Temp\\jieba.u6fb6e872883c6d9c08ea8e016e70c5c1.cache\n"
     ]
    },
    {
     "name": "stdout",
     "output_type": "stream",
     "text": [
      "20619\n"
     ]
    },
    {
     "name": "stderr",
     "output_type": "stream",
     "text": [
      "Loading model cost 1.318 seconds.\n",
      "Prefix dict has been built succesfully.\n",
      "Building prefix dict from C:\\Users\\PETER\\OneDrive\\桌面\\Klook 7\\dict.txt.big ...\n",
      "Loading model from cache C:\\Users\\PETER\\AppData\\Local\\Temp\\jieba.u6fb6e872883c6d9c08ea8e016e70c5c1.cache\n"
     ]
    },
    {
     "name": "stdout",
     "output_type": "stream",
     "text": [
      "20928\n"
     ]
    },
    {
     "name": "stderr",
     "output_type": "stream",
     "text": [
      "Loading model cost 1.381 seconds.\n",
      "Prefix dict has been built succesfully.\n",
      "Building prefix dict from C:\\Users\\PETER\\OneDrive\\桌面\\Klook 7\\dict.txt.big ...\n",
      "Loading model from cache C:\\Users\\PETER\\AppData\\Local\\Temp\\jieba.u6fb6e872883c6d9c08ea8e016e70c5c1.cache\n"
     ]
    },
    {
     "name": "stdout",
     "output_type": "stream",
     "text": [
      "21070\n"
     ]
    },
    {
     "name": "stderr",
     "output_type": "stream",
     "text": [
      "Loading model cost 1.293 seconds.\n",
      "Prefix dict has been built succesfully.\n",
      "Building prefix dict from C:\\Users\\PETER\\OneDrive\\桌面\\Klook 7\\dict.txt.big ...\n",
      "Loading model from cache C:\\Users\\PETER\\AppData\\Local\\Temp\\jieba.u6fb6e872883c6d9c08ea8e016e70c5c1.cache\n"
     ]
    },
    {
     "name": "stdout",
     "output_type": "stream",
     "text": [
      "21340\n"
     ]
    },
    {
     "name": "stderr",
     "output_type": "stream",
     "text": [
      "Loading model cost 1.282 seconds.\n",
      "Prefix dict has been built succesfully.\n",
      "Building prefix dict from C:\\Users\\PETER\\OneDrive\\桌面\\Klook 7\\dict.txt.big ...\n",
      "Loading model from cache C:\\Users\\PETER\\AppData\\Local\\Temp\\jieba.u6fb6e872883c6d9c08ea8e016e70c5c1.cache\n"
     ]
    },
    {
     "name": "stdout",
     "output_type": "stream",
     "text": [
      "21564\n"
     ]
    },
    {
     "name": "stderr",
     "output_type": "stream",
     "text": [
      "Loading model cost 1.309 seconds.\n",
      "Prefix dict has been built succesfully.\n",
      "Building prefix dict from C:\\Users\\PETER\\OneDrive\\桌面\\Klook 7\\dict.txt.big ...\n",
      "Loading model from cache C:\\Users\\PETER\\AppData\\Local\\Temp\\jieba.u6fb6e872883c6d9c08ea8e016e70c5c1.cache\n"
     ]
    },
    {
     "name": "stdout",
     "output_type": "stream",
     "text": [
      "21634\n"
     ]
    },
    {
     "name": "stderr",
     "output_type": "stream",
     "text": [
      "Loading model cost 1.302 seconds.\n",
      "Prefix dict has been built succesfully.\n",
      "Building prefix dict from C:\\Users\\PETER\\OneDrive\\桌面\\Klook 7\\dict.txt.big ...\n",
      "Loading model from cache C:\\Users\\PETER\\AppData\\Local\\Temp\\jieba.u6fb6e872883c6d9c08ea8e016e70c5c1.cache\n"
     ]
    },
    {
     "name": "stdout",
     "output_type": "stream",
     "text": [
      "21639\n"
     ]
    },
    {
     "name": "stderr",
     "output_type": "stream",
     "text": [
      "Loading model cost 1.287 seconds.\n",
      "Prefix dict has been built succesfully.\n",
      "Building prefix dict from C:\\Users\\PETER\\OneDrive\\桌面\\Klook 7\\dict.txt.big ...\n",
      "Loading model from cache C:\\Users\\PETER\\AppData\\Local\\Temp\\jieba.u6fb6e872883c6d9c08ea8e016e70c5c1.cache\n"
     ]
    },
    {
     "name": "stdout",
     "output_type": "stream",
     "text": [
      "21691\n"
     ]
    },
    {
     "name": "stderr",
     "output_type": "stream",
     "text": [
      "Loading model cost 1.281 seconds.\n",
      "Prefix dict has been built succesfully.\n",
      "Building prefix dict from C:\\Users\\PETER\\OneDrive\\桌面\\Klook 7\\dict.txt.big ...\n",
      "Loading model from cache C:\\Users\\PETER\\AppData\\Local\\Temp\\jieba.u6fb6e872883c6d9c08ea8e016e70c5c1.cache\n"
     ]
    },
    {
     "name": "stdout",
     "output_type": "stream",
     "text": [
      "21715\n"
     ]
    },
    {
     "name": "stderr",
     "output_type": "stream",
     "text": [
      "Loading model cost 1.262 seconds.\n",
      "Prefix dict has been built succesfully.\n",
      "Building prefix dict from C:\\Users\\PETER\\OneDrive\\桌面\\Klook 7\\dict.txt.big ...\n",
      "Loading model from cache C:\\Users\\PETER\\AppData\\Local\\Temp\\jieba.u6fb6e872883c6d9c08ea8e016e70c5c1.cache\n"
     ]
    },
    {
     "name": "stdout",
     "output_type": "stream",
     "text": [
      "21726\n"
     ]
    },
    {
     "name": "stderr",
     "output_type": "stream",
     "text": [
      "Loading model cost 1.293 seconds.\n",
      "Prefix dict has been built succesfully.\n",
      "Building prefix dict from C:\\Users\\PETER\\OneDrive\\桌面\\Klook 7\\dict.txt.big ...\n",
      "Loading model from cache C:\\Users\\PETER\\AppData\\Local\\Temp\\jieba.u6fb6e872883c6d9c08ea8e016e70c5c1.cache\n"
     ]
    },
    {
     "name": "stdout",
     "output_type": "stream",
     "text": [
      "21944\n"
     ]
    },
    {
     "name": "stderr",
     "output_type": "stream",
     "text": [
      "Loading model cost 1.277 seconds.\n",
      "Prefix dict has been built succesfully.\n",
      "Building prefix dict from C:\\Users\\PETER\\OneDrive\\桌面\\Klook 7\\dict.txt.big ...\n",
      "Loading model from cache C:\\Users\\PETER\\AppData\\Local\\Temp\\jieba.u6fb6e872883c6d9c08ea8e016e70c5c1.cache\n"
     ]
    },
    {
     "name": "stdout",
     "output_type": "stream",
     "text": [
      "22457\n"
     ]
    },
    {
     "name": "stderr",
     "output_type": "stream",
     "text": [
      "Loading model cost 1.374 seconds.\n",
      "Prefix dict has been built succesfully.\n",
      "Building prefix dict from C:\\Users\\PETER\\OneDrive\\桌面\\Klook 7\\dict.txt.big ...\n",
      "Loading model from cache C:\\Users\\PETER\\AppData\\Local\\Temp\\jieba.u6fb6e872883c6d9c08ea8e016e70c5c1.cache\n"
     ]
    },
    {
     "name": "stdout",
     "output_type": "stream",
     "text": [
      "22475\n"
     ]
    },
    {
     "name": "stderr",
     "output_type": "stream",
     "text": [
      "Loading model cost 1.400 seconds.\n",
      "Prefix dict has been built succesfully.\n",
      "Building prefix dict from C:\\Users\\PETER\\OneDrive\\桌面\\Klook 7\\dict.txt.big ...\n",
      "Loading model from cache C:\\Users\\PETER\\AppData\\Local\\Temp\\jieba.u6fb6e872883c6d9c08ea8e016e70c5c1.cache\n"
     ]
    },
    {
     "name": "stdout",
     "output_type": "stream",
     "text": [
      "22478\n"
     ]
    },
    {
     "name": "stderr",
     "output_type": "stream",
     "text": [
      "Loading model cost 1.268 seconds.\n",
      "Prefix dict has been built succesfully.\n",
      "Building prefix dict from C:\\Users\\PETER\\OneDrive\\桌面\\Klook 7\\dict.txt.big ...\n",
      "Loading model from cache C:\\Users\\PETER\\AppData\\Local\\Temp\\jieba.u6fb6e872883c6d9c08ea8e016e70c5c1.cache\n"
     ]
    },
    {
     "name": "stdout",
     "output_type": "stream",
     "text": [
      "22489\n"
     ]
    },
    {
     "name": "stderr",
     "output_type": "stream",
     "text": [
      "Loading model cost 1.357 seconds.\n",
      "Prefix dict has been built succesfully.\n",
      "Building prefix dict from C:\\Users\\PETER\\OneDrive\\桌面\\Klook 7\\dict.txt.big ...\n",
      "Loading model from cache C:\\Users\\PETER\\AppData\\Local\\Temp\\jieba.u6fb6e872883c6d9c08ea8e016e70c5c1.cache\n"
     ]
    },
    {
     "name": "stdout",
     "output_type": "stream",
     "text": [
      "22503\n"
     ]
    },
    {
     "name": "stderr",
     "output_type": "stream",
     "text": [
      "Loading model cost 1.275 seconds.\n",
      "Prefix dict has been built succesfully.\n",
      "Building prefix dict from C:\\Users\\PETER\\OneDrive\\桌面\\Klook 7\\dict.txt.big ...\n",
      "Loading model from cache C:\\Users\\PETER\\AppData\\Local\\Temp\\jieba.u6fb6e872883c6d9c08ea8e016e70c5c1.cache\n"
     ]
    },
    {
     "name": "stdout",
     "output_type": "stream",
     "text": [
      "22522\n"
     ]
    },
    {
     "name": "stderr",
     "output_type": "stream",
     "text": [
      "Loading model cost 1.258 seconds.\n",
      "Prefix dict has been built succesfully.\n",
      "Building prefix dict from C:\\Users\\PETER\\OneDrive\\桌面\\Klook 7\\dict.txt.big ...\n",
      "Loading model from cache C:\\Users\\PETER\\AppData\\Local\\Temp\\jieba.u6fb6e872883c6d9c08ea8e016e70c5c1.cache\n"
     ]
    },
    {
     "name": "stdout",
     "output_type": "stream",
     "text": [
      "22595\n"
     ]
    },
    {
     "name": "stderr",
     "output_type": "stream",
     "text": [
      "Loading model cost 1.244 seconds.\n",
      "Prefix dict has been built succesfully.\n",
      "Building prefix dict from C:\\Users\\PETER\\OneDrive\\桌面\\Klook 7\\dict.txt.big ...\n",
      "Loading model from cache C:\\Users\\PETER\\AppData\\Local\\Temp\\jieba.u6fb6e872883c6d9c08ea8e016e70c5c1.cache\n"
     ]
    },
    {
     "name": "stdout",
     "output_type": "stream",
     "text": [
      "22640\n"
     ]
    },
    {
     "name": "stderr",
     "output_type": "stream",
     "text": [
      "Loading model cost 1.229 seconds.\n",
      "Prefix dict has been built succesfully.\n",
      "Building prefix dict from C:\\Users\\PETER\\OneDrive\\桌面\\Klook 7\\dict.txt.big ...\n",
      "Loading model from cache C:\\Users\\PETER\\AppData\\Local\\Temp\\jieba.u6fb6e872883c6d9c08ea8e016e70c5c1.cache\n"
     ]
    },
    {
     "name": "stdout",
     "output_type": "stream",
     "text": [
      "22655\n"
     ]
    },
    {
     "name": "stderr",
     "output_type": "stream",
     "text": [
      "Loading model cost 1.236 seconds.\n",
      "Prefix dict has been built succesfully.\n",
      "Building prefix dict from C:\\Users\\PETER\\OneDrive\\桌面\\Klook 7\\dict.txt.big ...\n",
      "Loading model from cache C:\\Users\\PETER\\AppData\\Local\\Temp\\jieba.u6fb6e872883c6d9c08ea8e016e70c5c1.cache\n"
     ]
    },
    {
     "name": "stdout",
     "output_type": "stream",
     "text": [
      "2284\n"
     ]
    },
    {
     "name": "stderr",
     "output_type": "stream",
     "text": [
      "Loading model cost 1.295 seconds.\n",
      "Prefix dict has been built succesfully.\n",
      "Building prefix dict from C:\\Users\\PETER\\OneDrive\\桌面\\Klook 7\\dict.txt.big ...\n",
      "Loading model from cache C:\\Users\\PETER\\AppData\\Local\\Temp\\jieba.u6fb6e872883c6d9c08ea8e016e70c5c1.cache\n"
     ]
    },
    {
     "name": "stdout",
     "output_type": "stream",
     "text": [
      "23\n"
     ]
    },
    {
     "name": "stderr",
     "output_type": "stream",
     "text": [
      "Loading model cost 1.319 seconds.\n",
      "Prefix dict has been built succesfully.\n",
      "Building prefix dict from C:\\Users\\PETER\\OneDrive\\桌面\\Klook 7\\dict.txt.big ...\n",
      "Loading model from cache C:\\Users\\PETER\\AppData\\Local\\Temp\\jieba.u6fb6e872883c6d9c08ea8e016e70c5c1.cache\n"
     ]
    },
    {
     "name": "stdout",
     "output_type": "stream",
     "text": [
      "23590\n"
     ]
    },
    {
     "name": "stderr",
     "output_type": "stream",
     "text": [
      "Loading model cost 1.211 seconds.\n",
      "Prefix dict has been built succesfully.\n",
      "Building prefix dict from C:\\Users\\PETER\\OneDrive\\桌面\\Klook 7\\dict.txt.big ...\n",
      "Loading model from cache C:\\Users\\PETER\\AppData\\Local\\Temp\\jieba.u6fb6e872883c6d9c08ea8e016e70c5c1.cache\n"
     ]
    },
    {
     "name": "stdout",
     "output_type": "stream",
     "text": [
      "24920\n"
     ]
    },
    {
     "name": "stderr",
     "output_type": "stream",
     "text": [
      "Loading model cost 1.235 seconds.\n",
      "Prefix dict has been built succesfully.\n",
      "Building prefix dict from C:\\Users\\PETER\\OneDrive\\桌面\\Klook 7\\dict.txt.big ...\n",
      "Loading model from cache C:\\Users\\PETER\\AppData\\Local\\Temp\\jieba.u6fb6e872883c6d9c08ea8e016e70c5c1.cache\n"
     ]
    },
    {
     "name": "stdout",
     "output_type": "stream",
     "text": [
      "25211\n"
     ]
    },
    {
     "name": "stderr",
     "output_type": "stream",
     "text": [
      "Loading model cost 1.224 seconds.\n",
      "Prefix dict has been built succesfully.\n",
      "Building prefix dict from C:\\Users\\PETER\\OneDrive\\桌面\\Klook 7\\dict.txt.big ...\n",
      "Loading model from cache C:\\Users\\PETER\\AppData\\Local\\Temp\\jieba.u6fb6e872883c6d9c08ea8e016e70c5c1.cache\n"
     ]
    },
    {
     "name": "stdout",
     "output_type": "stream",
     "text": [
      "25398\n"
     ]
    },
    {
     "name": "stderr",
     "output_type": "stream",
     "text": [
      "Loading model cost 1.219 seconds.\n",
      "Prefix dict has been built succesfully.\n",
      "Building prefix dict from C:\\Users\\PETER\\OneDrive\\桌面\\Klook 7\\dict.txt.big ...\n",
      "Loading model from cache C:\\Users\\PETER\\AppData\\Local\\Temp\\jieba.u6fb6e872883c6d9c08ea8e016e70c5c1.cache\n"
     ]
    },
    {
     "name": "stdout",
     "output_type": "stream",
     "text": [
      "25709\n"
     ]
    },
    {
     "name": "stderr",
     "output_type": "stream",
     "text": [
      "Loading model cost 1.240 seconds.\n",
      "Prefix dict has been built succesfully.\n",
      "Building prefix dict from C:\\Users\\PETER\\OneDrive\\桌面\\Klook 7\\dict.txt.big ...\n",
      "Loading model from cache C:\\Users\\PETER\\AppData\\Local\\Temp\\jieba.u6fb6e872883c6d9c08ea8e016e70c5c1.cache\n"
     ]
    },
    {
     "name": "stdout",
     "output_type": "stream",
     "text": [
      "27\n"
     ]
    },
    {
     "name": "stderr",
     "output_type": "stream",
     "text": [
      "Loading model cost 1.279 seconds.\n",
      "Prefix dict has been built succesfully.\n",
      "Building prefix dict from C:\\Users\\PETER\\OneDrive\\桌面\\Klook 7\\dict.txt.big ...\n",
      "Loading model from cache C:\\Users\\PETER\\AppData\\Local\\Temp\\jieba.u6fb6e872883c6d9c08ea8e016e70c5c1.cache\n"
     ]
    },
    {
     "name": "stdout",
     "output_type": "stream",
     "text": [
      "27275\n"
     ]
    },
    {
     "name": "stderr",
     "output_type": "stream",
     "text": [
      "Loading model cost 1.245 seconds.\n",
      "Prefix dict has been built succesfully.\n",
      "Building prefix dict from C:\\Users\\PETER\\OneDrive\\桌面\\Klook 7\\dict.txt.big ...\n",
      "Loading model from cache C:\\Users\\PETER\\AppData\\Local\\Temp\\jieba.u6fb6e872883c6d9c08ea8e016e70c5c1.cache\n"
     ]
    },
    {
     "name": "stdout",
     "output_type": "stream",
     "text": [
      "3\n"
     ]
    },
    {
     "name": "stderr",
     "output_type": "stream",
     "text": [
      "Loading model cost 1.226 seconds.\n",
      "Prefix dict has been built succesfully.\n",
      "Building prefix dict from C:\\Users\\PETER\\OneDrive\\桌面\\Klook 7\\dict.txt.big ...\n",
      "Loading model from cache C:\\Users\\PETER\\AppData\\Local\\Temp\\jieba.u6fb6e872883c6d9c08ea8e016e70c5c1.cache\n"
     ]
    },
    {
     "name": "stdout",
     "output_type": "stream",
     "text": [
      "3235\n"
     ]
    },
    {
     "name": "stderr",
     "output_type": "stream",
     "text": [
      "Loading model cost 1.234 seconds.\n",
      "Prefix dict has been built succesfully.\n",
      "Building prefix dict from C:\\Users\\PETER\\OneDrive\\桌面\\Klook 7\\dict.txt.big ...\n",
      "Loading model from cache C:\\Users\\PETER\\AppData\\Local\\Temp\\jieba.u6fb6e872883c6d9c08ea8e016e70c5c1.cache\n"
     ]
    },
    {
     "name": "stdout",
     "output_type": "stream",
     "text": [
      "3357\n"
     ]
    },
    {
     "name": "stderr",
     "output_type": "stream",
     "text": [
      "Loading model cost 1.212 seconds.\n",
      "Prefix dict has been built succesfully.\n",
      "Building prefix dict from C:\\Users\\PETER\\OneDrive\\桌面\\Klook 7\\dict.txt.big ...\n",
      "Loading model from cache C:\\Users\\PETER\\AppData\\Local\\Temp\\jieba.u6fb6e872883c6d9c08ea8e016e70c5c1.cache\n"
     ]
    },
    {
     "name": "stdout",
     "output_type": "stream",
     "text": [
      "3514\n"
     ]
    },
    {
     "name": "stderr",
     "output_type": "stream",
     "text": [
      "Loading model cost 1.212 seconds.\n",
      "Prefix dict has been built succesfully.\n",
      "Building prefix dict from C:\\Users\\PETER\\OneDrive\\桌面\\Klook 7\\dict.txt.big ...\n",
      "Loading model from cache C:\\Users\\PETER\\AppData\\Local\\Temp\\jieba.u6fb6e872883c6d9c08ea8e016e70c5c1.cache\n"
     ]
    },
    {
     "name": "stdout",
     "output_type": "stream",
     "text": [
      "3633\n"
     ]
    },
    {
     "name": "stderr",
     "output_type": "stream",
     "text": [
      "Loading model cost 1.215 seconds.\n",
      "Prefix dict has been built succesfully.\n",
      "Building prefix dict from C:\\Users\\PETER\\OneDrive\\桌面\\Klook 7\\dict.txt.big ...\n",
      "Loading model from cache C:\\Users\\PETER\\AppData\\Local\\Temp\\jieba.u6fb6e872883c6d9c08ea8e016e70c5c1.cache\n"
     ]
    },
    {
     "name": "stdout",
     "output_type": "stream",
     "text": [
      "3646\n"
     ]
    },
    {
     "name": "stderr",
     "output_type": "stream",
     "text": [
      "Loading model cost 1.367 seconds.\n",
      "Prefix dict has been built succesfully.\n",
      "Building prefix dict from C:\\Users\\PETER\\OneDrive\\桌面\\Klook 7\\dict.txt.big ...\n",
      "Loading model from cache C:\\Users\\PETER\\AppData\\Local\\Temp\\jieba.u6fb6e872883c6d9c08ea8e016e70c5c1.cache\n"
     ]
    },
    {
     "name": "stdout",
     "output_type": "stream",
     "text": [
      "3713\n"
     ]
    },
    {
     "name": "stderr",
     "output_type": "stream",
     "text": [
      "Loading model cost 1.274 seconds.\n",
      "Prefix dict has been built succesfully.\n",
      "Building prefix dict from C:\\Users\\PETER\\OneDrive\\桌面\\Klook 7\\dict.txt.big ...\n",
      "Loading model from cache C:\\Users\\PETER\\AppData\\Local\\Temp\\jieba.u6fb6e872883c6d9c08ea8e016e70c5c1.cache\n"
     ]
    },
    {
     "name": "stdout",
     "output_type": "stream",
     "text": [
      "38\n"
     ]
    },
    {
     "name": "stderr",
     "output_type": "stream",
     "text": [
      "Loading model cost 1.281 seconds.\n",
      "Prefix dict has been built succesfully.\n",
      "Building prefix dict from C:\\Users\\PETER\\OneDrive\\桌面\\Klook 7\\dict.txt.big ...\n",
      "Loading model from cache C:\\Users\\PETER\\AppData\\Local\\Temp\\jieba.u6fb6e872883c6d9c08ea8e016e70c5c1.cache\n"
     ]
    },
    {
     "name": "stdout",
     "output_type": "stream",
     "text": [
      "39\n"
     ]
    },
    {
     "name": "stderr",
     "output_type": "stream",
     "text": [
      "Loading model cost 1.245 seconds.\n",
      "Prefix dict has been built succesfully.\n",
      "Building prefix dict from C:\\Users\\PETER\\OneDrive\\桌面\\Klook 7\\dict.txt.big ...\n",
      "Loading model from cache C:\\Users\\PETER\\AppData\\Local\\Temp\\jieba.u6fb6e872883c6d9c08ea8e016e70c5c1.cache\n"
     ]
    },
    {
     "name": "stdout",
     "output_type": "stream",
     "text": [
      "4005\n"
     ]
    },
    {
     "name": "stderr",
     "output_type": "stream",
     "text": [
      "Loading model cost 1.317 seconds.\n",
      "Prefix dict has been built succesfully.\n",
      "Building prefix dict from C:\\Users\\PETER\\OneDrive\\桌面\\Klook 7\\dict.txt.big ...\n",
      "Loading model from cache C:\\Users\\PETER\\AppData\\Local\\Temp\\jieba.u6fb6e872883c6d9c08ea8e016e70c5c1.cache\n"
     ]
    },
    {
     "name": "stdout",
     "output_type": "stream",
     "text": [
      "4015\n"
     ]
    },
    {
     "name": "stderr",
     "output_type": "stream",
     "text": [
      "Loading model cost 1.287 seconds.\n",
      "Prefix dict has been built succesfully.\n",
      "Building prefix dict from C:\\Users\\PETER\\OneDrive\\桌面\\Klook 7\\dict.txt.big ...\n",
      "Loading model from cache C:\\Users\\PETER\\AppData\\Local\\Temp\\jieba.u6fb6e872883c6d9c08ea8e016e70c5c1.cache\n"
     ]
    },
    {
     "name": "stdout",
     "output_type": "stream",
     "text": [
      "4060\n"
     ]
    },
    {
     "name": "stderr",
     "output_type": "stream",
     "text": [
      "Loading model cost 1.300 seconds.\n",
      "Prefix dict has been built succesfully.\n",
      "Building prefix dict from C:\\Users\\PETER\\OneDrive\\桌面\\Klook 7\\dict.txt.big ...\n",
      "Loading model from cache C:\\Users\\PETER\\AppData\\Local\\Temp\\jieba.u6fb6e872883c6d9c08ea8e016e70c5c1.cache\n"
     ]
    },
    {
     "name": "stdout",
     "output_type": "stream",
     "text": [
      "41\n"
     ]
    },
    {
     "name": "stderr",
     "output_type": "stream",
     "text": [
      "Loading model cost 1.318 seconds.\n",
      "Prefix dict has been built succesfully.\n",
      "Building prefix dict from C:\\Users\\PETER\\OneDrive\\桌面\\Klook 7\\dict.txt.big ...\n",
      "Loading model from cache C:\\Users\\PETER\\AppData\\Local\\Temp\\jieba.u6fb6e872883c6d9c08ea8e016e70c5c1.cache\n"
     ]
    },
    {
     "name": "stdout",
     "output_type": "stream",
     "text": [
      "42\n"
     ]
    },
    {
     "name": "stderr",
     "output_type": "stream",
     "text": [
      "Loading model cost 1.450 seconds.\n",
      "Prefix dict has been built succesfully.\n",
      "Building prefix dict from C:\\Users\\PETER\\OneDrive\\桌面\\Klook 7\\dict.txt.big ...\n",
      "Loading model from cache C:\\Users\\PETER\\AppData\\Local\\Temp\\jieba.u6fb6e872883c6d9c08ea8e016e70c5c1.cache\n"
     ]
    },
    {
     "name": "stdout",
     "output_type": "stream",
     "text": [
      "45\n"
     ]
    },
    {
     "name": "stderr",
     "output_type": "stream",
     "text": [
      "Loading model cost 1.240 seconds.\n",
      "Prefix dict has been built succesfully.\n",
      "Building prefix dict from C:\\Users\\PETER\\OneDrive\\桌面\\Klook 7\\dict.txt.big ...\n",
      "Loading model from cache C:\\Users\\PETER\\AppData\\Local\\Temp\\jieba.u6fb6e872883c6d9c08ea8e016e70c5c1.cache\n"
     ]
    },
    {
     "name": "stdout",
     "output_type": "stream",
     "text": [
      "4786\n"
     ]
    },
    {
     "name": "stderr",
     "output_type": "stream",
     "text": [
      "Loading model cost 1.288 seconds.\n",
      "Prefix dict has been built succesfully.\n",
      "Building prefix dict from C:\\Users\\PETER\\OneDrive\\桌面\\Klook 7\\dict.txt.big ...\n",
      "Loading model from cache C:\\Users\\PETER\\AppData\\Local\\Temp\\jieba.u6fb6e872883c6d9c08ea8e016e70c5c1.cache\n"
     ]
    },
    {
     "name": "stdout",
     "output_type": "stream",
     "text": [
      "4893\n"
     ]
    },
    {
     "name": "stderr",
     "output_type": "stream",
     "text": [
      "Loading model cost 1.250 seconds.\n",
      "Prefix dict has been built succesfully.\n",
      "Building prefix dict from C:\\Users\\PETER\\OneDrive\\桌面\\Klook 7\\dict.txt.big ...\n",
      "Loading model from cache C:\\Users\\PETER\\AppData\\Local\\Temp\\jieba.u6fb6e872883c6d9c08ea8e016e70c5c1.cache\n"
     ]
    },
    {
     "name": "stdout",
     "output_type": "stream",
     "text": [
      "5025\n"
     ]
    },
    {
     "name": "stderr",
     "output_type": "stream",
     "text": [
      "Loading model cost 1.285 seconds.\n",
      "Prefix dict has been built succesfully.\n",
      "Building prefix dict from C:\\Users\\PETER\\OneDrive\\桌面\\Klook 7\\dict.txt.big ...\n",
      "Loading model from cache C:\\Users\\PETER\\AppData\\Local\\Temp\\jieba.u6fb6e872883c6d9c08ea8e016e70c5c1.cache\n"
     ]
    },
    {
     "name": "stdout",
     "output_type": "stream",
     "text": [
      "5048\n"
     ]
    },
    {
     "name": "stderr",
     "output_type": "stream",
     "text": [
      "Loading model cost 1.263 seconds.\n",
      "Prefix dict has been built succesfully.\n",
      "Building prefix dict from C:\\Users\\PETER\\OneDrive\\桌面\\Klook 7\\dict.txt.big ...\n",
      "Loading model from cache C:\\Users\\PETER\\AppData\\Local\\Temp\\jieba.u6fb6e872883c6d9c08ea8e016e70c5c1.cache\n"
     ]
    },
    {
     "name": "stdout",
     "output_type": "stream",
     "text": [
      "521\n"
     ]
    },
    {
     "name": "stderr",
     "output_type": "stream",
     "text": [
      "Loading model cost 1.249 seconds.\n",
      "Prefix dict has been built succesfully.\n",
      "Building prefix dict from C:\\Users\\PETER\\OneDrive\\桌面\\Klook 7\\dict.txt.big ...\n",
      "Loading model from cache C:\\Users\\PETER\\AppData\\Local\\Temp\\jieba.u6fb6e872883c6d9c08ea8e016e70c5c1.cache\n"
     ]
    },
    {
     "name": "stdout",
     "output_type": "stream",
     "text": [
      "523\n"
     ]
    },
    {
     "name": "stderr",
     "output_type": "stream",
     "text": [
      "Loading model cost 1.264 seconds.\n",
      "Prefix dict has been built succesfully.\n",
      "Building prefix dict from C:\\Users\\PETER\\OneDrive\\桌面\\Klook 7\\dict.txt.big ...\n",
      "Loading model from cache C:\\Users\\PETER\\AppData\\Local\\Temp\\jieba.u6fb6e872883c6d9c08ea8e016e70c5c1.cache\n"
     ]
    },
    {
     "name": "stdout",
     "output_type": "stream",
     "text": [
      "524\n"
     ]
    },
    {
     "name": "stderr",
     "output_type": "stream",
     "text": [
      "Loading model cost 1.319 seconds.\n",
      "Prefix dict has been built succesfully.\n",
      "Building prefix dict from C:\\Users\\PETER\\OneDrive\\桌面\\Klook 7\\dict.txt.big ...\n",
      "Loading model from cache C:\\Users\\PETER\\AppData\\Local\\Temp\\jieba.u6fb6e872883c6d9c08ea8e016e70c5c1.cache\n"
     ]
    },
    {
     "name": "stdout",
     "output_type": "stream",
     "text": [
      "53\n"
     ]
    },
    {
     "name": "stderr",
     "output_type": "stream",
     "text": [
      "Loading model cost 1.295 seconds.\n",
      "Prefix dict has been built succesfully.\n",
      "Building prefix dict from C:\\Users\\PETER\\OneDrive\\桌面\\Klook 7\\dict.txt.big ...\n",
      "Loading model from cache C:\\Users\\PETER\\AppData\\Local\\Temp\\jieba.u6fb6e872883c6d9c08ea8e016e70c5c1.cache\n"
     ]
    },
    {
     "name": "stdout",
     "output_type": "stream",
     "text": [
      "543\n"
     ]
    },
    {
     "name": "stderr",
     "output_type": "stream",
     "text": [
      "Loading model cost 1.253 seconds.\n",
      "Prefix dict has been built succesfully.\n",
      "Building prefix dict from C:\\Users\\PETER\\OneDrive\\桌面\\Klook 7\\dict.txt.big ...\n",
      "Loading model from cache C:\\Users\\PETER\\AppData\\Local\\Temp\\jieba.u6fb6e872883c6d9c08ea8e016e70c5c1.cache\n"
     ]
    },
    {
     "name": "stdout",
     "output_type": "stream",
     "text": [
      "544\n"
     ]
    },
    {
     "name": "stderr",
     "output_type": "stream",
     "text": [
      "Loading model cost 1.241 seconds.\n",
      "Prefix dict has been built succesfully.\n",
      "Building prefix dict from C:\\Users\\PETER\\OneDrive\\桌面\\Klook 7\\dict.txt.big ...\n",
      "Loading model from cache C:\\Users\\PETER\\AppData\\Local\\Temp\\jieba.u6fb6e872883c6d9c08ea8e016e70c5c1.cache\n"
     ]
    },
    {
     "name": "stdout",
     "output_type": "stream",
     "text": [
      "545\n"
     ]
    },
    {
     "name": "stderr",
     "output_type": "stream",
     "text": [
      "Loading model cost 1.249 seconds.\n",
      "Prefix dict has been built succesfully.\n",
      "Building prefix dict from C:\\Users\\PETER\\OneDrive\\桌面\\Klook 7\\dict.txt.big ...\n",
      "Loading model from cache C:\\Users\\PETER\\AppData\\Local\\Temp\\jieba.u6fb6e872883c6d9c08ea8e016e70c5c1.cache\n"
     ]
    },
    {
     "name": "stdout",
     "output_type": "stream",
     "text": [
      "548\n"
     ]
    },
    {
     "name": "stderr",
     "output_type": "stream",
     "text": [
      "Loading model cost 1.261 seconds.\n",
      "Prefix dict has been built succesfully.\n",
      "Building prefix dict from C:\\Users\\PETER\\OneDrive\\桌面\\Klook 7\\dict.txt.big ...\n",
      "Loading model from cache C:\\Users\\PETER\\AppData\\Local\\Temp\\jieba.u6fb6e872883c6d9c08ea8e016e70c5c1.cache\n"
     ]
    },
    {
     "name": "stdout",
     "output_type": "stream",
     "text": [
      "5647\n"
     ]
    },
    {
     "name": "stderr",
     "output_type": "stream",
     "text": [
      "Loading model cost 1.261 seconds.\n",
      "Prefix dict has been built succesfully.\n",
      "Building prefix dict from C:\\Users\\PETER\\OneDrive\\桌面\\Klook 7\\dict.txt.big ...\n",
      "Loading model from cache C:\\Users\\PETER\\AppData\\Local\\Temp\\jieba.u6fb6e872883c6d9c08ea8e016e70c5c1.cache\n"
     ]
    },
    {
     "name": "stdout",
     "output_type": "stream",
     "text": [
      "5977\n"
     ]
    },
    {
     "name": "stderr",
     "output_type": "stream",
     "text": [
      "Loading model cost 1.243 seconds.\n",
      "Prefix dict has been built succesfully.\n",
      "Building prefix dict from C:\\Users\\PETER\\OneDrive\\桌面\\Klook 7\\dict.txt.big ...\n",
      "Loading model from cache C:\\Users\\PETER\\AppData\\Local\\Temp\\jieba.u6fb6e872883c6d9c08ea8e016e70c5c1.cache\n"
     ]
    },
    {
     "name": "stdout",
     "output_type": "stream",
     "text": [
      "6323\n"
     ]
    },
    {
     "name": "stderr",
     "output_type": "stream",
     "text": [
      "Loading model cost 1.297 seconds.\n",
      "Prefix dict has been built succesfully.\n",
      "Building prefix dict from C:\\Users\\PETER\\OneDrive\\桌面\\Klook 7\\dict.txt.big ...\n",
      "Loading model from cache C:\\Users\\PETER\\AppData\\Local\\Temp\\jieba.u6fb6e872883c6d9c08ea8e016e70c5c1.cache\n"
     ]
    },
    {
     "name": "stdout",
     "output_type": "stream",
     "text": [
      "6328\n"
     ]
    },
    {
     "name": "stderr",
     "output_type": "stream",
     "text": [
      "Loading model cost 1.244 seconds.\n",
      "Prefix dict has been built succesfully.\n",
      "Building prefix dict from C:\\Users\\PETER\\OneDrive\\桌面\\Klook 7\\dict.txt.big ...\n",
      "Loading model from cache C:\\Users\\PETER\\AppData\\Local\\Temp\\jieba.u6fb6e872883c6d9c08ea8e016e70c5c1.cache\n"
     ]
    },
    {
     "name": "stdout",
     "output_type": "stream",
     "text": [
      "6329\n"
     ]
    },
    {
     "name": "stderr",
     "output_type": "stream",
     "text": [
      "Loading model cost 1.304 seconds.\n",
      "Prefix dict has been built succesfully.\n",
      "Building prefix dict from C:\\Users\\PETER\\OneDrive\\桌面\\Klook 7\\dict.txt.big ...\n",
      "Loading model from cache C:\\Users\\PETER\\AppData\\Local\\Temp\\jieba.u6fb6e872883c6d9c08ea8e016e70c5c1.cache\n"
     ]
    },
    {
     "name": "stdout",
     "output_type": "stream",
     "text": [
      "659\n"
     ]
    },
    {
     "name": "stderr",
     "output_type": "stream",
     "text": [
      "Loading model cost 1.267 seconds.\n",
      "Prefix dict has been built succesfully.\n",
      "Building prefix dict from C:\\Users\\PETER\\OneDrive\\桌面\\Klook 7\\dict.txt.big ...\n",
      "Loading model from cache C:\\Users\\PETER\\AppData\\Local\\Temp\\jieba.u6fb6e872883c6d9c08ea8e016e70c5c1.cache\n"
     ]
    },
    {
     "name": "stdout",
     "output_type": "stream",
     "text": [
      "67\n"
     ]
    },
    {
     "name": "stderr",
     "output_type": "stream",
     "text": [
      "Loading model cost 1.263 seconds.\n",
      "Prefix dict has been built succesfully.\n",
      "Building prefix dict from C:\\Users\\PETER\\OneDrive\\桌面\\Klook 7\\dict.txt.big ...\n",
      "Loading model from cache C:\\Users\\PETER\\AppData\\Local\\Temp\\jieba.u6fb6e872883c6d9c08ea8e016e70c5c1.cache\n"
     ]
    },
    {
     "name": "stdout",
     "output_type": "stream",
     "text": [
      "680\n"
     ]
    },
    {
     "name": "stderr",
     "output_type": "stream",
     "text": [
      "Loading model cost 1.403 seconds.\n",
      "Prefix dict has been built succesfully.\n",
      "Building prefix dict from C:\\Users\\PETER\\OneDrive\\桌面\\Klook 7\\dict.txt.big ...\n",
      "Loading model from cache C:\\Users\\PETER\\AppData\\Local\\Temp\\jieba.u6fb6e872883c6d9c08ea8e016e70c5c1.cache\n"
     ]
    },
    {
     "name": "stdout",
     "output_type": "stream",
     "text": [
      "682\n"
     ]
    },
    {
     "name": "stderr",
     "output_type": "stream",
     "text": [
      "Loading model cost 1.327 seconds.\n",
      "Prefix dict has been built succesfully.\n",
      "Building prefix dict from C:\\Users\\PETER\\OneDrive\\桌面\\Klook 7\\dict.txt.big ...\n",
      "Loading model from cache C:\\Users\\PETER\\AppData\\Local\\Temp\\jieba.u6fb6e872883c6d9c08ea8e016e70c5c1.cache\n"
     ]
    },
    {
     "name": "stdout",
     "output_type": "stream",
     "text": [
      "683\n"
     ]
    },
    {
     "name": "stderr",
     "output_type": "stream",
     "text": [
      "Loading model cost 1.226 seconds.\n",
      "Prefix dict has been built succesfully.\n",
      "Building prefix dict from C:\\Users\\PETER\\OneDrive\\桌面\\Klook 7\\dict.txt.big ...\n",
      "Loading model from cache C:\\Users\\PETER\\AppData\\Local\\Temp\\jieba.u6fb6e872883c6d9c08ea8e016e70c5c1.cache\n"
     ]
    },
    {
     "name": "stdout",
     "output_type": "stream",
     "text": [
      "691\n"
     ]
    },
    {
     "name": "stderr",
     "output_type": "stream",
     "text": [
      "Loading model cost 1.246 seconds.\n",
      "Prefix dict has been built succesfully.\n",
      "Building prefix dict from C:\\Users\\PETER\\OneDrive\\桌面\\Klook 7\\dict.txt.big ...\n",
      "Loading model from cache C:\\Users\\PETER\\AppData\\Local\\Temp\\jieba.u6fb6e872883c6d9c08ea8e016e70c5c1.cache\n"
     ]
    },
    {
     "name": "stdout",
     "output_type": "stream",
     "text": [
      "694\n"
     ]
    },
    {
     "name": "stderr",
     "output_type": "stream",
     "text": [
      "Loading model cost 1.242 seconds.\n",
      "Prefix dict has been built succesfully.\n",
      "Building prefix dict from C:\\Users\\PETER\\OneDrive\\桌面\\Klook 7\\dict.txt.big ...\n",
      "Loading model from cache C:\\Users\\PETER\\AppData\\Local\\Temp\\jieba.u6fb6e872883c6d9c08ea8e016e70c5c1.cache\n"
     ]
    },
    {
     "name": "stdout",
     "output_type": "stream",
     "text": [
      "7\n"
     ]
    },
    {
     "name": "stderr",
     "output_type": "stream",
     "text": [
      "Loading model cost 1.266 seconds.\n",
      "Prefix dict has been built succesfully.\n",
      "Building prefix dict from C:\\Users\\PETER\\OneDrive\\桌面\\Klook 7\\dict.txt.big ...\n",
      "Loading model from cache C:\\Users\\PETER\\AppData\\Local\\Temp\\jieba.u6fb6e872883c6d9c08ea8e016e70c5c1.cache\n"
     ]
    },
    {
     "name": "stdout",
     "output_type": "stream",
     "text": [
      "765\n"
     ]
    },
    {
     "name": "stderr",
     "output_type": "stream",
     "text": [
      "Loading model cost 1.248 seconds.\n",
      "Prefix dict has been built succesfully.\n",
      "Building prefix dict from C:\\Users\\PETER\\OneDrive\\桌面\\Klook 7\\dict.txt.big ...\n",
      "Loading model from cache C:\\Users\\PETER\\AppData\\Local\\Temp\\jieba.u6fb6e872883c6d9c08ea8e016e70c5c1.cache\n"
     ]
    },
    {
     "name": "stdout",
     "output_type": "stream",
     "text": [
      "7746\n"
     ]
    },
    {
     "name": "stderr",
     "output_type": "stream",
     "text": [
      "Loading model cost 1.244 seconds.\n",
      "Prefix dict has been built succesfully.\n",
      "Building prefix dict from C:\\Users\\PETER\\OneDrive\\桌面\\Klook 7\\dict.txt.big ...\n",
      "Loading model from cache C:\\Users\\PETER\\AppData\\Local\\Temp\\jieba.u6fb6e872883c6d9c08ea8e016e70c5c1.cache\n"
     ]
    },
    {
     "name": "stdout",
     "output_type": "stream",
     "text": [
      "86\n"
     ]
    },
    {
     "name": "stderr",
     "output_type": "stream",
     "text": [
      "Loading model cost 1.360 seconds.\n",
      "Prefix dict has been built succesfully.\n",
      "Building prefix dict from C:\\Users\\PETER\\OneDrive\\桌面\\Klook 7\\dict.txt.big ...\n",
      "Loading model from cache C:\\Users\\PETER\\AppData\\Local\\Temp\\jieba.u6fb6e872883c6d9c08ea8e016e70c5c1.cache\n"
     ]
    },
    {
     "name": "stdout",
     "output_type": "stream",
     "text": [
      "87\n"
     ]
    },
    {
     "name": "stderr",
     "output_type": "stream",
     "text": [
      "Loading model cost 1.326 seconds.\n",
      "Prefix dict has been built succesfully.\n",
      "Building prefix dict from C:\\Users\\PETER\\OneDrive\\桌面\\Klook 7\\dict.txt.big ...\n",
      "Loading model from cache C:\\Users\\PETER\\AppData\\Local\\Temp\\jieba.u6fb6e872883c6d9c08ea8e016e70c5c1.cache\n"
     ]
    },
    {
     "name": "stdout",
     "output_type": "stream",
     "text": [
      "8734\n"
     ]
    },
    {
     "name": "stderr",
     "output_type": "stream",
     "text": [
      "Loading model cost 1.192 seconds.\n",
      "Prefix dict has been built succesfully.\n",
      "Building prefix dict from C:\\Users\\PETER\\OneDrive\\桌面\\Klook 7\\dict.txt.big ...\n",
      "Loading model from cache C:\\Users\\PETER\\AppData\\Local\\Temp\\jieba.u6fb6e872883c6d9c08ea8e016e70c5c1.cache\n"
     ]
    },
    {
     "name": "stdout",
     "output_type": "stream",
     "text": [
      "8738\n"
     ]
    },
    {
     "name": "stderr",
     "output_type": "stream",
     "text": [
      "Loading model cost 1.204 seconds.\n",
      "Prefix dict has been built succesfully.\n",
      "Building prefix dict from C:\\Users\\PETER\\OneDrive\\桌面\\Klook 7\\dict.txt.big ...\n",
      "Loading model from cache C:\\Users\\PETER\\AppData\\Local\\Temp\\jieba.u6fb6e872883c6d9c08ea8e016e70c5c1.cache\n"
     ]
    },
    {
     "name": "stdout",
     "output_type": "stream",
     "text": [
      "8746\n"
     ]
    },
    {
     "name": "stderr",
     "output_type": "stream",
     "text": [
      "Loading model cost 1.246 seconds.\n",
      "Prefix dict has been built succesfully.\n",
      "Building prefix dict from C:\\Users\\PETER\\OneDrive\\桌面\\Klook 7\\dict.txt.big ...\n",
      "Loading model from cache C:\\Users\\PETER\\AppData\\Local\\Temp\\jieba.u6fb6e872883c6d9c08ea8e016e70c5c1.cache\n"
     ]
    },
    {
     "name": "stdout",
     "output_type": "stream",
     "text": [
      "8751\n"
     ]
    },
    {
     "name": "stderr",
     "output_type": "stream",
     "text": [
      "Loading model cost 1.231 seconds.\n",
      "Prefix dict has been built succesfully.\n",
      "Building prefix dict from C:\\Users\\PETER\\OneDrive\\桌面\\Klook 7\\dict.txt.big ...\n",
      "Loading model from cache C:\\Users\\PETER\\AppData\\Local\\Temp\\jieba.u6fb6e872883c6d9c08ea8e016e70c5c1.cache\n"
     ]
    },
    {
     "name": "stdout",
     "output_type": "stream",
     "text": [
      "9\n"
     ]
    },
    {
     "name": "stderr",
     "output_type": "stream",
     "text": [
      "Loading model cost 1.221 seconds.\n",
      "Prefix dict has been built succesfully.\n",
      "Building prefix dict from C:\\Users\\PETER\\OneDrive\\桌面\\Klook 7\\dict.txt.big ...\n",
      "Loading model from cache C:\\Users\\PETER\\AppData\\Local\\Temp\\jieba.u6fb6e872883c6d9c08ea8e016e70c5c1.cache\n"
     ]
    },
    {
     "name": "stdout",
     "output_type": "stream",
     "text": [
      "928\n"
     ]
    },
    {
     "name": "stderr",
     "output_type": "stream",
     "text": [
      "Loading model cost 1.198 seconds.\n",
      "Prefix dict has been built succesfully.\n",
      "Building prefix dict from C:\\Users\\PETER\\OneDrive\\桌面\\Klook 7\\dict.txt.big ...\n",
      "Loading model from cache C:\\Users\\PETER\\AppData\\Local\\Temp\\jieba.u6fb6e872883c6d9c08ea8e016e70c5c1.cache\n"
     ]
    },
    {
     "name": "stdout",
     "output_type": "stream",
     "text": [
      "930\n"
     ]
    },
    {
     "name": "stderr",
     "output_type": "stream",
     "text": [
      "Loading model cost 1.199 seconds.\n",
      "Prefix dict has been built succesfully.\n",
      "Building prefix dict from C:\\Users\\PETER\\OneDrive\\桌面\\Klook 7\\dict.txt.big ...\n",
      "Loading model from cache C:\\Users\\PETER\\AppData\\Local\\Temp\\jieba.u6fb6e872883c6d9c08ea8e016e70c5c1.cache\n"
     ]
    },
    {
     "name": "stdout",
     "output_type": "stream",
     "text": [
      "9802\n"
     ]
    },
    {
     "name": "stderr",
     "output_type": "stream",
     "text": [
      "Loading model cost 1.194 seconds.\n",
      "Prefix dict has been built succesfully.\n"
     ]
    }
   ],
   "source": [
    "import os\n",
    "\n",
    "path='output\\comment\\HK_comment\\\\'\n",
    "\n",
    "files = []\n",
    "# r=root, d=directories, f = files\n",
    "for r, d, f in os.walk(path):\n",
    "    for file in f:\n",
    "        if '.csv' in file:\n",
    "            #print(os.path.join(r, file))\n",
    "            files.append(os.path.join(r, file))\n",
    "for i in files:\n",
    "    df=pd.read_csv(i)\n",
    "    \n",
    "    t=i.find(\".csv\")\n",
    "    n=(i[15:t])\n",
    "    u=n.find(\"t\")\n",
    "    u=u+2\n",
    "    name=(n[u:] )\n",
    "    print((n[u:] ))\n",
    "    \n",
    "    #jieba\n",
    "    jw=list()\n",
    "    jb=list()\n",
    "    import jieba\n",
    "    import jieba.posseg as pseg\n",
    "    jieba.set_dictionary('dict.txt.big')\n",
    "    for k in df[\"translate_content\"]:\n",
    "        try:\n",
    "            words =pseg.cut(k)\n",
    "            for w in words:\n",
    "                #print(w.word,w.flag)\n",
    "                jw.append((w.word,w.flag))\n",
    "        except:\n",
    "            pass\n",
    "    # select a and x\n",
    "    for g in range(len(jw)):\n",
    "        if \"a\" in jw[g]:\n",
    "            if len(jw[g][0])>1:\n",
    "                #print(jw[g])\n",
    "                jb.append(jw[g][0])\n",
    "    from snownlp import SnowNLP\n",
    "    f= open(\"output/feeling/HK_comment/\"+name+\"_neg1.txt\",\"w+\",encoding=\"utf-8\")\n",
    "    q= open(\"output/feeling/HK_comment/\"+name+\"_pos1.txt\",\"w+\",encoding=\"utf-8\")\n",
    "    for i in jb:\n",
    "        s=SnowNLP(i)\n",
    "        if (s.sentiments)<0.5:\n",
    "            #print(i,s.sentiments)\n",
    "            f.write(i+ '\\n')\n",
    "        elif (s.sentiments)>0.5:\n",
    "            #print(i,s.sentiments)\n",
    "            q.write(i+ '\\n')\n",
    "    f.close()\n",
    "    q.close()\n",
    "    \n",
    "    "
   ]
  },
  {
   "cell_type": "code",
   "execution_count": 4,
   "metadata": {},
   "outputs": [
    {
     "name": "stderr",
     "output_type": "stream",
     "text": [
      "Building prefix dict from C:\\Users\\PETER\\OneDrive\\桌面\\Klook 7\\dict.txt.big ...\n",
      "Loading model from cache C:\\Users\\PETER\\AppData\\Local\\Temp\\jieba.u6fb6e872883c6d9c08ea8e016e70c5c1.cache\n"
     ]
    },
    {
     "name": "stdout",
     "output_type": "stream",
     "text": [
      "10090\n"
     ]
    },
    {
     "name": "stderr",
     "output_type": "stream",
     "text": [
      "Loading model cost 1.245 seconds.\n",
      "Prefix dict has been built succesfully.\n",
      "Building prefix dict from C:\\Users\\PETER\\OneDrive\\桌面\\Klook 7\\dict.txt.big ...\n",
      "Loading model from cache C:\\Users\\PETER\\AppData\\Local\\Temp\\jieba.u6fb6e872883c6d9c08ea8e016e70c5c1.cache\n"
     ]
    },
    {
     "name": "stdout",
     "output_type": "stream",
     "text": [
      "10139\n"
     ]
    },
    {
     "name": "stderr",
     "output_type": "stream",
     "text": [
      "Loading model cost 1.265 seconds.\n",
      "Prefix dict has been built succesfully.\n",
      "Building prefix dict from C:\\Users\\PETER\\OneDrive\\桌面\\Klook 7\\dict.txt.big ...\n",
      "Loading model from cache C:\\Users\\PETER\\AppData\\Local\\Temp\\jieba.u6fb6e872883c6d9c08ea8e016e70c5c1.cache\n"
     ]
    },
    {
     "name": "stdout",
     "output_type": "stream",
     "text": [
      "1014\n"
     ]
    },
    {
     "name": "stderr",
     "output_type": "stream",
     "text": [
      "Loading model cost 1.241 seconds.\n",
      "Prefix dict has been built succesfully.\n",
      "Building prefix dict from C:\\Users\\PETER\\OneDrive\\桌面\\Klook 7\\dict.txt.big ...\n",
      "Loading model from cache C:\\Users\\PETER\\AppData\\Local\\Temp\\jieba.u6fb6e872883c6d9c08ea8e016e70c5c1.cache\n"
     ]
    },
    {
     "name": "stdout",
     "output_type": "stream",
     "text": [
      "10233\n"
     ]
    },
    {
     "name": "stderr",
     "output_type": "stream",
     "text": [
      "Loading model cost 1.482 seconds.\n",
      "Prefix dict has been built succesfully.\n",
      "Building prefix dict from C:\\Users\\PETER\\OneDrive\\桌面\\Klook 7\\dict.txt.big ...\n",
      "Loading model from cache C:\\Users\\PETER\\AppData\\Local\\Temp\\jieba.u6fb6e872883c6d9c08ea8e016e70c5c1.cache\n"
     ]
    },
    {
     "name": "stdout",
     "output_type": "stream",
     "text": [
      "10300\n"
     ]
    },
    {
     "name": "stderr",
     "output_type": "stream",
     "text": [
      "Loading model cost 1.221 seconds.\n",
      "Prefix dict has been built succesfully.\n",
      "Building prefix dict from C:\\Users\\PETER\\OneDrive\\桌面\\Klook 7\\dict.txt.big ...\n",
      "Loading model from cache C:\\Users\\PETER\\AppData\\Local\\Temp\\jieba.u6fb6e872883c6d9c08ea8e016e70c5c1.cache\n"
     ]
    },
    {
     "name": "stdout",
     "output_type": "stream",
     "text": [
      "1031\n"
     ]
    },
    {
     "name": "stderr",
     "output_type": "stream",
     "text": [
      "Loading model cost 1.305 seconds.\n",
      "Prefix dict has been built succesfully.\n",
      "Building prefix dict from C:\\Users\\PETER\\OneDrive\\桌面\\Klook 7\\dict.txt.big ...\n",
      "Loading model from cache C:\\Users\\PETER\\AppData\\Local\\Temp\\jieba.u6fb6e872883c6d9c08ea8e016e70c5c1.cache\n"
     ]
    },
    {
     "name": "stdout",
     "output_type": "stream",
     "text": [
      "1032\n"
     ]
    },
    {
     "name": "stderr",
     "output_type": "stream",
     "text": [
      "Loading model cost 1.283 seconds.\n",
      "Prefix dict has been built succesfully.\n",
      "Building prefix dict from C:\\Users\\PETER\\OneDrive\\桌面\\Klook 7\\dict.txt.big ...\n",
      "Loading model from cache C:\\Users\\PETER\\AppData\\Local\\Temp\\jieba.u6fb6e872883c6d9c08ea8e016e70c5c1.cache\n"
     ]
    },
    {
     "name": "stdout",
     "output_type": "stream",
     "text": [
      "1033\n"
     ]
    },
    {
     "name": "stderr",
     "output_type": "stream",
     "text": [
      "Loading model cost 1.226 seconds.\n",
      "Prefix dict has been built succesfully.\n",
      "Building prefix dict from C:\\Users\\PETER\\OneDrive\\桌面\\Klook 7\\dict.txt.big ...\n",
      "Loading model from cache C:\\Users\\PETER\\AppData\\Local\\Temp\\jieba.u6fb6e872883c6d9c08ea8e016e70c5c1.cache\n"
     ]
    },
    {
     "name": "stdout",
     "output_type": "stream",
     "text": [
      "1034\n"
     ]
    },
    {
     "name": "stderr",
     "output_type": "stream",
     "text": [
      "Loading model cost 1.246 seconds.\n",
      "Prefix dict has been built succesfully.\n",
      "Building prefix dict from C:\\Users\\PETER\\OneDrive\\桌面\\Klook 7\\dict.txt.big ...\n",
      "Loading model from cache C:\\Users\\PETER\\AppData\\Local\\Temp\\jieba.u6fb6e872883c6d9c08ea8e016e70c5c1.cache\n"
     ]
    },
    {
     "name": "stdout",
     "output_type": "stream",
     "text": [
      "1035\n"
     ]
    },
    {
     "name": "stderr",
     "output_type": "stream",
     "text": [
      "Loading model cost 1.219 seconds.\n",
      "Prefix dict has been built succesfully.\n",
      "Building prefix dict from C:\\Users\\PETER\\OneDrive\\桌面\\Klook 7\\dict.txt.big ...\n",
      "Loading model from cache C:\\Users\\PETER\\AppData\\Local\\Temp\\jieba.u6fb6e872883c6d9c08ea8e016e70c5c1.cache\n"
     ]
    },
    {
     "name": "stdout",
     "output_type": "stream",
     "text": [
      "10404\n"
     ]
    },
    {
     "name": "stderr",
     "output_type": "stream",
     "text": [
      "Loading model cost 1.214 seconds.\n",
      "Prefix dict has been built succesfully.\n",
      "Building prefix dict from C:\\Users\\PETER\\OneDrive\\桌面\\Klook 7\\dict.txt.big ...\n",
      "Loading model from cache C:\\Users\\PETER\\AppData\\Local\\Temp\\jieba.u6fb6e872883c6d9c08ea8e016e70c5c1.cache\n"
     ]
    },
    {
     "name": "stdout",
     "output_type": "stream",
     "text": [
      "1079\n"
     ]
    },
    {
     "name": "stderr",
     "output_type": "stream",
     "text": [
      "Loading model cost 1.303 seconds.\n",
      "Prefix dict has been built succesfully.\n",
      "Building prefix dict from C:\\Users\\PETER\\OneDrive\\桌面\\Klook 7\\dict.txt.big ...\n",
      "Loading model from cache C:\\Users\\PETER\\AppData\\Local\\Temp\\jieba.u6fb6e872883c6d9c08ea8e016e70c5c1.cache\n"
     ]
    },
    {
     "name": "stdout",
     "output_type": "stream",
     "text": [
      "11253\n"
     ]
    },
    {
     "name": "stderr",
     "output_type": "stream",
     "text": [
      "Loading model cost 1.260 seconds.\n",
      "Prefix dict has been built succesfully.\n",
      "Building prefix dict from C:\\Users\\PETER\\OneDrive\\桌面\\Klook 7\\dict.txt.big ...\n",
      "Loading model from cache C:\\Users\\PETER\\AppData\\Local\\Temp\\jieba.u6fb6e872883c6d9c08ea8e016e70c5c1.cache\n"
     ]
    },
    {
     "name": "stdout",
     "output_type": "stream",
     "text": [
      "11902\n"
     ]
    },
    {
     "name": "stderr",
     "output_type": "stream",
     "text": [
      "Loading model cost 1.282 seconds.\n",
      "Prefix dict has been built succesfully.\n",
      "Building prefix dict from C:\\Users\\PETER\\OneDrive\\桌面\\Klook 7\\dict.txt.big ...\n",
      "Loading model from cache C:\\Users\\PETER\\AppData\\Local\\Temp\\jieba.u6fb6e872883c6d9c08ea8e016e70c5c1.cache\n"
     ]
    },
    {
     "name": "stdout",
     "output_type": "stream",
     "text": [
      "11909\n"
     ]
    },
    {
     "name": "stderr",
     "output_type": "stream",
     "text": [
      "Loading model cost 1.284 seconds.\n",
      "Prefix dict has been built succesfully.\n",
      "Building prefix dict from C:\\Users\\PETER\\OneDrive\\桌面\\Klook 7\\dict.txt.big ...\n",
      "Loading model from cache C:\\Users\\PETER\\AppData\\Local\\Temp\\jieba.u6fb6e872883c6d9c08ea8e016e70c5c1.cache\n"
     ]
    },
    {
     "name": "stdout",
     "output_type": "stream",
     "text": [
      "11998\n"
     ]
    },
    {
     "name": "stderr",
     "output_type": "stream",
     "text": [
      "Loading model cost 1.275 seconds.\n",
      "Prefix dict has been built succesfully.\n",
      "Building prefix dict from C:\\Users\\PETER\\OneDrive\\桌面\\Klook 7\\dict.txt.big ...\n",
      "Loading model from cache C:\\Users\\PETER\\AppData\\Local\\Temp\\jieba.u6fb6e872883c6d9c08ea8e016e70c5c1.cache\n"
     ]
    },
    {
     "name": "stdout",
     "output_type": "stream",
     "text": [
      "12142\n"
     ]
    },
    {
     "name": "stderr",
     "output_type": "stream",
     "text": [
      "Loading model cost 1.281 seconds.\n",
      "Prefix dict has been built succesfully.\n",
      "Building prefix dict from C:\\Users\\PETER\\OneDrive\\桌面\\Klook 7\\dict.txt.big ...\n",
      "Loading model from cache C:\\Users\\PETER\\AppData\\Local\\Temp\\jieba.u6fb6e872883c6d9c08ea8e016e70c5c1.cache\n"
     ]
    },
    {
     "name": "stdout",
     "output_type": "stream",
     "text": [
      "12164\n"
     ]
    },
    {
     "name": "stderr",
     "output_type": "stream",
     "text": [
      "Loading model cost 1.268 seconds.\n",
      "Prefix dict has been built succesfully.\n",
      "Building prefix dict from C:\\Users\\PETER\\OneDrive\\桌面\\Klook 7\\dict.txt.big ...\n",
      "Loading model from cache C:\\Users\\PETER\\AppData\\Local\\Temp\\jieba.u6fb6e872883c6d9c08ea8e016e70c5c1.cache\n"
     ]
    },
    {
     "name": "stdout",
     "output_type": "stream",
     "text": [
      "12322\n"
     ]
    },
    {
     "name": "stderr",
     "output_type": "stream",
     "text": [
      "Loading model cost 1.290 seconds.\n",
      "Prefix dict has been built succesfully.\n",
      "Building prefix dict from C:\\Users\\PETER\\OneDrive\\桌面\\Klook 7\\dict.txt.big ...\n",
      "Loading model from cache C:\\Users\\PETER\\AppData\\Local\\Temp\\jieba.u6fb6e872883c6d9c08ea8e016e70c5c1.cache\n"
     ]
    },
    {
     "name": "stdout",
     "output_type": "stream",
     "text": [
      "12454\n"
     ]
    },
    {
     "name": "stderr",
     "output_type": "stream",
     "text": [
      "Loading model cost 1.275 seconds.\n",
      "Prefix dict has been built succesfully.\n",
      "Building prefix dict from C:\\Users\\PETER\\OneDrive\\桌面\\Klook 7\\dict.txt.big ...\n",
      "Loading model from cache C:\\Users\\PETER\\AppData\\Local\\Temp\\jieba.u6fb6e872883c6d9c08ea8e016e70c5c1.cache\n"
     ]
    },
    {
     "name": "stdout",
     "output_type": "stream",
     "text": [
      "12500\n"
     ]
    },
    {
     "name": "stderr",
     "output_type": "stream",
     "text": [
      "Loading model cost 1.338 seconds.\n",
      "Prefix dict has been built succesfully.\n",
      "Building prefix dict from C:\\Users\\PETER\\OneDrive\\桌面\\Klook 7\\dict.txt.big ...\n",
      "Loading model from cache C:\\Users\\PETER\\AppData\\Local\\Temp\\jieba.u6fb6e872883c6d9c08ea8e016e70c5c1.cache\n"
     ]
    },
    {
     "name": "stdout",
     "output_type": "stream",
     "text": [
      "12650\n"
     ]
    },
    {
     "name": "stderr",
     "output_type": "stream",
     "text": [
      "Loading model cost 1.270 seconds.\n",
      "Prefix dict has been built succesfully.\n",
      "Building prefix dict from C:\\Users\\PETER\\OneDrive\\桌面\\Klook 7\\dict.txt.big ...\n",
      "Loading model from cache C:\\Users\\PETER\\AppData\\Local\\Temp\\jieba.u6fb6e872883c6d9c08ea8e016e70c5c1.cache\n"
     ]
    },
    {
     "name": "stdout",
     "output_type": "stream",
     "text": [
      "12764\n"
     ]
    },
    {
     "name": "stderr",
     "output_type": "stream",
     "text": [
      "Loading model cost 1.276 seconds.\n",
      "Prefix dict has been built succesfully.\n",
      "Building prefix dict from C:\\Users\\PETER\\OneDrive\\桌面\\Klook 7\\dict.txt.big ...\n",
      "Loading model from cache C:\\Users\\PETER\\AppData\\Local\\Temp\\jieba.u6fb6e872883c6d9c08ea8e016e70c5c1.cache\n"
     ]
    },
    {
     "name": "stdout",
     "output_type": "stream",
     "text": [
      "12821\n"
     ]
    },
    {
     "name": "stderr",
     "output_type": "stream",
     "text": [
      "Loading model cost 1.252 seconds.\n",
      "Prefix dict has been built succesfully.\n",
      "Building prefix dict from C:\\Users\\PETER\\OneDrive\\桌面\\Klook 7\\dict.txt.big ...\n",
      "Loading model from cache C:\\Users\\PETER\\AppData\\Local\\Temp\\jieba.u6fb6e872883c6d9c08ea8e016e70c5c1.cache\n"
     ]
    },
    {
     "name": "stdout",
     "output_type": "stream",
     "text": [
      "12830\n"
     ]
    },
    {
     "name": "stderr",
     "output_type": "stream",
     "text": [
      "Loading model cost 1.279 seconds.\n",
      "Prefix dict has been built succesfully.\n",
      "Building prefix dict from C:\\Users\\PETER\\OneDrive\\桌面\\Klook 7\\dict.txt.big ...\n",
      "Loading model from cache C:\\Users\\PETER\\AppData\\Local\\Temp\\jieba.u6fb6e872883c6d9c08ea8e016e70c5c1.cache\n"
     ]
    },
    {
     "name": "stdout",
     "output_type": "stream",
     "text": [
      "12834\n"
     ]
    },
    {
     "name": "stderr",
     "output_type": "stream",
     "text": [
      "Loading model cost 1.248 seconds.\n",
      "Prefix dict has been built succesfully.\n",
      "Building prefix dict from C:\\Users\\PETER\\OneDrive\\桌面\\Klook 7\\dict.txt.big ...\n",
      "Loading model from cache C:\\Users\\PETER\\AppData\\Local\\Temp\\jieba.u6fb6e872883c6d9c08ea8e016e70c5c1.cache\n"
     ]
    },
    {
     "name": "stdout",
     "output_type": "stream",
     "text": [
      "12848\n"
     ]
    },
    {
     "name": "stderr",
     "output_type": "stream",
     "text": [
      "Loading model cost 1.293 seconds.\n",
      "Prefix dict has been built succesfully.\n",
      "Building prefix dict from C:\\Users\\PETER\\OneDrive\\桌面\\Klook 7\\dict.txt.big ...\n",
      "Loading model from cache C:\\Users\\PETER\\AppData\\Local\\Temp\\jieba.u6fb6e872883c6d9c08ea8e016e70c5c1.cache\n"
     ]
    },
    {
     "name": "stdout",
     "output_type": "stream",
     "text": [
      "12850\n"
     ]
    },
    {
     "name": "stderr",
     "output_type": "stream",
     "text": [
      "Loading model cost 1.231 seconds.\n",
      "Prefix dict has been built succesfully.\n",
      "Building prefix dict from C:\\Users\\PETER\\OneDrive\\桌面\\Klook 7\\dict.txt.big ...\n",
      "Loading model from cache C:\\Users\\PETER\\AppData\\Local\\Temp\\jieba.u6fb6e872883c6d9c08ea8e016e70c5c1.cache\n"
     ]
    },
    {
     "name": "stdout",
     "output_type": "stream",
     "text": [
      "12851\n"
     ]
    },
    {
     "name": "stderr",
     "output_type": "stream",
     "text": [
      "Loading model cost 1.362 seconds.\n",
      "Prefix dict has been built succesfully.\n",
      "Building prefix dict from C:\\Users\\PETER\\OneDrive\\桌面\\Klook 7\\dict.txt.big ...\n",
      "Loading model from cache C:\\Users\\PETER\\AppData\\Local\\Temp\\jieba.u6fb6e872883c6d9c08ea8e016e70c5c1.cache\n"
     ]
    },
    {
     "name": "stdout",
     "output_type": "stream",
     "text": [
      "12852\n"
     ]
    },
    {
     "name": "stderr",
     "output_type": "stream",
     "text": [
      "Loading model cost 1.229 seconds.\n",
      "Prefix dict has been built succesfully.\n",
      "Building prefix dict from C:\\Users\\PETER\\OneDrive\\桌面\\Klook 7\\dict.txt.big ...\n",
      "Loading model from cache C:\\Users\\PETER\\AppData\\Local\\Temp\\jieba.u6fb6e872883c6d9c08ea8e016e70c5c1.cache\n"
     ]
    },
    {
     "name": "stdout",
     "output_type": "stream",
     "text": [
      "12882\n"
     ]
    },
    {
     "name": "stderr",
     "output_type": "stream",
     "text": [
      "Loading model cost 1.231 seconds.\n",
      "Prefix dict has been built succesfully.\n",
      "Building prefix dict from C:\\Users\\PETER\\OneDrive\\桌面\\Klook 7\\dict.txt.big ...\n",
      "Loading model from cache C:\\Users\\PETER\\AppData\\Local\\Temp\\jieba.u6fb6e872883c6d9c08ea8e016e70c5c1.cache\n"
     ]
    },
    {
     "name": "stdout",
     "output_type": "stream",
     "text": [
      "12885\n"
     ]
    },
    {
     "name": "stderr",
     "output_type": "stream",
     "text": [
      "Loading model cost 1.243 seconds.\n",
      "Prefix dict has been built succesfully.\n",
      "Building prefix dict from C:\\Users\\PETER\\OneDrive\\桌面\\Klook 7\\dict.txt.big ...\n",
      "Loading model from cache C:\\Users\\PETER\\AppData\\Local\\Temp\\jieba.u6fb6e872883c6d9c08ea8e016e70c5c1.cache\n"
     ]
    },
    {
     "name": "stdout",
     "output_type": "stream",
     "text": [
      "12997\n"
     ]
    },
    {
     "name": "stderr",
     "output_type": "stream",
     "text": [
      "Loading model cost 1.269 seconds.\n",
      "Prefix dict has been built succesfully.\n",
      "Building prefix dict from C:\\Users\\PETER\\OneDrive\\桌面\\Klook 7\\dict.txt.big ...\n",
      "Loading model from cache C:\\Users\\PETER\\AppData\\Local\\Temp\\jieba.u6fb6e872883c6d9c08ea8e016e70c5c1.cache\n"
     ]
    },
    {
     "name": "stdout",
     "output_type": "stream",
     "text": [
      "1304\n"
     ]
    },
    {
     "name": "stderr",
     "output_type": "stream",
     "text": [
      "Loading model cost 1.298 seconds.\n",
      "Prefix dict has been built succesfully.\n",
      "Building prefix dict from C:\\Users\\PETER\\OneDrive\\桌面\\Klook 7\\dict.txt.big ...\n",
      "Loading model from cache C:\\Users\\PETER\\AppData\\Local\\Temp\\jieba.u6fb6e872883c6d9c08ea8e016e70c5c1.cache\n"
     ]
    },
    {
     "name": "stdout",
     "output_type": "stream",
     "text": [
      "13116\n"
     ]
    },
    {
     "name": "stderr",
     "output_type": "stream",
     "text": [
      "Loading model cost 1.271 seconds.\n",
      "Prefix dict has been built succesfully.\n",
      "Building prefix dict from C:\\Users\\PETER\\OneDrive\\桌面\\Klook 7\\dict.txt.big ...\n",
      "Loading model from cache C:\\Users\\PETER\\AppData\\Local\\Temp\\jieba.u6fb6e872883c6d9c08ea8e016e70c5c1.cache\n"
     ]
    },
    {
     "name": "stdout",
     "output_type": "stream",
     "text": [
      "1314\n"
     ]
    },
    {
     "name": "stderr",
     "output_type": "stream",
     "text": [
      "Loading model cost 1.280 seconds.\n",
      "Prefix dict has been built succesfully.\n",
      "Building prefix dict from C:\\Users\\PETER\\OneDrive\\桌面\\Klook 7\\dict.txt.big ...\n",
      "Loading model from cache C:\\Users\\PETER\\AppData\\Local\\Temp\\jieba.u6fb6e872883c6d9c08ea8e016e70c5c1.cache\n"
     ]
    },
    {
     "name": "stdout",
     "output_type": "stream",
     "text": [
      "13265\n"
     ]
    },
    {
     "name": "stderr",
     "output_type": "stream",
     "text": [
      "Loading model cost 1.287 seconds.\n",
      "Prefix dict has been built succesfully.\n",
      "Building prefix dict from C:\\Users\\PETER\\OneDrive\\桌面\\Klook 7\\dict.txt.big ...\n",
      "Loading model from cache C:\\Users\\PETER\\AppData\\Local\\Temp\\jieba.u6fb6e872883c6d9c08ea8e016e70c5c1.cache\n"
     ]
    },
    {
     "name": "stdout",
     "output_type": "stream",
     "text": [
      "13271\n"
     ]
    },
    {
     "name": "stderr",
     "output_type": "stream",
     "text": [
      "Loading model cost 1.270 seconds.\n",
      "Prefix dict has been built succesfully.\n",
      "Building prefix dict from C:\\Users\\PETER\\OneDrive\\桌面\\Klook 7\\dict.txt.big ...\n",
      "Loading model from cache C:\\Users\\PETER\\AppData\\Local\\Temp\\jieba.u6fb6e872883c6d9c08ea8e016e70c5c1.cache\n"
     ]
    },
    {
     "name": "stdout",
     "output_type": "stream",
     "text": [
      "1329\n"
     ]
    },
    {
     "name": "stderr",
     "output_type": "stream",
     "text": [
      "Loading model cost 1.244 seconds.\n",
      "Prefix dict has been built succesfully.\n",
      "Building prefix dict from C:\\Users\\PETER\\OneDrive\\桌面\\Klook 7\\dict.txt.big ...\n",
      "Loading model from cache C:\\Users\\PETER\\AppData\\Local\\Temp\\jieba.u6fb6e872883c6d9c08ea8e016e70c5c1.cache\n"
     ]
    },
    {
     "name": "stdout",
     "output_type": "stream",
     "text": [
      "13303\n"
     ]
    },
    {
     "name": "stderr",
     "output_type": "stream",
     "text": [
      "Loading model cost 1.237 seconds.\n",
      "Prefix dict has been built succesfully.\n",
      "Building prefix dict from C:\\Users\\PETER\\OneDrive\\桌面\\Klook 7\\dict.txt.big ...\n",
      "Loading model from cache C:\\Users\\PETER\\AppData\\Local\\Temp\\jieba.u6fb6e872883c6d9c08ea8e016e70c5c1.cache\n"
     ]
    },
    {
     "name": "stdout",
     "output_type": "stream",
     "text": [
      "13345\n"
     ]
    },
    {
     "name": "stderr",
     "output_type": "stream",
     "text": [
      "Loading model cost 1.225 seconds.\n",
      "Prefix dict has been built succesfully.\n",
      "Building prefix dict from C:\\Users\\PETER\\OneDrive\\桌面\\Klook 7\\dict.txt.big ...\n",
      "Loading model from cache C:\\Users\\PETER\\AppData\\Local\\Temp\\jieba.u6fb6e872883c6d9c08ea8e016e70c5c1.cache\n"
     ]
    },
    {
     "name": "stdout",
     "output_type": "stream",
     "text": [
      "13407\n"
     ]
    },
    {
     "name": "stderr",
     "output_type": "stream",
     "text": [
      "Loading model cost 1.222 seconds.\n",
      "Prefix dict has been built succesfully.\n",
      "Building prefix dict from C:\\Users\\PETER\\OneDrive\\桌面\\Klook 7\\dict.txt.big ...\n",
      "Loading model from cache C:\\Users\\PETER\\AppData\\Local\\Temp\\jieba.u6fb6e872883c6d9c08ea8e016e70c5c1.cache\n"
     ]
    },
    {
     "name": "stdout",
     "output_type": "stream",
     "text": [
      "1343\n"
     ]
    },
    {
     "name": "stderr",
     "output_type": "stream",
     "text": [
      "Loading model cost 1.259 seconds.\n",
      "Prefix dict has been built succesfully.\n",
      "Building prefix dict from C:\\Users\\PETER\\OneDrive\\桌面\\Klook 7\\dict.txt.big ...\n",
      "Loading model from cache C:\\Users\\PETER\\AppData\\Local\\Temp\\jieba.u6fb6e872883c6d9c08ea8e016e70c5c1.cache\n"
     ]
    },
    {
     "name": "stdout",
     "output_type": "stream",
     "text": [
      "13444\n"
     ]
    },
    {
     "name": "stderr",
     "output_type": "stream",
     "text": [
      "Loading model cost 1.290 seconds.\n",
      "Prefix dict has been built succesfully.\n",
      "Building prefix dict from C:\\Users\\PETER\\OneDrive\\桌面\\Klook 7\\dict.txt.big ...\n",
      "Loading model from cache C:\\Users\\PETER\\AppData\\Local\\Temp\\jieba.u6fb6e872883c6d9c08ea8e016e70c5c1.cache\n"
     ]
    },
    {
     "name": "stdout",
     "output_type": "stream",
     "text": [
      "13574\n"
     ]
    },
    {
     "name": "stderr",
     "output_type": "stream",
     "text": [
      "Loading model cost 1.255 seconds.\n",
      "Prefix dict has been built succesfully.\n",
      "Building prefix dict from C:\\Users\\PETER\\OneDrive\\桌面\\Klook 7\\dict.txt.big ...\n",
      "Loading model from cache C:\\Users\\PETER\\AppData\\Local\\Temp\\jieba.u6fb6e872883c6d9c08ea8e016e70c5c1.cache\n"
     ]
    },
    {
     "name": "stdout",
     "output_type": "stream",
     "text": [
      "13582\n"
     ]
    },
    {
     "name": "stderr",
     "output_type": "stream",
     "text": [
      "Loading model cost 1.262 seconds.\n",
      "Prefix dict has been built succesfully.\n",
      "Building prefix dict from C:\\Users\\PETER\\OneDrive\\桌面\\Klook 7\\dict.txt.big ...\n",
      "Loading model from cache C:\\Users\\PETER\\AppData\\Local\\Temp\\jieba.u6fb6e872883c6d9c08ea8e016e70c5c1.cache\n"
     ]
    },
    {
     "name": "stdout",
     "output_type": "stream",
     "text": [
      "13640\n"
     ]
    },
    {
     "name": "stderr",
     "output_type": "stream",
     "text": [
      "Loading model cost 1.226 seconds.\n",
      "Prefix dict has been built succesfully.\n",
      "Building prefix dict from C:\\Users\\PETER\\OneDrive\\桌面\\Klook 7\\dict.txt.big ...\n",
      "Loading model from cache C:\\Users\\PETER\\AppData\\Local\\Temp\\jieba.u6fb6e872883c6d9c08ea8e016e70c5c1.cache\n"
     ]
    },
    {
     "name": "stdout",
     "output_type": "stream",
     "text": [
      "13717\n"
     ]
    },
    {
     "name": "stderr",
     "output_type": "stream",
     "text": [
      "Loading model cost 1.313 seconds.\n",
      "Prefix dict has been built succesfully.\n",
      "Building prefix dict from C:\\Users\\PETER\\OneDrive\\桌面\\Klook 7\\dict.txt.big ...\n",
      "Loading model from cache C:\\Users\\PETER\\AppData\\Local\\Temp\\jieba.u6fb6e872883c6d9c08ea8e016e70c5c1.cache\n"
     ]
    },
    {
     "name": "stdout",
     "output_type": "stream",
     "text": [
      "13730\n"
     ]
    },
    {
     "name": "stderr",
     "output_type": "stream",
     "text": [
      "Loading model cost 1.258 seconds.\n",
      "Prefix dict has been built succesfully.\n",
      "Building prefix dict from C:\\Users\\PETER\\OneDrive\\桌面\\Klook 7\\dict.txt.big ...\n",
      "Loading model from cache C:\\Users\\PETER\\AppData\\Local\\Temp\\jieba.u6fb6e872883c6d9c08ea8e016e70c5c1.cache\n"
     ]
    },
    {
     "name": "stdout",
     "output_type": "stream",
     "text": [
      "13746\n"
     ]
    },
    {
     "name": "stderr",
     "output_type": "stream",
     "text": [
      "Loading model cost 1.241 seconds.\n",
      "Prefix dict has been built succesfully.\n",
      "Building prefix dict from C:\\Users\\PETER\\OneDrive\\桌面\\Klook 7\\dict.txt.big ...\n",
      "Loading model from cache C:\\Users\\PETER\\AppData\\Local\\Temp\\jieba.u6fb6e872883c6d9c08ea8e016e70c5c1.cache\n"
     ]
    },
    {
     "name": "stdout",
     "output_type": "stream",
     "text": [
      "13755\n"
     ]
    },
    {
     "name": "stderr",
     "output_type": "stream",
     "text": [
      "Loading model cost 1.267 seconds.\n",
      "Prefix dict has been built succesfully.\n",
      "Building prefix dict from C:\\Users\\PETER\\OneDrive\\桌面\\Klook 7\\dict.txt.big ...\n",
      "Loading model from cache C:\\Users\\PETER\\AppData\\Local\\Temp\\jieba.u6fb6e872883c6d9c08ea8e016e70c5c1.cache\n"
     ]
    },
    {
     "name": "stdout",
     "output_type": "stream",
     "text": [
      "13770\n"
     ]
    },
    {
     "name": "stderr",
     "output_type": "stream",
     "text": [
      "Loading model cost 1.242 seconds.\n",
      "Prefix dict has been built succesfully.\n",
      "Building prefix dict from C:\\Users\\PETER\\OneDrive\\桌面\\Klook 7\\dict.txt.big ...\n",
      "Loading model from cache C:\\Users\\PETER\\AppData\\Local\\Temp\\jieba.u6fb6e872883c6d9c08ea8e016e70c5c1.cache\n"
     ]
    },
    {
     "name": "stdout",
     "output_type": "stream",
     "text": [
      "13833\n"
     ]
    },
    {
     "name": "stderr",
     "output_type": "stream",
     "text": [
      "Loading model cost 1.218 seconds.\n",
      "Prefix dict has been built succesfully.\n",
      "Building prefix dict from C:\\Users\\PETER\\OneDrive\\桌面\\Klook 7\\dict.txt.big ...\n",
      "Loading model from cache C:\\Users\\PETER\\AppData\\Local\\Temp\\jieba.u6fb6e872883c6d9c08ea8e016e70c5c1.cache\n"
     ]
    },
    {
     "name": "stdout",
     "output_type": "stream",
     "text": [
      "13886\n"
     ]
    },
    {
     "name": "stderr",
     "output_type": "stream",
     "text": [
      "Loading model cost 1.235 seconds.\n",
      "Prefix dict has been built succesfully.\n",
      "Building prefix dict from C:\\Users\\PETER\\OneDrive\\桌面\\Klook 7\\dict.txt.big ...\n",
      "Loading model from cache C:\\Users\\PETER\\AppData\\Local\\Temp\\jieba.u6fb6e872883c6d9c08ea8e016e70c5c1.cache\n"
     ]
    },
    {
     "name": "stdout",
     "output_type": "stream",
     "text": [
      "13899\n"
     ]
    },
    {
     "name": "stderr",
     "output_type": "stream",
     "text": [
      "Loading model cost 1.205 seconds.\n",
      "Prefix dict has been built succesfully.\n",
      "Building prefix dict from C:\\Users\\PETER\\OneDrive\\桌面\\Klook 7\\dict.txt.big ...\n",
      "Loading model from cache C:\\Users\\PETER\\AppData\\Local\\Temp\\jieba.u6fb6e872883c6d9c08ea8e016e70c5c1.cache\n"
     ]
    },
    {
     "name": "stdout",
     "output_type": "stream",
     "text": [
      "13999\n"
     ]
    },
    {
     "name": "stderr",
     "output_type": "stream",
     "text": [
      "Loading model cost 1.219 seconds.\n",
      "Prefix dict has been built succesfully.\n",
      "Building prefix dict from C:\\Users\\PETER\\OneDrive\\桌面\\Klook 7\\dict.txt.big ...\n",
      "Loading model from cache C:\\Users\\PETER\\AppData\\Local\\Temp\\jieba.u6fb6e872883c6d9c08ea8e016e70c5c1.cache\n"
     ]
    },
    {
     "name": "stdout",
     "output_type": "stream",
     "text": [
      "14077\n"
     ]
    },
    {
     "name": "stderr",
     "output_type": "stream",
     "text": [
      "Loading model cost 1.213 seconds.\n",
      "Prefix dict has been built succesfully.\n",
      "Building prefix dict from C:\\Users\\PETER\\OneDrive\\桌面\\Klook 7\\dict.txt.big ...\n",
      "Loading model from cache C:\\Users\\PETER\\AppData\\Local\\Temp\\jieba.u6fb6e872883c6d9c08ea8e016e70c5c1.cache\n"
     ]
    },
    {
     "name": "stdout",
     "output_type": "stream",
     "text": [
      "1421\n"
     ]
    },
    {
     "name": "stderr",
     "output_type": "stream",
     "text": [
      "Loading model cost 1.212 seconds.\n",
      "Prefix dict has been built succesfully.\n",
      "Building prefix dict from C:\\Users\\PETER\\OneDrive\\桌面\\Klook 7\\dict.txt.big ...\n",
      "Loading model from cache C:\\Users\\PETER\\AppData\\Local\\Temp\\jieba.u6fb6e872883c6d9c08ea8e016e70c5c1.cache\n"
     ]
    },
    {
     "name": "stdout",
     "output_type": "stream",
     "text": [
      "1428\n"
     ]
    },
    {
     "name": "stderr",
     "output_type": "stream",
     "text": [
      "Loading model cost 1.224 seconds.\n",
      "Prefix dict has been built succesfully.\n",
      "Building prefix dict from C:\\Users\\PETER\\OneDrive\\桌面\\Klook 7\\dict.txt.big ...\n",
      "Loading model from cache C:\\Users\\PETER\\AppData\\Local\\Temp\\jieba.u6fb6e872883c6d9c08ea8e016e70c5c1.cache\n"
     ]
    },
    {
     "name": "stdout",
     "output_type": "stream",
     "text": [
      "14444\n"
     ]
    },
    {
     "name": "stderr",
     "output_type": "stream",
     "text": [
      "Loading model cost 1.204 seconds.\n",
      "Prefix dict has been built succesfully.\n",
      "Building prefix dict from C:\\Users\\PETER\\OneDrive\\桌面\\Klook 7\\dict.txt.big ...\n",
      "Loading model from cache C:\\Users\\PETER\\AppData\\Local\\Temp\\jieba.u6fb6e872883c6d9c08ea8e016e70c5c1.cache\n"
     ]
    },
    {
     "name": "stdout",
     "output_type": "stream",
     "text": [
      "14468\n"
     ]
    },
    {
     "name": "stderr",
     "output_type": "stream",
     "text": [
      "Loading model cost 1.208 seconds.\n",
      "Prefix dict has been built succesfully.\n",
      "Building prefix dict from C:\\Users\\PETER\\OneDrive\\桌面\\Klook 7\\dict.txt.big ...\n",
      "Loading model from cache C:\\Users\\PETER\\AppData\\Local\\Temp\\jieba.u6fb6e872883c6d9c08ea8e016e70c5c1.cache\n"
     ]
    },
    {
     "name": "stdout",
     "output_type": "stream",
     "text": [
      "14477\n"
     ]
    },
    {
     "name": "stderr",
     "output_type": "stream",
     "text": [
      "Loading model cost 1.208 seconds.\n",
      "Prefix dict has been built succesfully.\n",
      "Building prefix dict from C:\\Users\\PETER\\OneDrive\\桌面\\Klook 7\\dict.txt.big ...\n",
      "Loading model from cache C:\\Users\\PETER\\AppData\\Local\\Temp\\jieba.u6fb6e872883c6d9c08ea8e016e70c5c1.cache\n"
     ]
    },
    {
     "name": "stdout",
     "output_type": "stream",
     "text": [
      "14529\n"
     ]
    },
    {
     "name": "stderr",
     "output_type": "stream",
     "text": [
      "Loading model cost 1.215 seconds.\n",
      "Prefix dict has been built succesfully.\n",
      "Building prefix dict from C:\\Users\\PETER\\OneDrive\\桌面\\Klook 7\\dict.txt.big ...\n",
      "Loading model from cache C:\\Users\\PETER\\AppData\\Local\\Temp\\jieba.u6fb6e872883c6d9c08ea8e016e70c5c1.cache\n"
     ]
    },
    {
     "name": "stdout",
     "output_type": "stream",
     "text": [
      "14533\n"
     ]
    },
    {
     "name": "stderr",
     "output_type": "stream",
     "text": [
      "Loading model cost 1.207 seconds.\n",
      "Prefix dict has been built succesfully.\n",
      "Building prefix dict from C:\\Users\\PETER\\OneDrive\\桌面\\Klook 7\\dict.txt.big ...\n",
      "Loading model from cache C:\\Users\\PETER\\AppData\\Local\\Temp\\jieba.u6fb6e872883c6d9c08ea8e016e70c5c1.cache\n"
     ]
    },
    {
     "name": "stdout",
     "output_type": "stream",
     "text": [
      "14547\n"
     ]
    },
    {
     "name": "stderr",
     "output_type": "stream",
     "text": [
      "Loading model cost 1.231 seconds.\n",
      "Prefix dict has been built succesfully.\n",
      "Building prefix dict from C:\\Users\\PETER\\OneDrive\\桌面\\Klook 7\\dict.txt.big ...\n",
      "Loading model from cache C:\\Users\\PETER\\AppData\\Local\\Temp\\jieba.u6fb6e872883c6d9c08ea8e016e70c5c1.cache\n"
     ]
    },
    {
     "name": "stdout",
     "output_type": "stream",
     "text": [
      "14588\n"
     ]
    },
    {
     "name": "stderr",
     "output_type": "stream",
     "text": [
      "Loading model cost 1.219 seconds.\n",
      "Prefix dict has been built succesfully.\n",
      "Building prefix dict from C:\\Users\\PETER\\OneDrive\\桌面\\Klook 7\\dict.txt.big ...\n",
      "Loading model from cache C:\\Users\\PETER\\AppData\\Local\\Temp\\jieba.u6fb6e872883c6d9c08ea8e016e70c5c1.cache\n"
     ]
    },
    {
     "name": "stdout",
     "output_type": "stream",
     "text": [
      "1464\n"
     ]
    },
    {
     "name": "stderr",
     "output_type": "stream",
     "text": [
      "Loading model cost 1.203 seconds.\n",
      "Prefix dict has been built succesfully.\n",
      "Building prefix dict from C:\\Users\\PETER\\OneDrive\\桌面\\Klook 7\\dict.txt.big ...\n",
      "Loading model from cache C:\\Users\\PETER\\AppData\\Local\\Temp\\jieba.u6fb6e872883c6d9c08ea8e016e70c5c1.cache\n"
     ]
    },
    {
     "name": "stdout",
     "output_type": "stream",
     "text": [
      "14671\n"
     ]
    },
    {
     "name": "stderr",
     "output_type": "stream",
     "text": [
      "Loading model cost 1.206 seconds.\n",
      "Prefix dict has been built succesfully.\n",
      "Building prefix dict from C:\\Users\\PETER\\OneDrive\\桌面\\Klook 7\\dict.txt.big ...\n",
      "Loading model from cache C:\\Users\\PETER\\AppData\\Local\\Temp\\jieba.u6fb6e872883c6d9c08ea8e016e70c5c1.cache\n"
     ]
    },
    {
     "name": "stdout",
     "output_type": "stream",
     "text": [
      "14723\n"
     ]
    },
    {
     "name": "stderr",
     "output_type": "stream",
     "text": [
      "Loading model cost 1.216 seconds.\n",
      "Prefix dict has been built succesfully.\n",
      "Building prefix dict from C:\\Users\\PETER\\OneDrive\\桌面\\Klook 7\\dict.txt.big ...\n",
      "Loading model from cache C:\\Users\\PETER\\AppData\\Local\\Temp\\jieba.u6fb6e872883c6d9c08ea8e016e70c5c1.cache\n"
     ]
    },
    {
     "name": "stdout",
     "output_type": "stream",
     "text": [
      "14884\n"
     ]
    },
    {
     "name": "stderr",
     "output_type": "stream",
     "text": [
      "Loading model cost 1.216 seconds.\n",
      "Prefix dict has been built succesfully.\n",
      "Building prefix dict from C:\\Users\\PETER\\OneDrive\\桌面\\Klook 7\\dict.txt.big ...\n",
      "Loading model from cache C:\\Users\\PETER\\AppData\\Local\\Temp\\jieba.u6fb6e872883c6d9c08ea8e016e70c5c1.cache\n"
     ]
    },
    {
     "name": "stdout",
     "output_type": "stream",
     "text": [
      "14925\n"
     ]
    },
    {
     "name": "stderr",
     "output_type": "stream",
     "text": [
      "Loading model cost 1.205 seconds.\n",
      "Prefix dict has been built succesfully.\n",
      "Building prefix dict from C:\\Users\\PETER\\OneDrive\\桌面\\Klook 7\\dict.txt.big ...\n",
      "Loading model from cache C:\\Users\\PETER\\AppData\\Local\\Temp\\jieba.u6fb6e872883c6d9c08ea8e016e70c5c1.cache\n"
     ]
    },
    {
     "name": "stdout",
     "output_type": "stream",
     "text": [
      "14930\n"
     ]
    },
    {
     "name": "stderr",
     "output_type": "stream",
     "text": [
      "Loading model cost 1.207 seconds.\n",
      "Prefix dict has been built succesfully.\n",
      "Building prefix dict from C:\\Users\\PETER\\OneDrive\\桌面\\Klook 7\\dict.txt.big ...\n",
      "Loading model from cache C:\\Users\\PETER\\AppData\\Local\\Temp\\jieba.u6fb6e872883c6d9c08ea8e016e70c5c1.cache\n"
     ]
    },
    {
     "name": "stdout",
     "output_type": "stream",
     "text": [
      "14968\n"
     ]
    },
    {
     "name": "stderr",
     "output_type": "stream",
     "text": [
      "Loading model cost 1.261 seconds.\n",
      "Prefix dict has been built succesfully.\n",
      "Building prefix dict from C:\\Users\\PETER\\OneDrive\\桌面\\Klook 7\\dict.txt.big ...\n",
      "Loading model from cache C:\\Users\\PETER\\AppData\\Local\\Temp\\jieba.u6fb6e872883c6d9c08ea8e016e70c5c1.cache\n"
     ]
    },
    {
     "name": "stdout",
     "output_type": "stream",
     "text": [
      "14980\n"
     ]
    },
    {
     "name": "stderr",
     "output_type": "stream",
     "text": [
      "Loading model cost 1.380 seconds.\n",
      "Prefix dict has been built succesfully.\n",
      "Building prefix dict from C:\\Users\\PETER\\OneDrive\\桌面\\Klook 7\\dict.txt.big ...\n",
      "Loading model from cache C:\\Users\\PETER\\AppData\\Local\\Temp\\jieba.u6fb6e872883c6d9c08ea8e016e70c5c1.cache\n"
     ]
    },
    {
     "name": "stdout",
     "output_type": "stream",
     "text": [
      "14982\n"
     ]
    },
    {
     "name": "stderr",
     "output_type": "stream",
     "text": [
      "Loading model cost 1.347 seconds.\n",
      "Prefix dict has been built succesfully.\n",
      "Building prefix dict from C:\\Users\\PETER\\OneDrive\\桌面\\Klook 7\\dict.txt.big ...\n",
      "Loading model from cache C:\\Users\\PETER\\AppData\\Local\\Temp\\jieba.u6fb6e872883c6d9c08ea8e016e70c5c1.cache\n"
     ]
    },
    {
     "name": "stdout",
     "output_type": "stream",
     "text": [
      "14987\n"
     ]
    },
    {
     "name": "stderr",
     "output_type": "stream",
     "text": [
      "Loading model cost 1.393 seconds.\n",
      "Prefix dict has been built succesfully.\n",
      "Building prefix dict from C:\\Users\\PETER\\OneDrive\\桌面\\Klook 7\\dict.txt.big ...\n",
      "Loading model from cache C:\\Users\\PETER\\AppData\\Local\\Temp\\jieba.u6fb6e872883c6d9c08ea8e016e70c5c1.cache\n"
     ]
    },
    {
     "name": "stdout",
     "output_type": "stream",
     "text": [
      "15010\n"
     ]
    },
    {
     "name": "stderr",
     "output_type": "stream",
     "text": [
      "Loading model cost 1.359 seconds.\n",
      "Prefix dict has been built succesfully.\n",
      "Building prefix dict from C:\\Users\\PETER\\OneDrive\\桌面\\Klook 7\\dict.txt.big ...\n",
      "Loading model from cache C:\\Users\\PETER\\AppData\\Local\\Temp\\jieba.u6fb6e872883c6d9c08ea8e016e70c5c1.cache\n"
     ]
    },
    {
     "name": "stdout",
     "output_type": "stream",
     "text": [
      "15017\n"
     ]
    },
    {
     "name": "stderr",
     "output_type": "stream",
     "text": [
      "Loading model cost 1.342 seconds.\n",
      "Prefix dict has been built succesfully.\n",
      "Building prefix dict from C:\\Users\\PETER\\OneDrive\\桌面\\Klook 7\\dict.txt.big ...\n",
      "Loading model from cache C:\\Users\\PETER\\AppData\\Local\\Temp\\jieba.u6fb6e872883c6d9c08ea8e016e70c5c1.cache\n"
     ]
    },
    {
     "name": "stdout",
     "output_type": "stream",
     "text": [
      "15020\n"
     ]
    },
    {
     "name": "stderr",
     "output_type": "stream",
     "text": [
      "Loading model cost 1.380 seconds.\n",
      "Prefix dict has been built succesfully.\n",
      "Building prefix dict from C:\\Users\\PETER\\OneDrive\\桌面\\Klook 7\\dict.txt.big ...\n",
      "Loading model from cache C:\\Users\\PETER\\AppData\\Local\\Temp\\jieba.u6fb6e872883c6d9c08ea8e016e70c5c1.cache\n"
     ]
    },
    {
     "name": "stdout",
     "output_type": "stream",
     "text": [
      "15190\n"
     ]
    },
    {
     "name": "stderr",
     "output_type": "stream",
     "text": [
      "Loading model cost 1.304 seconds.\n",
      "Prefix dict has been built succesfully.\n",
      "Building prefix dict from C:\\Users\\PETER\\OneDrive\\桌面\\Klook 7\\dict.txt.big ...\n",
      "Loading model from cache C:\\Users\\PETER\\AppData\\Local\\Temp\\jieba.u6fb6e872883c6d9c08ea8e016e70c5c1.cache\n"
     ]
    },
    {
     "name": "stdout",
     "output_type": "stream",
     "text": [
      "15191\n"
     ]
    },
    {
     "name": "stderr",
     "output_type": "stream",
     "text": [
      "Loading model cost 1.320 seconds.\n",
      "Prefix dict has been built succesfully.\n",
      "Building prefix dict from C:\\Users\\PETER\\OneDrive\\桌面\\Klook 7\\dict.txt.big ...\n",
      "Loading model from cache C:\\Users\\PETER\\AppData\\Local\\Temp\\jieba.u6fb6e872883c6d9c08ea8e016e70c5c1.cache\n"
     ]
    },
    {
     "name": "stdout",
     "output_type": "stream",
     "text": [
      "15200\n"
     ]
    },
    {
     "name": "stderr",
     "output_type": "stream",
     "text": [
      "Loading model cost 1.318 seconds.\n",
      "Prefix dict has been built succesfully.\n",
      "Building prefix dict from C:\\Users\\PETER\\OneDrive\\桌面\\Klook 7\\dict.txt.big ...\n",
      "Loading model from cache C:\\Users\\PETER\\AppData\\Local\\Temp\\jieba.u6fb6e872883c6d9c08ea8e016e70c5c1.cache\n"
     ]
    },
    {
     "name": "stdout",
     "output_type": "stream",
     "text": [
      "15238\n"
     ]
    },
    {
     "name": "stderr",
     "output_type": "stream",
     "text": [
      "Loading model cost 1.341 seconds.\n",
      "Prefix dict has been built succesfully.\n",
      "Building prefix dict from C:\\Users\\PETER\\OneDrive\\桌面\\Klook 7\\dict.txt.big ...\n",
      "Loading model from cache C:\\Users\\PETER\\AppData\\Local\\Temp\\jieba.u6fb6e872883c6d9c08ea8e016e70c5c1.cache\n"
     ]
    },
    {
     "name": "stdout",
     "output_type": "stream",
     "text": [
      "1524\n"
     ]
    },
    {
     "name": "stderr",
     "output_type": "stream",
     "text": [
      "Loading model cost 1.307 seconds.\n",
      "Prefix dict has been built succesfully.\n",
      "Building prefix dict from C:\\Users\\PETER\\OneDrive\\桌面\\Klook 7\\dict.txt.big ...\n",
      "Loading model from cache C:\\Users\\PETER\\AppData\\Local\\Temp\\jieba.u6fb6e872883c6d9c08ea8e016e70c5c1.cache\n"
     ]
    },
    {
     "name": "stdout",
     "output_type": "stream",
     "text": [
      "15317\n"
     ]
    },
    {
     "name": "stderr",
     "output_type": "stream",
     "text": [
      "Loading model cost 1.480 seconds.\n",
      "Prefix dict has been built succesfully.\n",
      "Building prefix dict from C:\\Users\\PETER\\OneDrive\\桌面\\Klook 7\\dict.txt.big ...\n",
      "Loading model from cache C:\\Users\\PETER\\AppData\\Local\\Temp\\jieba.u6fb6e872883c6d9c08ea8e016e70c5c1.cache\n"
     ]
    },
    {
     "name": "stdout",
     "output_type": "stream",
     "text": [
      "15318\n"
     ]
    },
    {
     "name": "stderr",
     "output_type": "stream",
     "text": [
      "Loading model cost 1.305 seconds.\n",
      "Prefix dict has been built succesfully.\n",
      "Building prefix dict from C:\\Users\\PETER\\OneDrive\\桌面\\Klook 7\\dict.txt.big ...\n",
      "Loading model from cache C:\\Users\\PETER\\AppData\\Local\\Temp\\jieba.u6fb6e872883c6d9c08ea8e016e70c5c1.cache\n"
     ]
    },
    {
     "name": "stdout",
     "output_type": "stream",
     "text": [
      "15334\n"
     ]
    },
    {
     "name": "stderr",
     "output_type": "stream",
     "text": [
      "Loading model cost 1.336 seconds.\n",
      "Prefix dict has been built succesfully.\n",
      "Building prefix dict from C:\\Users\\PETER\\OneDrive\\桌面\\Klook 7\\dict.txt.big ...\n",
      "Loading model from cache C:\\Users\\PETER\\AppData\\Local\\Temp\\jieba.u6fb6e872883c6d9c08ea8e016e70c5c1.cache\n"
     ]
    },
    {
     "name": "stdout",
     "output_type": "stream",
     "text": [
      "15381\n"
     ]
    },
    {
     "name": "stderr",
     "output_type": "stream",
     "text": [
      "Loading model cost 1.290 seconds.\n",
      "Prefix dict has been built succesfully.\n",
      "Building prefix dict from C:\\Users\\PETER\\OneDrive\\桌面\\Klook 7\\dict.txt.big ...\n",
      "Loading model from cache C:\\Users\\PETER\\AppData\\Local\\Temp\\jieba.u6fb6e872883c6d9c08ea8e016e70c5c1.cache\n"
     ]
    },
    {
     "name": "stdout",
     "output_type": "stream",
     "text": [
      "15395\n"
     ]
    },
    {
     "name": "stderr",
     "output_type": "stream",
     "text": [
      "Loading model cost 1.285 seconds.\n",
      "Prefix dict has been built succesfully.\n",
      "Building prefix dict from C:\\Users\\PETER\\OneDrive\\桌面\\Klook 7\\dict.txt.big ...\n",
      "Loading model from cache C:\\Users\\PETER\\AppData\\Local\\Temp\\jieba.u6fb6e872883c6d9c08ea8e016e70c5c1.cache\n"
     ]
    },
    {
     "name": "stdout",
     "output_type": "stream",
     "text": [
      "15426\n"
     ]
    },
    {
     "name": "stderr",
     "output_type": "stream",
     "text": [
      "Loading model cost 1.324 seconds.\n",
      "Prefix dict has been built succesfully.\n",
      "Building prefix dict from C:\\Users\\PETER\\OneDrive\\桌面\\Klook 7\\dict.txt.big ...\n",
      "Loading model from cache C:\\Users\\PETER\\AppData\\Local\\Temp\\jieba.u6fb6e872883c6d9c08ea8e016e70c5c1.cache\n"
     ]
    },
    {
     "name": "stdout",
     "output_type": "stream",
     "text": [
      "15455\n"
     ]
    },
    {
     "name": "stderr",
     "output_type": "stream",
     "text": [
      "Loading model cost 1.305 seconds.\n",
      "Prefix dict has been built succesfully.\n",
      "Building prefix dict from C:\\Users\\PETER\\OneDrive\\桌面\\Klook 7\\dict.txt.big ...\n",
      "Loading model from cache C:\\Users\\PETER\\AppData\\Local\\Temp\\jieba.u6fb6e872883c6d9c08ea8e016e70c5c1.cache\n"
     ]
    },
    {
     "name": "stdout",
     "output_type": "stream",
     "text": [
      "15536\n"
     ]
    },
    {
     "name": "stderr",
     "output_type": "stream",
     "text": [
      "Loading model cost 1.298 seconds.\n",
      "Prefix dict has been built succesfully.\n",
      "Building prefix dict from C:\\Users\\PETER\\OneDrive\\桌面\\Klook 7\\dict.txt.big ...\n",
      "Loading model from cache C:\\Users\\PETER\\AppData\\Local\\Temp\\jieba.u6fb6e872883c6d9c08ea8e016e70c5c1.cache\n"
     ]
    },
    {
     "name": "stdout",
     "output_type": "stream",
     "text": [
      "15545\n"
     ]
    },
    {
     "name": "stderr",
     "output_type": "stream",
     "text": [
      "Loading model cost 1.283 seconds.\n",
      "Prefix dict has been built succesfully.\n",
      "Building prefix dict from C:\\Users\\PETER\\OneDrive\\桌面\\Klook 7\\dict.txt.big ...\n",
      "Loading model from cache C:\\Users\\PETER\\AppData\\Local\\Temp\\jieba.u6fb6e872883c6d9c08ea8e016e70c5c1.cache\n"
     ]
    },
    {
     "name": "stdout",
     "output_type": "stream",
     "text": [
      "15547\n"
     ]
    },
    {
     "name": "stderr",
     "output_type": "stream",
     "text": [
      "Loading model cost 1.289 seconds.\n",
      "Prefix dict has been built succesfully.\n",
      "Building prefix dict from C:\\Users\\PETER\\OneDrive\\桌面\\Klook 7\\dict.txt.big ...\n",
      "Loading model from cache C:\\Users\\PETER\\AppData\\Local\\Temp\\jieba.u6fb6e872883c6d9c08ea8e016e70c5c1.cache\n"
     ]
    },
    {
     "name": "stdout",
     "output_type": "stream",
     "text": [
      "1555\n"
     ]
    },
    {
     "name": "stderr",
     "output_type": "stream",
     "text": [
      "Loading model cost 1.373 seconds.\n",
      "Prefix dict has been built succesfully.\n",
      "Building prefix dict from C:\\Users\\PETER\\OneDrive\\桌面\\Klook 7\\dict.txt.big ...\n",
      "Loading model from cache C:\\Users\\PETER\\AppData\\Local\\Temp\\jieba.u6fb6e872883c6d9c08ea8e016e70c5c1.cache\n"
     ]
    },
    {
     "name": "stdout",
     "output_type": "stream",
     "text": [
      "15555\n"
     ]
    },
    {
     "name": "stderr",
     "output_type": "stream",
     "text": [
      "Loading model cost 1.459 seconds.\n",
      "Prefix dict has been built succesfully.\n",
      "Building prefix dict from C:\\Users\\PETER\\OneDrive\\桌面\\Klook 7\\dict.txt.big ...\n",
      "Loading model from cache C:\\Users\\PETER\\AppData\\Local\\Temp\\jieba.u6fb6e872883c6d9c08ea8e016e70c5c1.cache\n"
     ]
    },
    {
     "name": "stdout",
     "output_type": "stream",
     "text": [
      "15597\n"
     ]
    },
    {
     "name": "stderr",
     "output_type": "stream",
     "text": [
      "Loading model cost 1.227 seconds.\n",
      "Prefix dict has been built succesfully.\n",
      "Building prefix dict from C:\\Users\\PETER\\OneDrive\\桌面\\Klook 7\\dict.txt.big ...\n",
      "Loading model from cache C:\\Users\\PETER\\AppData\\Local\\Temp\\jieba.u6fb6e872883c6d9c08ea8e016e70c5c1.cache\n"
     ]
    },
    {
     "name": "stdout",
     "output_type": "stream",
     "text": [
      "15628\n"
     ]
    },
    {
     "name": "stderr",
     "output_type": "stream",
     "text": [
      "Loading model cost 1.214 seconds.\n",
      "Prefix dict has been built succesfully.\n",
      "Building prefix dict from C:\\Users\\PETER\\OneDrive\\桌面\\Klook 7\\dict.txt.big ...\n",
      "Loading model from cache C:\\Users\\PETER\\AppData\\Local\\Temp\\jieba.u6fb6e872883c6d9c08ea8e016e70c5c1.cache\n"
     ]
    },
    {
     "name": "stdout",
     "output_type": "stream",
     "text": [
      "15633\n"
     ]
    },
    {
     "name": "stderr",
     "output_type": "stream",
     "text": [
      "Loading model cost 1.221 seconds.\n",
      "Prefix dict has been built succesfully.\n",
      "Building prefix dict from C:\\Users\\PETER\\OneDrive\\桌面\\Klook 7\\dict.txt.big ...\n",
      "Loading model from cache C:\\Users\\PETER\\AppData\\Local\\Temp\\jieba.u6fb6e872883c6d9c08ea8e016e70c5c1.cache\n"
     ]
    },
    {
     "name": "stdout",
     "output_type": "stream",
     "text": [
      "15733\n"
     ]
    },
    {
     "name": "stderr",
     "output_type": "stream",
     "text": [
      "Loading model cost 1.229 seconds.\n",
      "Prefix dict has been built succesfully.\n",
      "Building prefix dict from C:\\Users\\PETER\\OneDrive\\桌面\\Klook 7\\dict.txt.big ...\n",
      "Loading model from cache C:\\Users\\PETER\\AppData\\Local\\Temp\\jieba.u6fb6e872883c6d9c08ea8e016e70c5c1.cache\n"
     ]
    },
    {
     "name": "stdout",
     "output_type": "stream",
     "text": [
      "15746\n"
     ]
    },
    {
     "name": "stderr",
     "output_type": "stream",
     "text": [
      "Loading model cost 1.224 seconds.\n",
      "Prefix dict has been built succesfully.\n",
      "Building prefix dict from C:\\Users\\PETER\\OneDrive\\桌面\\Klook 7\\dict.txt.big ...\n",
      "Loading model from cache C:\\Users\\PETER\\AppData\\Local\\Temp\\jieba.u6fb6e872883c6d9c08ea8e016e70c5c1.cache\n"
     ]
    },
    {
     "name": "stdout",
     "output_type": "stream",
     "text": [
      "15762\n"
     ]
    },
    {
     "name": "stderr",
     "output_type": "stream",
     "text": [
      "Loading model cost 1.224 seconds.\n",
      "Prefix dict has been built succesfully.\n",
      "Building prefix dict from C:\\Users\\PETER\\OneDrive\\桌面\\Klook 7\\dict.txt.big ...\n",
      "Loading model from cache C:\\Users\\PETER\\AppData\\Local\\Temp\\jieba.u6fb6e872883c6d9c08ea8e016e70c5c1.cache\n"
     ]
    },
    {
     "name": "stdout",
     "output_type": "stream",
     "text": [
      "15961\n"
     ]
    },
    {
     "name": "stderr",
     "output_type": "stream",
     "text": [
      "Loading model cost 1.210 seconds.\n",
      "Prefix dict has been built succesfully.\n",
      "Building prefix dict from C:\\Users\\PETER\\OneDrive\\桌面\\Klook 7\\dict.txt.big ...\n",
      "Loading model from cache C:\\Users\\PETER\\AppData\\Local\\Temp\\jieba.u6fb6e872883c6d9c08ea8e016e70c5c1.cache\n"
     ]
    },
    {
     "name": "stdout",
     "output_type": "stream",
     "text": [
      "15996\n"
     ]
    },
    {
     "name": "stderr",
     "output_type": "stream",
     "text": [
      "Loading model cost 1.218 seconds.\n",
      "Prefix dict has been built succesfully.\n",
      "Building prefix dict from C:\\Users\\PETER\\OneDrive\\桌面\\Klook 7\\dict.txt.big ...\n",
      "Loading model from cache C:\\Users\\PETER\\AppData\\Local\\Temp\\jieba.u6fb6e872883c6d9c08ea8e016e70c5c1.cache\n"
     ]
    },
    {
     "name": "stdout",
     "output_type": "stream",
     "text": [
      "16038\n"
     ]
    },
    {
     "name": "stderr",
     "output_type": "stream",
     "text": [
      "Loading model cost 1.248 seconds.\n",
      "Prefix dict has been built succesfully.\n",
      "Building prefix dict from C:\\Users\\PETER\\OneDrive\\桌面\\Klook 7\\dict.txt.big ...\n",
      "Loading model from cache C:\\Users\\PETER\\AppData\\Local\\Temp\\jieba.u6fb6e872883c6d9c08ea8e016e70c5c1.cache\n"
     ]
    },
    {
     "name": "stdout",
     "output_type": "stream",
     "text": [
      "16107\n"
     ]
    },
    {
     "name": "stderr",
     "output_type": "stream",
     "text": [
      "Loading model cost 1.393 seconds.\n",
      "Prefix dict has been built succesfully.\n",
      "Building prefix dict from C:\\Users\\PETER\\OneDrive\\桌面\\Klook 7\\dict.txt.big ...\n",
      "Loading model from cache C:\\Users\\PETER\\AppData\\Local\\Temp\\jieba.u6fb6e872883c6d9c08ea8e016e70c5c1.cache\n"
     ]
    },
    {
     "name": "stdout",
     "output_type": "stream",
     "text": [
      "16179\n"
     ]
    },
    {
     "name": "stderr",
     "output_type": "stream",
     "text": [
      "Loading model cost 1.271 seconds.\n",
      "Prefix dict has been built succesfully.\n",
      "Building prefix dict from C:\\Users\\PETER\\OneDrive\\桌面\\Klook 7\\dict.txt.big ...\n",
      "Loading model from cache C:\\Users\\PETER\\AppData\\Local\\Temp\\jieba.u6fb6e872883c6d9c08ea8e016e70c5c1.cache\n"
     ]
    },
    {
     "name": "stdout",
     "output_type": "stream",
     "text": [
      "16197\n"
     ]
    },
    {
     "name": "stderr",
     "output_type": "stream",
     "text": [
      "Loading model cost 1.288 seconds.\n",
      "Prefix dict has been built succesfully.\n",
      "Building prefix dict from C:\\Users\\PETER\\OneDrive\\桌面\\Klook 7\\dict.txt.big ...\n",
      "Loading model from cache C:\\Users\\PETER\\AppData\\Local\\Temp\\jieba.u6fb6e872883c6d9c08ea8e016e70c5c1.cache\n"
     ]
    },
    {
     "name": "stdout",
     "output_type": "stream",
     "text": [
      "16209\n"
     ]
    },
    {
     "name": "stderr",
     "output_type": "stream",
     "text": [
      "Loading model cost 1.285 seconds.\n",
      "Prefix dict has been built succesfully.\n",
      "Building prefix dict from C:\\Users\\PETER\\OneDrive\\桌面\\Klook 7\\dict.txt.big ...\n",
      "Loading model from cache C:\\Users\\PETER\\AppData\\Local\\Temp\\jieba.u6fb6e872883c6d9c08ea8e016e70c5c1.cache\n"
     ]
    },
    {
     "name": "stdout",
     "output_type": "stream",
     "text": [
      "16298\n"
     ]
    },
    {
     "name": "stderr",
     "output_type": "stream",
     "text": [
      "Loading model cost 1.299 seconds.\n",
      "Prefix dict has been built succesfully.\n",
      "Building prefix dict from C:\\Users\\PETER\\OneDrive\\桌面\\Klook 7\\dict.txt.big ...\n",
      "Loading model from cache C:\\Users\\PETER\\AppData\\Local\\Temp\\jieba.u6fb6e872883c6d9c08ea8e016e70c5c1.cache\n"
     ]
    },
    {
     "name": "stdout",
     "output_type": "stream",
     "text": [
      "16300\n"
     ]
    },
    {
     "name": "stderr",
     "output_type": "stream",
     "text": [
      "Loading model cost 1.296 seconds.\n",
      "Prefix dict has been built succesfully.\n",
      "Building prefix dict from C:\\Users\\PETER\\OneDrive\\桌面\\Klook 7\\dict.txt.big ...\n",
      "Loading model from cache C:\\Users\\PETER\\AppData\\Local\\Temp\\jieba.u6fb6e872883c6d9c08ea8e016e70c5c1.cache\n"
     ]
    },
    {
     "name": "stdout",
     "output_type": "stream",
     "text": [
      "16490\n"
     ]
    },
    {
     "name": "stderr",
     "output_type": "stream",
     "text": [
      "Loading model cost 1.308 seconds.\n",
      "Prefix dict has been built succesfully.\n",
      "Building prefix dict from C:\\Users\\PETER\\OneDrive\\桌面\\Klook 7\\dict.txt.big ...\n",
      "Loading model from cache C:\\Users\\PETER\\AppData\\Local\\Temp\\jieba.u6fb6e872883c6d9c08ea8e016e70c5c1.cache\n"
     ]
    },
    {
     "name": "stdout",
     "output_type": "stream",
     "text": [
      "1656\n"
     ]
    },
    {
     "name": "stderr",
     "output_type": "stream",
     "text": [
      "Loading model cost 1.430 seconds.\n",
      "Prefix dict has been built succesfully.\n",
      "Building prefix dict from C:\\Users\\PETER\\OneDrive\\桌面\\Klook 7\\dict.txt.big ...\n",
      "Loading model from cache C:\\Users\\PETER\\AppData\\Local\\Temp\\jieba.u6fb6e872883c6d9c08ea8e016e70c5c1.cache\n"
     ]
    },
    {
     "name": "stdout",
     "output_type": "stream",
     "text": [
      "1657\n"
     ]
    },
    {
     "name": "stderr",
     "output_type": "stream",
     "text": [
      "Loading model cost 1.539 seconds.\n",
      "Prefix dict has been built succesfully.\n",
      "Building prefix dict from C:\\Users\\PETER\\OneDrive\\桌面\\Klook 7\\dict.txt.big ...\n",
      "Loading model from cache C:\\Users\\PETER\\AppData\\Local\\Temp\\jieba.u6fb6e872883c6d9c08ea8e016e70c5c1.cache\n"
     ]
    },
    {
     "name": "stdout",
     "output_type": "stream",
     "text": [
      "1661\n"
     ]
    },
    {
     "name": "stderr",
     "output_type": "stream",
     "text": [
      "Loading model cost 1.291 seconds.\n",
      "Prefix dict has been built succesfully.\n",
      "Building prefix dict from C:\\Users\\PETER\\OneDrive\\桌面\\Klook 7\\dict.txt.big ...\n",
      "Loading model from cache C:\\Users\\PETER\\AppData\\Local\\Temp\\jieba.u6fb6e872883c6d9c08ea8e016e70c5c1.cache\n"
     ]
    },
    {
     "name": "stdout",
     "output_type": "stream",
     "text": [
      "16808\n"
     ]
    },
    {
     "name": "stderr",
     "output_type": "stream",
     "text": [
      "Loading model cost 1.242 seconds.\n",
      "Prefix dict has been built succesfully.\n",
      "Building prefix dict from C:\\Users\\PETER\\OneDrive\\桌面\\Klook 7\\dict.txt.big ...\n",
      "Loading model from cache C:\\Users\\PETER\\AppData\\Local\\Temp\\jieba.u6fb6e872883c6d9c08ea8e016e70c5c1.cache\n"
     ]
    },
    {
     "name": "stdout",
     "output_type": "stream",
     "text": [
      "16863\n"
     ]
    },
    {
     "name": "stderr",
     "output_type": "stream",
     "text": [
      "Loading model cost 1.260 seconds.\n",
      "Prefix dict has been built succesfully.\n",
      "Building prefix dict from C:\\Users\\PETER\\OneDrive\\桌面\\Klook 7\\dict.txt.big ...\n",
      "Loading model from cache C:\\Users\\PETER\\AppData\\Local\\Temp\\jieba.u6fb6e872883c6d9c08ea8e016e70c5c1.cache\n"
     ]
    },
    {
     "name": "stdout",
     "output_type": "stream",
     "text": [
      "16907\n"
     ]
    },
    {
     "name": "stderr",
     "output_type": "stream",
     "text": [
      "Loading model cost 1.228 seconds.\n",
      "Prefix dict has been built succesfully.\n",
      "Building prefix dict from C:\\Users\\PETER\\OneDrive\\桌面\\Klook 7\\dict.txt.big ...\n",
      "Loading model from cache C:\\Users\\PETER\\AppData\\Local\\Temp\\jieba.u6fb6e872883c6d9c08ea8e016e70c5c1.cache\n"
     ]
    },
    {
     "name": "stdout",
     "output_type": "stream",
     "text": [
      "16920\n"
     ]
    },
    {
     "name": "stderr",
     "output_type": "stream",
     "text": [
      "Loading model cost 1.356 seconds.\n",
      "Prefix dict has been built succesfully.\n",
      "Building prefix dict from C:\\Users\\PETER\\OneDrive\\桌面\\Klook 7\\dict.txt.big ...\n",
      "Loading model from cache C:\\Users\\PETER\\AppData\\Local\\Temp\\jieba.u6fb6e872883c6d9c08ea8e016e70c5c1.cache\n"
     ]
    },
    {
     "name": "stdout",
     "output_type": "stream",
     "text": [
      "16921\n"
     ]
    },
    {
     "name": "stderr",
     "output_type": "stream",
     "text": [
      "Loading model cost 1.276 seconds.\n",
      "Prefix dict has been built succesfully.\n",
      "Building prefix dict from C:\\Users\\PETER\\OneDrive\\桌面\\Klook 7\\dict.txt.big ...\n",
      "Loading model from cache C:\\Users\\PETER\\AppData\\Local\\Temp\\jieba.u6fb6e872883c6d9c08ea8e016e70c5c1.cache\n"
     ]
    },
    {
     "name": "stdout",
     "output_type": "stream",
     "text": [
      "16949\n"
     ]
    },
    {
     "name": "stderr",
     "output_type": "stream",
     "text": [
      "Loading model cost 1.226 seconds.\n",
      "Prefix dict has been built succesfully.\n",
      "Building prefix dict from C:\\Users\\PETER\\OneDrive\\桌面\\Klook 7\\dict.txt.big ...\n",
      "Loading model from cache C:\\Users\\PETER\\AppData\\Local\\Temp\\jieba.u6fb6e872883c6d9c08ea8e016e70c5c1.cache\n"
     ]
    },
    {
     "name": "stdout",
     "output_type": "stream",
     "text": [
      "16969\n"
     ]
    },
    {
     "name": "stderr",
     "output_type": "stream",
     "text": [
      "Loading model cost 1.347 seconds.\n",
      "Prefix dict has been built succesfully.\n",
      "Building prefix dict from C:\\Users\\PETER\\OneDrive\\桌面\\Klook 7\\dict.txt.big ...\n",
      "Loading model from cache C:\\Users\\PETER\\AppData\\Local\\Temp\\jieba.u6fb6e872883c6d9c08ea8e016e70c5c1.cache\n"
     ]
    },
    {
     "name": "stdout",
     "output_type": "stream",
     "text": [
      "16978\n"
     ]
    },
    {
     "name": "stderr",
     "output_type": "stream",
     "text": [
      "Loading model cost 1.326 seconds.\n",
      "Prefix dict has been built succesfully.\n",
      "Building prefix dict from C:\\Users\\PETER\\OneDrive\\桌面\\Klook 7\\dict.txt.big ...\n",
      "Loading model from cache C:\\Users\\PETER\\AppData\\Local\\Temp\\jieba.u6fb6e872883c6d9c08ea8e016e70c5c1.cache\n"
     ]
    },
    {
     "name": "stdout",
     "output_type": "stream",
     "text": [
      "17093\n"
     ]
    },
    {
     "name": "stderr",
     "output_type": "stream",
     "text": [
      "Loading model cost 1.233 seconds.\n",
      "Prefix dict has been built succesfully.\n",
      "Building prefix dict from C:\\Users\\PETER\\OneDrive\\桌面\\Klook 7\\dict.txt.big ...\n",
      "Loading model from cache C:\\Users\\PETER\\AppData\\Local\\Temp\\jieba.u6fb6e872883c6d9c08ea8e016e70c5c1.cache\n"
     ]
    },
    {
     "name": "stdout",
     "output_type": "stream",
     "text": [
      "17096\n"
     ]
    },
    {
     "name": "stderr",
     "output_type": "stream",
     "text": [
      "Loading model cost 1.218 seconds.\n",
      "Prefix dict has been built succesfully.\n",
      "Building prefix dict from C:\\Users\\PETER\\OneDrive\\桌面\\Klook 7\\dict.txt.big ...\n",
      "Loading model from cache C:\\Users\\PETER\\AppData\\Local\\Temp\\jieba.u6fb6e872883c6d9c08ea8e016e70c5c1.cache\n"
     ]
    },
    {
     "name": "stdout",
     "output_type": "stream",
     "text": [
      "17150\n"
     ]
    },
    {
     "name": "stderr",
     "output_type": "stream",
     "text": [
      "Loading model cost 1.208 seconds.\n",
      "Prefix dict has been built succesfully.\n",
      "Building prefix dict from C:\\Users\\PETER\\OneDrive\\桌面\\Klook 7\\dict.txt.big ...\n",
      "Loading model from cache C:\\Users\\PETER\\AppData\\Local\\Temp\\jieba.u6fb6e872883c6d9c08ea8e016e70c5c1.cache\n"
     ]
    },
    {
     "name": "stdout",
     "output_type": "stream",
     "text": [
      "17343\n"
     ]
    },
    {
     "name": "stderr",
     "output_type": "stream",
     "text": [
      "Loading model cost 1.224 seconds.\n",
      "Prefix dict has been built succesfully.\n",
      "Building prefix dict from C:\\Users\\PETER\\OneDrive\\桌面\\Klook 7\\dict.txt.big ...\n",
      "Loading model from cache C:\\Users\\PETER\\AppData\\Local\\Temp\\jieba.u6fb6e872883c6d9c08ea8e016e70c5c1.cache\n"
     ]
    },
    {
     "name": "stdout",
     "output_type": "stream",
     "text": [
      "17352\n"
     ]
    },
    {
     "name": "stderr",
     "output_type": "stream",
     "text": [
      "Loading model cost 1.209 seconds.\n",
      "Prefix dict has been built succesfully.\n",
      "Building prefix dict from C:\\Users\\PETER\\OneDrive\\桌面\\Klook 7\\dict.txt.big ...\n",
      "Loading model from cache C:\\Users\\PETER\\AppData\\Local\\Temp\\jieba.u6fb6e872883c6d9c08ea8e016e70c5c1.cache\n"
     ]
    },
    {
     "name": "stdout",
     "output_type": "stream",
     "text": [
      "17371\n"
     ]
    },
    {
     "name": "stderr",
     "output_type": "stream",
     "text": [
      "Loading model cost 1.269 seconds.\n",
      "Prefix dict has been built succesfully.\n",
      "Building prefix dict from C:\\Users\\PETER\\OneDrive\\桌面\\Klook 7\\dict.txt.big ...\n",
      "Loading model from cache C:\\Users\\PETER\\AppData\\Local\\Temp\\jieba.u6fb6e872883c6d9c08ea8e016e70c5c1.cache\n"
     ]
    },
    {
     "name": "stdout",
     "output_type": "stream",
     "text": [
      "17431\n"
     ]
    },
    {
     "name": "stderr",
     "output_type": "stream",
     "text": [
      "Loading model cost 1.225 seconds.\n",
      "Prefix dict has been built succesfully.\n",
      "Building prefix dict from C:\\Users\\PETER\\OneDrive\\桌面\\Klook 7\\dict.txt.big ...\n",
      "Loading model from cache C:\\Users\\PETER\\AppData\\Local\\Temp\\jieba.u6fb6e872883c6d9c08ea8e016e70c5c1.cache\n"
     ]
    },
    {
     "name": "stdout",
     "output_type": "stream",
     "text": [
      "17544\n"
     ]
    },
    {
     "name": "stderr",
     "output_type": "stream",
     "text": [
      "Loading model cost 1.232 seconds.\n",
      "Prefix dict has been built succesfully.\n",
      "Building prefix dict from C:\\Users\\PETER\\OneDrive\\桌面\\Klook 7\\dict.txt.big ...\n",
      "Loading model from cache C:\\Users\\PETER\\AppData\\Local\\Temp\\jieba.u6fb6e872883c6d9c08ea8e016e70c5c1.cache\n"
     ]
    },
    {
     "name": "stdout",
     "output_type": "stream",
     "text": [
      "1759\n"
     ]
    },
    {
     "name": "stderr",
     "output_type": "stream",
     "text": [
      "Loading model cost 1.235 seconds.\n",
      "Prefix dict has been built succesfully.\n",
      "Building prefix dict from C:\\Users\\PETER\\OneDrive\\桌面\\Klook 7\\dict.txt.big ...\n",
      "Loading model from cache C:\\Users\\PETER\\AppData\\Local\\Temp\\jieba.u6fb6e872883c6d9c08ea8e016e70c5c1.cache\n"
     ]
    },
    {
     "name": "stdout",
     "output_type": "stream",
     "text": [
      "17606\n"
     ]
    },
    {
     "name": "stderr",
     "output_type": "stream",
     "text": [
      "Loading model cost 1.201 seconds.\n",
      "Prefix dict has been built succesfully.\n",
      "Building prefix dict from C:\\Users\\PETER\\OneDrive\\桌面\\Klook 7\\dict.txt.big ...\n",
      "Loading model from cache C:\\Users\\PETER\\AppData\\Local\\Temp\\jieba.u6fb6e872883c6d9c08ea8e016e70c5c1.cache\n"
     ]
    },
    {
     "name": "stdout",
     "output_type": "stream",
     "text": [
      "17607\n"
     ]
    },
    {
     "name": "stderr",
     "output_type": "stream",
     "text": [
      "Loading model cost 1.216 seconds.\n",
      "Prefix dict has been built succesfully.\n",
      "Building prefix dict from C:\\Users\\PETER\\OneDrive\\桌面\\Klook 7\\dict.txt.big ...\n",
      "Loading model from cache C:\\Users\\PETER\\AppData\\Local\\Temp\\jieba.u6fb6e872883c6d9c08ea8e016e70c5c1.cache\n"
     ]
    },
    {
     "name": "stdout",
     "output_type": "stream",
     "text": [
      "17650\n"
     ]
    },
    {
     "name": "stderr",
     "output_type": "stream",
     "text": [
      "Loading model cost 1.227 seconds.\n",
      "Prefix dict has been built succesfully.\n",
      "Building prefix dict from C:\\Users\\PETER\\OneDrive\\桌面\\Klook 7\\dict.txt.big ...\n",
      "Loading model from cache C:\\Users\\PETER\\AppData\\Local\\Temp\\jieba.u6fb6e872883c6d9c08ea8e016e70c5c1.cache\n"
     ]
    },
    {
     "name": "stdout",
     "output_type": "stream",
     "text": [
      "17680\n"
     ]
    },
    {
     "name": "stderr",
     "output_type": "stream",
     "text": [
      "Loading model cost 1.205 seconds.\n",
      "Prefix dict has been built succesfully.\n",
      "Building prefix dict from C:\\Users\\PETER\\OneDrive\\桌面\\Klook 7\\dict.txt.big ...\n",
      "Loading model from cache C:\\Users\\PETER\\AppData\\Local\\Temp\\jieba.u6fb6e872883c6d9c08ea8e016e70c5c1.cache\n"
     ]
    },
    {
     "name": "stdout",
     "output_type": "stream",
     "text": [
      "17723\n"
     ]
    },
    {
     "name": "stderr",
     "output_type": "stream",
     "text": [
      "Loading model cost 1.210 seconds.\n",
      "Prefix dict has been built succesfully.\n",
      "Building prefix dict from C:\\Users\\PETER\\OneDrive\\桌面\\Klook 7\\dict.txt.big ...\n",
      "Loading model from cache C:\\Users\\PETER\\AppData\\Local\\Temp\\jieba.u6fb6e872883c6d9c08ea8e016e70c5c1.cache\n"
     ]
    },
    {
     "name": "stdout",
     "output_type": "stream",
     "text": [
      "17779\n"
     ]
    },
    {
     "name": "stderr",
     "output_type": "stream",
     "text": [
      "Loading model cost 1.255 seconds.\n",
      "Prefix dict has been built succesfully.\n",
      "Building prefix dict from C:\\Users\\PETER\\OneDrive\\桌面\\Klook 7\\dict.txt.big ...\n",
      "Loading model from cache C:\\Users\\PETER\\AppData\\Local\\Temp\\jieba.u6fb6e872883c6d9c08ea8e016e70c5c1.cache\n"
     ]
    },
    {
     "name": "stdout",
     "output_type": "stream",
     "text": [
      "17821\n"
     ]
    },
    {
     "name": "stderr",
     "output_type": "stream",
     "text": [
      "Loading model cost 1.227 seconds.\n",
      "Prefix dict has been built succesfully.\n",
      "Building prefix dict from C:\\Users\\PETER\\OneDrive\\桌面\\Klook 7\\dict.txt.big ...\n",
      "Loading model from cache C:\\Users\\PETER\\AppData\\Local\\Temp\\jieba.u6fb6e872883c6d9c08ea8e016e70c5c1.cache\n"
     ]
    },
    {
     "name": "stdout",
     "output_type": "stream",
     "text": [
      "17869\n"
     ]
    },
    {
     "name": "stderr",
     "output_type": "stream",
     "text": [
      "Loading model cost 1.202 seconds.\n",
      "Prefix dict has been built succesfully.\n",
      "Building prefix dict from C:\\Users\\PETER\\OneDrive\\桌面\\Klook 7\\dict.txt.big ...\n",
      "Loading model from cache C:\\Users\\PETER\\AppData\\Local\\Temp\\jieba.u6fb6e872883c6d9c08ea8e016e70c5c1.cache\n"
     ]
    },
    {
     "name": "stdout",
     "output_type": "stream",
     "text": [
      "17940\n"
     ]
    },
    {
     "name": "stderr",
     "output_type": "stream",
     "text": [
      "Loading model cost 1.209 seconds.\n",
      "Prefix dict has been built succesfully.\n",
      "Building prefix dict from C:\\Users\\PETER\\OneDrive\\桌面\\Klook 7\\dict.txt.big ...\n",
      "Loading model from cache C:\\Users\\PETER\\AppData\\Local\\Temp\\jieba.u6fb6e872883c6d9c08ea8e016e70c5c1.cache\n"
     ]
    },
    {
     "name": "stdout",
     "output_type": "stream",
     "text": [
      "17976\n"
     ]
    },
    {
     "name": "stderr",
     "output_type": "stream",
     "text": [
      "Loading model cost 1.214 seconds.\n",
      "Prefix dict has been built succesfully.\n",
      "Building prefix dict from C:\\Users\\PETER\\OneDrive\\桌面\\Klook 7\\dict.txt.big ...\n",
      "Loading model from cache C:\\Users\\PETER\\AppData\\Local\\Temp\\jieba.u6fb6e872883c6d9c08ea8e016e70c5c1.cache\n"
     ]
    },
    {
     "name": "stdout",
     "output_type": "stream",
     "text": [
      "18056\n"
     ]
    },
    {
     "name": "stderr",
     "output_type": "stream",
     "text": [
      "Loading model cost 1.211 seconds.\n",
      "Prefix dict has been built succesfully.\n",
      "Building prefix dict from C:\\Users\\PETER\\OneDrive\\桌面\\Klook 7\\dict.txt.big ...\n",
      "Loading model from cache C:\\Users\\PETER\\AppData\\Local\\Temp\\jieba.u6fb6e872883c6d9c08ea8e016e70c5c1.cache\n"
     ]
    },
    {
     "name": "stdout",
     "output_type": "stream",
     "text": [
      "18059\n"
     ]
    },
    {
     "name": "stderr",
     "output_type": "stream",
     "text": [
      "Loading model cost 1.211 seconds.\n",
      "Prefix dict has been built succesfully.\n",
      "Building prefix dict from C:\\Users\\PETER\\OneDrive\\桌面\\Klook 7\\dict.txt.big ...\n",
      "Loading model from cache C:\\Users\\PETER\\AppData\\Local\\Temp\\jieba.u6fb6e872883c6d9c08ea8e016e70c5c1.cache\n"
     ]
    },
    {
     "name": "stdout",
     "output_type": "stream",
     "text": [
      "18082\n"
     ]
    },
    {
     "name": "stderr",
     "output_type": "stream",
     "text": [
      "Loading model cost 1.211 seconds.\n",
      "Prefix dict has been built succesfully.\n",
      "Building prefix dict from C:\\Users\\PETER\\OneDrive\\桌面\\Klook 7\\dict.txt.big ...\n",
      "Loading model from cache C:\\Users\\PETER\\AppData\\Local\\Temp\\jieba.u6fb6e872883c6d9c08ea8e016e70c5c1.cache\n"
     ]
    },
    {
     "name": "stdout",
     "output_type": "stream",
     "text": [
      "18225\n"
     ]
    },
    {
     "name": "stderr",
     "output_type": "stream",
     "text": [
      "Loading model cost 1.202 seconds.\n",
      "Prefix dict has been built succesfully.\n",
      "Building prefix dict from C:\\Users\\PETER\\OneDrive\\桌面\\Klook 7\\dict.txt.big ...\n",
      "Loading model from cache C:\\Users\\PETER\\AppData\\Local\\Temp\\jieba.u6fb6e872883c6d9c08ea8e016e70c5c1.cache\n"
     ]
    },
    {
     "name": "stdout",
     "output_type": "stream",
     "text": [
      "18274\n"
     ]
    },
    {
     "name": "stderr",
     "output_type": "stream",
     "text": [
      "Loading model cost 1.256 seconds.\n",
      "Prefix dict has been built succesfully.\n",
      "Building prefix dict from C:\\Users\\PETER\\OneDrive\\桌面\\Klook 7\\dict.txt.big ...\n",
      "Loading model from cache C:\\Users\\PETER\\AppData\\Local\\Temp\\jieba.u6fb6e872883c6d9c08ea8e016e70c5c1.cache\n"
     ]
    },
    {
     "name": "stdout",
     "output_type": "stream",
     "text": [
      "18304\n"
     ]
    },
    {
     "name": "stderr",
     "output_type": "stream",
     "text": [
      "Loading model cost 1.218 seconds.\n",
      "Prefix dict has been built succesfully.\n",
      "Building prefix dict from C:\\Users\\PETER\\OneDrive\\桌面\\Klook 7\\dict.txt.big ...\n",
      "Loading model from cache C:\\Users\\PETER\\AppData\\Local\\Temp\\jieba.u6fb6e872883c6d9c08ea8e016e70c5c1.cache\n"
     ]
    },
    {
     "name": "stdout",
     "output_type": "stream",
     "text": [
      "18327\n"
     ]
    },
    {
     "name": "stderr",
     "output_type": "stream",
     "text": [
      "Loading model cost 1.210 seconds.\n",
      "Prefix dict has been built succesfully.\n",
      "Building prefix dict from C:\\Users\\PETER\\OneDrive\\桌面\\Klook 7\\dict.txt.big ...\n",
      "Loading model from cache C:\\Users\\PETER\\AppData\\Local\\Temp\\jieba.u6fb6e872883c6d9c08ea8e016e70c5c1.cache\n"
     ]
    },
    {
     "name": "stdout",
     "output_type": "stream",
     "text": [
      "18407\n"
     ]
    },
    {
     "name": "stderr",
     "output_type": "stream",
     "text": [
      "Loading model cost 1.234 seconds.\n",
      "Prefix dict has been built succesfully.\n",
      "Building prefix dict from C:\\Users\\PETER\\OneDrive\\桌面\\Klook 7\\dict.txt.big ...\n",
      "Loading model from cache C:\\Users\\PETER\\AppData\\Local\\Temp\\jieba.u6fb6e872883c6d9c08ea8e016e70c5c1.cache\n"
     ]
    },
    {
     "name": "stdout",
     "output_type": "stream",
     "text": [
      "18472\n"
     ]
    },
    {
     "name": "stderr",
     "output_type": "stream",
     "text": [
      "Loading model cost 1.224 seconds.\n",
      "Prefix dict has been built succesfully.\n",
      "Building prefix dict from C:\\Users\\PETER\\OneDrive\\桌面\\Klook 7\\dict.txt.big ...\n",
      "Loading model from cache C:\\Users\\PETER\\AppData\\Local\\Temp\\jieba.u6fb6e872883c6d9c08ea8e016e70c5c1.cache\n"
     ]
    },
    {
     "name": "stdout",
     "output_type": "stream",
     "text": [
      "18609\n"
     ]
    },
    {
     "name": "stderr",
     "output_type": "stream",
     "text": [
      "Loading model cost 1.232 seconds.\n",
      "Prefix dict has been built succesfully.\n",
      "Building prefix dict from C:\\Users\\PETER\\OneDrive\\桌面\\Klook 7\\dict.txt.big ...\n",
      "Loading model from cache C:\\Users\\PETER\\AppData\\Local\\Temp\\jieba.u6fb6e872883c6d9c08ea8e016e70c5c1.cache\n"
     ]
    },
    {
     "name": "stdout",
     "output_type": "stream",
     "text": [
      "18753\n"
     ]
    },
    {
     "name": "stderr",
     "output_type": "stream",
     "text": [
      "Loading model cost 1.258 seconds.\n",
      "Prefix dict has been built succesfully.\n",
      "Building prefix dict from C:\\Users\\PETER\\OneDrive\\桌面\\Klook 7\\dict.txt.big ...\n",
      "Loading model from cache C:\\Users\\PETER\\AppData\\Local\\Temp\\jieba.u6fb6e872883c6d9c08ea8e016e70c5c1.cache\n"
     ]
    },
    {
     "name": "stdout",
     "output_type": "stream",
     "text": [
      "18801\n"
     ]
    },
    {
     "name": "stderr",
     "output_type": "stream",
     "text": [
      "Loading model cost 1.217 seconds.\n",
      "Prefix dict has been built succesfully.\n",
      "Building prefix dict from C:\\Users\\PETER\\OneDrive\\桌面\\Klook 7\\dict.txt.big ...\n",
      "Loading model from cache C:\\Users\\PETER\\AppData\\Local\\Temp\\jieba.u6fb6e872883c6d9c08ea8e016e70c5c1.cache\n"
     ]
    },
    {
     "name": "stdout",
     "output_type": "stream",
     "text": [
      "18878\n"
     ]
    },
    {
     "name": "stderr",
     "output_type": "stream",
     "text": [
      "Loading model cost 1.235 seconds.\n",
      "Prefix dict has been built succesfully.\n",
      "Building prefix dict from C:\\Users\\PETER\\OneDrive\\桌面\\Klook 7\\dict.txt.big ...\n",
      "Loading model from cache C:\\Users\\PETER\\AppData\\Local\\Temp\\jieba.u6fb6e872883c6d9c08ea8e016e70c5c1.cache\n"
     ]
    },
    {
     "name": "stdout",
     "output_type": "stream",
     "text": [
      "18947\n"
     ]
    },
    {
     "name": "stderr",
     "output_type": "stream",
     "text": [
      "Loading model cost 1.221 seconds.\n",
      "Prefix dict has been built succesfully.\n",
      "Building prefix dict from C:\\Users\\PETER\\OneDrive\\桌面\\Klook 7\\dict.txt.big ...\n",
      "Loading model from cache C:\\Users\\PETER\\AppData\\Local\\Temp\\jieba.u6fb6e872883c6d9c08ea8e016e70c5c1.cache\n"
     ]
    },
    {
     "name": "stdout",
     "output_type": "stream",
     "text": [
      "18988\n"
     ]
    },
    {
     "name": "stderr",
     "output_type": "stream",
     "text": [
      "Loading model cost 1.276 seconds.\n",
      "Prefix dict has been built succesfully.\n",
      "Building prefix dict from C:\\Users\\PETER\\OneDrive\\桌面\\Klook 7\\dict.txt.big ...\n",
      "Loading model from cache C:\\Users\\PETER\\AppData\\Local\\Temp\\jieba.u6fb6e872883c6d9c08ea8e016e70c5c1.cache\n"
     ]
    },
    {
     "name": "stdout",
     "output_type": "stream",
     "text": [
      "19292\n"
     ]
    },
    {
     "name": "stderr",
     "output_type": "stream",
     "text": [
      "Loading model cost 1.210 seconds.\n",
      "Prefix dict has been built succesfully.\n",
      "Building prefix dict from C:\\Users\\PETER\\OneDrive\\桌面\\Klook 7\\dict.txt.big ...\n",
      "Loading model from cache C:\\Users\\PETER\\AppData\\Local\\Temp\\jieba.u6fb6e872883c6d9c08ea8e016e70c5c1.cache\n"
     ]
    },
    {
     "name": "stdout",
     "output_type": "stream",
     "text": [
      "19337\n"
     ]
    },
    {
     "name": "stderr",
     "output_type": "stream",
     "text": [
      "Loading model cost 1.235 seconds.\n",
      "Prefix dict has been built succesfully.\n",
      "Building prefix dict from C:\\Users\\PETER\\OneDrive\\桌面\\Klook 7\\dict.txt.big ...\n",
      "Loading model from cache C:\\Users\\PETER\\AppData\\Local\\Temp\\jieba.u6fb6e872883c6d9c08ea8e016e70c5c1.cache\n"
     ]
    },
    {
     "name": "stdout",
     "output_type": "stream",
     "text": [
      "19358\n"
     ]
    },
    {
     "name": "stderr",
     "output_type": "stream",
     "text": [
      "Loading model cost 1.235 seconds.\n",
      "Prefix dict has been built succesfully.\n",
      "Building prefix dict from C:\\Users\\PETER\\OneDrive\\桌面\\Klook 7\\dict.txt.big ...\n",
      "Loading model from cache C:\\Users\\PETER\\AppData\\Local\\Temp\\jieba.u6fb6e872883c6d9c08ea8e016e70c5c1.cache\n"
     ]
    },
    {
     "name": "stdout",
     "output_type": "stream",
     "text": [
      "19388\n"
     ]
    },
    {
     "name": "stderr",
     "output_type": "stream",
     "text": [
      "Loading model cost 1.205 seconds.\n",
      "Prefix dict has been built succesfully.\n",
      "Building prefix dict from C:\\Users\\PETER\\OneDrive\\桌面\\Klook 7\\dict.txt.big ...\n",
      "Loading model from cache C:\\Users\\PETER\\AppData\\Local\\Temp\\jieba.u6fb6e872883c6d9c08ea8e016e70c5c1.cache\n"
     ]
    },
    {
     "name": "stdout",
     "output_type": "stream",
     "text": [
      "19478\n"
     ]
    },
    {
     "name": "stderr",
     "output_type": "stream",
     "text": [
      "Loading model cost 1.232 seconds.\n",
      "Prefix dict has been built succesfully.\n",
      "Building prefix dict from C:\\Users\\PETER\\OneDrive\\桌面\\Klook 7\\dict.txt.big ...\n",
      "Loading model from cache C:\\Users\\PETER\\AppData\\Local\\Temp\\jieba.u6fb6e872883c6d9c08ea8e016e70c5c1.cache\n"
     ]
    },
    {
     "name": "stdout",
     "output_type": "stream",
     "text": [
      "19496\n"
     ]
    },
    {
     "name": "stderr",
     "output_type": "stream",
     "text": [
      "Loading model cost 1.226 seconds.\n",
      "Prefix dict has been built succesfully.\n",
      "Building prefix dict from C:\\Users\\PETER\\OneDrive\\桌面\\Klook 7\\dict.txt.big ...\n",
      "Loading model from cache C:\\Users\\PETER\\AppData\\Local\\Temp\\jieba.u6fb6e872883c6d9c08ea8e016e70c5c1.cache\n"
     ]
    },
    {
     "name": "stdout",
     "output_type": "stream",
     "text": [
      "19559\n"
     ]
    },
    {
     "name": "stderr",
     "output_type": "stream",
     "text": [
      "Loading model cost 1.217 seconds.\n",
      "Prefix dict has been built succesfully.\n",
      "Building prefix dict from C:\\Users\\PETER\\OneDrive\\桌面\\Klook 7\\dict.txt.big ...\n",
      "Loading model from cache C:\\Users\\PETER\\AppData\\Local\\Temp\\jieba.u6fb6e872883c6d9c08ea8e016e70c5c1.cache\n"
     ]
    },
    {
     "name": "stdout",
     "output_type": "stream",
     "text": [
      "19562\n"
     ]
    },
    {
     "name": "stderr",
     "output_type": "stream",
     "text": [
      "Loading model cost 1.247 seconds.\n",
      "Prefix dict has been built succesfully.\n",
      "Building prefix dict from C:\\Users\\PETER\\OneDrive\\桌面\\Klook 7\\dict.txt.big ...\n",
      "Loading model from cache C:\\Users\\PETER\\AppData\\Local\\Temp\\jieba.u6fb6e872883c6d9c08ea8e016e70c5c1.cache\n"
     ]
    },
    {
     "name": "stdout",
     "output_type": "stream",
     "text": [
      "19566\n"
     ]
    },
    {
     "name": "stderr",
     "output_type": "stream",
     "text": [
      "Loading model cost 1.216 seconds.\n",
      "Prefix dict has been built succesfully.\n",
      "Building prefix dict from C:\\Users\\PETER\\OneDrive\\桌面\\Klook 7\\dict.txt.big ...\n",
      "Loading model from cache C:\\Users\\PETER\\AppData\\Local\\Temp\\jieba.u6fb6e872883c6d9c08ea8e016e70c5c1.cache\n"
     ]
    },
    {
     "name": "stdout",
     "output_type": "stream",
     "text": [
      "19574\n"
     ]
    },
    {
     "name": "stderr",
     "output_type": "stream",
     "text": [
      "Loading model cost 1.204 seconds.\n",
      "Prefix dict has been built succesfully.\n",
      "Building prefix dict from C:\\Users\\PETER\\OneDrive\\桌面\\Klook 7\\dict.txt.big ...\n",
      "Loading model from cache C:\\Users\\PETER\\AppData\\Local\\Temp\\jieba.u6fb6e872883c6d9c08ea8e016e70c5c1.cache\n"
     ]
    },
    {
     "name": "stdout",
     "output_type": "stream",
     "text": [
      "19772\n"
     ]
    },
    {
     "name": "stderr",
     "output_type": "stream",
     "text": [
      "Loading model cost 1.208 seconds.\n",
      "Prefix dict has been built succesfully.\n",
      "Building prefix dict from C:\\Users\\PETER\\OneDrive\\桌面\\Klook 7\\dict.txt.big ...\n",
      "Loading model from cache C:\\Users\\PETER\\AppData\\Local\\Temp\\jieba.u6fb6e872883c6d9c08ea8e016e70c5c1.cache\n"
     ]
    },
    {
     "name": "stdout",
     "output_type": "stream",
     "text": [
      "19879\n"
     ]
    },
    {
     "name": "stderr",
     "output_type": "stream",
     "text": [
      "Loading model cost 1.209 seconds.\n",
      "Prefix dict has been built succesfully.\n",
      "Building prefix dict from C:\\Users\\PETER\\OneDrive\\桌面\\Klook 7\\dict.txt.big ...\n",
      "Loading model from cache C:\\Users\\PETER\\AppData\\Local\\Temp\\jieba.u6fb6e872883c6d9c08ea8e016e70c5c1.cache\n"
     ]
    },
    {
     "name": "stdout",
     "output_type": "stream",
     "text": [
      "20001\n"
     ]
    },
    {
     "name": "stderr",
     "output_type": "stream",
     "text": [
      "Loading model cost 1.213 seconds.\n",
      "Prefix dict has been built succesfully.\n",
      "Building prefix dict from C:\\Users\\PETER\\OneDrive\\桌面\\Klook 7\\dict.txt.big ...\n",
      "Loading model from cache C:\\Users\\PETER\\AppData\\Local\\Temp\\jieba.u6fb6e872883c6d9c08ea8e016e70c5c1.cache\n"
     ]
    },
    {
     "name": "stdout",
     "output_type": "stream",
     "text": [
      "20013\n"
     ]
    },
    {
     "name": "stderr",
     "output_type": "stream",
     "text": [
      "Loading model cost 1.205 seconds.\n",
      "Prefix dict has been built succesfully.\n",
      "Building prefix dict from C:\\Users\\PETER\\OneDrive\\桌面\\Klook 7\\dict.txt.big ...\n",
      "Loading model from cache C:\\Users\\PETER\\AppData\\Local\\Temp\\jieba.u6fb6e872883c6d9c08ea8e016e70c5c1.cache\n"
     ]
    },
    {
     "name": "stdout",
     "output_type": "stream",
     "text": [
      "20018\n"
     ]
    },
    {
     "name": "stderr",
     "output_type": "stream",
     "text": [
      "Loading model cost 1.217 seconds.\n",
      "Prefix dict has been built succesfully.\n",
      "Building prefix dict from C:\\Users\\PETER\\OneDrive\\桌面\\Klook 7\\dict.txt.big ...\n",
      "Loading model from cache C:\\Users\\PETER\\AppData\\Local\\Temp\\jieba.u6fb6e872883c6d9c08ea8e016e70c5c1.cache\n"
     ]
    },
    {
     "name": "stdout",
     "output_type": "stream",
     "text": [
      "20045\n"
     ]
    },
    {
     "name": "stderr",
     "output_type": "stream",
     "text": [
      "Loading model cost 1.210 seconds.\n",
      "Prefix dict has been built succesfully.\n",
      "Building prefix dict from C:\\Users\\PETER\\OneDrive\\桌面\\Klook 7\\dict.txt.big ...\n",
      "Loading model from cache C:\\Users\\PETER\\AppData\\Local\\Temp\\jieba.u6fb6e872883c6d9c08ea8e016e70c5c1.cache\n"
     ]
    },
    {
     "name": "stdout",
     "output_type": "stream",
     "text": [
      "20050\n"
     ]
    },
    {
     "name": "stderr",
     "output_type": "stream",
     "text": [
      "Loading model cost 1.205 seconds.\n",
      "Prefix dict has been built succesfully.\n",
      "Building prefix dict from C:\\Users\\PETER\\OneDrive\\桌面\\Klook 7\\dict.txt.big ...\n",
      "Loading model from cache C:\\Users\\PETER\\AppData\\Local\\Temp\\jieba.u6fb6e872883c6d9c08ea8e016e70c5c1.cache\n"
     ]
    },
    {
     "name": "stdout",
     "output_type": "stream",
     "text": [
      "20071\n"
     ]
    },
    {
     "name": "stderr",
     "output_type": "stream",
     "text": [
      "Loading model cost 1.227 seconds.\n",
      "Prefix dict has been built succesfully.\n",
      "Building prefix dict from C:\\Users\\PETER\\OneDrive\\桌面\\Klook 7\\dict.txt.big ...\n",
      "Loading model from cache C:\\Users\\PETER\\AppData\\Local\\Temp\\jieba.u6fb6e872883c6d9c08ea8e016e70c5c1.cache\n"
     ]
    },
    {
     "name": "stdout",
     "output_type": "stream",
     "text": [
      "20117\n"
     ]
    },
    {
     "name": "stderr",
     "output_type": "stream",
     "text": [
      "Loading model cost 1.240 seconds.\n",
      "Prefix dict has been built succesfully.\n",
      "Building prefix dict from C:\\Users\\PETER\\OneDrive\\桌面\\Klook 7\\dict.txt.big ...\n",
      "Loading model from cache C:\\Users\\PETER\\AppData\\Local\\Temp\\jieba.u6fb6e872883c6d9c08ea8e016e70c5c1.cache\n"
     ]
    },
    {
     "name": "stdout",
     "output_type": "stream",
     "text": [
      "20172\n"
     ]
    },
    {
     "name": "stderr",
     "output_type": "stream",
     "text": [
      "Loading model cost 1.238 seconds.\n",
      "Prefix dict has been built succesfully.\n",
      "Building prefix dict from C:\\Users\\PETER\\OneDrive\\桌面\\Klook 7\\dict.txt.big ...\n",
      "Loading model from cache C:\\Users\\PETER\\AppData\\Local\\Temp\\jieba.u6fb6e872883c6d9c08ea8e016e70c5c1.cache\n"
     ]
    },
    {
     "name": "stdout",
     "output_type": "stream",
     "text": [
      "20241\n"
     ]
    },
    {
     "name": "stderr",
     "output_type": "stream",
     "text": [
      "Loading model cost 1.215 seconds.\n",
      "Prefix dict has been built succesfully.\n",
      "Building prefix dict from C:\\Users\\PETER\\OneDrive\\桌面\\Klook 7\\dict.txt.big ...\n",
      "Loading model from cache C:\\Users\\PETER\\AppData\\Local\\Temp\\jieba.u6fb6e872883c6d9c08ea8e016e70c5c1.cache\n"
     ]
    },
    {
     "name": "stdout",
     "output_type": "stream",
     "text": [
      "20251\n"
     ]
    },
    {
     "name": "stderr",
     "output_type": "stream",
     "text": [
      "Loading model cost 1.204 seconds.\n",
      "Prefix dict has been built succesfully.\n",
      "Building prefix dict from C:\\Users\\PETER\\OneDrive\\桌面\\Klook 7\\dict.txt.big ...\n",
      "Loading model from cache C:\\Users\\PETER\\AppData\\Local\\Temp\\jieba.u6fb6e872883c6d9c08ea8e016e70c5c1.cache\n"
     ]
    },
    {
     "name": "stdout",
     "output_type": "stream",
     "text": [
      "20256\n"
     ]
    },
    {
     "name": "stderr",
     "output_type": "stream",
     "text": [
      "Loading model cost 1.255 seconds.\n",
      "Prefix dict has been built succesfully.\n",
      "Building prefix dict from C:\\Users\\PETER\\OneDrive\\桌面\\Klook 7\\dict.txt.big ...\n",
      "Loading model from cache C:\\Users\\PETER\\AppData\\Local\\Temp\\jieba.u6fb6e872883c6d9c08ea8e016e70c5c1.cache\n"
     ]
    },
    {
     "name": "stdout",
     "output_type": "stream",
     "text": [
      "20322\n"
     ]
    },
    {
     "name": "stderr",
     "output_type": "stream",
     "text": [
      "Loading model cost 1.235 seconds.\n",
      "Prefix dict has been built succesfully.\n",
      "Building prefix dict from C:\\Users\\PETER\\OneDrive\\桌面\\Klook 7\\dict.txt.big ...\n",
      "Loading model from cache C:\\Users\\PETER\\AppData\\Local\\Temp\\jieba.u6fb6e872883c6d9c08ea8e016e70c5c1.cache\n"
     ]
    },
    {
     "name": "stdout",
     "output_type": "stream",
     "text": [
      "20405\n"
     ]
    },
    {
     "name": "stderr",
     "output_type": "stream",
     "text": [
      "Loading model cost 1.236 seconds.\n",
      "Prefix dict has been built succesfully.\n",
      "Building prefix dict from C:\\Users\\PETER\\OneDrive\\桌面\\Klook 7\\dict.txt.big ...\n",
      "Loading model from cache C:\\Users\\PETER\\AppData\\Local\\Temp\\jieba.u6fb6e872883c6d9c08ea8e016e70c5c1.cache\n"
     ]
    },
    {
     "name": "stdout",
     "output_type": "stream",
     "text": [
      "20411\n"
     ]
    },
    {
     "name": "stderr",
     "output_type": "stream",
     "text": [
      "Loading model cost 1.213 seconds.\n",
      "Prefix dict has been built succesfully.\n",
      "Building prefix dict from C:\\Users\\PETER\\OneDrive\\桌面\\Klook 7\\dict.txt.big ...\n",
      "Loading model from cache C:\\Users\\PETER\\AppData\\Local\\Temp\\jieba.u6fb6e872883c6d9c08ea8e016e70c5c1.cache\n"
     ]
    },
    {
     "name": "stdout",
     "output_type": "stream",
     "text": [
      "20486\n"
     ]
    },
    {
     "name": "stderr",
     "output_type": "stream",
     "text": [
      "Loading model cost 1.209 seconds.\n",
      "Prefix dict has been built succesfully.\n",
      "Building prefix dict from C:\\Users\\PETER\\OneDrive\\桌面\\Klook 7\\dict.txt.big ...\n",
      "Loading model from cache C:\\Users\\PETER\\AppData\\Local\\Temp\\jieba.u6fb6e872883c6d9c08ea8e016e70c5c1.cache\n"
     ]
    },
    {
     "name": "stdout",
     "output_type": "stream",
     "text": [
      "20506\n"
     ]
    },
    {
     "name": "stderr",
     "output_type": "stream",
     "text": [
      "Loading model cost 1.217 seconds.\n",
      "Prefix dict has been built succesfully.\n",
      "Building prefix dict from C:\\Users\\PETER\\OneDrive\\桌面\\Klook 7\\dict.txt.big ...\n",
      "Loading model from cache C:\\Users\\PETER\\AppData\\Local\\Temp\\jieba.u6fb6e872883c6d9c08ea8e016e70c5c1.cache\n"
     ]
    },
    {
     "name": "stdout",
     "output_type": "stream",
     "text": [
      "20517\n"
     ]
    },
    {
     "name": "stderr",
     "output_type": "stream",
     "text": [
      "Loading model cost 1.212 seconds.\n",
      "Prefix dict has been built succesfully.\n",
      "Building prefix dict from C:\\Users\\PETER\\OneDrive\\桌面\\Klook 7\\dict.txt.big ...\n",
      "Loading model from cache C:\\Users\\PETER\\AppData\\Local\\Temp\\jieba.u6fb6e872883c6d9c08ea8e016e70c5c1.cache\n"
     ]
    },
    {
     "name": "stdout",
     "output_type": "stream",
     "text": [
      "20651\n"
     ]
    },
    {
     "name": "stderr",
     "output_type": "stream",
     "text": [
      "Loading model cost 1.211 seconds.\n",
      "Prefix dict has been built succesfully.\n",
      "Building prefix dict from C:\\Users\\PETER\\OneDrive\\桌面\\Klook 7\\dict.txt.big ...\n",
      "Loading model from cache C:\\Users\\PETER\\AppData\\Local\\Temp\\jieba.u6fb6e872883c6d9c08ea8e016e70c5c1.cache\n"
     ]
    },
    {
     "name": "stdout",
     "output_type": "stream",
     "text": [
      "20707\n"
     ]
    },
    {
     "name": "stderr",
     "output_type": "stream",
     "text": [
      "Loading model cost 1.241 seconds.\n",
      "Prefix dict has been built succesfully.\n",
      "Building prefix dict from C:\\Users\\PETER\\OneDrive\\桌面\\Klook 7\\dict.txt.big ...\n",
      "Loading model from cache C:\\Users\\PETER\\AppData\\Local\\Temp\\jieba.u6fb6e872883c6d9c08ea8e016e70c5c1.cache\n"
     ]
    },
    {
     "name": "stdout",
     "output_type": "stream",
     "text": [
      "2082\n"
     ]
    },
    {
     "name": "stderr",
     "output_type": "stream",
     "text": [
      "Loading model cost 1.244 seconds.\n",
      "Prefix dict has been built succesfully.\n",
      "Building prefix dict from C:\\Users\\PETER\\OneDrive\\桌面\\Klook 7\\dict.txt.big ...\n",
      "Loading model from cache C:\\Users\\PETER\\AppData\\Local\\Temp\\jieba.u6fb6e872883c6d9c08ea8e016e70c5c1.cache\n"
     ]
    },
    {
     "name": "stdout",
     "output_type": "stream",
     "text": [
      "2086\n"
     ]
    },
    {
     "name": "stderr",
     "output_type": "stream",
     "text": [
      "Loading model cost 1.221 seconds.\n",
      "Prefix dict has been built succesfully.\n",
      "Building prefix dict from C:\\Users\\PETER\\OneDrive\\桌面\\Klook 7\\dict.txt.big ...\n",
      "Loading model from cache C:\\Users\\PETER\\AppData\\Local\\Temp\\jieba.u6fb6e872883c6d9c08ea8e016e70c5c1.cache\n"
     ]
    },
    {
     "name": "stdout",
     "output_type": "stream",
     "text": [
      "20913\n"
     ]
    },
    {
     "name": "stderr",
     "output_type": "stream",
     "text": [
      "Loading model cost 1.223 seconds.\n",
      "Prefix dict has been built succesfully.\n",
      "Building prefix dict from C:\\Users\\PETER\\OneDrive\\桌面\\Klook 7\\dict.txt.big ...\n",
      "Loading model from cache C:\\Users\\PETER\\AppData\\Local\\Temp\\jieba.u6fb6e872883c6d9c08ea8e016e70c5c1.cache\n"
     ]
    },
    {
     "name": "stdout",
     "output_type": "stream",
     "text": [
      "20950\n"
     ]
    },
    {
     "name": "stderr",
     "output_type": "stream",
     "text": [
      "Loading model cost 1.210 seconds.\n",
      "Prefix dict has been built succesfully.\n",
      "Building prefix dict from C:\\Users\\PETER\\OneDrive\\桌面\\Klook 7\\dict.txt.big ...\n",
      "Loading model from cache C:\\Users\\PETER\\AppData\\Local\\Temp\\jieba.u6fb6e872883c6d9c08ea8e016e70c5c1.cache\n"
     ]
    },
    {
     "name": "stdout",
     "output_type": "stream",
     "text": [
      "21005\n"
     ]
    },
    {
     "name": "stderr",
     "output_type": "stream",
     "text": [
      "Loading model cost 1.251 seconds.\n",
      "Prefix dict has been built succesfully.\n",
      "Building prefix dict from C:\\Users\\PETER\\OneDrive\\桌面\\Klook 7\\dict.txt.big ...\n",
      "Loading model from cache C:\\Users\\PETER\\AppData\\Local\\Temp\\jieba.u6fb6e872883c6d9c08ea8e016e70c5c1.cache\n"
     ]
    },
    {
     "name": "stdout",
     "output_type": "stream",
     "text": [
      "21056\n"
     ]
    },
    {
     "name": "stderr",
     "output_type": "stream",
     "text": [
      "Loading model cost 1.214 seconds.\n",
      "Prefix dict has been built succesfully.\n",
      "Building prefix dict from C:\\Users\\PETER\\OneDrive\\桌面\\Klook 7\\dict.txt.big ...\n",
      "Loading model from cache C:\\Users\\PETER\\AppData\\Local\\Temp\\jieba.u6fb6e872883c6d9c08ea8e016e70c5c1.cache\n"
     ]
    },
    {
     "name": "stdout",
     "output_type": "stream",
     "text": [
      "21078\n"
     ]
    },
    {
     "name": "stderr",
     "output_type": "stream",
     "text": [
      "Loading model cost 1.246 seconds.\n",
      "Prefix dict has been built succesfully.\n",
      "Building prefix dict from C:\\Users\\PETER\\OneDrive\\桌面\\Klook 7\\dict.txt.big ...\n",
      "Loading model from cache C:\\Users\\PETER\\AppData\\Local\\Temp\\jieba.u6fb6e872883c6d9c08ea8e016e70c5c1.cache\n"
     ]
    },
    {
     "name": "stdout",
     "output_type": "stream",
     "text": [
      "21147\n"
     ]
    },
    {
     "name": "stderr",
     "output_type": "stream",
     "text": [
      "Loading model cost 1.258 seconds.\n",
      "Prefix dict has been built succesfully.\n",
      "Building prefix dict from C:\\Users\\PETER\\OneDrive\\桌面\\Klook 7\\dict.txt.big ...\n",
      "Loading model from cache C:\\Users\\PETER\\AppData\\Local\\Temp\\jieba.u6fb6e872883c6d9c08ea8e016e70c5c1.cache\n"
     ]
    },
    {
     "name": "stdout",
     "output_type": "stream",
     "text": [
      "21150\n"
     ]
    },
    {
     "name": "stderr",
     "output_type": "stream",
     "text": [
      "Loading model cost 1.245 seconds.\n",
      "Prefix dict has been built succesfully.\n",
      "Building prefix dict from C:\\Users\\PETER\\OneDrive\\桌面\\Klook 7\\dict.txt.big ...\n",
      "Loading model from cache C:\\Users\\PETER\\AppData\\Local\\Temp\\jieba.u6fb6e872883c6d9c08ea8e016e70c5c1.cache\n"
     ]
    },
    {
     "name": "stdout",
     "output_type": "stream",
     "text": [
      "21247\n"
     ]
    },
    {
     "name": "stderr",
     "output_type": "stream",
     "text": [
      "Loading model cost 1.241 seconds.\n",
      "Prefix dict has been built succesfully.\n",
      "Building prefix dict from C:\\Users\\PETER\\OneDrive\\桌面\\Klook 7\\dict.txt.big ...\n",
      "Loading model from cache C:\\Users\\PETER\\AppData\\Local\\Temp\\jieba.u6fb6e872883c6d9c08ea8e016e70c5c1.cache\n"
     ]
    },
    {
     "name": "stdout",
     "output_type": "stream",
     "text": [
      "2125\n"
     ]
    },
    {
     "name": "stderr",
     "output_type": "stream",
     "text": [
      "Loading model cost 1.238 seconds.\n",
      "Prefix dict has been built succesfully.\n",
      "Building prefix dict from C:\\Users\\PETER\\OneDrive\\桌面\\Klook 7\\dict.txt.big ...\n",
      "Loading model from cache C:\\Users\\PETER\\AppData\\Local\\Temp\\jieba.u6fb6e872883c6d9c08ea8e016e70c5c1.cache\n"
     ]
    },
    {
     "name": "stdout",
     "output_type": "stream",
     "text": [
      "21268\n"
     ]
    },
    {
     "name": "stderr",
     "output_type": "stream",
     "text": [
      "Loading model cost 1.208 seconds.\n",
      "Prefix dict has been built succesfully.\n",
      "Building prefix dict from C:\\Users\\PETER\\OneDrive\\桌面\\Klook 7\\dict.txt.big ...\n",
      "Loading model from cache C:\\Users\\PETER\\AppData\\Local\\Temp\\jieba.u6fb6e872883c6d9c08ea8e016e70c5c1.cache\n"
     ]
    },
    {
     "name": "stdout",
     "output_type": "stream",
     "text": [
      "21279\n"
     ]
    },
    {
     "name": "stderr",
     "output_type": "stream",
     "text": [
      "Loading model cost 1.237 seconds.\n",
      "Prefix dict has been built succesfully.\n",
      "Building prefix dict from C:\\Users\\PETER\\OneDrive\\桌面\\Klook 7\\dict.txt.big ...\n",
      "Loading model from cache C:\\Users\\PETER\\AppData\\Local\\Temp\\jieba.u6fb6e872883c6d9c08ea8e016e70c5c1.cache\n"
     ]
    },
    {
     "name": "stdout",
     "output_type": "stream",
     "text": [
      "21304\n"
     ]
    },
    {
     "name": "stderr",
     "output_type": "stream",
     "text": [
      "Loading model cost 1.243 seconds.\n",
      "Prefix dict has been built succesfully.\n",
      "Building prefix dict from C:\\Users\\PETER\\OneDrive\\桌面\\Klook 7\\dict.txt.big ...\n",
      "Loading model from cache C:\\Users\\PETER\\AppData\\Local\\Temp\\jieba.u6fb6e872883c6d9c08ea8e016e70c5c1.cache\n"
     ]
    },
    {
     "name": "stdout",
     "output_type": "stream",
     "text": [
      "21360\n"
     ]
    },
    {
     "name": "stderr",
     "output_type": "stream",
     "text": [
      "Loading model cost 1.241 seconds.\n",
      "Prefix dict has been built succesfully.\n",
      "Building prefix dict from C:\\Users\\PETER\\OneDrive\\桌面\\Klook 7\\dict.txt.big ...\n",
      "Loading model from cache C:\\Users\\PETER\\AppData\\Local\\Temp\\jieba.u6fb6e872883c6d9c08ea8e016e70c5c1.cache\n"
     ]
    },
    {
     "name": "stdout",
     "output_type": "stream",
     "text": [
      "21381\n"
     ]
    },
    {
     "name": "stderr",
     "output_type": "stream",
     "text": [
      "Loading model cost 1.212 seconds.\n",
      "Prefix dict has been built succesfully.\n",
      "Building prefix dict from C:\\Users\\PETER\\OneDrive\\桌面\\Klook 7\\dict.txt.big ...\n",
      "Loading model from cache C:\\Users\\PETER\\AppData\\Local\\Temp\\jieba.u6fb6e872883c6d9c08ea8e016e70c5c1.cache\n"
     ]
    },
    {
     "name": "stdout",
     "output_type": "stream",
     "text": [
      "21396\n"
     ]
    },
    {
     "name": "stderr",
     "output_type": "stream",
     "text": [
      "Loading model cost 1.206 seconds.\n",
      "Prefix dict has been built succesfully.\n",
      "Building prefix dict from C:\\Users\\PETER\\OneDrive\\桌面\\Klook 7\\dict.txt.big ...\n",
      "Loading model from cache C:\\Users\\PETER\\AppData\\Local\\Temp\\jieba.u6fb6e872883c6d9c08ea8e016e70c5c1.cache\n"
     ]
    },
    {
     "name": "stdout",
     "output_type": "stream",
     "text": [
      "21458\n"
     ]
    },
    {
     "name": "stderr",
     "output_type": "stream",
     "text": [
      "Loading model cost 1.205 seconds.\n",
      "Prefix dict has been built succesfully.\n",
      "Building prefix dict from C:\\Users\\PETER\\OneDrive\\桌面\\Klook 7\\dict.txt.big ...\n",
      "Loading model from cache C:\\Users\\PETER\\AppData\\Local\\Temp\\jieba.u6fb6e872883c6d9c08ea8e016e70c5c1.cache\n"
     ]
    },
    {
     "name": "stdout",
     "output_type": "stream",
     "text": [
      "21492\n"
     ]
    },
    {
     "name": "stderr",
     "output_type": "stream",
     "text": [
      "Loading model cost 1.269 seconds.\n",
      "Prefix dict has been built succesfully.\n",
      "Building prefix dict from C:\\Users\\PETER\\OneDrive\\桌面\\Klook 7\\dict.txt.big ...\n",
      "Loading model from cache C:\\Users\\PETER\\AppData\\Local\\Temp\\jieba.u6fb6e872883c6d9c08ea8e016e70c5c1.cache\n"
     ]
    },
    {
     "name": "stdout",
     "output_type": "stream",
     "text": [
      "21493\n"
     ]
    },
    {
     "name": "stderr",
     "output_type": "stream",
     "text": [
      "Loading model cost 1.213 seconds.\n",
      "Prefix dict has been built succesfully.\n",
      "Building prefix dict from C:\\Users\\PETER\\OneDrive\\桌面\\Klook 7\\dict.txt.big ...\n",
      "Loading model from cache C:\\Users\\PETER\\AppData\\Local\\Temp\\jieba.u6fb6e872883c6d9c08ea8e016e70c5c1.cache\n"
     ]
    },
    {
     "name": "stdout",
     "output_type": "stream",
     "text": [
      "21497\n"
     ]
    },
    {
     "name": "stderr",
     "output_type": "stream",
     "text": [
      "Loading model cost 1.207 seconds.\n",
      "Prefix dict has been built succesfully.\n",
      "Building prefix dict from C:\\Users\\PETER\\OneDrive\\桌面\\Klook 7\\dict.txt.big ...\n",
      "Loading model from cache C:\\Users\\PETER\\AppData\\Local\\Temp\\jieba.u6fb6e872883c6d9c08ea8e016e70c5c1.cache\n"
     ]
    },
    {
     "name": "stdout",
     "output_type": "stream",
     "text": [
      "21499\n"
     ]
    },
    {
     "name": "stderr",
     "output_type": "stream",
     "text": [
      "Loading model cost 1.200 seconds.\n",
      "Prefix dict has been built succesfully.\n",
      "Building prefix dict from C:\\Users\\PETER\\OneDrive\\桌面\\Klook 7\\dict.txt.big ...\n",
      "Loading model from cache C:\\Users\\PETER\\AppData\\Local\\Temp\\jieba.u6fb6e872883c6d9c08ea8e016e70c5c1.cache\n"
     ]
    },
    {
     "name": "stdout",
     "output_type": "stream",
     "text": [
      "21506\n"
     ]
    },
    {
     "name": "stderr",
     "output_type": "stream",
     "text": [
      "Loading model cost 1.205 seconds.\n",
      "Prefix dict has been built succesfully.\n",
      "Building prefix dict from C:\\Users\\PETER\\OneDrive\\桌面\\Klook 7\\dict.txt.big ...\n",
      "Loading model from cache C:\\Users\\PETER\\AppData\\Local\\Temp\\jieba.u6fb6e872883c6d9c08ea8e016e70c5c1.cache\n"
     ]
    },
    {
     "name": "stdout",
     "output_type": "stream",
     "text": [
      "21508\n"
     ]
    },
    {
     "name": "stderr",
     "output_type": "stream",
     "text": [
      "Loading model cost 1.209 seconds.\n",
      "Prefix dict has been built succesfully.\n",
      "Building prefix dict from C:\\Users\\PETER\\OneDrive\\桌面\\Klook 7\\dict.txt.big ...\n",
      "Loading model from cache C:\\Users\\PETER\\AppData\\Local\\Temp\\jieba.u6fb6e872883c6d9c08ea8e016e70c5c1.cache\n"
     ]
    },
    {
     "name": "stdout",
     "output_type": "stream",
     "text": [
      "21512\n"
     ]
    },
    {
     "name": "stderr",
     "output_type": "stream",
     "text": [
      "Loading model cost 1.241 seconds.\n",
      "Prefix dict has been built succesfully.\n",
      "Building prefix dict from C:\\Users\\PETER\\OneDrive\\桌面\\Klook 7\\dict.txt.big ...\n",
      "Loading model from cache C:\\Users\\PETER\\AppData\\Local\\Temp\\jieba.u6fb6e872883c6d9c08ea8e016e70c5c1.cache\n"
     ]
    },
    {
     "name": "stdout",
     "output_type": "stream",
     "text": [
      "21525\n"
     ]
    },
    {
     "name": "stderr",
     "output_type": "stream",
     "text": [
      "Loading model cost 1.240 seconds.\n",
      "Prefix dict has been built succesfully.\n",
      "Building prefix dict from C:\\Users\\PETER\\OneDrive\\桌面\\Klook 7\\dict.txt.big ...\n",
      "Loading model from cache C:\\Users\\PETER\\AppData\\Local\\Temp\\jieba.u6fb6e872883c6d9c08ea8e016e70c5c1.cache\n"
     ]
    },
    {
     "name": "stdout",
     "output_type": "stream",
     "text": [
      "2153\n"
     ]
    },
    {
     "name": "stderr",
     "output_type": "stream",
     "text": [
      "Loading model cost 1.206 seconds.\n",
      "Prefix dict has been built succesfully.\n",
      "Building prefix dict from C:\\Users\\PETER\\OneDrive\\桌面\\Klook 7\\dict.txt.big ...\n",
      "Loading model from cache C:\\Users\\PETER\\AppData\\Local\\Temp\\jieba.u6fb6e872883c6d9c08ea8e016e70c5c1.cache\n"
     ]
    },
    {
     "name": "stdout",
     "output_type": "stream",
     "text": [
      "21532\n"
     ]
    },
    {
     "name": "stderr",
     "output_type": "stream",
     "text": [
      "Loading model cost 1.208 seconds.\n",
      "Prefix dict has been built succesfully.\n",
      "Building prefix dict from C:\\Users\\PETER\\OneDrive\\桌面\\Klook 7\\dict.txt.big ...\n",
      "Loading model from cache C:\\Users\\PETER\\AppData\\Local\\Temp\\jieba.u6fb6e872883c6d9c08ea8e016e70c5c1.cache\n"
     ]
    },
    {
     "name": "stdout",
     "output_type": "stream",
     "text": [
      "21586\n"
     ]
    },
    {
     "name": "stderr",
     "output_type": "stream",
     "text": [
      "Loading model cost 1.213 seconds.\n",
      "Prefix dict has been built succesfully.\n",
      "Building prefix dict from C:\\Users\\PETER\\OneDrive\\桌面\\Klook 7\\dict.txt.big ...\n",
      "Loading model from cache C:\\Users\\PETER\\AppData\\Local\\Temp\\jieba.u6fb6e872883c6d9c08ea8e016e70c5c1.cache\n"
     ]
    },
    {
     "name": "stdout",
     "output_type": "stream",
     "text": [
      "2159\n"
     ]
    },
    {
     "name": "stderr",
     "output_type": "stream",
     "text": [
      "Loading model cost 1.221 seconds.\n",
      "Prefix dict has been built succesfully.\n",
      "Building prefix dict from C:\\Users\\PETER\\OneDrive\\桌面\\Klook 7\\dict.txt.big ...\n",
      "Loading model from cache C:\\Users\\PETER\\AppData\\Local\\Temp\\jieba.u6fb6e872883c6d9c08ea8e016e70c5c1.cache\n"
     ]
    },
    {
     "name": "stdout",
     "output_type": "stream",
     "text": [
      "2165\n"
     ]
    },
    {
     "name": "stderr",
     "output_type": "stream",
     "text": [
      "Loading model cost 1.287 seconds.\n",
      "Prefix dict has been built succesfully.\n",
      "Building prefix dict from C:\\Users\\PETER\\OneDrive\\桌面\\Klook 7\\dict.txt.big ...\n",
      "Loading model from cache C:\\Users\\PETER\\AppData\\Local\\Temp\\jieba.u6fb6e872883c6d9c08ea8e016e70c5c1.cache\n"
     ]
    },
    {
     "name": "stdout",
     "output_type": "stream",
     "text": [
      "21717\n"
     ]
    },
    {
     "name": "stderr",
     "output_type": "stream",
     "text": [
      "Loading model cost 1.212 seconds.\n",
      "Prefix dict has been built succesfully.\n",
      "Building prefix dict from C:\\Users\\PETER\\OneDrive\\桌面\\Klook 7\\dict.txt.big ...\n",
      "Loading model from cache C:\\Users\\PETER\\AppData\\Local\\Temp\\jieba.u6fb6e872883c6d9c08ea8e016e70c5c1.cache\n"
     ]
    },
    {
     "name": "stdout",
     "output_type": "stream",
     "text": [
      "21765\n"
     ]
    },
    {
     "name": "stderr",
     "output_type": "stream",
     "text": [
      "Loading model cost 1.227 seconds.\n",
      "Prefix dict has been built succesfully.\n",
      "Building prefix dict from C:\\Users\\PETER\\OneDrive\\桌面\\Klook 7\\dict.txt.big ...\n",
      "Loading model from cache C:\\Users\\PETER\\AppData\\Local\\Temp\\jieba.u6fb6e872883c6d9c08ea8e016e70c5c1.cache\n"
     ]
    },
    {
     "name": "stdout",
     "output_type": "stream",
     "text": [
      "21839\n"
     ]
    },
    {
     "name": "stderr",
     "output_type": "stream",
     "text": [
      "Loading model cost 1.229 seconds.\n",
      "Prefix dict has been built succesfully.\n",
      "Building prefix dict from C:\\Users\\PETER\\OneDrive\\桌面\\Klook 7\\dict.txt.big ...\n",
      "Loading model from cache C:\\Users\\PETER\\AppData\\Local\\Temp\\jieba.u6fb6e872883c6d9c08ea8e016e70c5c1.cache\n"
     ]
    },
    {
     "name": "stdout",
     "output_type": "stream",
     "text": [
      "21869\n"
     ]
    },
    {
     "name": "stderr",
     "output_type": "stream",
     "text": [
      "Loading model cost 1.216 seconds.\n",
      "Prefix dict has been built succesfully.\n",
      "Building prefix dict from C:\\Users\\PETER\\OneDrive\\桌面\\Klook 7\\dict.txt.big ...\n",
      "Loading model from cache C:\\Users\\PETER\\AppData\\Local\\Temp\\jieba.u6fb6e872883c6d9c08ea8e016e70c5c1.cache\n"
     ]
    },
    {
     "name": "stdout",
     "output_type": "stream",
     "text": [
      "21877\n"
     ]
    },
    {
     "name": "stderr",
     "output_type": "stream",
     "text": [
      "Loading model cost 1.219 seconds.\n",
      "Prefix dict has been built succesfully.\n",
      "Building prefix dict from C:\\Users\\PETER\\OneDrive\\桌面\\Klook 7\\dict.txt.big ...\n",
      "Loading model from cache C:\\Users\\PETER\\AppData\\Local\\Temp\\jieba.u6fb6e872883c6d9c08ea8e016e70c5c1.cache\n"
     ]
    },
    {
     "name": "stdout",
     "output_type": "stream",
     "text": [
      "21881\n"
     ]
    },
    {
     "name": "stderr",
     "output_type": "stream",
     "text": [
      "Loading model cost 1.240 seconds.\n",
      "Prefix dict has been built succesfully.\n",
      "Building prefix dict from C:\\Users\\PETER\\OneDrive\\桌面\\Klook 7\\dict.txt.big ...\n",
      "Loading model from cache C:\\Users\\PETER\\AppData\\Local\\Temp\\jieba.u6fb6e872883c6d9c08ea8e016e70c5c1.cache\n"
     ]
    },
    {
     "name": "stdout",
     "output_type": "stream",
     "text": [
      "21903\n"
     ]
    },
    {
     "name": "stderr",
     "output_type": "stream",
     "text": [
      "Loading model cost 1.251 seconds.\n",
      "Prefix dict has been built succesfully.\n",
      "Building prefix dict from C:\\Users\\PETER\\OneDrive\\桌面\\Klook 7\\dict.txt.big ...\n",
      "Loading model from cache C:\\Users\\PETER\\AppData\\Local\\Temp\\jieba.u6fb6e872883c6d9c08ea8e016e70c5c1.cache\n"
     ]
    },
    {
     "name": "stdout",
     "output_type": "stream",
     "text": [
      "22013\n"
     ]
    },
    {
     "name": "stderr",
     "output_type": "stream",
     "text": [
      "Loading model cost 1.240 seconds.\n",
      "Prefix dict has been built succesfully.\n",
      "Building prefix dict from C:\\Users\\PETER\\OneDrive\\桌面\\Klook 7\\dict.txt.big ...\n",
      "Loading model from cache C:\\Users\\PETER\\AppData\\Local\\Temp\\jieba.u6fb6e872883c6d9c08ea8e016e70c5c1.cache\n"
     ]
    },
    {
     "name": "stdout",
     "output_type": "stream",
     "text": [
      "22064\n"
     ]
    },
    {
     "name": "stderr",
     "output_type": "stream",
     "text": [
      "Loading model cost 1.236 seconds.\n",
      "Prefix dict has been built succesfully.\n",
      "Building prefix dict from C:\\Users\\PETER\\OneDrive\\桌面\\Klook 7\\dict.txt.big ...\n",
      "Loading model from cache C:\\Users\\PETER\\AppData\\Local\\Temp\\jieba.u6fb6e872883c6d9c08ea8e016e70c5c1.cache\n"
     ]
    },
    {
     "name": "stdout",
     "output_type": "stream",
     "text": [
      "22179\n"
     ]
    },
    {
     "name": "stderr",
     "output_type": "stream",
     "text": [
      "Loading model cost 1.307 seconds.\n",
      "Prefix dict has been built succesfully.\n",
      "Building prefix dict from C:\\Users\\PETER\\OneDrive\\桌面\\Klook 7\\dict.txt.big ...\n",
      "Loading model from cache C:\\Users\\PETER\\AppData\\Local\\Temp\\jieba.u6fb6e872883c6d9c08ea8e016e70c5c1.cache\n"
     ]
    },
    {
     "name": "stdout",
     "output_type": "stream",
     "text": [
      "22183\n"
     ]
    },
    {
     "name": "stderr",
     "output_type": "stream",
     "text": [
      "Loading model cost 1.214 seconds.\n",
      "Prefix dict has been built succesfully.\n",
      "Building prefix dict from C:\\Users\\PETER\\OneDrive\\桌面\\Klook 7\\dict.txt.big ...\n",
      "Loading model from cache C:\\Users\\PETER\\AppData\\Local\\Temp\\jieba.u6fb6e872883c6d9c08ea8e016e70c5c1.cache\n"
     ]
    },
    {
     "name": "stdout",
     "output_type": "stream",
     "text": [
      "22184\n"
     ]
    },
    {
     "name": "stderr",
     "output_type": "stream",
     "text": [
      "Loading model cost 1.215 seconds.\n",
      "Prefix dict has been built succesfully.\n",
      "Building prefix dict from C:\\Users\\PETER\\OneDrive\\桌面\\Klook 7\\dict.txt.big ...\n",
      "Loading model from cache C:\\Users\\PETER\\AppData\\Local\\Temp\\jieba.u6fb6e872883c6d9c08ea8e016e70c5c1.cache\n"
     ]
    },
    {
     "name": "stdout",
     "output_type": "stream",
     "text": [
      "22228\n"
     ]
    },
    {
     "name": "stderr",
     "output_type": "stream",
     "text": [
      "Loading model cost 1.222 seconds.\n",
      "Prefix dict has been built succesfully.\n",
      "Building prefix dict from C:\\Users\\PETER\\OneDrive\\桌面\\Klook 7\\dict.txt.big ...\n",
      "Loading model from cache C:\\Users\\PETER\\AppData\\Local\\Temp\\jieba.u6fb6e872883c6d9c08ea8e016e70c5c1.cache\n"
     ]
    },
    {
     "name": "stdout",
     "output_type": "stream",
     "text": [
      "22253\n"
     ]
    },
    {
     "name": "stderr",
     "output_type": "stream",
     "text": [
      "Loading model cost 1.225 seconds.\n",
      "Prefix dict has been built succesfully.\n",
      "Building prefix dict from C:\\Users\\PETER\\OneDrive\\桌面\\Klook 7\\dict.txt.big ...\n",
      "Loading model from cache C:\\Users\\PETER\\AppData\\Local\\Temp\\jieba.u6fb6e872883c6d9c08ea8e016e70c5c1.cache\n"
     ]
    },
    {
     "name": "stdout",
     "output_type": "stream",
     "text": [
      "22286\n"
     ]
    },
    {
     "name": "stderr",
     "output_type": "stream",
     "text": [
      "Loading model cost 1.208 seconds.\n",
      "Prefix dict has been built succesfully.\n",
      "Building prefix dict from C:\\Users\\PETER\\OneDrive\\桌面\\Klook 7\\dict.txt.big ...\n",
      "Loading model from cache C:\\Users\\PETER\\AppData\\Local\\Temp\\jieba.u6fb6e872883c6d9c08ea8e016e70c5c1.cache\n"
     ]
    },
    {
     "name": "stdout",
     "output_type": "stream",
     "text": [
      "2234\n"
     ]
    },
    {
     "name": "stderr",
     "output_type": "stream",
     "text": [
      "Loading model cost 1.222 seconds.\n",
      "Prefix dict has been built succesfully.\n",
      "Building prefix dict from C:\\Users\\PETER\\OneDrive\\桌面\\Klook 7\\dict.txt.big ...\n",
      "Loading model from cache C:\\Users\\PETER\\AppData\\Local\\Temp\\jieba.u6fb6e872883c6d9c08ea8e016e70c5c1.cache\n"
     ]
    },
    {
     "name": "stdout",
     "output_type": "stream",
     "text": [
      "2249\n"
     ]
    },
    {
     "name": "stderr",
     "output_type": "stream",
     "text": [
      "Loading model cost 1.207 seconds.\n",
      "Prefix dict has been built succesfully.\n",
      "Building prefix dict from C:\\Users\\PETER\\OneDrive\\桌面\\Klook 7\\dict.txt.big ...\n",
      "Loading model from cache C:\\Users\\PETER\\AppData\\Local\\Temp\\jieba.u6fb6e872883c6d9c08ea8e016e70c5c1.cache\n"
     ]
    },
    {
     "name": "stdout",
     "output_type": "stream",
     "text": [
      "22630\n"
     ]
    },
    {
     "name": "stderr",
     "output_type": "stream",
     "text": [
      "Loading model cost 1.273 seconds.\n",
      "Prefix dict has been built succesfully.\n",
      "Building prefix dict from C:\\Users\\PETER\\OneDrive\\桌面\\Klook 7\\dict.txt.big ...\n",
      "Loading model from cache C:\\Users\\PETER\\AppData\\Local\\Temp\\jieba.u6fb6e872883c6d9c08ea8e016e70c5c1.cache\n"
     ]
    },
    {
     "name": "stdout",
     "output_type": "stream",
     "text": [
      "22729\n"
     ]
    },
    {
     "name": "stderr",
     "output_type": "stream",
     "text": [
      "Loading model cost 1.219 seconds.\n",
      "Prefix dict has been built succesfully.\n",
      "Building prefix dict from C:\\Users\\PETER\\OneDrive\\桌面\\Klook 7\\dict.txt.big ...\n",
      "Loading model from cache C:\\Users\\PETER\\AppData\\Local\\Temp\\jieba.u6fb6e872883c6d9c08ea8e016e70c5c1.cache\n"
     ]
    },
    {
     "name": "stdout",
     "output_type": "stream",
     "text": [
      "2276\n"
     ]
    },
    {
     "name": "stderr",
     "output_type": "stream",
     "text": [
      "Loading model cost 1.234 seconds.\n",
      "Prefix dict has been built succesfully.\n",
      "Building prefix dict from C:\\Users\\PETER\\OneDrive\\桌面\\Klook 7\\dict.txt.big ...\n",
      "Loading model from cache C:\\Users\\PETER\\AppData\\Local\\Temp\\jieba.u6fb6e872883c6d9c08ea8e016e70c5c1.cache\n"
     ]
    },
    {
     "name": "stdout",
     "output_type": "stream",
     "text": [
      "23318\n"
     ]
    },
    {
     "name": "stderr",
     "output_type": "stream",
     "text": [
      "Loading model cost 1.221 seconds.\n",
      "Prefix dict has been built succesfully.\n",
      "Building prefix dict from C:\\Users\\PETER\\OneDrive\\桌面\\Klook 7\\dict.txt.big ...\n",
      "Loading model from cache C:\\Users\\PETER\\AppData\\Local\\Temp\\jieba.u6fb6e872883c6d9c08ea8e016e70c5c1.cache\n"
     ]
    },
    {
     "name": "stdout",
     "output_type": "stream",
     "text": [
      "23327\n"
     ]
    },
    {
     "name": "stderr",
     "output_type": "stream",
     "text": [
      "Loading model cost 1.208 seconds.\n",
      "Prefix dict has been built succesfully.\n",
      "Building prefix dict from C:\\Users\\PETER\\OneDrive\\桌面\\Klook 7\\dict.txt.big ...\n",
      "Loading model from cache C:\\Users\\PETER\\AppData\\Local\\Temp\\jieba.u6fb6e872883c6d9c08ea8e016e70c5c1.cache\n"
     ]
    },
    {
     "name": "stdout",
     "output_type": "stream",
     "text": [
      "23848\n"
     ]
    },
    {
     "name": "stderr",
     "output_type": "stream",
     "text": [
      "Loading model cost 1.231 seconds.\n",
      "Prefix dict has been built succesfully.\n",
      "Building prefix dict from C:\\Users\\PETER\\OneDrive\\桌面\\Klook 7\\dict.txt.big ...\n",
      "Loading model from cache C:\\Users\\PETER\\AppData\\Local\\Temp\\jieba.u6fb6e872883c6d9c08ea8e016e70c5c1.cache\n"
     ]
    },
    {
     "name": "stdout",
     "output_type": "stream",
     "text": [
      "2424\n"
     ]
    },
    {
     "name": "stderr",
     "output_type": "stream",
     "text": [
      "Loading model cost 1.223 seconds.\n",
      "Prefix dict has been built succesfully.\n",
      "Building prefix dict from C:\\Users\\PETER\\OneDrive\\桌面\\Klook 7\\dict.txt.big ...\n",
      "Loading model from cache C:\\Users\\PETER\\AppData\\Local\\Temp\\jieba.u6fb6e872883c6d9c08ea8e016e70c5c1.cache\n"
     ]
    },
    {
     "name": "stdout",
     "output_type": "stream",
     "text": [
      "24284\n"
     ]
    },
    {
     "name": "stderr",
     "output_type": "stream",
     "text": [
      "Loading model cost 1.207 seconds.\n",
      "Prefix dict has been built succesfully.\n",
      "Building prefix dict from C:\\Users\\PETER\\OneDrive\\桌面\\Klook 7\\dict.txt.big ...\n",
      "Loading model from cache C:\\Users\\PETER\\AppData\\Local\\Temp\\jieba.u6fb6e872883c6d9c08ea8e016e70c5c1.cache\n"
     ]
    },
    {
     "name": "stdout",
     "output_type": "stream",
     "text": [
      "2495\n"
     ]
    },
    {
     "name": "stderr",
     "output_type": "stream",
     "text": [
      "Loading model cost 1.212 seconds.\n",
      "Prefix dict has been built succesfully.\n",
      "Building prefix dict from C:\\Users\\PETER\\OneDrive\\桌面\\Klook 7\\dict.txt.big ...\n",
      "Loading model from cache C:\\Users\\PETER\\AppData\\Local\\Temp\\jieba.u6fb6e872883c6d9c08ea8e016e70c5c1.cache\n"
     ]
    },
    {
     "name": "stdout",
     "output_type": "stream",
     "text": [
      "2591\n"
     ]
    },
    {
     "name": "stderr",
     "output_type": "stream",
     "text": [
      "Loading model cost 1.204 seconds.\n",
      "Prefix dict has been built succesfully.\n",
      "Building prefix dict from C:\\Users\\PETER\\OneDrive\\桌面\\Klook 7\\dict.txt.big ...\n",
      "Loading model from cache C:\\Users\\PETER\\AppData\\Local\\Temp\\jieba.u6fb6e872883c6d9c08ea8e016e70c5c1.cache\n"
     ]
    },
    {
     "name": "stdout",
     "output_type": "stream",
     "text": [
      "2599\n"
     ]
    },
    {
     "name": "stderr",
     "output_type": "stream",
     "text": [
      "Loading model cost 1.214 seconds.\n",
      "Prefix dict has been built succesfully.\n",
      "Building prefix dict from C:\\Users\\PETER\\OneDrive\\桌面\\Klook 7\\dict.txt.big ...\n",
      "Loading model from cache C:\\Users\\PETER\\AppData\\Local\\Temp\\jieba.u6fb6e872883c6d9c08ea8e016e70c5c1.cache\n"
     ]
    },
    {
     "name": "stdout",
     "output_type": "stream",
     "text": [
      "26048\n"
     ]
    },
    {
     "name": "stderr",
     "output_type": "stream",
     "text": [
      "Loading model cost 1.219 seconds.\n",
      "Prefix dict has been built succesfully.\n",
      "Building prefix dict from C:\\Users\\PETER\\OneDrive\\桌面\\Klook 7\\dict.txt.big ...\n",
      "Loading model from cache C:\\Users\\PETER\\AppData\\Local\\Temp\\jieba.u6fb6e872883c6d9c08ea8e016e70c5c1.cache\n"
     ]
    },
    {
     "name": "stdout",
     "output_type": "stream",
     "text": [
      "2610\n"
     ]
    },
    {
     "name": "stderr",
     "output_type": "stream",
     "text": [
      "Loading model cost 1.228 seconds.\n",
      "Prefix dict has been built succesfully.\n",
      "Building prefix dict from C:\\Users\\PETER\\OneDrive\\桌面\\Klook 7\\dict.txt.big ...\n",
      "Loading model from cache C:\\Users\\PETER\\AppData\\Local\\Temp\\jieba.u6fb6e872883c6d9c08ea8e016e70c5c1.cache\n"
     ]
    },
    {
     "name": "stdout",
     "output_type": "stream",
     "text": [
      "2739\n"
     ]
    },
    {
     "name": "stderr",
     "output_type": "stream",
     "text": [
      "Loading model cost 1.213 seconds.\n",
      "Prefix dict has been built succesfully.\n",
      "Building prefix dict from C:\\Users\\PETER\\OneDrive\\桌面\\Klook 7\\dict.txt.big ...\n",
      "Loading model from cache C:\\Users\\PETER\\AppData\\Local\\Temp\\jieba.u6fb6e872883c6d9c08ea8e016e70c5c1.cache\n"
     ]
    },
    {
     "name": "stdout",
     "output_type": "stream",
     "text": [
      "27569\n"
     ]
    },
    {
     "name": "stderr",
     "output_type": "stream",
     "text": [
      "Loading model cost 1.228 seconds.\n",
      "Prefix dict has been built succesfully.\n",
      "Building prefix dict from C:\\Users\\PETER\\OneDrive\\桌面\\Klook 7\\dict.txt.big ...\n",
      "Loading model from cache C:\\Users\\PETER\\AppData\\Local\\Temp\\jieba.u6fb6e872883c6d9c08ea8e016e70c5c1.cache\n"
     ]
    },
    {
     "name": "stdout",
     "output_type": "stream",
     "text": [
      "279\n"
     ]
    },
    {
     "name": "stderr",
     "output_type": "stream",
     "text": [
      "Loading model cost 1.236 seconds.\n",
      "Prefix dict has been built succesfully.\n",
      "Building prefix dict from C:\\Users\\PETER\\OneDrive\\桌面\\Klook 7\\dict.txt.big ...\n",
      "Loading model from cache C:\\Users\\PETER\\AppData\\Local\\Temp\\jieba.u6fb6e872883c6d9c08ea8e016e70c5c1.cache\n"
     ]
    },
    {
     "name": "stdout",
     "output_type": "stream",
     "text": [
      "280\n"
     ]
    },
    {
     "name": "stderr",
     "output_type": "stream",
     "text": [
      "Loading model cost 1.222 seconds.\n",
      "Prefix dict has been built succesfully.\n",
      "Building prefix dict from C:\\Users\\PETER\\OneDrive\\桌面\\Klook 7\\dict.txt.big ...\n",
      "Loading model from cache C:\\Users\\PETER\\AppData\\Local\\Temp\\jieba.u6fb6e872883c6d9c08ea8e016e70c5c1.cache\n"
     ]
    },
    {
     "name": "stdout",
     "output_type": "stream",
     "text": [
      "2826\n"
     ]
    },
    {
     "name": "stderr",
     "output_type": "stream",
     "text": [
      "Loading model cost 1.225 seconds.\n",
      "Prefix dict has been built succesfully.\n",
      "Building prefix dict from C:\\Users\\PETER\\OneDrive\\桌面\\Klook 7\\dict.txt.big ...\n",
      "Loading model from cache C:\\Users\\PETER\\AppData\\Local\\Temp\\jieba.u6fb6e872883c6d9c08ea8e016e70c5c1.cache\n"
     ]
    },
    {
     "name": "stdout",
     "output_type": "stream",
     "text": [
      "28687\n"
     ]
    },
    {
     "name": "stderr",
     "output_type": "stream",
     "text": [
      "Loading model cost 1.217 seconds.\n",
      "Prefix dict has been built succesfully.\n",
      "Building prefix dict from C:\\Users\\PETER\\OneDrive\\桌面\\Klook 7\\dict.txt.big ...\n",
      "Loading model from cache C:\\Users\\PETER\\AppData\\Local\\Temp\\jieba.u6fb6e872883c6d9c08ea8e016e70c5c1.cache\n"
     ]
    },
    {
     "name": "stdout",
     "output_type": "stream",
     "text": [
      "297\n"
     ]
    },
    {
     "name": "stderr",
     "output_type": "stream",
     "text": [
      "Loading model cost 1.207 seconds.\n",
      "Prefix dict has been built succesfully.\n",
      "Building prefix dict from C:\\Users\\PETER\\OneDrive\\桌面\\Klook 7\\dict.txt.big ...\n",
      "Loading model from cache C:\\Users\\PETER\\AppData\\Local\\Temp\\jieba.u6fb6e872883c6d9c08ea8e016e70c5c1.cache\n"
     ]
    },
    {
     "name": "stdout",
     "output_type": "stream",
     "text": [
      "2977\n"
     ]
    },
    {
     "name": "stderr",
     "output_type": "stream",
     "text": [
      "Loading model cost 1.247 seconds.\n",
      "Prefix dict has been built succesfully.\n",
      "Building prefix dict from C:\\Users\\PETER\\OneDrive\\桌面\\Klook 7\\dict.txt.big ...\n",
      "Loading model from cache C:\\Users\\PETER\\AppData\\Local\\Temp\\jieba.u6fb6e872883c6d9c08ea8e016e70c5c1.cache\n"
     ]
    },
    {
     "name": "stdout",
     "output_type": "stream",
     "text": [
      "306\n"
     ]
    },
    {
     "name": "stderr",
     "output_type": "stream",
     "text": [
      "Loading model cost 1.287 seconds.\n",
      "Prefix dict has been built succesfully.\n",
      "Building prefix dict from C:\\Users\\PETER\\OneDrive\\桌面\\Klook 7\\dict.txt.big ...\n",
      "Loading model from cache C:\\Users\\PETER\\AppData\\Local\\Temp\\jieba.u6fb6e872883c6d9c08ea8e016e70c5c1.cache\n"
     ]
    },
    {
     "name": "stdout",
     "output_type": "stream",
     "text": [
      "308\n"
     ]
    },
    {
     "name": "stderr",
     "output_type": "stream",
     "text": [
      "Loading model cost 1.291 seconds.\n",
      "Prefix dict has been built succesfully.\n",
      "Building prefix dict from C:\\Users\\PETER\\OneDrive\\桌面\\Klook 7\\dict.txt.big ...\n",
      "Loading model from cache C:\\Users\\PETER\\AppData\\Local\\Temp\\jieba.u6fb6e872883c6d9c08ea8e016e70c5c1.cache\n"
     ]
    },
    {
     "name": "stdout",
     "output_type": "stream",
     "text": [
      "312\n"
     ]
    },
    {
     "name": "stderr",
     "output_type": "stream",
     "text": [
      "Loading model cost 1.401 seconds.\n",
      "Prefix dict has been built succesfully.\n",
      "Building prefix dict from C:\\Users\\PETER\\OneDrive\\桌面\\Klook 7\\dict.txt.big ...\n",
      "Loading model from cache C:\\Users\\PETER\\AppData\\Local\\Temp\\jieba.u6fb6e872883c6d9c08ea8e016e70c5c1.cache\n"
     ]
    },
    {
     "name": "stdout",
     "output_type": "stream",
     "text": [
      "314\n"
     ]
    },
    {
     "name": "stderr",
     "output_type": "stream",
     "text": [
      "Loading model cost 1.545 seconds.\n",
      "Prefix dict has been built succesfully.\n",
      "Building prefix dict from C:\\Users\\PETER\\OneDrive\\桌面\\Klook 7\\dict.txt.big ...\n",
      "Loading model from cache C:\\Users\\PETER\\AppData\\Local\\Temp\\jieba.u6fb6e872883c6d9c08ea8e016e70c5c1.cache\n"
     ]
    },
    {
     "name": "stdout",
     "output_type": "stream",
     "text": [
      "315\n"
     ]
    },
    {
     "name": "stderr",
     "output_type": "stream",
     "text": [
      "Loading model cost 1.287 seconds.\n",
      "Prefix dict has been built succesfully.\n",
      "Building prefix dict from C:\\Users\\PETER\\OneDrive\\桌面\\Klook 7\\dict.txt.big ...\n",
      "Loading model from cache C:\\Users\\PETER\\AppData\\Local\\Temp\\jieba.u6fb6e872883c6d9c08ea8e016e70c5c1.cache\n"
     ]
    },
    {
     "name": "stdout",
     "output_type": "stream",
     "text": [
      "316\n"
     ]
    },
    {
     "name": "stderr",
     "output_type": "stream",
     "text": [
      "Loading model cost 1.229 seconds.\n",
      "Prefix dict has been built succesfully.\n",
      "Building prefix dict from C:\\Users\\PETER\\OneDrive\\桌面\\Klook 7\\dict.txt.big ...\n",
      "Loading model from cache C:\\Users\\PETER\\AppData\\Local\\Temp\\jieba.u6fb6e872883c6d9c08ea8e016e70c5c1.cache\n"
     ]
    },
    {
     "name": "stdout",
     "output_type": "stream",
     "text": [
      "3208\n"
     ]
    },
    {
     "name": "stderr",
     "output_type": "stream",
     "text": [
      "Loading model cost 1.220 seconds.\n",
      "Prefix dict has been built succesfully.\n",
      "Building prefix dict from C:\\Users\\PETER\\OneDrive\\桌面\\Klook 7\\dict.txt.big ...\n",
      "Loading model from cache C:\\Users\\PETER\\AppData\\Local\\Temp\\jieba.u6fb6e872883c6d9c08ea8e016e70c5c1.cache\n"
     ]
    },
    {
     "name": "stdout",
     "output_type": "stream",
     "text": [
      "3217\n"
     ]
    },
    {
     "name": "stderr",
     "output_type": "stream",
     "text": [
      "Loading model cost 1.267 seconds.\n",
      "Prefix dict has been built succesfully.\n",
      "Building prefix dict from C:\\Users\\PETER\\OneDrive\\桌面\\Klook 7\\dict.txt.big ...\n",
      "Loading model from cache C:\\Users\\PETER\\AppData\\Local\\Temp\\jieba.u6fb6e872883c6d9c08ea8e016e70c5c1.cache\n"
     ]
    },
    {
     "name": "stdout",
     "output_type": "stream",
     "text": [
      "3363\n"
     ]
    },
    {
     "name": "stderr",
     "output_type": "stream",
     "text": [
      "Loading model cost 1.248 seconds.\n",
      "Prefix dict has been built succesfully.\n",
      "Building prefix dict from C:\\Users\\PETER\\OneDrive\\桌面\\Klook 7\\dict.txt.big ...\n",
      "Loading model from cache C:\\Users\\PETER\\AppData\\Local\\Temp\\jieba.u6fb6e872883c6d9c08ea8e016e70c5c1.cache\n"
     ]
    },
    {
     "name": "stdout",
     "output_type": "stream",
     "text": [
      "3407\n"
     ]
    },
    {
     "name": "stderr",
     "output_type": "stream",
     "text": [
      "Loading model cost 1.296 seconds.\n",
      "Prefix dict has been built succesfully.\n",
      "Building prefix dict from C:\\Users\\PETER\\OneDrive\\桌面\\Klook 7\\dict.txt.big ...\n",
      "Loading model from cache C:\\Users\\PETER\\AppData\\Local\\Temp\\jieba.u6fb6e872883c6d9c08ea8e016e70c5c1.cache\n"
     ]
    },
    {
     "name": "stdout",
     "output_type": "stream",
     "text": [
      "3814\n"
     ]
    },
    {
     "name": "stderr",
     "output_type": "stream",
     "text": [
      "Loading model cost 1.220 seconds.\n",
      "Prefix dict has been built succesfully.\n",
      "Building prefix dict from C:\\Users\\PETER\\OneDrive\\桌面\\Klook 7\\dict.txt.big ...\n",
      "Loading model from cache C:\\Users\\PETER\\AppData\\Local\\Temp\\jieba.u6fb6e872883c6d9c08ea8e016e70c5c1.cache\n"
     ]
    },
    {
     "name": "stdout",
     "output_type": "stream",
     "text": [
      "4059\n"
     ]
    },
    {
     "name": "stderr",
     "output_type": "stream",
     "text": [
      "Loading model cost 1.209 seconds.\n",
      "Prefix dict has been built succesfully.\n",
      "Building prefix dict from C:\\Users\\PETER\\OneDrive\\桌面\\Klook 7\\dict.txt.big ...\n",
      "Loading model from cache C:\\Users\\PETER\\AppData\\Local\\Temp\\jieba.u6fb6e872883c6d9c08ea8e016e70c5c1.cache\n"
     ]
    },
    {
     "name": "stdout",
     "output_type": "stream",
     "text": [
      "4621\n"
     ]
    },
    {
     "name": "stderr",
     "output_type": "stream",
     "text": [
      "Loading model cost 1.210 seconds.\n",
      "Prefix dict has been built succesfully.\n",
      "Building prefix dict from C:\\Users\\PETER\\OneDrive\\桌面\\Klook 7\\dict.txt.big ...\n",
      "Loading model from cache C:\\Users\\PETER\\AppData\\Local\\Temp\\jieba.u6fb6e872883c6d9c08ea8e016e70c5c1.cache\n"
     ]
    },
    {
     "name": "stdout",
     "output_type": "stream",
     "text": [
      "4658\n"
     ]
    },
    {
     "name": "stderr",
     "output_type": "stream",
     "text": [
      "Loading model cost 1.228 seconds.\n",
      "Prefix dict has been built succesfully.\n",
      "Building prefix dict from C:\\Users\\PETER\\OneDrive\\桌面\\Klook 7\\dict.txt.big ...\n",
      "Loading model from cache C:\\Users\\PETER\\AppData\\Local\\Temp\\jieba.u6fb6e872883c6d9c08ea8e016e70c5c1.cache\n"
     ]
    },
    {
     "name": "stdout",
     "output_type": "stream",
     "text": [
      "4911\n"
     ]
    },
    {
     "name": "stderr",
     "output_type": "stream",
     "text": [
      "Loading model cost 1.259 seconds.\n",
      "Prefix dict has been built succesfully.\n",
      "Building prefix dict from C:\\Users\\PETER\\OneDrive\\桌面\\Klook 7\\dict.txt.big ...\n",
      "Loading model from cache C:\\Users\\PETER\\AppData\\Local\\Temp\\jieba.u6fb6e872883c6d9c08ea8e016e70c5c1.cache\n"
     ]
    },
    {
     "name": "stdout",
     "output_type": "stream",
     "text": [
      "4999\n"
     ]
    },
    {
     "name": "stderr",
     "output_type": "stream",
     "text": [
      "Loading model cost 1.238 seconds.\n",
      "Prefix dict has been built succesfully.\n",
      "Building prefix dict from C:\\Users\\PETER\\OneDrive\\桌面\\Klook 7\\dict.txt.big ...\n",
      "Loading model from cache C:\\Users\\PETER\\AppData\\Local\\Temp\\jieba.u6fb6e872883c6d9c08ea8e016e70c5c1.cache\n"
     ]
    },
    {
     "name": "stdout",
     "output_type": "stream",
     "text": [
      "5127\n"
     ]
    },
    {
     "name": "stderr",
     "output_type": "stream",
     "text": [
      "Loading model cost 1.202 seconds.\n",
      "Prefix dict has been built succesfully.\n",
      "Building prefix dict from C:\\Users\\PETER\\OneDrive\\桌面\\Klook 7\\dict.txt.big ...\n",
      "Loading model from cache C:\\Users\\PETER\\AppData\\Local\\Temp\\jieba.u6fb6e872883c6d9c08ea8e016e70c5c1.cache\n"
     ]
    },
    {
     "name": "stdout",
     "output_type": "stream",
     "text": [
      "5211\n"
     ]
    },
    {
     "name": "stderr",
     "output_type": "stream",
     "text": [
      "Loading model cost 1.216 seconds.\n",
      "Prefix dict has been built succesfully.\n",
      "Building prefix dict from C:\\Users\\PETER\\OneDrive\\桌面\\Klook 7\\dict.txt.big ...\n",
      "Loading model from cache C:\\Users\\PETER\\AppData\\Local\\Temp\\jieba.u6fb6e872883c6d9c08ea8e016e70c5c1.cache\n"
     ]
    },
    {
     "name": "stdout",
     "output_type": "stream",
     "text": [
      "5214\n"
     ]
    },
    {
     "name": "stderr",
     "output_type": "stream",
     "text": [
      "Loading model cost 1.304 seconds.\n",
      "Prefix dict has been built succesfully.\n",
      "Building prefix dict from C:\\Users\\PETER\\OneDrive\\桌面\\Klook 7\\dict.txt.big ...\n",
      "Loading model from cache C:\\Users\\PETER\\AppData\\Local\\Temp\\jieba.u6fb6e872883c6d9c08ea8e016e70c5c1.cache\n"
     ]
    },
    {
     "name": "stdout",
     "output_type": "stream",
     "text": [
      "5445\n"
     ]
    },
    {
     "name": "stderr",
     "output_type": "stream",
     "text": [
      "Loading model cost 1.206 seconds.\n",
      "Prefix dict has been built succesfully.\n",
      "Building prefix dict from C:\\Users\\PETER\\OneDrive\\桌面\\Klook 7\\dict.txt.big ...\n",
      "Loading model from cache C:\\Users\\PETER\\AppData\\Local\\Temp\\jieba.u6fb6e872883c6d9c08ea8e016e70c5c1.cache\n"
     ]
    },
    {
     "name": "stdout",
     "output_type": "stream",
     "text": [
      "5465\n"
     ]
    },
    {
     "name": "stderr",
     "output_type": "stream",
     "text": [
      "Loading model cost 1.206 seconds.\n",
      "Prefix dict has been built succesfully.\n",
      "Building prefix dict from C:\\Users\\PETER\\OneDrive\\桌面\\Klook 7\\dict.txt.big ...\n",
      "Loading model from cache C:\\Users\\PETER\\AppData\\Local\\Temp\\jieba.u6fb6e872883c6d9c08ea8e016e70c5c1.cache\n"
     ]
    },
    {
     "name": "stdout",
     "output_type": "stream",
     "text": [
      "5563\n"
     ]
    },
    {
     "name": "stderr",
     "output_type": "stream",
     "text": [
      "Loading model cost 1.217 seconds.\n",
      "Prefix dict has been built succesfully.\n",
      "Building prefix dict from C:\\Users\\PETER\\OneDrive\\桌面\\Klook 7\\dict.txt.big ...\n",
      "Loading model from cache C:\\Users\\PETER\\AppData\\Local\\Temp\\jieba.u6fb6e872883c6d9c08ea8e016e70c5c1.cache\n"
     ]
    },
    {
     "name": "stdout",
     "output_type": "stream",
     "text": [
      "5609\n"
     ]
    },
    {
     "name": "stderr",
     "output_type": "stream",
     "text": [
      "Loading model cost 1.244 seconds.\n",
      "Prefix dict has been built succesfully.\n",
      "Building prefix dict from C:\\Users\\PETER\\OneDrive\\桌面\\Klook 7\\dict.txt.big ...\n",
      "Loading model from cache C:\\Users\\PETER\\AppData\\Local\\Temp\\jieba.u6fb6e872883c6d9c08ea8e016e70c5c1.cache\n"
     ]
    },
    {
     "name": "stdout",
     "output_type": "stream",
     "text": [
      "5618\n"
     ]
    },
    {
     "name": "stderr",
     "output_type": "stream",
     "text": [
      "Loading model cost 1.201 seconds.\n",
      "Prefix dict has been built succesfully.\n",
      "Building prefix dict from C:\\Users\\PETER\\OneDrive\\桌面\\Klook 7\\dict.txt.big ...\n",
      "Loading model from cache C:\\Users\\PETER\\AppData\\Local\\Temp\\jieba.u6fb6e872883c6d9c08ea8e016e70c5c1.cache\n"
     ]
    },
    {
     "name": "stdout",
     "output_type": "stream",
     "text": [
      "5620\n"
     ]
    },
    {
     "name": "stderr",
     "output_type": "stream",
     "text": [
      "Loading model cost 1.215 seconds.\n",
      "Prefix dict has been built succesfully.\n",
      "Building prefix dict from C:\\Users\\PETER\\OneDrive\\桌面\\Klook 7\\dict.txt.big ...\n",
      "Loading model from cache C:\\Users\\PETER\\AppData\\Local\\Temp\\jieba.u6fb6e872883c6d9c08ea8e016e70c5c1.cache\n"
     ]
    },
    {
     "name": "stdout",
     "output_type": "stream",
     "text": [
      "5621\n"
     ]
    },
    {
     "name": "stderr",
     "output_type": "stream",
     "text": [
      "Loading model cost 1.207 seconds.\n",
      "Prefix dict has been built succesfully.\n",
      "Building prefix dict from C:\\Users\\PETER\\OneDrive\\桌面\\Klook 7\\dict.txt.big ...\n",
      "Loading model from cache C:\\Users\\PETER\\AppData\\Local\\Temp\\jieba.u6fb6e872883c6d9c08ea8e016e70c5c1.cache\n"
     ]
    },
    {
     "name": "stdout",
     "output_type": "stream",
     "text": [
      "5643\n"
     ]
    },
    {
     "name": "stderr",
     "output_type": "stream",
     "text": [
      "Loading model cost 1.211 seconds.\n",
      "Prefix dict has been built succesfully.\n",
      "Building prefix dict from C:\\Users\\PETER\\OneDrive\\桌面\\Klook 7\\dict.txt.big ...\n",
      "Loading model from cache C:\\Users\\PETER\\AppData\\Local\\Temp\\jieba.u6fb6e872883c6d9c08ea8e016e70c5c1.cache\n"
     ]
    },
    {
     "name": "stdout",
     "output_type": "stream",
     "text": [
      "5705\n"
     ]
    },
    {
     "name": "stderr",
     "output_type": "stream",
     "text": [
      "Loading model cost 1.274 seconds.\n",
      "Prefix dict has been built succesfully.\n",
      "Building prefix dict from C:\\Users\\PETER\\OneDrive\\桌面\\Klook 7\\dict.txt.big ...\n",
      "Loading model from cache C:\\Users\\PETER\\AppData\\Local\\Temp\\jieba.u6fb6e872883c6d9c08ea8e016e70c5c1.cache\n"
     ]
    },
    {
     "name": "stdout",
     "output_type": "stream",
     "text": [
      "5750\n"
     ]
    },
    {
     "name": "stderr",
     "output_type": "stream",
     "text": [
      "Loading model cost 1.208 seconds.\n",
      "Prefix dict has been built succesfully.\n",
      "Building prefix dict from C:\\Users\\PETER\\OneDrive\\桌面\\Klook 7\\dict.txt.big ...\n",
      "Loading model from cache C:\\Users\\PETER\\AppData\\Local\\Temp\\jieba.u6fb6e872883c6d9c08ea8e016e70c5c1.cache\n"
     ]
    },
    {
     "name": "stdout",
     "output_type": "stream",
     "text": [
      "5809\n"
     ]
    },
    {
     "name": "stderr",
     "output_type": "stream",
     "text": [
      "Loading model cost 1.213 seconds.\n",
      "Prefix dict has been built succesfully.\n",
      "Building prefix dict from C:\\Users\\PETER\\OneDrive\\桌面\\Klook 7\\dict.txt.big ...\n",
      "Loading model from cache C:\\Users\\PETER\\AppData\\Local\\Temp\\jieba.u6fb6e872883c6d9c08ea8e016e70c5c1.cache\n"
     ]
    },
    {
     "name": "stdout",
     "output_type": "stream",
     "text": [
      "5810\n"
     ]
    },
    {
     "name": "stderr",
     "output_type": "stream",
     "text": [
      "Loading model cost 1.205 seconds.\n",
      "Prefix dict has been built succesfully.\n",
      "Building prefix dict from C:\\Users\\PETER\\OneDrive\\桌面\\Klook 7\\dict.txt.big ...\n",
      "Loading model from cache C:\\Users\\PETER\\AppData\\Local\\Temp\\jieba.u6fb6e872883c6d9c08ea8e016e70c5c1.cache\n"
     ]
    },
    {
     "name": "stdout",
     "output_type": "stream",
     "text": [
      "592\n"
     ]
    },
    {
     "name": "stderr",
     "output_type": "stream",
     "text": [
      "Loading model cost 1.217 seconds.\n",
      "Prefix dict has been built succesfully.\n",
      "Building prefix dict from C:\\Users\\PETER\\OneDrive\\桌面\\Klook 7\\dict.txt.big ...\n",
      "Loading model from cache C:\\Users\\PETER\\AppData\\Local\\Temp\\jieba.u6fb6e872883c6d9c08ea8e016e70c5c1.cache\n"
     ]
    },
    {
     "name": "stdout",
     "output_type": "stream",
     "text": [
      "5952\n"
     ]
    },
    {
     "name": "stderr",
     "output_type": "stream",
     "text": [
      "Loading model cost 1.200 seconds.\n",
      "Prefix dict has been built succesfully.\n",
      "Building prefix dict from C:\\Users\\PETER\\OneDrive\\桌面\\Klook 7\\dict.txt.big ...\n",
      "Loading model from cache C:\\Users\\PETER\\AppData\\Local\\Temp\\jieba.u6fb6e872883c6d9c08ea8e016e70c5c1.cache\n"
     ]
    },
    {
     "name": "stdout",
     "output_type": "stream",
     "text": [
      "598\n"
     ]
    },
    {
     "name": "stderr",
     "output_type": "stream",
     "text": [
      "Loading model cost 1.262 seconds.\n",
      "Prefix dict has been built succesfully.\n",
      "Building prefix dict from C:\\Users\\PETER\\OneDrive\\桌面\\Klook 7\\dict.txt.big ...\n",
      "Loading model from cache C:\\Users\\PETER\\AppData\\Local\\Temp\\jieba.u6fb6e872883c6d9c08ea8e016e70c5c1.cache\n"
     ]
    },
    {
     "name": "stdout",
     "output_type": "stream",
     "text": [
      "600\n"
     ]
    },
    {
     "name": "stderr",
     "output_type": "stream",
     "text": [
      "Loading model cost 1.333 seconds.\n",
      "Prefix dict has been built succesfully.\n",
      "Building prefix dict from C:\\Users\\PETER\\OneDrive\\桌面\\Klook 7\\dict.txt.big ...\n",
      "Loading model from cache C:\\Users\\PETER\\AppData\\Local\\Temp\\jieba.u6fb6e872883c6d9c08ea8e016e70c5c1.cache\n"
     ]
    },
    {
     "name": "stdout",
     "output_type": "stream",
     "text": [
      "6001\n"
     ]
    },
    {
     "name": "stderr",
     "output_type": "stream",
     "text": [
      "Loading model cost 1.220 seconds.\n",
      "Prefix dict has been built succesfully.\n",
      "Building prefix dict from C:\\Users\\PETER\\OneDrive\\桌面\\Klook 7\\dict.txt.big ...\n",
      "Loading model from cache C:\\Users\\PETER\\AppData\\Local\\Temp\\jieba.u6fb6e872883c6d9c08ea8e016e70c5c1.cache\n"
     ]
    },
    {
     "name": "stdout",
     "output_type": "stream",
     "text": [
      "6002\n"
     ]
    },
    {
     "name": "stderr",
     "output_type": "stream",
     "text": [
      "Loading model cost 1.272 seconds.\n",
      "Prefix dict has been built succesfully.\n",
      "Building prefix dict from C:\\Users\\PETER\\OneDrive\\桌面\\Klook 7\\dict.txt.big ...\n",
      "Loading model from cache C:\\Users\\PETER\\AppData\\Local\\Temp\\jieba.u6fb6e872883c6d9c08ea8e016e70c5c1.cache\n"
     ]
    },
    {
     "name": "stdout",
     "output_type": "stream",
     "text": [
      "603\n"
     ]
    },
    {
     "name": "stderr",
     "output_type": "stream",
     "text": [
      "Loading model cost 1.216 seconds.\n",
      "Prefix dict has been built succesfully.\n",
      "Building prefix dict from C:\\Users\\PETER\\OneDrive\\桌面\\Klook 7\\dict.txt.big ...\n",
      "Loading model from cache C:\\Users\\PETER\\AppData\\Local\\Temp\\jieba.u6fb6e872883c6d9c08ea8e016e70c5c1.cache\n"
     ]
    },
    {
     "name": "stdout",
     "output_type": "stream",
     "text": [
      "606\n"
     ]
    },
    {
     "name": "stderr",
     "output_type": "stream",
     "text": [
      "Loading model cost 1.213 seconds.\n",
      "Prefix dict has been built succesfully.\n",
      "Building prefix dict from C:\\Users\\PETER\\OneDrive\\桌面\\Klook 7\\dict.txt.big ...\n",
      "Loading model from cache C:\\Users\\PETER\\AppData\\Local\\Temp\\jieba.u6fb6e872883c6d9c08ea8e016e70c5c1.cache\n"
     ]
    },
    {
     "name": "stdout",
     "output_type": "stream",
     "text": [
      "608\n"
     ]
    },
    {
     "name": "stderr",
     "output_type": "stream",
     "text": [
      "Loading model cost 1.214 seconds.\n",
      "Prefix dict has been built succesfully.\n",
      "Building prefix dict from C:\\Users\\PETER\\OneDrive\\桌面\\Klook 7\\dict.txt.big ...\n",
      "Loading model from cache C:\\Users\\PETER\\AppData\\Local\\Temp\\jieba.u6fb6e872883c6d9c08ea8e016e70c5c1.cache\n"
     ]
    },
    {
     "name": "stdout",
     "output_type": "stream",
     "text": [
      "6081\n"
     ]
    },
    {
     "name": "stderr",
     "output_type": "stream",
     "text": [
      "Loading model cost 1.216 seconds.\n",
      "Prefix dict has been built succesfully.\n",
      "Building prefix dict from C:\\Users\\PETER\\OneDrive\\桌面\\Klook 7\\dict.txt.big ...\n",
      "Loading model from cache C:\\Users\\PETER\\AppData\\Local\\Temp\\jieba.u6fb6e872883c6d9c08ea8e016e70c5c1.cache\n"
     ]
    },
    {
     "name": "stdout",
     "output_type": "stream",
     "text": [
      "6088\n"
     ]
    },
    {
     "name": "stderr",
     "output_type": "stream",
     "text": [
      "Loading model cost 1.215 seconds.\n",
      "Prefix dict has been built succesfully.\n",
      "Building prefix dict from C:\\Users\\PETER\\OneDrive\\桌面\\Klook 7\\dict.txt.big ...\n",
      "Loading model from cache C:\\Users\\PETER\\AppData\\Local\\Temp\\jieba.u6fb6e872883c6d9c08ea8e016e70c5c1.cache\n"
     ]
    },
    {
     "name": "stdout",
     "output_type": "stream",
     "text": [
      "609\n"
     ]
    },
    {
     "name": "stderr",
     "output_type": "stream",
     "text": [
      "Loading model cost 1.217 seconds.\n",
      "Prefix dict has been built succesfully.\n",
      "Building prefix dict from C:\\Users\\PETER\\OneDrive\\桌面\\Klook 7\\dict.txt.big ...\n",
      "Loading model from cache C:\\Users\\PETER\\AppData\\Local\\Temp\\jieba.u6fb6e872883c6d9c08ea8e016e70c5c1.cache\n"
     ]
    },
    {
     "name": "stdout",
     "output_type": "stream",
     "text": [
      "616\n"
     ]
    },
    {
     "name": "stderr",
     "output_type": "stream",
     "text": [
      "Loading model cost 1.211 seconds.\n",
      "Prefix dict has been built succesfully.\n",
      "Building prefix dict from C:\\Users\\PETER\\OneDrive\\桌面\\Klook 7\\dict.txt.big ...\n",
      "Loading model from cache C:\\Users\\PETER\\AppData\\Local\\Temp\\jieba.u6fb6e872883c6d9c08ea8e016e70c5c1.cache\n"
     ]
    },
    {
     "name": "stdout",
     "output_type": "stream",
     "text": [
      "619\n"
     ]
    },
    {
     "name": "stderr",
     "output_type": "stream",
     "text": [
      "Loading model cost 1.262 seconds.\n",
      "Prefix dict has been built succesfully.\n",
      "Building prefix dict from C:\\Users\\PETER\\OneDrive\\桌面\\Klook 7\\dict.txt.big ...\n",
      "Loading model from cache C:\\Users\\PETER\\AppData\\Local\\Temp\\jieba.u6fb6e872883c6d9c08ea8e016e70c5c1.cache\n"
     ]
    },
    {
     "name": "stdout",
     "output_type": "stream",
     "text": [
      "6211\n"
     ]
    },
    {
     "name": "stderr",
     "output_type": "stream",
     "text": [
      "Loading model cost 1.207 seconds.\n",
      "Prefix dict has been built succesfully.\n",
      "Building prefix dict from C:\\Users\\PETER\\OneDrive\\桌面\\Klook 7\\dict.txt.big ...\n",
      "Loading model from cache C:\\Users\\PETER\\AppData\\Local\\Temp\\jieba.u6fb6e872883c6d9c08ea8e016e70c5c1.cache\n"
     ]
    },
    {
     "name": "stdout",
     "output_type": "stream",
     "text": [
      "6241\n"
     ]
    },
    {
     "name": "stderr",
     "output_type": "stream",
     "text": [
      "Loading model cost 1.208 seconds.\n",
      "Prefix dict has been built succesfully.\n",
      "Building prefix dict from C:\\Users\\PETER\\OneDrive\\桌面\\Klook 7\\dict.txt.big ...\n",
      "Loading model from cache C:\\Users\\PETER\\AppData\\Local\\Temp\\jieba.u6fb6e872883c6d9c08ea8e016e70c5c1.cache\n"
     ]
    },
    {
     "name": "stdout",
     "output_type": "stream",
     "text": [
      "625\n"
     ]
    },
    {
     "name": "stderr",
     "output_type": "stream",
     "text": [
      "Loading model cost 1.213 seconds.\n",
      "Prefix dict has been built succesfully.\n",
      "Building prefix dict from C:\\Users\\PETER\\OneDrive\\桌面\\Klook 7\\dict.txt.big ...\n",
      "Loading model from cache C:\\Users\\PETER\\AppData\\Local\\Temp\\jieba.u6fb6e872883c6d9c08ea8e016e70c5c1.cache\n"
     ]
    },
    {
     "name": "stdout",
     "output_type": "stream",
     "text": [
      "6269\n"
     ]
    },
    {
     "name": "stderr",
     "output_type": "stream",
     "text": [
      "Loading model cost 1.210 seconds.\n",
      "Prefix dict has been built succesfully.\n",
      "Building prefix dict from C:\\Users\\PETER\\OneDrive\\桌面\\Klook 7\\dict.txt.big ...\n",
      "Loading model from cache C:\\Users\\PETER\\AppData\\Local\\Temp\\jieba.u6fb6e872883c6d9c08ea8e016e70c5c1.cache\n"
     ]
    },
    {
     "name": "stdout",
     "output_type": "stream",
     "text": [
      "6270\n"
     ]
    },
    {
     "name": "stderr",
     "output_type": "stream",
     "text": [
      "Loading model cost 1.231 seconds.\n",
      "Prefix dict has been built succesfully.\n",
      "Building prefix dict from C:\\Users\\PETER\\OneDrive\\桌面\\Klook 7\\dict.txt.big ...\n",
      "Loading model from cache C:\\Users\\PETER\\AppData\\Local\\Temp\\jieba.u6fb6e872883c6d9c08ea8e016e70c5c1.cache\n"
     ]
    },
    {
     "name": "stdout",
     "output_type": "stream",
     "text": [
      "631\n"
     ]
    },
    {
     "name": "stderr",
     "output_type": "stream",
     "text": [
      "Loading model cost 1.245 seconds.\n",
      "Prefix dict has been built succesfully.\n",
      "Building prefix dict from C:\\Users\\PETER\\OneDrive\\桌面\\Klook 7\\dict.txt.big ...\n",
      "Loading model from cache C:\\Users\\PETER\\AppData\\Local\\Temp\\jieba.u6fb6e872883c6d9c08ea8e016e70c5c1.cache\n"
     ]
    },
    {
     "name": "stdout",
     "output_type": "stream",
     "text": [
      "6316\n"
     ]
    },
    {
     "name": "stderr",
     "output_type": "stream",
     "text": [
      "Loading model cost 1.250 seconds.\n",
      "Prefix dict has been built succesfully.\n",
      "Building prefix dict from C:\\Users\\PETER\\OneDrive\\桌面\\Klook 7\\dict.txt.big ...\n",
      "Loading model from cache C:\\Users\\PETER\\AppData\\Local\\Temp\\jieba.u6fb6e872883c6d9c08ea8e016e70c5c1.cache\n"
     ]
    },
    {
     "name": "stdout",
     "output_type": "stream",
     "text": [
      "632\n"
     ]
    },
    {
     "name": "stderr",
     "output_type": "stream",
     "text": [
      "Loading model cost 1.210 seconds.\n",
      "Prefix dict has been built succesfully.\n",
      "Building prefix dict from C:\\Users\\PETER\\OneDrive\\桌面\\Klook 7\\dict.txt.big ...\n",
      "Loading model from cache C:\\Users\\PETER\\AppData\\Local\\Temp\\jieba.u6fb6e872883c6d9c08ea8e016e70c5c1.cache\n"
     ]
    },
    {
     "name": "stdout",
     "output_type": "stream",
     "text": [
      "6336\n"
     ]
    },
    {
     "name": "stderr",
     "output_type": "stream",
     "text": [
      "Loading model cost 1.332 seconds.\n",
      "Prefix dict has been built succesfully.\n",
      "Building prefix dict from C:\\Users\\PETER\\OneDrive\\桌面\\Klook 7\\dict.txt.big ...\n",
      "Loading model from cache C:\\Users\\PETER\\AppData\\Local\\Temp\\jieba.u6fb6e872883c6d9c08ea8e016e70c5c1.cache\n"
     ]
    },
    {
     "name": "stdout",
     "output_type": "stream",
     "text": [
      "636\n"
     ]
    },
    {
     "name": "stderr",
     "output_type": "stream",
     "text": [
      "Loading model cost 1.208 seconds.\n",
      "Prefix dict has been built succesfully.\n",
      "Building prefix dict from C:\\Users\\PETER\\OneDrive\\桌面\\Klook 7\\dict.txt.big ...\n",
      "Loading model from cache C:\\Users\\PETER\\AppData\\Local\\Temp\\jieba.u6fb6e872883c6d9c08ea8e016e70c5c1.cache\n"
     ]
    },
    {
     "name": "stdout",
     "output_type": "stream",
     "text": [
      "637\n"
     ]
    },
    {
     "name": "stderr",
     "output_type": "stream",
     "text": [
      "Loading model cost 1.208 seconds.\n",
      "Prefix dict has been built succesfully.\n",
      "Building prefix dict from C:\\Users\\PETER\\OneDrive\\桌面\\Klook 7\\dict.txt.big ...\n",
      "Loading model from cache C:\\Users\\PETER\\AppData\\Local\\Temp\\jieba.u6fb6e872883c6d9c08ea8e016e70c5c1.cache\n"
     ]
    },
    {
     "name": "stdout",
     "output_type": "stream",
     "text": [
      "640\n"
     ]
    },
    {
     "name": "stderr",
     "output_type": "stream",
     "text": [
      "Loading model cost 1.216 seconds.\n",
      "Prefix dict has been built succesfully.\n",
      "Building prefix dict from C:\\Users\\PETER\\OneDrive\\桌面\\Klook 7\\dict.txt.big ...\n",
      "Loading model from cache C:\\Users\\PETER\\AppData\\Local\\Temp\\jieba.u6fb6e872883c6d9c08ea8e016e70c5c1.cache\n"
     ]
    },
    {
     "name": "stdout",
     "output_type": "stream",
     "text": [
      "6426\n"
     ]
    },
    {
     "name": "stderr",
     "output_type": "stream",
     "text": [
      "Loading model cost 1.209 seconds.\n",
      "Prefix dict has been built succesfully.\n",
      "Building prefix dict from C:\\Users\\PETER\\OneDrive\\桌面\\Klook 7\\dict.txt.big ...\n",
      "Loading model from cache C:\\Users\\PETER\\AppData\\Local\\Temp\\jieba.u6fb6e872883c6d9c08ea8e016e70c5c1.cache\n"
     ]
    },
    {
     "name": "stdout",
     "output_type": "stream",
     "text": [
      "646\n"
     ]
    },
    {
     "name": "stderr",
     "output_type": "stream",
     "text": [
      "Loading model cost 1.212 seconds.\n",
      "Prefix dict has been built succesfully.\n",
      "Building prefix dict from C:\\Users\\PETER\\OneDrive\\桌面\\Klook 7\\dict.txt.big ...\n",
      "Loading model from cache C:\\Users\\PETER\\AppData\\Local\\Temp\\jieba.u6fb6e872883c6d9c08ea8e016e70c5c1.cache\n"
     ]
    },
    {
     "name": "stdout",
     "output_type": "stream",
     "text": [
      "647\n"
     ]
    },
    {
     "name": "stderr",
     "output_type": "stream",
     "text": [
      "Loading model cost 1.204 seconds.\n",
      "Prefix dict has been built succesfully.\n",
      "Building prefix dict from C:\\Users\\PETER\\OneDrive\\桌面\\Klook 7\\dict.txt.big ...\n",
      "Loading model from cache C:\\Users\\PETER\\AppData\\Local\\Temp\\jieba.u6fb6e872883c6d9c08ea8e016e70c5c1.cache\n"
     ]
    },
    {
     "name": "stdout",
     "output_type": "stream",
     "text": [
      "649\n"
     ]
    },
    {
     "name": "stderr",
     "output_type": "stream",
     "text": [
      "Loading model cost 1.234 seconds.\n",
      "Prefix dict has been built succesfully.\n",
      "Building prefix dict from C:\\Users\\PETER\\OneDrive\\桌面\\Klook 7\\dict.txt.big ...\n",
      "Loading model from cache C:\\Users\\PETER\\AppData\\Local\\Temp\\jieba.u6fb6e872883c6d9c08ea8e016e70c5c1.cache\n"
     ]
    },
    {
     "name": "stdout",
     "output_type": "stream",
     "text": [
      "651\n"
     ]
    },
    {
     "name": "stderr",
     "output_type": "stream",
     "text": [
      "Loading model cost 1.216 seconds.\n",
      "Prefix dict has been built succesfully.\n",
      "Building prefix dict from C:\\Users\\PETER\\OneDrive\\桌面\\Klook 7\\dict.txt.big ...\n",
      "Loading model from cache C:\\Users\\PETER\\AppData\\Local\\Temp\\jieba.u6fb6e872883c6d9c08ea8e016e70c5c1.cache\n"
     ]
    },
    {
     "name": "stdout",
     "output_type": "stream",
     "text": [
      "6659\n"
     ]
    },
    {
     "name": "stderr",
     "output_type": "stream",
     "text": [
      "Loading model cost 1.215 seconds.\n",
      "Prefix dict has been built succesfully.\n",
      "Building prefix dict from C:\\Users\\PETER\\OneDrive\\桌面\\Klook 7\\dict.txt.big ...\n",
      "Loading model from cache C:\\Users\\PETER\\AppData\\Local\\Temp\\jieba.u6fb6e872883c6d9c08ea8e016e70c5c1.cache\n"
     ]
    },
    {
     "name": "stdout",
     "output_type": "stream",
     "text": [
      "6703\n"
     ]
    },
    {
     "name": "stderr",
     "output_type": "stream",
     "text": [
      "Loading model cost 1.201 seconds.\n",
      "Prefix dict has been built succesfully.\n",
      "Building prefix dict from C:\\Users\\PETER\\OneDrive\\桌面\\Klook 7\\dict.txt.big ...\n",
      "Loading model from cache C:\\Users\\PETER\\AppData\\Local\\Temp\\jieba.u6fb6e872883c6d9c08ea8e016e70c5c1.cache\n"
     ]
    },
    {
     "name": "stdout",
     "output_type": "stream",
     "text": [
      "6793\n"
     ]
    },
    {
     "name": "stderr",
     "output_type": "stream",
     "text": [
      "Loading model cost 1.201 seconds.\n",
      "Prefix dict has been built succesfully.\n",
      "Building prefix dict from C:\\Users\\PETER\\OneDrive\\桌面\\Klook 7\\dict.txt.big ...\n",
      "Loading model from cache C:\\Users\\PETER\\AppData\\Local\\Temp\\jieba.u6fb6e872883c6d9c08ea8e016e70c5c1.cache\n"
     ]
    },
    {
     "name": "stdout",
     "output_type": "stream",
     "text": [
      "7254\n"
     ]
    },
    {
     "name": "stderr",
     "output_type": "stream",
     "text": [
      "Loading model cost 1.220 seconds.\n",
      "Prefix dict has been built succesfully.\n",
      "Building prefix dict from C:\\Users\\PETER\\OneDrive\\桌面\\Klook 7\\dict.txt.big ...\n",
      "Loading model from cache C:\\Users\\PETER\\AppData\\Local\\Temp\\jieba.u6fb6e872883c6d9c08ea8e016e70c5c1.cache\n"
     ]
    },
    {
     "name": "stdout",
     "output_type": "stream",
     "text": [
      "7402\n"
     ]
    },
    {
     "name": "stderr",
     "output_type": "stream",
     "text": [
      "Loading model cost 1.212 seconds.\n",
      "Prefix dict has been built succesfully.\n",
      "Building prefix dict from C:\\Users\\PETER\\OneDrive\\桌面\\Klook 7\\dict.txt.big ...\n",
      "Loading model from cache C:\\Users\\PETER\\AppData\\Local\\Temp\\jieba.u6fb6e872883c6d9c08ea8e016e70c5c1.cache\n"
     ]
    },
    {
     "name": "stdout",
     "output_type": "stream",
     "text": [
      "7695\n"
     ]
    },
    {
     "name": "stderr",
     "output_type": "stream",
     "text": [
      "Loading model cost 1.211 seconds.\n",
      "Prefix dict has been built succesfully.\n",
      "Building prefix dict from C:\\Users\\PETER\\OneDrive\\桌面\\Klook 7\\dict.txt.big ...\n",
      "Loading model from cache C:\\Users\\PETER\\AppData\\Local\\Temp\\jieba.u6fb6e872883c6d9c08ea8e016e70c5c1.cache\n"
     ]
    },
    {
     "name": "stdout",
     "output_type": "stream",
     "text": [
      "7719\n"
     ]
    },
    {
     "name": "stderr",
     "output_type": "stream",
     "text": [
      "Loading model cost 1.214 seconds.\n",
      "Prefix dict has been built succesfully.\n",
      "Building prefix dict from C:\\Users\\PETER\\OneDrive\\桌面\\Klook 7\\dict.txt.big ...\n",
      "Loading model from cache C:\\Users\\PETER\\AppData\\Local\\Temp\\jieba.u6fb6e872883c6d9c08ea8e016e70c5c1.cache\n"
     ]
    },
    {
     "name": "stdout",
     "output_type": "stream",
     "text": [
      "7754\n"
     ]
    },
    {
     "name": "stderr",
     "output_type": "stream",
     "text": [
      "Loading model cost 1.202 seconds.\n",
      "Prefix dict has been built succesfully.\n",
      "Building prefix dict from C:\\Users\\PETER\\OneDrive\\桌面\\Klook 7\\dict.txt.big ...\n",
      "Loading model from cache C:\\Users\\PETER\\AppData\\Local\\Temp\\jieba.u6fb6e872883c6d9c08ea8e016e70c5c1.cache\n"
     ]
    },
    {
     "name": "stdout",
     "output_type": "stream",
     "text": [
      "7814\n"
     ]
    },
    {
     "name": "stderr",
     "output_type": "stream",
     "text": [
      "Loading model cost 1.216 seconds.\n",
      "Prefix dict has been built succesfully.\n",
      "Building prefix dict from C:\\Users\\PETER\\OneDrive\\桌面\\Klook 7\\dict.txt.big ...\n",
      "Loading model from cache C:\\Users\\PETER\\AppData\\Local\\Temp\\jieba.u6fb6e872883c6d9c08ea8e016e70c5c1.cache\n"
     ]
    },
    {
     "name": "stdout",
     "output_type": "stream",
     "text": [
      "7891\n"
     ]
    },
    {
     "name": "stderr",
     "output_type": "stream",
     "text": [
      "Loading model cost 1.213 seconds.\n",
      "Prefix dict has been built succesfully.\n",
      "Building prefix dict from C:\\Users\\PETER\\OneDrive\\桌面\\Klook 7\\dict.txt.big ...\n",
      "Loading model from cache C:\\Users\\PETER\\AppData\\Local\\Temp\\jieba.u6fb6e872883c6d9c08ea8e016e70c5c1.cache\n"
     ]
    },
    {
     "name": "stdout",
     "output_type": "stream",
     "text": [
      "792\n"
     ]
    },
    {
     "name": "stderr",
     "output_type": "stream",
     "text": [
      "Loading model cost 1.221 seconds.\n",
      "Prefix dict has been built succesfully.\n",
      "Building prefix dict from C:\\Users\\PETER\\OneDrive\\桌面\\Klook 7\\dict.txt.big ...\n",
      "Loading model from cache C:\\Users\\PETER\\AppData\\Local\\Temp\\jieba.u6fb6e872883c6d9c08ea8e016e70c5c1.cache\n"
     ]
    },
    {
     "name": "stdout",
     "output_type": "stream",
     "text": [
      "793\n"
     ]
    },
    {
     "name": "stderr",
     "output_type": "stream",
     "text": [
      "Loading model cost 1.231 seconds.\n",
      "Prefix dict has been built succesfully.\n",
      "Building prefix dict from C:\\Users\\PETER\\OneDrive\\桌面\\Klook 7\\dict.txt.big ...\n",
      "Loading model from cache C:\\Users\\PETER\\AppData\\Local\\Temp\\jieba.u6fb6e872883c6d9c08ea8e016e70c5c1.cache\n"
     ]
    },
    {
     "name": "stdout",
     "output_type": "stream",
     "text": [
      "7959\n"
     ]
    },
    {
     "name": "stderr",
     "output_type": "stream",
     "text": [
      "Loading model cost 1.220 seconds.\n",
      "Prefix dict has been built succesfully.\n",
      "Building prefix dict from C:\\Users\\PETER\\OneDrive\\桌面\\Klook 7\\dict.txt.big ...\n",
      "Loading model from cache C:\\Users\\PETER\\AppData\\Local\\Temp\\jieba.u6fb6e872883c6d9c08ea8e016e70c5c1.cache\n"
     ]
    },
    {
     "name": "stdout",
     "output_type": "stream",
     "text": [
      "828\n"
     ]
    },
    {
     "name": "stderr",
     "output_type": "stream",
     "text": [
      "Loading model cost 1.208 seconds.\n",
      "Prefix dict has been built succesfully.\n",
      "Building prefix dict from C:\\Users\\PETER\\OneDrive\\桌面\\Klook 7\\dict.txt.big ...\n",
      "Loading model from cache C:\\Users\\PETER\\AppData\\Local\\Temp\\jieba.u6fb6e872883c6d9c08ea8e016e70c5c1.cache\n"
     ]
    },
    {
     "name": "stdout",
     "output_type": "stream",
     "text": [
      "8318\n"
     ]
    },
    {
     "name": "stderr",
     "output_type": "stream",
     "text": [
      "Loading model cost 1.212 seconds.\n",
      "Prefix dict has been built succesfully.\n",
      "Building prefix dict from C:\\Users\\PETER\\OneDrive\\桌面\\Klook 7\\dict.txt.big ...\n",
      "Loading model from cache C:\\Users\\PETER\\AppData\\Local\\Temp\\jieba.u6fb6e872883c6d9c08ea8e016e70c5c1.cache\n"
     ]
    },
    {
     "name": "stdout",
     "output_type": "stream",
     "text": [
      "835\n"
     ]
    },
    {
     "name": "stderr",
     "output_type": "stream",
     "text": [
      "Loading model cost 1.208 seconds.\n",
      "Prefix dict has been built succesfully.\n",
      "Building prefix dict from C:\\Users\\PETER\\OneDrive\\桌面\\Klook 7\\dict.txt.big ...\n",
      "Loading model from cache C:\\Users\\PETER\\AppData\\Local\\Temp\\jieba.u6fb6e872883c6d9c08ea8e016e70c5c1.cache\n"
     ]
    },
    {
     "name": "stdout",
     "output_type": "stream",
     "text": [
      "8500\n"
     ]
    },
    {
     "name": "stderr",
     "output_type": "stream",
     "text": [
      "Loading model cost 1.196 seconds.\n",
      "Prefix dict has been built succesfully.\n",
      "Building prefix dict from C:\\Users\\PETER\\OneDrive\\桌面\\Klook 7\\dict.txt.big ...\n",
      "Loading model from cache C:\\Users\\PETER\\AppData\\Local\\Temp\\jieba.u6fb6e872883c6d9c08ea8e016e70c5c1.cache\n"
     ]
    },
    {
     "name": "stdout",
     "output_type": "stream",
     "text": [
      "8590\n"
     ]
    },
    {
     "name": "stderr",
     "output_type": "stream",
     "text": [
      "Loading model cost 1.199 seconds.\n",
      "Prefix dict has been built succesfully.\n",
      "Building prefix dict from C:\\Users\\PETER\\OneDrive\\桌面\\Klook 7\\dict.txt.big ...\n",
      "Loading model from cache C:\\Users\\PETER\\AppData\\Local\\Temp\\jieba.u6fb6e872883c6d9c08ea8e016e70c5c1.cache\n"
     ]
    },
    {
     "name": "stdout",
     "output_type": "stream",
     "text": [
      "8644\n"
     ]
    },
    {
     "name": "stderr",
     "output_type": "stream",
     "text": [
      "Loading model cost 1.210 seconds.\n",
      "Prefix dict has been built succesfully.\n",
      "Building prefix dict from C:\\Users\\PETER\\OneDrive\\桌面\\Klook 7\\dict.txt.big ...\n",
      "Loading model from cache C:\\Users\\PETER\\AppData\\Local\\Temp\\jieba.u6fb6e872883c6d9c08ea8e016e70c5c1.cache\n"
     ]
    },
    {
     "name": "stdout",
     "output_type": "stream",
     "text": [
      "871\n"
     ]
    },
    {
     "name": "stderr",
     "output_type": "stream",
     "text": [
      "Loading model cost 1.219 seconds.\n",
      "Prefix dict has been built succesfully.\n",
      "Building prefix dict from C:\\Users\\PETER\\OneDrive\\桌面\\Klook 7\\dict.txt.big ...\n",
      "Loading model from cache C:\\Users\\PETER\\AppData\\Local\\Temp\\jieba.u6fb6e872883c6d9c08ea8e016e70c5c1.cache\n"
     ]
    },
    {
     "name": "stdout",
     "output_type": "stream",
     "text": [
      "872\n"
     ]
    },
    {
     "name": "stderr",
     "output_type": "stream",
     "text": [
      "Loading model cost 1.206 seconds.\n",
      "Prefix dict has been built succesfully.\n",
      "Building prefix dict from C:\\Users\\PETER\\OneDrive\\桌面\\Klook 7\\dict.txt.big ...\n",
      "Loading model from cache C:\\Users\\PETER\\AppData\\Local\\Temp\\jieba.u6fb6e872883c6d9c08ea8e016e70c5c1.cache\n"
     ]
    },
    {
     "name": "stdout",
     "output_type": "stream",
     "text": [
      "8758\n"
     ]
    },
    {
     "name": "stderr",
     "output_type": "stream",
     "text": [
      "Loading model cost 1.205 seconds.\n",
      "Prefix dict has been built succesfully.\n",
      "Building prefix dict from C:\\Users\\PETER\\OneDrive\\桌面\\Klook 7\\dict.txt.big ...\n",
      "Loading model from cache C:\\Users\\PETER\\AppData\\Local\\Temp\\jieba.u6fb6e872883c6d9c08ea8e016e70c5c1.cache\n"
     ]
    },
    {
     "name": "stdout",
     "output_type": "stream",
     "text": [
      "8772\n"
     ]
    },
    {
     "name": "stderr",
     "output_type": "stream",
     "text": [
      "Loading model cost 1.227 seconds.\n",
      "Prefix dict has been built succesfully.\n",
      "Building prefix dict from C:\\Users\\PETER\\OneDrive\\桌面\\Klook 7\\dict.txt.big ...\n",
      "Loading model from cache C:\\Users\\PETER\\AppData\\Local\\Temp\\jieba.u6fb6e872883c6d9c08ea8e016e70c5c1.cache\n"
     ]
    },
    {
     "name": "stdout",
     "output_type": "stream",
     "text": [
      "8773\n"
     ]
    },
    {
     "name": "stderr",
     "output_type": "stream",
     "text": [
      "Loading model cost 1.218 seconds.\n",
      "Prefix dict has been built succesfully.\n",
      "Building prefix dict from C:\\Users\\PETER\\OneDrive\\桌面\\Klook 7\\dict.txt.big ...\n",
      "Loading model from cache C:\\Users\\PETER\\AppData\\Local\\Temp\\jieba.u6fb6e872883c6d9c08ea8e016e70c5c1.cache\n"
     ]
    },
    {
     "name": "stdout",
     "output_type": "stream",
     "text": [
      "8774\n"
     ]
    },
    {
     "name": "stderr",
     "output_type": "stream",
     "text": [
      "Loading model cost 1.216 seconds.\n",
      "Prefix dict has been built succesfully.\n",
      "Building prefix dict from C:\\Users\\PETER\\OneDrive\\桌面\\Klook 7\\dict.txt.big ...\n",
      "Loading model from cache C:\\Users\\PETER\\AppData\\Local\\Temp\\jieba.u6fb6e872883c6d9c08ea8e016e70c5c1.cache\n"
     ]
    },
    {
     "name": "stdout",
     "output_type": "stream",
     "text": [
      "8777\n"
     ]
    },
    {
     "name": "stderr",
     "output_type": "stream",
     "text": [
      "Loading model cost 1.261 seconds.\n",
      "Prefix dict has been built succesfully.\n",
      "Building prefix dict from C:\\Users\\PETER\\OneDrive\\桌面\\Klook 7\\dict.txt.big ...\n",
      "Loading model from cache C:\\Users\\PETER\\AppData\\Local\\Temp\\jieba.u6fb6e872883c6d9c08ea8e016e70c5c1.cache\n"
     ]
    },
    {
     "name": "stdout",
     "output_type": "stream",
     "text": [
      "8809\n"
     ]
    },
    {
     "name": "stderr",
     "output_type": "stream",
     "text": [
      "Loading model cost 1.236 seconds.\n",
      "Prefix dict has been built succesfully.\n",
      "Building prefix dict from C:\\Users\\PETER\\OneDrive\\桌面\\Klook 7\\dict.txt.big ...\n",
      "Loading model from cache C:\\Users\\PETER\\AppData\\Local\\Temp\\jieba.u6fb6e872883c6d9c08ea8e016e70c5c1.cache\n"
     ]
    },
    {
     "name": "stdout",
     "output_type": "stream",
     "text": [
      "8818\n"
     ]
    },
    {
     "name": "stderr",
     "output_type": "stream",
     "text": [
      "Loading model cost 1.205 seconds.\n",
      "Prefix dict has been built succesfully.\n",
      "Building prefix dict from C:\\Users\\PETER\\OneDrive\\桌面\\Klook 7\\dict.txt.big ...\n",
      "Loading model from cache C:\\Users\\PETER\\AppData\\Local\\Temp\\jieba.u6fb6e872883c6d9c08ea8e016e70c5c1.cache\n"
     ]
    },
    {
     "name": "stdout",
     "output_type": "stream",
     "text": [
      "882\n"
     ]
    },
    {
     "name": "stderr",
     "output_type": "stream",
     "text": [
      "Loading model cost 1.215 seconds.\n",
      "Prefix dict has been built succesfully.\n",
      "Building prefix dict from C:\\Users\\PETER\\OneDrive\\桌面\\Klook 7\\dict.txt.big ...\n",
      "Loading model from cache C:\\Users\\PETER\\AppData\\Local\\Temp\\jieba.u6fb6e872883c6d9c08ea8e016e70c5c1.cache\n"
     ]
    },
    {
     "name": "stdout",
     "output_type": "stream",
     "text": [
      "883\n"
     ]
    },
    {
     "name": "stderr",
     "output_type": "stream",
     "text": [
      "Loading model cost 1.214 seconds.\n",
      "Prefix dict has been built succesfully.\n",
      "Building prefix dict from C:\\Users\\PETER\\OneDrive\\桌面\\Klook 7\\dict.txt.big ...\n",
      "Loading model from cache C:\\Users\\PETER\\AppData\\Local\\Temp\\jieba.u6fb6e872883c6d9c08ea8e016e70c5c1.cache\n"
     ]
    },
    {
     "name": "stdout",
     "output_type": "stream",
     "text": [
      "8855\n"
     ]
    },
    {
     "name": "stderr",
     "output_type": "stream",
     "text": [
      "Loading model cost 1.215 seconds.\n",
      "Prefix dict has been built succesfully.\n",
      "Building prefix dict from C:\\Users\\PETER\\OneDrive\\桌面\\Klook 7\\dict.txt.big ...\n",
      "Loading model from cache C:\\Users\\PETER\\AppData\\Local\\Temp\\jieba.u6fb6e872883c6d9c08ea8e016e70c5c1.cache\n"
     ]
    },
    {
     "name": "stdout",
     "output_type": "stream",
     "text": [
      "8900\n"
     ]
    },
    {
     "name": "stderr",
     "output_type": "stream",
     "text": [
      "Loading model cost 1.204 seconds.\n",
      "Prefix dict has been built succesfully.\n",
      "Building prefix dict from C:\\Users\\PETER\\OneDrive\\桌面\\Klook 7\\dict.txt.big ...\n",
      "Loading model from cache C:\\Users\\PETER\\AppData\\Local\\Temp\\jieba.u6fb6e872883c6d9c08ea8e016e70c5c1.cache\n"
     ]
    },
    {
     "name": "stdout",
     "output_type": "stream",
     "text": [
      "8911\n"
     ]
    },
    {
     "name": "stderr",
     "output_type": "stream",
     "text": [
      "Loading model cost 1.213 seconds.\n",
      "Prefix dict has been built succesfully.\n",
      "Building prefix dict from C:\\Users\\PETER\\OneDrive\\桌面\\Klook 7\\dict.txt.big ...\n",
      "Loading model from cache C:\\Users\\PETER\\AppData\\Local\\Temp\\jieba.u6fb6e872883c6d9c08ea8e016e70c5c1.cache\n"
     ]
    },
    {
     "name": "stdout",
     "output_type": "stream",
     "text": [
      "893\n"
     ]
    },
    {
     "name": "stderr",
     "output_type": "stream",
     "text": [
      "Loading model cost 1.209 seconds.\n",
      "Prefix dict has been built succesfully.\n",
      "Building prefix dict from C:\\Users\\PETER\\OneDrive\\桌面\\Klook 7\\dict.txt.big ...\n",
      "Loading model from cache C:\\Users\\PETER\\AppData\\Local\\Temp\\jieba.u6fb6e872883c6d9c08ea8e016e70c5c1.cache\n"
     ]
    },
    {
     "name": "stdout",
     "output_type": "stream",
     "text": [
      "8948\n"
     ]
    },
    {
     "name": "stderr",
     "output_type": "stream",
     "text": [
      "Loading model cost 1.217 seconds.\n",
      "Prefix dict has been built succesfully.\n",
      "Building prefix dict from C:\\Users\\PETER\\OneDrive\\桌面\\Klook 7\\dict.txt.big ...\n",
      "Loading model from cache C:\\Users\\PETER\\AppData\\Local\\Temp\\jieba.u6fb6e872883c6d9c08ea8e016e70c5c1.cache\n"
     ]
    },
    {
     "name": "stdout",
     "output_type": "stream",
     "text": [
      "8964\n"
     ]
    },
    {
     "name": "stderr",
     "output_type": "stream",
     "text": [
      "Loading model cost 1.214 seconds.\n",
      "Prefix dict has been built succesfully.\n",
      "Building prefix dict from C:\\Users\\PETER\\OneDrive\\桌面\\Klook 7\\dict.txt.big ...\n",
      "Loading model from cache C:\\Users\\PETER\\AppData\\Local\\Temp\\jieba.u6fb6e872883c6d9c08ea8e016e70c5c1.cache\n"
     ]
    },
    {
     "name": "stdout",
     "output_type": "stream",
     "text": [
      "8966\n"
     ]
    },
    {
     "name": "stderr",
     "output_type": "stream",
     "text": [
      "Loading model cost 1.213 seconds.\n",
      "Prefix dict has been built succesfully.\n",
      "Building prefix dict from C:\\Users\\PETER\\OneDrive\\桌面\\Klook 7\\dict.txt.big ...\n",
      "Loading model from cache C:\\Users\\PETER\\AppData\\Local\\Temp\\jieba.u6fb6e872883c6d9c08ea8e016e70c5c1.cache\n"
     ]
    },
    {
     "name": "stdout",
     "output_type": "stream",
     "text": [
      "8976\n"
     ]
    },
    {
     "name": "stderr",
     "output_type": "stream",
     "text": [
      "Loading model cost 1.223 seconds.\n",
      "Prefix dict has been built succesfully.\n",
      "Building prefix dict from C:\\Users\\PETER\\OneDrive\\桌面\\Klook 7\\dict.txt.big ...\n",
      "Loading model from cache C:\\Users\\PETER\\AppData\\Local\\Temp\\jieba.u6fb6e872883c6d9c08ea8e016e70c5c1.cache\n"
     ]
    },
    {
     "name": "stdout",
     "output_type": "stream",
     "text": [
      "8992\n"
     ]
    },
    {
     "name": "stderr",
     "output_type": "stream",
     "text": [
      "Loading model cost 1.220 seconds.\n",
      "Prefix dict has been built succesfully.\n",
      "Building prefix dict from C:\\Users\\PETER\\OneDrive\\桌面\\Klook 7\\dict.txt.big ...\n",
      "Loading model from cache C:\\Users\\PETER\\AppData\\Local\\Temp\\jieba.u6fb6e872883c6d9c08ea8e016e70c5c1.cache\n"
     ]
    },
    {
     "name": "stdout",
     "output_type": "stream",
     "text": [
      "8999\n"
     ]
    },
    {
     "name": "stderr",
     "output_type": "stream",
     "text": [
      "Loading model cost 1.218 seconds.\n",
      "Prefix dict has been built succesfully.\n",
      "Building prefix dict from C:\\Users\\PETER\\OneDrive\\桌面\\Klook 7\\dict.txt.big ...\n",
      "Loading model from cache C:\\Users\\PETER\\AppData\\Local\\Temp\\jieba.u6fb6e872883c6d9c08ea8e016e70c5c1.cache\n"
     ]
    },
    {
     "name": "stdout",
     "output_type": "stream",
     "text": [
      "9011\n"
     ]
    },
    {
     "name": "stderr",
     "output_type": "stream",
     "text": [
      "Loading model cost 1.212 seconds.\n",
      "Prefix dict has been built succesfully.\n",
      "Building prefix dict from C:\\Users\\PETER\\OneDrive\\桌面\\Klook 7\\dict.txt.big ...\n",
      "Loading model from cache C:\\Users\\PETER\\AppData\\Local\\Temp\\jieba.u6fb6e872883c6d9c08ea8e016e70c5c1.cache\n"
     ]
    },
    {
     "name": "stdout",
     "output_type": "stream",
     "text": [
      "907\n"
     ]
    },
    {
     "name": "stderr",
     "output_type": "stream",
     "text": [
      "Loading model cost 1.211 seconds.\n",
      "Prefix dict has been built succesfully.\n",
      "Building prefix dict from C:\\Users\\PETER\\OneDrive\\桌面\\Klook 7\\dict.txt.big ...\n",
      "Loading model from cache C:\\Users\\PETER\\AppData\\Local\\Temp\\jieba.u6fb6e872883c6d9c08ea8e016e70c5c1.cache\n"
     ]
    },
    {
     "name": "stdout",
     "output_type": "stream",
     "text": [
      "9077\n"
     ]
    },
    {
     "name": "stderr",
     "output_type": "stream",
     "text": [
      "Loading model cost 1.216 seconds.\n",
      "Prefix dict has been built succesfully.\n",
      "Building prefix dict from C:\\Users\\PETER\\OneDrive\\桌面\\Klook 7\\dict.txt.big ...\n",
      "Loading model from cache C:\\Users\\PETER\\AppData\\Local\\Temp\\jieba.u6fb6e872883c6d9c08ea8e016e70c5c1.cache\n"
     ]
    },
    {
     "name": "stdout",
     "output_type": "stream",
     "text": [
      "908\n"
     ]
    },
    {
     "name": "stderr",
     "output_type": "stream",
     "text": [
      "Loading model cost 1.211 seconds.\n",
      "Prefix dict has been built succesfully.\n",
      "Building prefix dict from C:\\Users\\PETER\\OneDrive\\桌面\\Klook 7\\dict.txt.big ...\n",
      "Loading model from cache C:\\Users\\PETER\\AppData\\Local\\Temp\\jieba.u6fb6e872883c6d9c08ea8e016e70c5c1.cache\n"
     ]
    },
    {
     "name": "stdout",
     "output_type": "stream",
     "text": [
      "909\n"
     ]
    },
    {
     "name": "stderr",
     "output_type": "stream",
     "text": [
      "Loading model cost 1.210 seconds.\n",
      "Prefix dict has been built succesfully.\n",
      "Building prefix dict from C:\\Users\\PETER\\OneDrive\\桌面\\Klook 7\\dict.txt.big ...\n",
      "Loading model from cache C:\\Users\\PETER\\AppData\\Local\\Temp\\jieba.u6fb6e872883c6d9c08ea8e016e70c5c1.cache\n"
     ]
    },
    {
     "name": "stdout",
     "output_type": "stream",
     "text": [
      "9094\n"
     ]
    },
    {
     "name": "stderr",
     "output_type": "stream",
     "text": [
      "Loading model cost 1.240 seconds.\n",
      "Prefix dict has been built succesfully.\n",
      "Building prefix dict from C:\\Users\\PETER\\OneDrive\\桌面\\Klook 7\\dict.txt.big ...\n",
      "Loading model from cache C:\\Users\\PETER\\AppData\\Local\\Temp\\jieba.u6fb6e872883c6d9c08ea8e016e70c5c1.cache\n"
     ]
    },
    {
     "name": "stdout",
     "output_type": "stream",
     "text": [
      "910\n"
     ]
    },
    {
     "name": "stderr",
     "output_type": "stream",
     "text": [
      "Loading model cost 1.221 seconds.\n",
      "Prefix dict has been built succesfully.\n",
      "Building prefix dict from C:\\Users\\PETER\\OneDrive\\桌面\\Klook 7\\dict.txt.big ...\n",
      "Loading model from cache C:\\Users\\PETER\\AppData\\Local\\Temp\\jieba.u6fb6e872883c6d9c08ea8e016e70c5c1.cache\n"
     ]
    },
    {
     "name": "stdout",
     "output_type": "stream",
     "text": [
      "9110\n"
     ]
    },
    {
     "name": "stderr",
     "output_type": "stream",
     "text": [
      "Loading model cost 1.209 seconds.\n",
      "Prefix dict has been built succesfully.\n",
      "Building prefix dict from C:\\Users\\PETER\\OneDrive\\桌面\\Klook 7\\dict.txt.big ...\n",
      "Loading model from cache C:\\Users\\PETER\\AppData\\Local\\Temp\\jieba.u6fb6e872883c6d9c08ea8e016e70c5c1.cache\n"
     ]
    },
    {
     "name": "stdout",
     "output_type": "stream",
     "text": [
      "9118\n"
     ]
    },
    {
     "name": "stderr",
     "output_type": "stream",
     "text": [
      "Loading model cost 1.213 seconds.\n",
      "Prefix dict has been built succesfully.\n",
      "Building prefix dict from C:\\Users\\PETER\\OneDrive\\桌面\\Klook 7\\dict.txt.big ...\n",
      "Loading model from cache C:\\Users\\PETER\\AppData\\Local\\Temp\\jieba.u6fb6e872883c6d9c08ea8e016e70c5c1.cache\n"
     ]
    },
    {
     "name": "stdout",
     "output_type": "stream",
     "text": [
      "9129\n"
     ]
    },
    {
     "name": "stderr",
     "output_type": "stream",
     "text": [
      "Loading model cost 1.218 seconds.\n",
      "Prefix dict has been built succesfully.\n",
      "Building prefix dict from C:\\Users\\PETER\\OneDrive\\桌面\\Klook 7\\dict.txt.big ...\n",
      "Loading model from cache C:\\Users\\PETER\\AppData\\Local\\Temp\\jieba.u6fb6e872883c6d9c08ea8e016e70c5c1.cache\n"
     ]
    },
    {
     "name": "stdout",
     "output_type": "stream",
     "text": [
      "914\n"
     ]
    },
    {
     "name": "stderr",
     "output_type": "stream",
     "text": [
      "Loading model cost 1.245 seconds.\n",
      "Prefix dict has been built succesfully.\n",
      "Building prefix dict from C:\\Users\\PETER\\OneDrive\\桌面\\Klook 7\\dict.txt.big ...\n",
      "Loading model from cache C:\\Users\\PETER\\AppData\\Local\\Temp\\jieba.u6fb6e872883c6d9c08ea8e016e70c5c1.cache\n"
     ]
    },
    {
     "name": "stdout",
     "output_type": "stream",
     "text": [
      "9204\n"
     ]
    },
    {
     "name": "stderr",
     "output_type": "stream",
     "text": [
      "Loading model cost 1.213 seconds.\n",
      "Prefix dict has been built succesfully.\n",
      "Building prefix dict from C:\\Users\\PETER\\OneDrive\\桌面\\Klook 7\\dict.txt.big ...\n",
      "Loading model from cache C:\\Users\\PETER\\AppData\\Local\\Temp\\jieba.u6fb6e872883c6d9c08ea8e016e70c5c1.cache\n"
     ]
    },
    {
     "name": "stdout",
     "output_type": "stream",
     "text": [
      "9249\n"
     ]
    },
    {
     "name": "stderr",
     "output_type": "stream",
     "text": [
      "Loading model cost 1.237 seconds.\n",
      "Prefix dict has been built succesfully.\n",
      "Building prefix dict from C:\\Users\\PETER\\OneDrive\\桌面\\Klook 7\\dict.txt.big ...\n",
      "Loading model from cache C:\\Users\\PETER\\AppData\\Local\\Temp\\jieba.u6fb6e872883c6d9c08ea8e016e70c5c1.cache\n"
     ]
    },
    {
     "name": "stdout",
     "output_type": "stream",
     "text": [
      "9266\n"
     ]
    },
    {
     "name": "stderr",
     "output_type": "stream",
     "text": [
      "Loading model cost 1.216 seconds.\n",
      "Prefix dict has been built succesfully.\n",
      "Building prefix dict from C:\\Users\\PETER\\OneDrive\\桌面\\Klook 7\\dict.txt.big ...\n",
      "Loading model from cache C:\\Users\\PETER\\AppData\\Local\\Temp\\jieba.u6fb6e872883c6d9c08ea8e016e70c5c1.cache\n"
     ]
    },
    {
     "name": "stdout",
     "output_type": "stream",
     "text": [
      "9449\n"
     ]
    },
    {
     "name": "stderr",
     "output_type": "stream",
     "text": [
      "Loading model cost 1.216 seconds.\n",
      "Prefix dict has been built succesfully.\n",
      "Building prefix dict from C:\\Users\\PETER\\OneDrive\\桌面\\Klook 7\\dict.txt.big ...\n",
      "Loading model from cache C:\\Users\\PETER\\AppData\\Local\\Temp\\jieba.u6fb6e872883c6d9c08ea8e016e70c5c1.cache\n"
     ]
    },
    {
     "name": "stdout",
     "output_type": "stream",
     "text": [
      "9456\n"
     ]
    },
    {
     "name": "stderr",
     "output_type": "stream",
     "text": [
      "Loading model cost 1.212 seconds.\n",
      "Prefix dict has been built succesfully.\n",
      "Building prefix dict from C:\\Users\\PETER\\OneDrive\\桌面\\Klook 7\\dict.txt.big ...\n",
      "Loading model from cache C:\\Users\\PETER\\AppData\\Local\\Temp\\jieba.u6fb6e872883c6d9c08ea8e016e70c5c1.cache\n"
     ]
    },
    {
     "name": "stdout",
     "output_type": "stream",
     "text": [
      "9511\n"
     ]
    },
    {
     "name": "stderr",
     "output_type": "stream",
     "text": [
      "Loading model cost 1.223 seconds.\n",
      "Prefix dict has been built succesfully.\n",
      "Building prefix dict from C:\\Users\\PETER\\OneDrive\\桌面\\Klook 7\\dict.txt.big ...\n",
      "Loading model from cache C:\\Users\\PETER\\AppData\\Local\\Temp\\jieba.u6fb6e872883c6d9c08ea8e016e70c5c1.cache\n"
     ]
    },
    {
     "name": "stdout",
     "output_type": "stream",
     "text": [
      "9612\n"
     ]
    },
    {
     "name": "stderr",
     "output_type": "stream",
     "text": [
      "Loading model cost 1.210 seconds.\n",
      "Prefix dict has been built succesfully.\n",
      "Building prefix dict from C:\\Users\\PETER\\OneDrive\\桌面\\Klook 7\\dict.txt.big ...\n",
      "Loading model from cache C:\\Users\\PETER\\AppData\\Local\\Temp\\jieba.u6fb6e872883c6d9c08ea8e016e70c5c1.cache\n"
     ]
    },
    {
     "name": "stdout",
     "output_type": "stream",
     "text": [
      "965\n"
     ]
    },
    {
     "name": "stderr",
     "output_type": "stream",
     "text": [
      "Loading model cost 1.216 seconds.\n",
      "Prefix dict has been built succesfully.\n",
      "Building prefix dict from C:\\Users\\PETER\\OneDrive\\桌面\\Klook 7\\dict.txt.big ...\n",
      "Loading model from cache C:\\Users\\PETER\\AppData\\Local\\Temp\\jieba.u6fb6e872883c6d9c08ea8e016e70c5c1.cache\n"
     ]
    },
    {
     "name": "stdout",
     "output_type": "stream",
     "text": [
      "966\n"
     ]
    },
    {
     "name": "stderr",
     "output_type": "stream",
     "text": [
      "Loading model cost 1.231 seconds.\n",
      "Prefix dict has been built succesfully.\n",
      "Building prefix dict from C:\\Users\\PETER\\OneDrive\\桌面\\Klook 7\\dict.txt.big ...\n",
      "Loading model from cache C:\\Users\\PETER\\AppData\\Local\\Temp\\jieba.u6fb6e872883c6d9c08ea8e016e70c5c1.cache\n"
     ]
    },
    {
     "name": "stdout",
     "output_type": "stream",
     "text": [
      "968\n"
     ]
    },
    {
     "name": "stderr",
     "output_type": "stream",
     "text": [
      "Loading model cost 1.245 seconds.\n",
      "Prefix dict has been built succesfully.\n",
      "Building prefix dict from C:\\Users\\PETER\\OneDrive\\桌面\\Klook 7\\dict.txt.big ...\n",
      "Loading model from cache C:\\Users\\PETER\\AppData\\Local\\Temp\\jieba.u6fb6e872883c6d9c08ea8e016e70c5c1.cache\n"
     ]
    },
    {
     "name": "stdout",
     "output_type": "stream",
     "text": [
      "969\n"
     ]
    },
    {
     "name": "stderr",
     "output_type": "stream",
     "text": [
      "Loading model cost 1.213 seconds.\n",
      "Prefix dict has been built succesfully.\n",
      "Building prefix dict from C:\\Users\\PETER\\OneDrive\\桌面\\Klook 7\\dict.txt.big ...\n",
      "Loading model from cache C:\\Users\\PETER\\AppData\\Local\\Temp\\jieba.u6fb6e872883c6d9c08ea8e016e70c5c1.cache\n"
     ]
    },
    {
     "name": "stdout",
     "output_type": "stream",
     "text": [
      "970\n"
     ]
    },
    {
     "name": "stderr",
     "output_type": "stream",
     "text": [
      "Loading model cost 1.207 seconds.\n",
      "Prefix dict has been built succesfully.\n",
      "Building prefix dict from C:\\Users\\PETER\\OneDrive\\桌面\\Klook 7\\dict.txt.big ...\n",
      "Loading model from cache C:\\Users\\PETER\\AppData\\Local\\Temp\\jieba.u6fb6e872883c6d9c08ea8e016e70c5c1.cache\n"
     ]
    },
    {
     "name": "stdout",
     "output_type": "stream",
     "text": [
      "9737\n"
     ]
    },
    {
     "name": "stderr",
     "output_type": "stream",
     "text": [
      "Loading model cost 1.242 seconds.\n",
      "Prefix dict has been built succesfully.\n",
      "Building prefix dict from C:\\Users\\PETER\\OneDrive\\桌面\\Klook 7\\dict.txt.big ...\n",
      "Loading model from cache C:\\Users\\PETER\\AppData\\Local\\Temp\\jieba.u6fb6e872883c6d9c08ea8e016e70c5c1.cache\n"
     ]
    },
    {
     "name": "stdout",
     "output_type": "stream",
     "text": [
      "991\n"
     ]
    },
    {
     "name": "stderr",
     "output_type": "stream",
     "text": [
      "Loading model cost 1.206 seconds.\n",
      "Prefix dict has been built succesfully.\n",
      "Building prefix dict from C:\\Users\\PETER\\OneDrive\\桌面\\Klook 7\\dict.txt.big ...\n",
      "Loading model from cache C:\\Users\\PETER\\AppData\\Local\\Temp\\jieba.u6fb6e872883c6d9c08ea8e016e70c5c1.cache\n"
     ]
    },
    {
     "name": "stdout",
     "output_type": "stream",
     "text": [
      "9989\n"
     ]
    },
    {
     "name": "stderr",
     "output_type": "stream",
     "text": [
      "Loading model cost 1.231 seconds.\n",
      "Prefix dict has been built succesfully.\n"
     ]
    }
   ],
   "source": [
    "import os\n",
    "\n",
    "path='output\\comment\\JP_comment\\\\'\n",
    "\n",
    "files = []\n",
    "# r=root, d=directories, f = files\n",
    "for r, d, f in os.walk(path):\n",
    "    for file in f:\n",
    "        if '.csv' in file:\n",
    "            #print(os.path.join(r, file))\n",
    "            files.append(os.path.join(r, file))\n",
    "for i in files:\n",
    "    df=pd.read_csv(i)\n",
    "    \n",
    "    t=i.find(\".csv\")\n",
    "    n=(i[15:t])\n",
    "    u=n.find(\"t\")\n",
    "    u=u+2\n",
    "    name=(n[u:] )\n",
    "    print((n[u:] ))\n",
    "    \n",
    "    #jieba\n",
    "    jw=list()\n",
    "    jb=list()\n",
    "    import jieba\n",
    "    import jieba.posseg as pseg\n",
    "    jieba.set_dictionary('dict.txt.big')\n",
    "    for k in df[\"translate_content\"]:\n",
    "        words =pseg.cut(k)\n",
    "        for w in words:\n",
    "            try:\n",
    "                #print(w.word,w.flag)\n",
    "                jw.append((w.word,w.flag))\n",
    "            except:\n",
    "                pass\n",
    "    # select a and x\n",
    "    for g in range(len(jw)):\n",
    "        if \"a\" in jw[g]:\n",
    "            if len(jw[g][0])>1:\n",
    "                #print(jw[g])\n",
    "                jb.append(jw[g][0])\n",
    "    from snownlp import SnowNLP\n",
    "    f= open(\"output/feeling/JP_comment/\"+name+\"_neg1.txt\",\"w+\",encoding=\"utf-8\")\n",
    "    q= open(\"output/feeling/JP_comment/\"+name+\"_pos1.txt\",\"w+\",encoding=\"utf-8\")\n",
    "    for i in jb:\n",
    "        s=SnowNLP(i)\n",
    "        if (s.sentiments)<0.5:\n",
    "            #print(i,s.sentiments)\n",
    "            f.write(i+ '\\n')\n",
    "        elif (s.sentiments)>0.5:\n",
    "            #print(i,s.sentiments)\n",
    "            q.write(i+ '\\n')\n",
    "    f.close()\n",
    "    q.close()\n",
    "    \n",
    "    "
   ]
  },
  {
   "cell_type": "code",
   "execution_count": 6,
   "metadata": {},
   "outputs": [
    {
     "name": "stderr",
     "output_type": "stream",
     "text": [
      "Building prefix dict from C:\\Users\\PETER\\OneDrive\\桌面\\Klook 7\\dict.txt.big ...\n",
      "Loading model from cache C:\\Users\\PETER\\AppData\\Local\\Temp\\jieba.u6fb6e872883c6d9c08ea8e016e70c5c1.cache\n"
     ]
    },
    {
     "name": "stdout",
     "output_type": "stream",
     "text": [
      "10052\n"
     ]
    },
    {
     "name": "stderr",
     "output_type": "stream",
     "text": [
      "Loading model cost 1.220 seconds.\n",
      "Prefix dict has been built succesfully.\n",
      "Building prefix dict from C:\\Users\\PETER\\OneDrive\\桌面\\Klook 7\\dict.txt.big ...\n",
      "Loading model from cache C:\\Users\\PETER\\AppData\\Local\\Temp\\jieba.u6fb6e872883c6d9c08ea8e016e70c5c1.cache\n"
     ]
    },
    {
     "name": "stdout",
     "output_type": "stream",
     "text": [
      "10113\n"
     ]
    },
    {
     "name": "stderr",
     "output_type": "stream",
     "text": [
      "Loading model cost 1.212 seconds.\n",
      "Prefix dict has been built succesfully.\n",
      "Building prefix dict from C:\\Users\\PETER\\OneDrive\\桌面\\Klook 7\\dict.txt.big ...\n",
      "Loading model from cache C:\\Users\\PETER\\AppData\\Local\\Temp\\jieba.u6fb6e872883c6d9c08ea8e016e70c5c1.cache\n"
     ]
    },
    {
     "name": "stdout",
     "output_type": "stream",
     "text": [
      "10245\n"
     ]
    },
    {
     "name": "stderr",
     "output_type": "stream",
     "text": [
      "Loading model cost 1.222 seconds.\n",
      "Prefix dict has been built succesfully.\n",
      "Building prefix dict from C:\\Users\\PETER\\OneDrive\\桌面\\Klook 7\\dict.txt.big ...\n",
      "Loading model from cache C:\\Users\\PETER\\AppData\\Local\\Temp\\jieba.u6fb6e872883c6d9c08ea8e016e70c5c1.cache\n"
     ]
    },
    {
     "name": "stdout",
     "output_type": "stream",
     "text": [
      "10304\n"
     ]
    },
    {
     "name": "stderr",
     "output_type": "stream",
     "text": [
      "Loading model cost 1.206 seconds.\n",
      "Prefix dict has been built succesfully.\n",
      "Building prefix dict from C:\\Users\\PETER\\OneDrive\\桌面\\Klook 7\\dict.txt.big ...\n",
      "Loading model from cache C:\\Users\\PETER\\AppData\\Local\\Temp\\jieba.u6fb6e872883c6d9c08ea8e016e70c5c1.cache\n"
     ]
    },
    {
     "name": "stdout",
     "output_type": "stream",
     "text": [
      "10395\n"
     ]
    },
    {
     "name": "stderr",
     "output_type": "stream",
     "text": [
      "Loading model cost 1.198 seconds.\n",
      "Prefix dict has been built succesfully.\n",
      "Building prefix dict from C:\\Users\\PETER\\OneDrive\\桌面\\Klook 7\\dict.txt.big ...\n",
      "Loading model from cache C:\\Users\\PETER\\AppData\\Local\\Temp\\jieba.u6fb6e872883c6d9c08ea8e016e70c5c1.cache\n"
     ]
    },
    {
     "name": "stdout",
     "output_type": "stream",
     "text": [
      "10420\n"
     ]
    },
    {
     "name": "stderr",
     "output_type": "stream",
     "text": [
      "Loading model cost 1.199 seconds.\n",
      "Prefix dict has been built succesfully.\n",
      "Building prefix dict from C:\\Users\\PETER\\OneDrive\\桌面\\Klook 7\\dict.txt.big ...\n",
      "Loading model from cache C:\\Users\\PETER\\AppData\\Local\\Temp\\jieba.u6fb6e872883c6d9c08ea8e016e70c5c1.cache\n"
     ]
    },
    {
     "name": "stdout",
     "output_type": "stream",
     "text": [
      "10485\n"
     ]
    },
    {
     "name": "stderr",
     "output_type": "stream",
     "text": [
      "Loading model cost 1.206 seconds.\n",
      "Prefix dict has been built succesfully.\n",
      "Building prefix dict from C:\\Users\\PETER\\OneDrive\\桌面\\Klook 7\\dict.txt.big ...\n",
      "Loading model from cache C:\\Users\\PETER\\AppData\\Local\\Temp\\jieba.u6fb6e872883c6d9c08ea8e016e70c5c1.cache\n"
     ]
    },
    {
     "name": "stdout",
     "output_type": "stream",
     "text": [
      "10523\n"
     ]
    },
    {
     "name": "stderr",
     "output_type": "stream",
     "text": [
      "Loading model cost 1.204 seconds.\n",
      "Prefix dict has been built succesfully.\n",
      "Building prefix dict from C:\\Users\\PETER\\OneDrive\\桌面\\Klook 7\\dict.txt.big ...\n",
      "Loading model from cache C:\\Users\\PETER\\AppData\\Local\\Temp\\jieba.u6fb6e872883c6d9c08ea8e016e70c5c1.cache\n"
     ]
    },
    {
     "name": "stdout",
     "output_type": "stream",
     "text": [
      "10546\n"
     ]
    },
    {
     "name": "stderr",
     "output_type": "stream",
     "text": [
      "Loading model cost 1.197 seconds.\n",
      "Prefix dict has been built succesfully.\n",
      "Building prefix dict from C:\\Users\\PETER\\OneDrive\\桌面\\Klook 7\\dict.txt.big ...\n",
      "Loading model from cache C:\\Users\\PETER\\AppData\\Local\\Temp\\jieba.u6fb6e872883c6d9c08ea8e016e70c5c1.cache\n"
     ]
    },
    {
     "name": "stdout",
     "output_type": "stream",
     "text": [
      "10586\n"
     ]
    },
    {
     "name": "stderr",
     "output_type": "stream",
     "text": [
      "Loading model cost 1.202 seconds.\n",
      "Prefix dict has been built succesfully.\n",
      "Building prefix dict from C:\\Users\\PETER\\OneDrive\\桌面\\Klook 7\\dict.txt.big ...\n",
      "Loading model from cache C:\\Users\\PETER\\AppData\\Local\\Temp\\jieba.u6fb6e872883c6d9c08ea8e016e70c5c1.cache\n"
     ]
    },
    {
     "name": "stdout",
     "output_type": "stream",
     "text": [
      "10645\n"
     ]
    },
    {
     "name": "stderr",
     "output_type": "stream",
     "text": [
      "Loading model cost 1.206 seconds.\n",
      "Prefix dict has been built succesfully.\n",
      "Building prefix dict from C:\\Users\\PETER\\OneDrive\\桌面\\Klook 7\\dict.txt.big ...\n",
      "Loading model from cache C:\\Users\\PETER\\AppData\\Local\\Temp\\jieba.u6fb6e872883c6d9c08ea8e016e70c5c1.cache\n"
     ]
    },
    {
     "name": "stdout",
     "output_type": "stream",
     "text": [
      "10724\n"
     ]
    },
    {
     "name": "stderr",
     "output_type": "stream",
     "text": [
      "Loading model cost 1.268 seconds.\n",
      "Prefix dict has been built succesfully.\n",
      "Building prefix dict from C:\\Users\\PETER\\OneDrive\\桌面\\Klook 7\\dict.txt.big ...\n",
      "Loading model from cache C:\\Users\\PETER\\AppData\\Local\\Temp\\jieba.u6fb6e872883c6d9c08ea8e016e70c5c1.cache\n"
     ]
    },
    {
     "name": "stdout",
     "output_type": "stream",
     "text": [
      "10793\n"
     ]
    },
    {
     "name": "stderr",
     "output_type": "stream",
     "text": [
      "Loading model cost 1.199 seconds.\n",
      "Prefix dict has been built succesfully.\n",
      "Building prefix dict from C:\\Users\\PETER\\OneDrive\\桌面\\Klook 7\\dict.txt.big ...\n",
      "Loading model from cache C:\\Users\\PETER\\AppData\\Local\\Temp\\jieba.u6fb6e872883c6d9c08ea8e016e70c5c1.cache\n"
     ]
    },
    {
     "name": "stdout",
     "output_type": "stream",
     "text": [
      "10874\n"
     ]
    },
    {
     "name": "stderr",
     "output_type": "stream",
     "text": [
      "Loading model cost 1.200 seconds.\n",
      "Prefix dict has been built succesfully.\n",
      "Building prefix dict from C:\\Users\\PETER\\OneDrive\\桌面\\Klook 7\\dict.txt.big ...\n",
      "Loading model from cache C:\\Users\\PETER\\AppData\\Local\\Temp\\jieba.u6fb6e872883c6d9c08ea8e016e70c5c1.cache\n"
     ]
    },
    {
     "name": "stdout",
     "output_type": "stream",
     "text": [
      "10904\n"
     ]
    },
    {
     "name": "stderr",
     "output_type": "stream",
     "text": [
      "Loading model cost 1.208 seconds.\n",
      "Prefix dict has been built succesfully.\n",
      "Building prefix dict from C:\\Users\\PETER\\OneDrive\\桌面\\Klook 7\\dict.txt.big ...\n",
      "Loading model from cache C:\\Users\\PETER\\AppData\\Local\\Temp\\jieba.u6fb6e872883c6d9c08ea8e016e70c5c1.cache\n"
     ]
    },
    {
     "name": "stdout",
     "output_type": "stream",
     "text": [
      "10935\n"
     ]
    },
    {
     "name": "stderr",
     "output_type": "stream",
     "text": [
      "Loading model cost 1.202 seconds.\n",
      "Prefix dict has been built succesfully.\n",
      "Building prefix dict from C:\\Users\\PETER\\OneDrive\\桌面\\Klook 7\\dict.txt.big ...\n",
      "Loading model from cache C:\\Users\\PETER\\AppData\\Local\\Temp\\jieba.u6fb6e872883c6d9c08ea8e016e70c5c1.cache\n"
     ]
    },
    {
     "name": "stdout",
     "output_type": "stream",
     "text": [
      "11062\n"
     ]
    },
    {
     "name": "stderr",
     "output_type": "stream",
     "text": [
      "Loading model cost 1.209 seconds.\n",
      "Prefix dict has been built succesfully.\n",
      "Building prefix dict from C:\\Users\\PETER\\OneDrive\\桌面\\Klook 7\\dict.txt.big ...\n",
      "Loading model from cache C:\\Users\\PETER\\AppData\\Local\\Temp\\jieba.u6fb6e872883c6d9c08ea8e016e70c5c1.cache\n"
     ]
    },
    {
     "name": "stdout",
     "output_type": "stream",
     "text": [
      "11244\n"
     ]
    },
    {
     "name": "stderr",
     "output_type": "stream",
     "text": [
      "Loading model cost 1.264 seconds.\n",
      "Prefix dict has been built succesfully.\n",
      "Building prefix dict from C:\\Users\\PETER\\OneDrive\\桌面\\Klook 7\\dict.txt.big ...\n",
      "Loading model from cache C:\\Users\\PETER\\AppData\\Local\\Temp\\jieba.u6fb6e872883c6d9c08ea8e016e70c5c1.cache\n"
     ]
    },
    {
     "name": "stdout",
     "output_type": "stream",
     "text": [
      "11411\n"
     ]
    },
    {
     "name": "stderr",
     "output_type": "stream",
     "text": [
      "Loading model cost 1.229 seconds.\n",
      "Prefix dict has been built succesfully.\n",
      "Building prefix dict from C:\\Users\\PETER\\OneDrive\\桌面\\Klook 7\\dict.txt.big ...\n",
      "Loading model from cache C:\\Users\\PETER\\AppData\\Local\\Temp\\jieba.u6fb6e872883c6d9c08ea8e016e70c5c1.cache\n"
     ]
    },
    {
     "name": "stdout",
     "output_type": "stream",
     "text": [
      "11440\n"
     ]
    },
    {
     "name": "stderr",
     "output_type": "stream",
     "text": [
      "Loading model cost 1.207 seconds.\n",
      "Prefix dict has been built succesfully.\n",
      "Building prefix dict from C:\\Users\\PETER\\OneDrive\\桌面\\Klook 7\\dict.txt.big ...\n",
      "Loading model from cache C:\\Users\\PETER\\AppData\\Local\\Temp\\jieba.u6fb6e872883c6d9c08ea8e016e70c5c1.cache\n"
     ]
    },
    {
     "name": "stdout",
     "output_type": "stream",
     "text": [
      "11475\n"
     ]
    },
    {
     "name": "stderr",
     "output_type": "stream",
     "text": [
      "Loading model cost 1.227 seconds.\n",
      "Prefix dict has been built succesfully.\n",
      "Building prefix dict from C:\\Users\\PETER\\OneDrive\\桌面\\Klook 7\\dict.txt.big ...\n",
      "Loading model from cache C:\\Users\\PETER\\AppData\\Local\\Temp\\jieba.u6fb6e872883c6d9c08ea8e016e70c5c1.cache\n"
     ]
    },
    {
     "name": "stdout",
     "output_type": "stream",
     "text": [
      "11569\n"
     ]
    },
    {
     "name": "stderr",
     "output_type": "stream",
     "text": [
      "Loading model cost 1.255 seconds.\n",
      "Prefix dict has been built succesfully.\n",
      "Building prefix dict from C:\\Users\\PETER\\OneDrive\\桌面\\Klook 7\\dict.txt.big ...\n",
      "Loading model from cache C:\\Users\\PETER\\AppData\\Local\\Temp\\jieba.u6fb6e872883c6d9c08ea8e016e70c5c1.cache\n"
     ]
    },
    {
     "name": "stdout",
     "output_type": "stream",
     "text": [
      "1164\n"
     ]
    },
    {
     "name": "stderr",
     "output_type": "stream",
     "text": [
      "Loading model cost 1.241 seconds.\n",
      "Prefix dict has been built succesfully.\n",
      "Building prefix dict from C:\\Users\\PETER\\OneDrive\\桌面\\Klook 7\\dict.txt.big ...\n",
      "Loading model from cache C:\\Users\\PETER\\AppData\\Local\\Temp\\jieba.u6fb6e872883c6d9c08ea8e016e70c5c1.cache\n"
     ]
    },
    {
     "name": "stdout",
     "output_type": "stream",
     "text": [
      "11849\n"
     ]
    },
    {
     "name": "stderr",
     "output_type": "stream",
     "text": [
      "Loading model cost 1.223 seconds.\n",
      "Prefix dict has been built succesfully.\n",
      "Building prefix dict from C:\\Users\\PETER\\OneDrive\\桌面\\Klook 7\\dict.txt.big ...\n",
      "Loading model from cache C:\\Users\\PETER\\AppData\\Local\\Temp\\jieba.u6fb6e872883c6d9c08ea8e016e70c5c1.cache\n"
     ]
    },
    {
     "name": "stdout",
     "output_type": "stream",
     "text": [
      "12002\n"
     ]
    },
    {
     "name": "stderr",
     "output_type": "stream",
     "text": [
      "Loading model cost 1.239 seconds.\n",
      "Prefix dict has been built succesfully.\n",
      "Building prefix dict from C:\\Users\\PETER\\OneDrive\\桌面\\Klook 7\\dict.txt.big ...\n",
      "Loading model from cache C:\\Users\\PETER\\AppData\\Local\\Temp\\jieba.u6fb6e872883c6d9c08ea8e016e70c5c1.cache\n"
     ]
    },
    {
     "name": "stdout",
     "output_type": "stream",
     "text": [
      "12475\n"
     ]
    },
    {
     "name": "stderr",
     "output_type": "stream",
     "text": [
      "Loading model cost 1.231 seconds.\n",
      "Prefix dict has been built succesfully.\n",
      "Building prefix dict from C:\\Users\\PETER\\OneDrive\\桌面\\Klook 7\\dict.txt.big ...\n",
      "Loading model from cache C:\\Users\\PETER\\AppData\\Local\\Temp\\jieba.u6fb6e872883c6d9c08ea8e016e70c5c1.cache\n"
     ]
    },
    {
     "name": "stdout",
     "output_type": "stream",
     "text": [
      "1251\n"
     ]
    },
    {
     "name": "stderr",
     "output_type": "stream",
     "text": [
      "Loading model cost 1.267 seconds.\n",
      "Prefix dict has been built succesfully.\n",
      "Building prefix dict from C:\\Users\\PETER\\OneDrive\\桌面\\Klook 7\\dict.txt.big ...\n",
      "Loading model from cache C:\\Users\\PETER\\AppData\\Local\\Temp\\jieba.u6fb6e872883c6d9c08ea8e016e70c5c1.cache\n"
     ]
    },
    {
     "name": "stdout",
     "output_type": "stream",
     "text": [
      "12523\n"
     ]
    },
    {
     "name": "stderr",
     "output_type": "stream",
     "text": [
      "Loading model cost 1.203 seconds.\n",
      "Prefix dict has been built succesfully.\n",
      "Building prefix dict from C:\\Users\\PETER\\OneDrive\\桌面\\Klook 7\\dict.txt.big ...\n",
      "Loading model from cache C:\\Users\\PETER\\AppData\\Local\\Temp\\jieba.u6fb6e872883c6d9c08ea8e016e70c5c1.cache\n"
     ]
    },
    {
     "name": "stdout",
     "output_type": "stream",
     "text": [
      "12797\n"
     ]
    },
    {
     "name": "stderr",
     "output_type": "stream",
     "text": [
      "Loading model cost 1.206 seconds.\n",
      "Prefix dict has been built succesfully.\n",
      "Building prefix dict from C:\\Users\\PETER\\OneDrive\\桌面\\Klook 7\\dict.txt.big ...\n",
      "Loading model from cache C:\\Users\\PETER\\AppData\\Local\\Temp\\jieba.u6fb6e872883c6d9c08ea8e016e70c5c1.cache\n"
     ]
    },
    {
     "name": "stdout",
     "output_type": "stream",
     "text": [
      "1281\n"
     ]
    },
    {
     "name": "stderr",
     "output_type": "stream",
     "text": [
      "Loading model cost 1.228 seconds.\n",
      "Prefix dict has been built succesfully.\n",
      "Building prefix dict from C:\\Users\\PETER\\OneDrive\\桌面\\Klook 7\\dict.txt.big ...\n",
      "Loading model from cache C:\\Users\\PETER\\AppData\\Local\\Temp\\jieba.u6fb6e872883c6d9c08ea8e016e70c5c1.cache\n"
     ]
    },
    {
     "name": "stdout",
     "output_type": "stream",
     "text": [
      "13011\n"
     ]
    },
    {
     "name": "stderr",
     "output_type": "stream",
     "text": [
      "Loading model cost 1.211 seconds.\n",
      "Prefix dict has been built succesfully.\n",
      "Building prefix dict from C:\\Users\\PETER\\OneDrive\\桌面\\Klook 7\\dict.txt.big ...\n",
      "Loading model from cache C:\\Users\\PETER\\AppData\\Local\\Temp\\jieba.u6fb6e872883c6d9c08ea8e016e70c5c1.cache\n"
     ]
    },
    {
     "name": "stdout",
     "output_type": "stream",
     "text": [
      "1307\n"
     ]
    },
    {
     "name": "stderr",
     "output_type": "stream",
     "text": [
      "Loading model cost 1.221 seconds.\n",
      "Prefix dict has been built succesfully.\n",
      "Building prefix dict from C:\\Users\\PETER\\OneDrive\\桌面\\Klook 7\\dict.txt.big ...\n",
      "Loading model from cache C:\\Users\\PETER\\AppData\\Local\\Temp\\jieba.u6fb6e872883c6d9c08ea8e016e70c5c1.cache\n"
     ]
    },
    {
     "name": "stdout",
     "output_type": "stream",
     "text": [
      "13074\n"
     ]
    },
    {
     "name": "stderr",
     "output_type": "stream",
     "text": [
      "Loading model cost 1.227 seconds.\n",
      "Prefix dict has been built succesfully.\n",
      "Building prefix dict from C:\\Users\\PETER\\OneDrive\\桌面\\Klook 7\\dict.txt.big ...\n",
      "Loading model from cache C:\\Users\\PETER\\AppData\\Local\\Temp\\jieba.u6fb6e872883c6d9c08ea8e016e70c5c1.cache\n"
     ]
    },
    {
     "name": "stdout",
     "output_type": "stream",
     "text": [
      "1310\n"
     ]
    },
    {
     "name": "stderr",
     "output_type": "stream",
     "text": [
      "Loading model cost 1.213 seconds.\n",
      "Prefix dict has been built succesfully.\n",
      "Building prefix dict from C:\\Users\\PETER\\OneDrive\\桌面\\Klook 7\\dict.txt.big ...\n",
      "Loading model from cache C:\\Users\\PETER\\AppData\\Local\\Temp\\jieba.u6fb6e872883c6d9c08ea8e016e70c5c1.cache\n"
     ]
    },
    {
     "name": "stdout",
     "output_type": "stream",
     "text": [
      "13102\n"
     ]
    },
    {
     "name": "stderr",
     "output_type": "stream",
     "text": [
      "Loading model cost 1.234 seconds.\n",
      "Prefix dict has been built succesfully.\n",
      "Building prefix dict from C:\\Users\\PETER\\OneDrive\\桌面\\Klook 7\\dict.txt.big ...\n",
      "Loading model from cache C:\\Users\\PETER\\AppData\\Local\\Temp\\jieba.u6fb6e872883c6d9c08ea8e016e70c5c1.cache\n"
     ]
    },
    {
     "name": "stdout",
     "output_type": "stream",
     "text": [
      "13117\n"
     ]
    },
    {
     "name": "stderr",
     "output_type": "stream",
     "text": [
      "Loading model cost 1.237 seconds.\n",
      "Prefix dict has been built succesfully.\n",
      "Building prefix dict from C:\\Users\\PETER\\OneDrive\\桌面\\Klook 7\\dict.txt.big ...\n",
      "Loading model from cache C:\\Users\\PETER\\AppData\\Local\\Temp\\jieba.u6fb6e872883c6d9c08ea8e016e70c5c1.cache\n"
     ]
    },
    {
     "name": "stdout",
     "output_type": "stream",
     "text": [
      "13216\n"
     ]
    },
    {
     "name": "stderr",
     "output_type": "stream",
     "text": [
      "Loading model cost 1.198 seconds.\n",
      "Prefix dict has been built succesfully.\n",
      "Building prefix dict from C:\\Users\\PETER\\OneDrive\\桌面\\Klook 7\\dict.txt.big ...\n",
      "Loading model from cache C:\\Users\\PETER\\AppData\\Local\\Temp\\jieba.u6fb6e872883c6d9c08ea8e016e70c5c1.cache\n"
     ]
    },
    {
     "name": "stdout",
     "output_type": "stream",
     "text": [
      "13361\n"
     ]
    },
    {
     "name": "stderr",
     "output_type": "stream",
     "text": [
      "Loading model cost 1.233 seconds.\n",
      "Prefix dict has been built succesfully.\n",
      "Building prefix dict from C:\\Users\\PETER\\OneDrive\\桌面\\Klook 7\\dict.txt.big ...\n",
      "Loading model from cache C:\\Users\\PETER\\AppData\\Local\\Temp\\jieba.u6fb6e872883c6d9c08ea8e016e70c5c1.cache\n"
     ]
    },
    {
     "name": "stdout",
     "output_type": "stream",
     "text": [
      "13425\n"
     ]
    },
    {
     "name": "stderr",
     "output_type": "stream",
     "text": [
      "Loading model cost 1.249 seconds.\n",
      "Prefix dict has been built succesfully.\n",
      "Building prefix dict from C:\\Users\\PETER\\OneDrive\\桌面\\Klook 7\\dict.txt.big ...\n",
      "Loading model from cache C:\\Users\\PETER\\AppData\\Local\\Temp\\jieba.u6fb6e872883c6d9c08ea8e016e70c5c1.cache\n"
     ]
    },
    {
     "name": "stdout",
     "output_type": "stream",
     "text": [
      "13706\n"
     ]
    },
    {
     "name": "stderr",
     "output_type": "stream",
     "text": [
      "Loading model cost 1.214 seconds.\n",
      "Prefix dict has been built succesfully.\n",
      "Building prefix dict from C:\\Users\\PETER\\OneDrive\\桌面\\Klook 7\\dict.txt.big ...\n",
      "Loading model from cache C:\\Users\\PETER\\AppData\\Local\\Temp\\jieba.u6fb6e872883c6d9c08ea8e016e70c5c1.cache\n"
     ]
    },
    {
     "name": "stdout",
     "output_type": "stream",
     "text": [
      "13749\n"
     ]
    },
    {
     "name": "stderr",
     "output_type": "stream",
     "text": [
      "Loading model cost 1.229 seconds.\n",
      "Prefix dict has been built succesfully.\n",
      "Building prefix dict from C:\\Users\\PETER\\OneDrive\\桌面\\Klook 7\\dict.txt.big ...\n",
      "Loading model from cache C:\\Users\\PETER\\AppData\\Local\\Temp\\jieba.u6fb6e872883c6d9c08ea8e016e70c5c1.cache\n"
     ]
    },
    {
     "name": "stdout",
     "output_type": "stream",
     "text": [
      "13778\n"
     ]
    },
    {
     "name": "stderr",
     "output_type": "stream",
     "text": [
      "Loading model cost 1.228 seconds.\n",
      "Prefix dict has been built succesfully.\n",
      "Building prefix dict from C:\\Users\\PETER\\OneDrive\\桌面\\Klook 7\\dict.txt.big ...\n",
      "Loading model from cache C:\\Users\\PETER\\AppData\\Local\\Temp\\jieba.u6fb6e872883c6d9c08ea8e016e70c5c1.cache\n"
     ]
    },
    {
     "name": "stdout",
     "output_type": "stream",
     "text": [
      "14055\n"
     ]
    },
    {
     "name": "stderr",
     "output_type": "stream",
     "text": [
      "Loading model cost 1.228 seconds.\n",
      "Prefix dict has been built succesfully.\n",
      "Building prefix dict from C:\\Users\\PETER\\OneDrive\\桌面\\Klook 7\\dict.txt.big ...\n",
      "Loading model from cache C:\\Users\\PETER\\AppData\\Local\\Temp\\jieba.u6fb6e872883c6d9c08ea8e016e70c5c1.cache\n"
     ]
    },
    {
     "name": "stdout",
     "output_type": "stream",
     "text": [
      "14057\n"
     ]
    },
    {
     "name": "stderr",
     "output_type": "stream",
     "text": [
      "Loading model cost 1.207 seconds.\n",
      "Prefix dict has been built succesfully.\n",
      "Building prefix dict from C:\\Users\\PETER\\OneDrive\\桌面\\Klook 7\\dict.txt.big ...\n",
      "Loading model from cache C:\\Users\\PETER\\AppData\\Local\\Temp\\jieba.u6fb6e872883c6d9c08ea8e016e70c5c1.cache\n"
     ]
    },
    {
     "name": "stdout",
     "output_type": "stream",
     "text": [
      "14244\n"
     ]
    },
    {
     "name": "stderr",
     "output_type": "stream",
     "text": [
      "Loading model cost 1.204 seconds.\n",
      "Prefix dict has been built succesfully.\n",
      "Building prefix dict from C:\\Users\\PETER\\OneDrive\\桌面\\Klook 7\\dict.txt.big ...\n",
      "Loading model from cache C:\\Users\\PETER\\AppData\\Local\\Temp\\jieba.u6fb6e872883c6d9c08ea8e016e70c5c1.cache\n"
     ]
    },
    {
     "name": "stdout",
     "output_type": "stream",
     "text": [
      "14368\n"
     ]
    },
    {
     "name": "stderr",
     "output_type": "stream",
     "text": [
      "Loading model cost 1.217 seconds.\n",
      "Prefix dict has been built succesfully.\n",
      "Building prefix dict from C:\\Users\\PETER\\OneDrive\\桌面\\Klook 7\\dict.txt.big ...\n",
      "Loading model from cache C:\\Users\\PETER\\AppData\\Local\\Temp\\jieba.u6fb6e872883c6d9c08ea8e016e70c5c1.cache\n"
     ]
    },
    {
     "name": "stdout",
     "output_type": "stream",
     "text": [
      "14460\n"
     ]
    },
    {
     "name": "stderr",
     "output_type": "stream",
     "text": [
      "Loading model cost 1.211 seconds.\n",
      "Prefix dict has been built succesfully.\n",
      "Building prefix dict from C:\\Users\\PETER\\OneDrive\\桌面\\Klook 7\\dict.txt.big ...\n",
      "Loading model from cache C:\\Users\\PETER\\AppData\\Local\\Temp\\jieba.u6fb6e872883c6d9c08ea8e016e70c5c1.cache\n"
     ]
    },
    {
     "name": "stdout",
     "output_type": "stream",
     "text": [
      "14505\n"
     ]
    },
    {
     "name": "stderr",
     "output_type": "stream",
     "text": [
      "Loading model cost 1.206 seconds.\n",
      "Prefix dict has been built succesfully.\n",
      "Building prefix dict from C:\\Users\\PETER\\OneDrive\\桌面\\Klook 7\\dict.txt.big ...\n",
      "Loading model from cache C:\\Users\\PETER\\AppData\\Local\\Temp\\jieba.u6fb6e872883c6d9c08ea8e016e70c5c1.cache\n"
     ]
    },
    {
     "name": "stdout",
     "output_type": "stream",
     "text": [
      "14523\n"
     ]
    },
    {
     "name": "stderr",
     "output_type": "stream",
     "text": [
      "Loading model cost 1.204 seconds.\n",
      "Prefix dict has been built succesfully.\n",
      "Building prefix dict from C:\\Users\\PETER\\OneDrive\\桌面\\Klook 7\\dict.txt.big ...\n",
      "Loading model from cache C:\\Users\\PETER\\AppData\\Local\\Temp\\jieba.u6fb6e872883c6d9c08ea8e016e70c5c1.cache\n"
     ]
    },
    {
     "name": "stdout",
     "output_type": "stream",
     "text": [
      "14570\n"
     ]
    },
    {
     "name": "stderr",
     "output_type": "stream",
     "text": [
      "Loading model cost 1.215 seconds.\n",
      "Prefix dict has been built succesfully.\n",
      "Building prefix dict from C:\\Users\\PETER\\OneDrive\\桌面\\Klook 7\\dict.txt.big ...\n",
      "Loading model from cache C:\\Users\\PETER\\AppData\\Local\\Temp\\jieba.u6fb6e872883c6d9c08ea8e016e70c5c1.cache\n"
     ]
    },
    {
     "name": "stdout",
     "output_type": "stream",
     "text": [
      "15111\n"
     ]
    },
    {
     "name": "stderr",
     "output_type": "stream",
     "text": [
      "Loading model cost 1.204 seconds.\n",
      "Prefix dict has been built succesfully.\n",
      "Building prefix dict from C:\\Users\\PETER\\OneDrive\\桌面\\Klook 7\\dict.txt.big ...\n",
      "Loading model from cache C:\\Users\\PETER\\AppData\\Local\\Temp\\jieba.u6fb6e872883c6d9c08ea8e016e70c5c1.cache\n"
     ]
    },
    {
     "name": "stdout",
     "output_type": "stream",
     "text": [
      "15237\n"
     ]
    },
    {
     "name": "stderr",
     "output_type": "stream",
     "text": [
      "Loading model cost 1.199 seconds.\n",
      "Prefix dict has been built succesfully.\n",
      "Building prefix dict from C:\\Users\\PETER\\OneDrive\\桌面\\Klook 7\\dict.txt.big ...\n",
      "Loading model from cache C:\\Users\\PETER\\AppData\\Local\\Temp\\jieba.u6fb6e872883c6d9c08ea8e016e70c5c1.cache\n"
     ]
    },
    {
     "name": "stdout",
     "output_type": "stream",
     "text": [
      "1538\n"
     ]
    },
    {
     "name": "stderr",
     "output_type": "stream",
     "text": [
      "Loading model cost 1.205 seconds.\n",
      "Prefix dict has been built succesfully.\n",
      "Building prefix dict from C:\\Users\\PETER\\OneDrive\\桌面\\Klook 7\\dict.txt.big ...\n",
      "Loading model from cache C:\\Users\\PETER\\AppData\\Local\\Temp\\jieba.u6fb6e872883c6d9c08ea8e016e70c5c1.cache\n"
     ]
    },
    {
     "name": "stdout",
     "output_type": "stream",
     "text": [
      "15415\n"
     ]
    },
    {
     "name": "stderr",
     "output_type": "stream",
     "text": [
      "Loading model cost 1.199 seconds.\n",
      "Prefix dict has been built succesfully.\n",
      "Building prefix dict from C:\\Users\\PETER\\OneDrive\\桌面\\Klook 7\\dict.txt.big ...\n",
      "Loading model from cache C:\\Users\\PETER\\AppData\\Local\\Temp\\jieba.u6fb6e872883c6d9c08ea8e016e70c5c1.cache\n"
     ]
    },
    {
     "name": "stdout",
     "output_type": "stream",
     "text": [
      "1580\n"
     ]
    },
    {
     "name": "stderr",
     "output_type": "stream",
     "text": [
      "Loading model cost 1.206 seconds.\n",
      "Prefix dict has been built succesfully.\n",
      "Building prefix dict from C:\\Users\\PETER\\OneDrive\\桌面\\Klook 7\\dict.txt.big ...\n",
      "Loading model from cache C:\\Users\\PETER\\AppData\\Local\\Temp\\jieba.u6fb6e872883c6d9c08ea8e016e70c5c1.cache\n"
     ]
    },
    {
     "name": "stdout",
     "output_type": "stream",
     "text": [
      "15809\n"
     ]
    },
    {
     "name": "stderr",
     "output_type": "stream",
     "text": [
      "Loading model cost 1.207 seconds.\n",
      "Prefix dict has been built succesfully.\n",
      "Building prefix dict from C:\\Users\\PETER\\OneDrive\\桌面\\Klook 7\\dict.txt.big ...\n",
      "Loading model from cache C:\\Users\\PETER\\AppData\\Local\\Temp\\jieba.u6fb6e872883c6d9c08ea8e016e70c5c1.cache\n"
     ]
    },
    {
     "name": "stdout",
     "output_type": "stream",
     "text": [
      "15812\n"
     ]
    },
    {
     "name": "stderr",
     "output_type": "stream",
     "text": [
      "Loading model cost 1.208 seconds.\n",
      "Prefix dict has been built succesfully.\n",
      "Building prefix dict from C:\\Users\\PETER\\OneDrive\\桌面\\Klook 7\\dict.txt.big ...\n",
      "Loading model from cache C:\\Users\\PETER\\AppData\\Local\\Temp\\jieba.u6fb6e872883c6d9c08ea8e016e70c5c1.cache\n"
     ]
    },
    {
     "name": "stdout",
     "output_type": "stream",
     "text": [
      "1582\n"
     ]
    },
    {
     "name": "stderr",
     "output_type": "stream",
     "text": [
      "Loading model cost 1.229 seconds.\n",
      "Prefix dict has been built succesfully.\n",
      "Building prefix dict from C:\\Users\\PETER\\OneDrive\\桌面\\Klook 7\\dict.txt.big ...\n",
      "Loading model from cache C:\\Users\\PETER\\AppData\\Local\\Temp\\jieba.u6fb6e872883c6d9c08ea8e016e70c5c1.cache\n"
     ]
    },
    {
     "name": "stdout",
     "output_type": "stream",
     "text": [
      "1595\n"
     ]
    },
    {
     "name": "stderr",
     "output_type": "stream",
     "text": [
      "Loading model cost 1.215 seconds.\n",
      "Prefix dict has been built succesfully.\n",
      "Building prefix dict from C:\\Users\\PETER\\OneDrive\\桌面\\Klook 7\\dict.txt.big ...\n",
      "Loading model from cache C:\\Users\\PETER\\AppData\\Local\\Temp\\jieba.u6fb6e872883c6d9c08ea8e016e70c5c1.cache\n"
     ]
    },
    {
     "name": "stdout",
     "output_type": "stream",
     "text": [
      "16161\n"
     ]
    },
    {
     "name": "stderr",
     "output_type": "stream",
     "text": [
      "Loading model cost 1.230 seconds.\n",
      "Prefix dict has been built succesfully.\n",
      "Building prefix dict from C:\\Users\\PETER\\OneDrive\\桌面\\Klook 7\\dict.txt.big ...\n",
      "Loading model from cache C:\\Users\\PETER\\AppData\\Local\\Temp\\jieba.u6fb6e872883c6d9c08ea8e016e70c5c1.cache\n"
     ]
    },
    {
     "name": "stdout",
     "output_type": "stream",
     "text": [
      "16202\n"
     ]
    },
    {
     "name": "stderr",
     "output_type": "stream",
     "text": [
      "Loading model cost 1.232 seconds.\n",
      "Prefix dict has been built succesfully.\n",
      "Building prefix dict from C:\\Users\\PETER\\OneDrive\\桌面\\Klook 7\\dict.txt.big ...\n",
      "Loading model from cache C:\\Users\\PETER\\AppData\\Local\\Temp\\jieba.u6fb6e872883c6d9c08ea8e016e70c5c1.cache\n"
     ]
    },
    {
     "name": "stdout",
     "output_type": "stream",
     "text": [
      "16258\n"
     ]
    },
    {
     "name": "stderr",
     "output_type": "stream",
     "text": [
      "Loading model cost 1.230 seconds.\n",
      "Prefix dict has been built succesfully.\n",
      "Building prefix dict from C:\\Users\\PETER\\OneDrive\\桌面\\Klook 7\\dict.txt.big ...\n",
      "Loading model from cache C:\\Users\\PETER\\AppData\\Local\\Temp\\jieba.u6fb6e872883c6d9c08ea8e016e70c5c1.cache\n"
     ]
    },
    {
     "name": "stdout",
     "output_type": "stream",
     "text": [
      "16592\n"
     ]
    },
    {
     "name": "stderr",
     "output_type": "stream",
     "text": [
      "Loading model cost 1.200 seconds.\n",
      "Prefix dict has been built succesfully.\n",
      "Building prefix dict from C:\\Users\\PETER\\OneDrive\\桌面\\Klook 7\\dict.txt.big ...\n",
      "Loading model from cache C:\\Users\\PETER\\AppData\\Local\\Temp\\jieba.u6fb6e872883c6d9c08ea8e016e70c5c1.cache\n"
     ]
    },
    {
     "name": "stdout",
     "output_type": "stream",
     "text": [
      "16686\n"
     ]
    },
    {
     "name": "stderr",
     "output_type": "stream",
     "text": [
      "Loading model cost 1.202 seconds.\n",
      "Prefix dict has been built succesfully.\n",
      "Building prefix dict from C:\\Users\\PETER\\OneDrive\\桌面\\Klook 7\\dict.txt.big ...\n",
      "Loading model from cache C:\\Users\\PETER\\AppData\\Local\\Temp\\jieba.u6fb6e872883c6d9c08ea8e016e70c5c1.cache\n"
     ]
    },
    {
     "name": "stdout",
     "output_type": "stream",
     "text": [
      "16841\n"
     ]
    },
    {
     "name": "stderr",
     "output_type": "stream",
     "text": [
      "Loading model cost 1.219 seconds.\n",
      "Prefix dict has been built succesfully.\n",
      "Building prefix dict from C:\\Users\\PETER\\OneDrive\\桌面\\Klook 7\\dict.txt.big ...\n",
      "Loading model from cache C:\\Users\\PETER\\AppData\\Local\\Temp\\jieba.u6fb6e872883c6d9c08ea8e016e70c5c1.cache\n"
     ]
    },
    {
     "name": "stdout",
     "output_type": "stream",
     "text": [
      "16895\n"
     ]
    },
    {
     "name": "stderr",
     "output_type": "stream",
     "text": [
      "Loading model cost 1.224 seconds.\n",
      "Prefix dict has been built succesfully.\n",
      "Building prefix dict from C:\\Users\\PETER\\OneDrive\\桌面\\Klook 7\\dict.txt.big ...\n",
      "Loading model from cache C:\\Users\\PETER\\AppData\\Local\\Temp\\jieba.u6fb6e872883c6d9c08ea8e016e70c5c1.cache\n"
     ]
    },
    {
     "name": "stdout",
     "output_type": "stream",
     "text": [
      "17042\n"
     ]
    },
    {
     "name": "stderr",
     "output_type": "stream",
     "text": [
      "Loading model cost 1.235 seconds.\n",
      "Prefix dict has been built succesfully.\n",
      "Building prefix dict from C:\\Users\\PETER\\OneDrive\\桌面\\Klook 7\\dict.txt.big ...\n",
      "Loading model from cache C:\\Users\\PETER\\AppData\\Local\\Temp\\jieba.u6fb6e872883c6d9c08ea8e016e70c5c1.cache\n"
     ]
    },
    {
     "name": "stdout",
     "output_type": "stream",
     "text": [
      "17090\n"
     ]
    },
    {
     "name": "stderr",
     "output_type": "stream",
     "text": [
      "Loading model cost 1.257 seconds.\n",
      "Prefix dict has been built succesfully.\n",
      "Building prefix dict from C:\\Users\\PETER\\OneDrive\\桌面\\Klook 7\\dict.txt.big ...\n",
      "Loading model from cache C:\\Users\\PETER\\AppData\\Local\\Temp\\jieba.u6fb6e872883c6d9c08ea8e016e70c5c1.cache\n"
     ]
    },
    {
     "name": "stdout",
     "output_type": "stream",
     "text": [
      "17161\n"
     ]
    },
    {
     "name": "stderr",
     "output_type": "stream",
     "text": [
      "Loading model cost 1.234 seconds.\n",
      "Prefix dict has been built succesfully.\n",
      "Building prefix dict from C:\\Users\\PETER\\OneDrive\\桌面\\Klook 7\\dict.txt.big ...\n",
      "Loading model from cache C:\\Users\\PETER\\AppData\\Local\\Temp\\jieba.u6fb6e872883c6d9c08ea8e016e70c5c1.cache\n"
     ]
    },
    {
     "name": "stdout",
     "output_type": "stream",
     "text": [
      "17178\n"
     ]
    },
    {
     "name": "stderr",
     "output_type": "stream",
     "text": [
      "Loading model cost 1.221 seconds.\n",
      "Prefix dict has been built succesfully.\n",
      "Building prefix dict from C:\\Users\\PETER\\OneDrive\\桌面\\Klook 7\\dict.txt.big ...\n",
      "Loading model from cache C:\\Users\\PETER\\AppData\\Local\\Temp\\jieba.u6fb6e872883c6d9c08ea8e016e70c5c1.cache\n"
     ]
    },
    {
     "name": "stdout",
     "output_type": "stream",
     "text": [
      "17252\n"
     ]
    },
    {
     "name": "stderr",
     "output_type": "stream",
     "text": [
      "Loading model cost 1.232 seconds.\n",
      "Prefix dict has been built succesfully.\n",
      "Building prefix dict from C:\\Users\\PETER\\OneDrive\\桌面\\Klook 7\\dict.txt.big ...\n",
      "Loading model from cache C:\\Users\\PETER\\AppData\\Local\\Temp\\jieba.u6fb6e872883c6d9c08ea8e016e70c5c1.cache\n"
     ]
    },
    {
     "name": "stdout",
     "output_type": "stream",
     "text": [
      "17391\n"
     ]
    },
    {
     "name": "stderr",
     "output_type": "stream",
     "text": [
      "Loading model cost 1.206 seconds.\n",
      "Prefix dict has been built succesfully.\n",
      "Building prefix dict from C:\\Users\\PETER\\OneDrive\\桌面\\Klook 7\\dict.txt.big ...\n",
      "Loading model from cache C:\\Users\\PETER\\AppData\\Local\\Temp\\jieba.u6fb6e872883c6d9c08ea8e016e70c5c1.cache\n"
     ]
    },
    {
     "name": "stdout",
     "output_type": "stream",
     "text": [
      "17466\n"
     ]
    },
    {
     "name": "stderr",
     "output_type": "stream",
     "text": [
      "Loading model cost 1.210 seconds.\n",
      "Prefix dict has been built succesfully.\n",
      "Building prefix dict from C:\\Users\\PETER\\OneDrive\\桌面\\Klook 7\\dict.txt.big ...\n",
      "Loading model from cache C:\\Users\\PETER\\AppData\\Local\\Temp\\jieba.u6fb6e872883c6d9c08ea8e016e70c5c1.cache\n"
     ]
    },
    {
     "name": "stdout",
     "output_type": "stream",
     "text": [
      "17560\n"
     ]
    },
    {
     "name": "stderr",
     "output_type": "stream",
     "text": [
      "Loading model cost 1.213 seconds.\n",
      "Prefix dict has been built succesfully.\n",
      "Building prefix dict from C:\\Users\\PETER\\OneDrive\\桌面\\Klook 7\\dict.txt.big ...\n",
      "Loading model from cache C:\\Users\\PETER\\AppData\\Local\\Temp\\jieba.u6fb6e872883c6d9c08ea8e016e70c5c1.cache\n"
     ]
    },
    {
     "name": "stdout",
     "output_type": "stream",
     "text": [
      "17677\n"
     ]
    },
    {
     "name": "stderr",
     "output_type": "stream",
     "text": [
      "Loading model cost 1.226 seconds.\n",
      "Prefix dict has been built succesfully.\n",
      "Building prefix dict from C:\\Users\\PETER\\OneDrive\\桌面\\Klook 7\\dict.txt.big ...\n",
      "Loading model from cache C:\\Users\\PETER\\AppData\\Local\\Temp\\jieba.u6fb6e872883c6d9c08ea8e016e70c5c1.cache\n"
     ]
    },
    {
     "name": "stdout",
     "output_type": "stream",
     "text": [
      "17678\n"
     ]
    },
    {
     "name": "stderr",
     "output_type": "stream",
     "text": [
      "Loading model cost 1.221 seconds.\n",
      "Prefix dict has been built succesfully.\n",
      "Building prefix dict from C:\\Users\\PETER\\OneDrive\\桌面\\Klook 7\\dict.txt.big ...\n",
      "Loading model from cache C:\\Users\\PETER\\AppData\\Local\\Temp\\jieba.u6fb6e872883c6d9c08ea8e016e70c5c1.cache\n"
     ]
    },
    {
     "name": "stdout",
     "output_type": "stream",
     "text": [
      "17731\n"
     ]
    },
    {
     "name": "stderr",
     "output_type": "stream",
     "text": [
      "Loading model cost 1.203 seconds.\n",
      "Prefix dict has been built succesfully.\n",
      "Building prefix dict from C:\\Users\\PETER\\OneDrive\\桌面\\Klook 7\\dict.txt.big ...\n",
      "Loading model from cache C:\\Users\\PETER\\AppData\\Local\\Temp\\jieba.u6fb6e872883c6d9c08ea8e016e70c5c1.cache\n"
     ]
    },
    {
     "name": "stdout",
     "output_type": "stream",
     "text": [
      "17819\n"
     ]
    },
    {
     "name": "stderr",
     "output_type": "stream",
     "text": [
      "Loading model cost 1.206 seconds.\n",
      "Prefix dict has been built succesfully.\n",
      "Building prefix dict from C:\\Users\\PETER\\OneDrive\\桌面\\Klook 7\\dict.txt.big ...\n",
      "Loading model from cache C:\\Users\\PETER\\AppData\\Local\\Temp\\jieba.u6fb6e872883c6d9c08ea8e016e70c5c1.cache\n"
     ]
    },
    {
     "name": "stdout",
     "output_type": "stream",
     "text": [
      "17863\n"
     ]
    },
    {
     "name": "stderr",
     "output_type": "stream",
     "text": [
      "Loading model cost 1.220 seconds.\n",
      "Prefix dict has been built succesfully.\n",
      "Building prefix dict from C:\\Users\\PETER\\OneDrive\\桌面\\Klook 7\\dict.txt.big ...\n",
      "Loading model from cache C:\\Users\\PETER\\AppData\\Local\\Temp\\jieba.u6fb6e872883c6d9c08ea8e016e70c5c1.cache\n"
     ]
    },
    {
     "name": "stdout",
     "output_type": "stream",
     "text": [
      "17900\n"
     ]
    },
    {
     "name": "stderr",
     "output_type": "stream",
     "text": [
      "Loading model cost 1.231 seconds.\n",
      "Prefix dict has been built succesfully.\n",
      "Building prefix dict from C:\\Users\\PETER\\OneDrive\\桌面\\Klook 7\\dict.txt.big ...\n",
      "Loading model from cache C:\\Users\\PETER\\AppData\\Local\\Temp\\jieba.u6fb6e872883c6d9c08ea8e016e70c5c1.cache\n"
     ]
    },
    {
     "name": "stdout",
     "output_type": "stream",
     "text": [
      "17936\n"
     ]
    },
    {
     "name": "stderr",
     "output_type": "stream",
     "text": [
      "Loading model cost 1.247 seconds.\n",
      "Prefix dict has been built succesfully.\n",
      "Building prefix dict from C:\\Users\\PETER\\OneDrive\\桌面\\Klook 7\\dict.txt.big ...\n",
      "Loading model from cache C:\\Users\\PETER\\AppData\\Local\\Temp\\jieba.u6fb6e872883c6d9c08ea8e016e70c5c1.cache\n"
     ]
    },
    {
     "name": "stdout",
     "output_type": "stream",
     "text": [
      "17978\n"
     ]
    },
    {
     "name": "stderr",
     "output_type": "stream",
     "text": [
      "Loading model cost 1.228 seconds.\n",
      "Prefix dict has been built succesfully.\n",
      "Building prefix dict from C:\\Users\\PETER\\OneDrive\\桌面\\Klook 7\\dict.txt.big ...\n",
      "Loading model from cache C:\\Users\\PETER\\AppData\\Local\\Temp\\jieba.u6fb6e872883c6d9c08ea8e016e70c5c1.cache\n"
     ]
    },
    {
     "name": "stdout",
     "output_type": "stream",
     "text": [
      "17982\n"
     ]
    },
    {
     "name": "stderr",
     "output_type": "stream",
     "text": [
      "Loading model cost 1.203 seconds.\n",
      "Prefix dict has been built succesfully.\n",
      "Building prefix dict from C:\\Users\\PETER\\OneDrive\\桌面\\Klook 7\\dict.txt.big ...\n",
      "Loading model from cache C:\\Users\\PETER\\AppData\\Local\\Temp\\jieba.u6fb6e872883c6d9c08ea8e016e70c5c1.cache\n"
     ]
    },
    {
     "name": "stdout",
     "output_type": "stream",
     "text": [
      "17990\n"
     ]
    },
    {
     "name": "stderr",
     "output_type": "stream",
     "text": [
      "Loading model cost 1.228 seconds.\n",
      "Prefix dict has been built succesfully.\n",
      "Building prefix dict from C:\\Users\\PETER\\OneDrive\\桌面\\Klook 7\\dict.txt.big ...\n",
      "Loading model from cache C:\\Users\\PETER\\AppData\\Local\\Temp\\jieba.u6fb6e872883c6d9c08ea8e016e70c5c1.cache\n"
     ]
    },
    {
     "name": "stdout",
     "output_type": "stream",
     "text": [
      "17994\n"
     ]
    },
    {
     "name": "stderr",
     "output_type": "stream",
     "text": [
      "Loading model cost 1.221 seconds.\n",
      "Prefix dict has been built succesfully.\n",
      "Building prefix dict from C:\\Users\\PETER\\OneDrive\\桌面\\Klook 7\\dict.txt.big ...\n",
      "Loading model from cache C:\\Users\\PETER\\AppData\\Local\\Temp\\jieba.u6fb6e872883c6d9c08ea8e016e70c5c1.cache\n"
     ]
    },
    {
     "name": "stdout",
     "output_type": "stream",
     "text": [
      "18075\n"
     ]
    },
    {
     "name": "stderr",
     "output_type": "stream",
     "text": [
      "Loading model cost 1.203 seconds.\n",
      "Prefix dict has been built succesfully.\n",
      "Building prefix dict from C:\\Users\\PETER\\OneDrive\\桌面\\Klook 7\\dict.txt.big ...\n",
      "Loading model from cache C:\\Users\\PETER\\AppData\\Local\\Temp\\jieba.u6fb6e872883c6d9c08ea8e016e70c5c1.cache\n"
     ]
    },
    {
     "name": "stdout",
     "output_type": "stream",
     "text": [
      "18362\n"
     ]
    },
    {
     "name": "stderr",
     "output_type": "stream",
     "text": [
      "Loading model cost 1.215 seconds.\n",
      "Prefix dict has been built succesfully.\n",
      "Building prefix dict from C:\\Users\\PETER\\OneDrive\\桌面\\Klook 7\\dict.txt.big ...\n",
      "Loading model from cache C:\\Users\\PETER\\AppData\\Local\\Temp\\jieba.u6fb6e872883c6d9c08ea8e016e70c5c1.cache\n"
     ]
    },
    {
     "name": "stdout",
     "output_type": "stream",
     "text": [
      "18366\n"
     ]
    },
    {
     "name": "stderr",
     "output_type": "stream",
     "text": [
      "Loading model cost 1.218 seconds.\n",
      "Prefix dict has been built succesfully.\n",
      "Building prefix dict from C:\\Users\\PETER\\OneDrive\\桌面\\Klook 7\\dict.txt.big ...\n",
      "Loading model from cache C:\\Users\\PETER\\AppData\\Local\\Temp\\jieba.u6fb6e872883c6d9c08ea8e016e70c5c1.cache\n"
     ]
    },
    {
     "name": "stdout",
     "output_type": "stream",
     "text": [
      "18436\n"
     ]
    },
    {
     "name": "stderr",
     "output_type": "stream",
     "text": [
      "Loading model cost 1.206 seconds.\n",
      "Prefix dict has been built succesfully.\n",
      "Building prefix dict from C:\\Users\\PETER\\OneDrive\\桌面\\Klook 7\\dict.txt.big ...\n",
      "Loading model from cache C:\\Users\\PETER\\AppData\\Local\\Temp\\jieba.u6fb6e872883c6d9c08ea8e016e70c5c1.cache\n"
     ]
    },
    {
     "name": "stdout",
     "output_type": "stream",
     "text": [
      "18613\n"
     ]
    },
    {
     "name": "stderr",
     "output_type": "stream",
     "text": [
      "Loading model cost 1.207 seconds.\n",
      "Prefix dict has been built succesfully.\n",
      "Building prefix dict from C:\\Users\\PETER\\OneDrive\\桌面\\Klook 7\\dict.txt.big ...\n",
      "Loading model from cache C:\\Users\\PETER\\AppData\\Local\\Temp\\jieba.u6fb6e872883c6d9c08ea8e016e70c5c1.cache\n"
     ]
    },
    {
     "name": "stdout",
     "output_type": "stream",
     "text": [
      "18619\n"
     ]
    },
    {
     "name": "stderr",
     "output_type": "stream",
     "text": [
      "Loading model cost 1.271 seconds.\n",
      "Prefix dict has been built succesfully.\n",
      "Building prefix dict from C:\\Users\\PETER\\OneDrive\\桌面\\Klook 7\\dict.txt.big ...\n",
      "Loading model from cache C:\\Users\\PETER\\AppData\\Local\\Temp\\jieba.u6fb6e872883c6d9c08ea8e016e70c5c1.cache\n"
     ]
    },
    {
     "name": "stdout",
     "output_type": "stream",
     "text": [
      "18621\n"
     ]
    },
    {
     "name": "stderr",
     "output_type": "stream",
     "text": [
      "Loading model cost 1.201 seconds.\n",
      "Prefix dict has been built succesfully.\n",
      "Building prefix dict from C:\\Users\\PETER\\OneDrive\\桌面\\Klook 7\\dict.txt.big ...\n",
      "Loading model from cache C:\\Users\\PETER\\AppData\\Local\\Temp\\jieba.u6fb6e872883c6d9c08ea8e016e70c5c1.cache\n"
     ]
    },
    {
     "name": "stdout",
     "output_type": "stream",
     "text": [
      "18689\n"
     ]
    },
    {
     "name": "stderr",
     "output_type": "stream",
     "text": [
      "Loading model cost 1.218 seconds.\n",
      "Prefix dict has been built succesfully.\n",
      "Building prefix dict from C:\\Users\\PETER\\OneDrive\\桌面\\Klook 7\\dict.txt.big ...\n",
      "Loading model from cache C:\\Users\\PETER\\AppData\\Local\\Temp\\jieba.u6fb6e872883c6d9c08ea8e016e70c5c1.cache\n"
     ]
    },
    {
     "name": "stdout",
     "output_type": "stream",
     "text": [
      "18695\n"
     ]
    },
    {
     "name": "stderr",
     "output_type": "stream",
     "text": [
      "Loading model cost 1.198 seconds.\n",
      "Prefix dict has been built succesfully.\n",
      "Building prefix dict from C:\\Users\\PETER\\OneDrive\\桌面\\Klook 7\\dict.txt.big ...\n",
      "Loading model from cache C:\\Users\\PETER\\AppData\\Local\\Temp\\jieba.u6fb6e872883c6d9c08ea8e016e70c5c1.cache\n"
     ]
    },
    {
     "name": "stdout",
     "output_type": "stream",
     "text": [
      "18700\n"
     ]
    },
    {
     "name": "stderr",
     "output_type": "stream",
     "text": [
      "Loading model cost 1.240 seconds.\n",
      "Prefix dict has been built succesfully.\n",
      "Building prefix dict from C:\\Users\\PETER\\OneDrive\\桌面\\Klook 7\\dict.txt.big ...\n",
      "Loading model from cache C:\\Users\\PETER\\AppData\\Local\\Temp\\jieba.u6fb6e872883c6d9c08ea8e016e70c5c1.cache\n"
     ]
    },
    {
     "name": "stdout",
     "output_type": "stream",
     "text": [
      "18721\n"
     ]
    },
    {
     "name": "stderr",
     "output_type": "stream",
     "text": [
      "Loading model cost 1.228 seconds.\n",
      "Prefix dict has been built succesfully.\n",
      "Building prefix dict from C:\\Users\\PETER\\OneDrive\\桌面\\Klook 7\\dict.txt.big ...\n",
      "Loading model from cache C:\\Users\\PETER\\AppData\\Local\\Temp\\jieba.u6fb6e872883c6d9c08ea8e016e70c5c1.cache\n"
     ]
    },
    {
     "name": "stdout",
     "output_type": "stream",
     "text": [
      "18744\n"
     ]
    },
    {
     "name": "stderr",
     "output_type": "stream",
     "text": [
      "Loading model cost 1.206 seconds.\n",
      "Prefix dict has been built succesfully.\n",
      "Building prefix dict from C:\\Users\\PETER\\OneDrive\\桌面\\Klook 7\\dict.txt.big ...\n",
      "Loading model from cache C:\\Users\\PETER\\AppData\\Local\\Temp\\jieba.u6fb6e872883c6d9c08ea8e016e70c5c1.cache\n"
     ]
    },
    {
     "name": "stdout",
     "output_type": "stream",
     "text": [
      "18785\n"
     ]
    },
    {
     "name": "stderr",
     "output_type": "stream",
     "text": [
      "Loading model cost 1.205 seconds.\n",
      "Prefix dict has been built succesfully.\n",
      "Building prefix dict from C:\\Users\\PETER\\OneDrive\\桌面\\Klook 7\\dict.txt.big ...\n",
      "Loading model from cache C:\\Users\\PETER\\AppData\\Local\\Temp\\jieba.u6fb6e872883c6d9c08ea8e016e70c5c1.cache\n"
     ]
    },
    {
     "name": "stdout",
     "output_type": "stream",
     "text": [
      "18948\n"
     ]
    },
    {
     "name": "stderr",
     "output_type": "stream",
     "text": [
      "Loading model cost 1.202 seconds.\n",
      "Prefix dict has been built succesfully.\n",
      "Building prefix dict from C:\\Users\\PETER\\OneDrive\\桌面\\Klook 7\\dict.txt.big ...\n",
      "Loading model from cache C:\\Users\\PETER\\AppData\\Local\\Temp\\jieba.u6fb6e872883c6d9c08ea8e016e70c5c1.cache\n"
     ]
    },
    {
     "name": "stdout",
     "output_type": "stream",
     "text": [
      "18966\n"
     ]
    },
    {
     "name": "stderr",
     "output_type": "stream",
     "text": [
      "Loading model cost 1.208 seconds.\n",
      "Prefix dict has been built succesfully.\n",
      "Building prefix dict from C:\\Users\\PETER\\OneDrive\\桌面\\Klook 7\\dict.txt.big ...\n",
      "Loading model from cache C:\\Users\\PETER\\AppData\\Local\\Temp\\jieba.u6fb6e872883c6d9c08ea8e016e70c5c1.cache\n"
     ]
    },
    {
     "name": "stdout",
     "output_type": "stream",
     "text": [
      "18992\n"
     ]
    },
    {
     "name": "stderr",
     "output_type": "stream",
     "text": [
      "Loading model cost 1.245 seconds.\n",
      "Prefix dict has been built succesfully.\n",
      "Building prefix dict from C:\\Users\\PETER\\OneDrive\\桌面\\Klook 7\\dict.txt.big ...\n",
      "Loading model from cache C:\\Users\\PETER\\AppData\\Local\\Temp\\jieba.u6fb6e872883c6d9c08ea8e016e70c5c1.cache\n"
     ]
    },
    {
     "name": "stdout",
     "output_type": "stream",
     "text": [
      "19087\n"
     ]
    },
    {
     "name": "stderr",
     "output_type": "stream",
     "text": [
      "Loading model cost 1.251 seconds.\n",
      "Prefix dict has been built succesfully.\n",
      "Building prefix dict from C:\\Users\\PETER\\OneDrive\\桌面\\Klook 7\\dict.txt.big ...\n",
      "Loading model from cache C:\\Users\\PETER\\AppData\\Local\\Temp\\jieba.u6fb6e872883c6d9c08ea8e016e70c5c1.cache\n"
     ]
    },
    {
     "name": "stdout",
     "output_type": "stream",
     "text": [
      "19111\n"
     ]
    },
    {
     "name": "stderr",
     "output_type": "stream",
     "text": [
      "Loading model cost 1.208 seconds.\n",
      "Prefix dict has been built succesfully.\n",
      "Building prefix dict from C:\\Users\\PETER\\OneDrive\\桌面\\Klook 7\\dict.txt.big ...\n",
      "Loading model from cache C:\\Users\\PETER\\AppData\\Local\\Temp\\jieba.u6fb6e872883c6d9c08ea8e016e70c5c1.cache\n"
     ]
    },
    {
     "name": "stdout",
     "output_type": "stream",
     "text": [
      "19167\n"
     ]
    },
    {
     "name": "stderr",
     "output_type": "stream",
     "text": [
      "Loading model cost 1.215 seconds.\n",
      "Prefix dict has been built succesfully.\n",
      "Building prefix dict from C:\\Users\\PETER\\OneDrive\\桌面\\Klook 7\\dict.txt.big ...\n",
      "Loading model from cache C:\\Users\\PETER\\AppData\\Local\\Temp\\jieba.u6fb6e872883c6d9c08ea8e016e70c5c1.cache\n"
     ]
    },
    {
     "name": "stdout",
     "output_type": "stream",
     "text": [
      "19172\n"
     ]
    },
    {
     "name": "stderr",
     "output_type": "stream",
     "text": [
      "Loading model cost 1.243 seconds.\n",
      "Prefix dict has been built succesfully.\n",
      "Building prefix dict from C:\\Users\\PETER\\OneDrive\\桌面\\Klook 7\\dict.txt.big ...\n",
      "Loading model from cache C:\\Users\\PETER\\AppData\\Local\\Temp\\jieba.u6fb6e872883c6d9c08ea8e016e70c5c1.cache\n"
     ]
    },
    {
     "name": "stdout",
     "output_type": "stream",
     "text": [
      "19246\n"
     ]
    },
    {
     "name": "stderr",
     "output_type": "stream",
     "text": [
      "Loading model cost 1.224 seconds.\n",
      "Prefix dict has been built succesfully.\n",
      "Building prefix dict from C:\\Users\\PETER\\OneDrive\\桌面\\Klook 7\\dict.txt.big ...\n",
      "Loading model from cache C:\\Users\\PETER\\AppData\\Local\\Temp\\jieba.u6fb6e872883c6d9c08ea8e016e70c5c1.cache\n"
     ]
    },
    {
     "name": "stdout",
     "output_type": "stream",
     "text": [
      "1928\n"
     ]
    },
    {
     "name": "stderr",
     "output_type": "stream",
     "text": [
      "Loading model cost 1.202 seconds.\n",
      "Prefix dict has been built succesfully.\n",
      "Building prefix dict from C:\\Users\\PETER\\OneDrive\\桌面\\Klook 7\\dict.txt.big ...\n",
      "Loading model from cache C:\\Users\\PETER\\AppData\\Local\\Temp\\jieba.u6fb6e872883c6d9c08ea8e016e70c5c1.cache\n"
     ]
    },
    {
     "name": "stdout",
     "output_type": "stream",
     "text": [
      "1934\n"
     ]
    },
    {
     "name": "stderr",
     "output_type": "stream",
     "text": [
      "Loading model cost 1.215 seconds.\n",
      "Prefix dict has been built succesfully.\n",
      "Building prefix dict from C:\\Users\\PETER\\OneDrive\\桌面\\Klook 7\\dict.txt.big ...\n",
      "Loading model from cache C:\\Users\\PETER\\AppData\\Local\\Temp\\jieba.u6fb6e872883c6d9c08ea8e016e70c5c1.cache\n"
     ]
    },
    {
     "name": "stdout",
     "output_type": "stream",
     "text": [
      "1935\n"
     ]
    },
    {
     "name": "stderr",
     "output_type": "stream",
     "text": [
      "Loading model cost 1.208 seconds.\n",
      "Prefix dict has been built succesfully.\n",
      "Building prefix dict from C:\\Users\\PETER\\OneDrive\\桌面\\Klook 7\\dict.txt.big ...\n",
      "Loading model from cache C:\\Users\\PETER\\AppData\\Local\\Temp\\jieba.u6fb6e872883c6d9c08ea8e016e70c5c1.cache\n"
     ]
    },
    {
     "name": "stdout",
     "output_type": "stream",
     "text": [
      "1938\n"
     ]
    },
    {
     "name": "stderr",
     "output_type": "stream",
     "text": [
      "Loading model cost 1.213 seconds.\n",
      "Prefix dict has been built succesfully.\n",
      "Building prefix dict from C:\\Users\\PETER\\OneDrive\\桌面\\Klook 7\\dict.txt.big ...\n",
      "Loading model from cache C:\\Users\\PETER\\AppData\\Local\\Temp\\jieba.u6fb6e872883c6d9c08ea8e016e70c5c1.cache\n"
     ]
    },
    {
     "name": "stdout",
     "output_type": "stream",
     "text": [
      "1939\n"
     ]
    },
    {
     "name": "stderr",
     "output_type": "stream",
     "text": [
      "Loading model cost 1.203 seconds.\n",
      "Prefix dict has been built succesfully.\n",
      "Building prefix dict from C:\\Users\\PETER\\OneDrive\\桌面\\Klook 7\\dict.txt.big ...\n",
      "Loading model from cache C:\\Users\\PETER\\AppData\\Local\\Temp\\jieba.u6fb6e872883c6d9c08ea8e016e70c5c1.cache\n"
     ]
    },
    {
     "name": "stdout",
     "output_type": "stream",
     "text": [
      "1940\n"
     ]
    },
    {
     "name": "stderr",
     "output_type": "stream",
     "text": [
      "Loading model cost 1.207 seconds.\n",
      "Prefix dict has been built succesfully.\n",
      "Building prefix dict from C:\\Users\\PETER\\OneDrive\\桌面\\Klook 7\\dict.txt.big ...\n",
      "Loading model from cache C:\\Users\\PETER\\AppData\\Local\\Temp\\jieba.u6fb6e872883c6d9c08ea8e016e70c5c1.cache\n"
     ]
    },
    {
     "name": "stdout",
     "output_type": "stream",
     "text": [
      "1942\n"
     ]
    },
    {
     "name": "stderr",
     "output_type": "stream",
     "text": [
      "Loading model cost 1.208 seconds.\n",
      "Prefix dict has been built succesfully.\n",
      "Building prefix dict from C:\\Users\\PETER\\OneDrive\\桌面\\Klook 7\\dict.txt.big ...\n",
      "Loading model from cache C:\\Users\\PETER\\AppData\\Local\\Temp\\jieba.u6fb6e872883c6d9c08ea8e016e70c5c1.cache\n"
     ]
    },
    {
     "name": "stdout",
     "output_type": "stream",
     "text": [
      "1943\n"
     ]
    },
    {
     "name": "stderr",
     "output_type": "stream",
     "text": [
      "Loading model cost 1.199 seconds.\n",
      "Prefix dict has been built succesfully.\n",
      "Building prefix dict from C:\\Users\\PETER\\OneDrive\\桌面\\Klook 7\\dict.txt.big ...\n",
      "Loading model from cache C:\\Users\\PETER\\AppData\\Local\\Temp\\jieba.u6fb6e872883c6d9c08ea8e016e70c5c1.cache\n"
     ]
    },
    {
     "name": "stdout",
     "output_type": "stream",
     "text": [
      "1946\n"
     ]
    },
    {
     "name": "stderr",
     "output_type": "stream",
     "text": [
      "Loading model cost 1.205 seconds.\n",
      "Prefix dict has been built succesfully.\n",
      "Building prefix dict from C:\\Users\\PETER\\OneDrive\\桌面\\Klook 7\\dict.txt.big ...\n",
      "Loading model from cache C:\\Users\\PETER\\AppData\\Local\\Temp\\jieba.u6fb6e872883c6d9c08ea8e016e70c5c1.cache\n"
     ]
    },
    {
     "name": "stdout",
     "output_type": "stream",
     "text": [
      "19475\n"
     ]
    },
    {
     "name": "stderr",
     "output_type": "stream",
     "text": [
      "Loading model cost 1.203 seconds.\n",
      "Prefix dict has been built succesfully.\n",
      "Building prefix dict from C:\\Users\\PETER\\OneDrive\\桌面\\Klook 7\\dict.txt.big ...\n",
      "Loading model from cache C:\\Users\\PETER\\AppData\\Local\\Temp\\jieba.u6fb6e872883c6d9c08ea8e016e70c5c1.cache\n"
     ]
    },
    {
     "name": "stdout",
     "output_type": "stream",
     "text": [
      "1953\n"
     ]
    },
    {
     "name": "stderr",
     "output_type": "stream",
     "text": [
      "Loading model cost 1.221 seconds.\n",
      "Prefix dict has been built succesfully.\n",
      "Building prefix dict from C:\\Users\\PETER\\OneDrive\\桌面\\Klook 7\\dict.txt.big ...\n",
      "Loading model from cache C:\\Users\\PETER\\AppData\\Local\\Temp\\jieba.u6fb6e872883c6d9c08ea8e016e70c5c1.cache\n"
     ]
    },
    {
     "name": "stdout",
     "output_type": "stream",
     "text": [
      "1959\n"
     ]
    },
    {
     "name": "stderr",
     "output_type": "stream",
     "text": [
      "Loading model cost 1.206 seconds.\n",
      "Prefix dict has been built succesfully.\n",
      "Building prefix dict from C:\\Users\\PETER\\OneDrive\\桌面\\Klook 7\\dict.txt.big ...\n",
      "Loading model from cache C:\\Users\\PETER\\AppData\\Local\\Temp\\jieba.u6fb6e872883c6d9c08ea8e016e70c5c1.cache\n"
     ]
    },
    {
     "name": "stdout",
     "output_type": "stream",
     "text": [
      "1963\n"
     ]
    },
    {
     "name": "stderr",
     "output_type": "stream",
     "text": [
      "Loading model cost 1.208 seconds.\n",
      "Prefix dict has been built succesfully.\n",
      "Building prefix dict from C:\\Users\\PETER\\OneDrive\\桌面\\Klook 7\\dict.txt.big ...\n",
      "Loading model from cache C:\\Users\\PETER\\AppData\\Local\\Temp\\jieba.u6fb6e872883c6d9c08ea8e016e70c5c1.cache\n"
     ]
    },
    {
     "name": "stdout",
     "output_type": "stream",
     "text": [
      "1971\n"
     ]
    },
    {
     "name": "stderr",
     "output_type": "stream",
     "text": [
      "Loading model cost 1.209 seconds.\n",
      "Prefix dict has been built succesfully.\n",
      "Building prefix dict from C:\\Users\\PETER\\OneDrive\\桌面\\Klook 7\\dict.txt.big ...\n",
      "Loading model from cache C:\\Users\\PETER\\AppData\\Local\\Temp\\jieba.u6fb6e872883c6d9c08ea8e016e70c5c1.cache\n"
     ]
    },
    {
     "name": "stdout",
     "output_type": "stream",
     "text": [
      "1973\n"
     ]
    },
    {
     "name": "stderr",
     "output_type": "stream",
     "text": [
      "Loading model cost 1.228 seconds.\n",
      "Prefix dict has been built succesfully.\n",
      "Building prefix dict from C:\\Users\\PETER\\OneDrive\\桌面\\Klook 7\\dict.txt.big ...\n",
      "Loading model from cache C:\\Users\\PETER\\AppData\\Local\\Temp\\jieba.u6fb6e872883c6d9c08ea8e016e70c5c1.cache\n"
     ]
    },
    {
     "name": "stdout",
     "output_type": "stream",
     "text": [
      "1974\n"
     ]
    },
    {
     "name": "stderr",
     "output_type": "stream",
     "text": [
      "Loading model cost 1.228 seconds.\n",
      "Prefix dict has been built succesfully.\n",
      "Building prefix dict from C:\\Users\\PETER\\OneDrive\\桌面\\Klook 7\\dict.txt.big ...\n",
      "Loading model from cache C:\\Users\\PETER\\AppData\\Local\\Temp\\jieba.u6fb6e872883c6d9c08ea8e016e70c5c1.cache\n"
     ]
    },
    {
     "name": "stdout",
     "output_type": "stream",
     "text": [
      "19806\n"
     ]
    },
    {
     "name": "stderr",
     "output_type": "stream",
     "text": [
      "Loading model cost 1.238 seconds.\n",
      "Prefix dict has been built succesfully.\n",
      "Building prefix dict from C:\\Users\\PETER\\OneDrive\\桌面\\Klook 7\\dict.txt.big ...\n",
      "Loading model from cache C:\\Users\\PETER\\AppData\\Local\\Temp\\jieba.u6fb6e872883c6d9c08ea8e016e70c5c1.cache\n"
     ]
    },
    {
     "name": "stdout",
     "output_type": "stream",
     "text": [
      "1981\n"
     ]
    },
    {
     "name": "stderr",
     "output_type": "stream",
     "text": [
      "Loading model cost 1.241 seconds.\n",
      "Prefix dict has been built succesfully.\n",
      "Building prefix dict from C:\\Users\\PETER\\OneDrive\\桌面\\Klook 7\\dict.txt.big ...\n",
      "Loading model from cache C:\\Users\\PETER\\AppData\\Local\\Temp\\jieba.u6fb6e872883c6d9c08ea8e016e70c5c1.cache\n"
     ]
    },
    {
     "name": "stdout",
     "output_type": "stream",
     "text": [
      "1984\n"
     ]
    },
    {
     "name": "stderr",
     "output_type": "stream",
     "text": [
      "Loading model cost 1.214 seconds.\n",
      "Prefix dict has been built succesfully.\n",
      "Building prefix dict from C:\\Users\\PETER\\OneDrive\\桌面\\Klook 7\\dict.txt.big ...\n",
      "Loading model from cache C:\\Users\\PETER\\AppData\\Local\\Temp\\jieba.u6fb6e872883c6d9c08ea8e016e70c5c1.cache\n"
     ]
    },
    {
     "name": "stdout",
     "output_type": "stream",
     "text": [
      "19902\n"
     ]
    },
    {
     "name": "stderr",
     "output_type": "stream",
     "text": [
      "Loading model cost 1.237 seconds.\n",
      "Prefix dict has been built succesfully.\n",
      "Building prefix dict from C:\\Users\\PETER\\OneDrive\\桌面\\Klook 7\\dict.txt.big ...\n",
      "Loading model from cache C:\\Users\\PETER\\AppData\\Local\\Temp\\jieba.u6fb6e872883c6d9c08ea8e016e70c5c1.cache\n"
     ]
    },
    {
     "name": "stdout",
     "output_type": "stream",
     "text": [
      "19950\n"
     ]
    },
    {
     "name": "stderr",
     "output_type": "stream",
     "text": [
      "Loading model cost 1.311 seconds.\n",
      "Prefix dict has been built succesfully.\n",
      "Building prefix dict from C:\\Users\\PETER\\OneDrive\\桌面\\Klook 7\\dict.txt.big ...\n",
      "Loading model from cache C:\\Users\\PETER\\AppData\\Local\\Temp\\jieba.u6fb6e872883c6d9c08ea8e016e70c5c1.cache\n"
     ]
    },
    {
     "name": "stdout",
     "output_type": "stream",
     "text": [
      "2021\n"
     ]
    },
    {
     "name": "stderr",
     "output_type": "stream",
     "text": [
      "Loading model cost 1.240 seconds.\n",
      "Prefix dict has been built succesfully.\n",
      "Building prefix dict from C:\\Users\\PETER\\OneDrive\\桌面\\Klook 7\\dict.txt.big ...\n",
      "Loading model from cache C:\\Users\\PETER\\AppData\\Local\\Temp\\jieba.u6fb6e872883c6d9c08ea8e016e70c5c1.cache\n"
     ]
    },
    {
     "name": "stdout",
     "output_type": "stream",
     "text": [
      "2022\n"
     ]
    },
    {
     "name": "stderr",
     "output_type": "stream",
     "text": [
      "Loading model cost 1.241 seconds.\n",
      "Prefix dict has been built succesfully.\n",
      "Building prefix dict from C:\\Users\\PETER\\OneDrive\\桌面\\Klook 7\\dict.txt.big ...\n",
      "Loading model from cache C:\\Users\\PETER\\AppData\\Local\\Temp\\jieba.u6fb6e872883c6d9c08ea8e016e70c5c1.cache\n"
     ]
    },
    {
     "name": "stdout",
     "output_type": "stream",
     "text": [
      "20266\n"
     ]
    },
    {
     "name": "stderr",
     "output_type": "stream",
     "text": [
      "Loading model cost 1.251 seconds.\n",
      "Prefix dict has been built succesfully.\n",
      "Building prefix dict from C:\\Users\\PETER\\OneDrive\\桌面\\Klook 7\\dict.txt.big ...\n",
      "Loading model from cache C:\\Users\\PETER\\AppData\\Local\\Temp\\jieba.u6fb6e872883c6d9c08ea8e016e70c5c1.cache\n"
     ]
    },
    {
     "name": "stdout",
     "output_type": "stream",
     "text": [
      "20272\n"
     ]
    },
    {
     "name": "stderr",
     "output_type": "stream",
     "text": [
      "Loading model cost 1.217 seconds.\n",
      "Prefix dict has been built succesfully.\n",
      "Building prefix dict from C:\\Users\\PETER\\OneDrive\\桌面\\Klook 7\\dict.txt.big ...\n",
      "Loading model from cache C:\\Users\\PETER\\AppData\\Local\\Temp\\jieba.u6fb6e872883c6d9c08ea8e016e70c5c1.cache\n"
     ]
    },
    {
     "name": "stdout",
     "output_type": "stream",
     "text": [
      "20337\n"
     ]
    },
    {
     "name": "stderr",
     "output_type": "stream",
     "text": [
      "Loading model cost 1.236 seconds.\n",
      "Prefix dict has been built succesfully.\n",
      "Building prefix dict from C:\\Users\\PETER\\OneDrive\\桌面\\Klook 7\\dict.txt.big ...\n",
      "Loading model from cache C:\\Users\\PETER\\AppData\\Local\\Temp\\jieba.u6fb6e872883c6d9c08ea8e016e70c5c1.cache\n"
     ]
    },
    {
     "name": "stdout",
     "output_type": "stream",
     "text": [
      "20550\n"
     ]
    },
    {
     "name": "stderr",
     "output_type": "stream",
     "text": [
      "Loading model cost 1.282 seconds.\n",
      "Prefix dict has been built succesfully.\n",
      "Building prefix dict from C:\\Users\\PETER\\OneDrive\\桌面\\Klook 7\\dict.txt.big ...\n",
      "Loading model from cache C:\\Users\\PETER\\AppData\\Local\\Temp\\jieba.u6fb6e872883c6d9c08ea8e016e70c5c1.cache\n"
     ]
    },
    {
     "name": "stdout",
     "output_type": "stream",
     "text": [
      "20620\n"
     ]
    },
    {
     "name": "stderr",
     "output_type": "stream",
     "text": [
      "Loading model cost 1.260 seconds.\n",
      "Prefix dict has been built succesfully.\n",
      "Building prefix dict from C:\\Users\\PETER\\OneDrive\\桌面\\Klook 7\\dict.txt.big ...\n",
      "Loading model from cache C:\\Users\\PETER\\AppData\\Local\\Temp\\jieba.u6fb6e872883c6d9c08ea8e016e70c5c1.cache\n"
     ]
    },
    {
     "name": "stdout",
     "output_type": "stream",
     "text": [
      "20632\n"
     ]
    },
    {
     "name": "stderr",
     "output_type": "stream",
     "text": [
      "Loading model cost 1.344 seconds.\n",
      "Prefix dict has been built succesfully.\n",
      "Building prefix dict from C:\\Users\\PETER\\OneDrive\\桌面\\Klook 7\\dict.txt.big ...\n",
      "Loading model from cache C:\\Users\\PETER\\AppData\\Local\\Temp\\jieba.u6fb6e872883c6d9c08ea8e016e70c5c1.cache\n"
     ]
    },
    {
     "name": "stdout",
     "output_type": "stream",
     "text": [
      "2066\n"
     ]
    },
    {
     "name": "stderr",
     "output_type": "stream",
     "text": [
      "Loading model cost 1.455 seconds.\n",
      "Prefix dict has been built succesfully.\n",
      "Building prefix dict from C:\\Users\\PETER\\OneDrive\\桌面\\Klook 7\\dict.txt.big ...\n",
      "Loading model from cache C:\\Users\\PETER\\AppData\\Local\\Temp\\jieba.u6fb6e872883c6d9c08ea8e016e70c5c1.cache\n"
     ]
    },
    {
     "name": "stdout",
     "output_type": "stream",
     "text": [
      "20787\n"
     ]
    },
    {
     "name": "stderr",
     "output_type": "stream",
     "text": [
      "Loading model cost 1.538 seconds.\n",
      "Prefix dict has been built succesfully.\n",
      "Building prefix dict from C:\\Users\\PETER\\OneDrive\\桌面\\Klook 7\\dict.txt.big ...\n",
      "Loading model from cache C:\\Users\\PETER\\AppData\\Local\\Temp\\jieba.u6fb6e872883c6d9c08ea8e016e70c5c1.cache\n"
     ]
    },
    {
     "name": "stdout",
     "output_type": "stream",
     "text": [
      "20792\n"
     ]
    },
    {
     "name": "stderr",
     "output_type": "stream",
     "text": [
      "Loading model cost 1.243 seconds.\n",
      "Prefix dict has been built succesfully.\n",
      "Building prefix dict from C:\\Users\\PETER\\OneDrive\\桌面\\Klook 7\\dict.txt.big ...\n",
      "Loading model from cache C:\\Users\\PETER\\AppData\\Local\\Temp\\jieba.u6fb6e872883c6d9c08ea8e016e70c5c1.cache\n"
     ]
    },
    {
     "name": "stdout",
     "output_type": "stream",
     "text": [
      "2083\n"
     ]
    },
    {
     "name": "stderr",
     "output_type": "stream",
     "text": [
      "Loading model cost 1.222 seconds.\n",
      "Prefix dict has been built succesfully.\n",
      "Building prefix dict from C:\\Users\\PETER\\OneDrive\\桌面\\Klook 7\\dict.txt.big ...\n",
      "Loading model from cache C:\\Users\\PETER\\AppData\\Local\\Temp\\jieba.u6fb6e872883c6d9c08ea8e016e70c5c1.cache\n"
     ]
    },
    {
     "name": "stdout",
     "output_type": "stream",
     "text": [
      "20866\n"
     ]
    },
    {
     "name": "stderr",
     "output_type": "stream",
     "text": [
      "Loading model cost 1.219 seconds.\n",
      "Prefix dict has been built succesfully.\n",
      "Building prefix dict from C:\\Users\\PETER\\OneDrive\\桌面\\Klook 7\\dict.txt.big ...\n",
      "Loading model from cache C:\\Users\\PETER\\AppData\\Local\\Temp\\jieba.u6fb6e872883c6d9c08ea8e016e70c5c1.cache\n"
     ]
    },
    {
     "name": "stdout",
     "output_type": "stream",
     "text": [
      "2087\n"
     ]
    },
    {
     "name": "stderr",
     "output_type": "stream",
     "text": [
      "Loading model cost 1.243 seconds.\n",
      "Prefix dict has been built succesfully.\n",
      "Building prefix dict from C:\\Users\\PETER\\OneDrive\\桌面\\Klook 7\\dict.txt.big ...\n",
      "Loading model from cache C:\\Users\\PETER\\AppData\\Local\\Temp\\jieba.u6fb6e872883c6d9c08ea8e016e70c5c1.cache\n"
     ]
    },
    {
     "name": "stdout",
     "output_type": "stream",
     "text": [
      "2088\n"
     ]
    },
    {
     "name": "stderr",
     "output_type": "stream",
     "text": [
      "Loading model cost 1.215 seconds.\n",
      "Prefix dict has been built succesfully.\n",
      "Building prefix dict from C:\\Users\\PETER\\OneDrive\\桌面\\Klook 7\\dict.txt.big ...\n",
      "Loading model from cache C:\\Users\\PETER\\AppData\\Local\\Temp\\jieba.u6fb6e872883c6d9c08ea8e016e70c5c1.cache\n"
     ]
    },
    {
     "name": "stdout",
     "output_type": "stream",
     "text": [
      "20898\n"
     ]
    },
    {
     "name": "stderr",
     "output_type": "stream",
     "text": [
      "Loading model cost 1.214 seconds.\n",
      "Prefix dict has been built succesfully.\n",
      "Building prefix dict from C:\\Users\\PETER\\OneDrive\\桌面\\Klook 7\\dict.txt.big ...\n",
      "Loading model from cache C:\\Users\\PETER\\AppData\\Local\\Temp\\jieba.u6fb6e872883c6d9c08ea8e016e70c5c1.cache\n"
     ]
    },
    {
     "name": "stdout",
     "output_type": "stream",
     "text": [
      "2090\n"
     ]
    },
    {
     "name": "stderr",
     "output_type": "stream",
     "text": [
      "Loading model cost 1.249 seconds.\n",
      "Prefix dict has been built succesfully.\n",
      "Building prefix dict from C:\\Users\\PETER\\OneDrive\\桌面\\Klook 7\\dict.txt.big ...\n",
      "Loading model from cache C:\\Users\\PETER\\AppData\\Local\\Temp\\jieba.u6fb6e872883c6d9c08ea8e016e70c5c1.cache\n"
     ]
    },
    {
     "name": "stdout",
     "output_type": "stream",
     "text": [
      "20965\n"
     ]
    },
    {
     "name": "stderr",
     "output_type": "stream",
     "text": [
      "Loading model cost 1.261 seconds.\n",
      "Prefix dict has been built succesfully.\n",
      "Building prefix dict from C:\\Users\\PETER\\OneDrive\\桌面\\Klook 7\\dict.txt.big ...\n",
      "Loading model from cache C:\\Users\\PETER\\AppData\\Local\\Temp\\jieba.u6fb6e872883c6d9c08ea8e016e70c5c1.cache\n"
     ]
    },
    {
     "name": "stdout",
     "output_type": "stream",
     "text": [
      "2097\n"
     ]
    },
    {
     "name": "stderr",
     "output_type": "stream",
     "text": [
      "Loading model cost 1.390 seconds.\n",
      "Prefix dict has been built succesfully.\n",
      "Building prefix dict from C:\\Users\\PETER\\OneDrive\\桌面\\Klook 7\\dict.txt.big ...\n",
      "Loading model from cache C:\\Users\\PETER\\AppData\\Local\\Temp\\jieba.u6fb6e872883c6d9c08ea8e016e70c5c1.cache\n"
     ]
    },
    {
     "name": "stdout",
     "output_type": "stream",
     "text": [
      "21089\n"
     ]
    },
    {
     "name": "stderr",
     "output_type": "stream",
     "text": [
      "Loading model cost 1.538 seconds.\n",
      "Prefix dict has been built succesfully.\n",
      "Building prefix dict from C:\\Users\\PETER\\OneDrive\\桌面\\Klook 7\\dict.txt.big ...\n",
      "Loading model from cache C:\\Users\\PETER\\AppData\\Local\\Temp\\jieba.u6fb6e872883c6d9c08ea8e016e70c5c1.cache\n"
     ]
    },
    {
     "name": "stdout",
     "output_type": "stream",
     "text": [
      "21335\n"
     ]
    },
    {
     "name": "stderr",
     "output_type": "stream",
     "text": [
      "Loading model cost 1.337 seconds.\n",
      "Prefix dict has been built succesfully.\n",
      "Building prefix dict from C:\\Users\\PETER\\OneDrive\\桌面\\Klook 7\\dict.txt.big ...\n",
      "Loading model from cache C:\\Users\\PETER\\AppData\\Local\\Temp\\jieba.u6fb6e872883c6d9c08ea8e016e70c5c1.cache\n"
     ]
    },
    {
     "name": "stdout",
     "output_type": "stream",
     "text": [
      "2141\n"
     ]
    },
    {
     "name": "stderr",
     "output_type": "stream",
     "text": [
      "Loading model cost 1.318 seconds.\n",
      "Prefix dict has been built succesfully.\n",
      "Building prefix dict from C:\\Users\\PETER\\OneDrive\\桌面\\Klook 7\\dict.txt.big ...\n",
      "Loading model from cache C:\\Users\\PETER\\AppData\\Local\\Temp\\jieba.u6fb6e872883c6d9c08ea8e016e70c5c1.cache\n"
     ]
    },
    {
     "name": "stdout",
     "output_type": "stream",
     "text": [
      "21530\n"
     ]
    },
    {
     "name": "stderr",
     "output_type": "stream",
     "text": [
      "Loading model cost 1.443 seconds.\n",
      "Prefix dict has been built succesfully.\n",
      "Building prefix dict from C:\\Users\\PETER\\OneDrive\\桌面\\Klook 7\\dict.txt.big ...\n",
      "Loading model from cache C:\\Users\\PETER\\AppData\\Local\\Temp\\jieba.u6fb6e872883c6d9c08ea8e016e70c5c1.cache\n"
     ]
    },
    {
     "name": "stdout",
     "output_type": "stream",
     "text": [
      "2154\n"
     ]
    },
    {
     "name": "stderr",
     "output_type": "stream",
     "text": [
      "Loading model cost 1.595 seconds.\n",
      "Prefix dict has been built succesfully.\n",
      "Building prefix dict from C:\\Users\\PETER\\OneDrive\\桌面\\Klook 7\\dict.txt.big ...\n",
      "Loading model from cache C:\\Users\\PETER\\AppData\\Local\\Temp\\jieba.u6fb6e872883c6d9c08ea8e016e70c5c1.cache\n"
     ]
    },
    {
     "name": "stdout",
     "output_type": "stream",
     "text": [
      "21551\n"
     ]
    },
    {
     "name": "stderr",
     "output_type": "stream",
     "text": [
      "Loading model cost 1.236 seconds.\n",
      "Prefix dict has been built succesfully.\n",
      "Building prefix dict from C:\\Users\\PETER\\OneDrive\\桌面\\Klook 7\\dict.txt.big ...\n",
      "Loading model from cache C:\\Users\\PETER\\AppData\\Local\\Temp\\jieba.u6fb6e872883c6d9c08ea8e016e70c5c1.cache\n"
     ]
    },
    {
     "name": "stdout",
     "output_type": "stream",
     "text": [
      "21574\n"
     ]
    },
    {
     "name": "stderr",
     "output_type": "stream",
     "text": [
      "Loading model cost 1.235 seconds.\n",
      "Prefix dict has been built succesfully.\n",
      "Building prefix dict from C:\\Users\\PETER\\OneDrive\\桌面\\Klook 7\\dict.txt.big ...\n",
      "Loading model from cache C:\\Users\\PETER\\AppData\\Local\\Temp\\jieba.u6fb6e872883c6d9c08ea8e016e70c5c1.cache\n"
     ]
    },
    {
     "name": "stdout",
     "output_type": "stream",
     "text": [
      "216\n"
     ]
    },
    {
     "name": "stderr",
     "output_type": "stream",
     "text": [
      "Loading model cost 1.230 seconds.\n",
      "Prefix dict has been built succesfully.\n",
      "Building prefix dict from C:\\Users\\PETER\\OneDrive\\桌面\\Klook 7\\dict.txt.big ...\n",
      "Loading model from cache C:\\Users\\PETER\\AppData\\Local\\Temp\\jieba.u6fb6e872883c6d9c08ea8e016e70c5c1.cache\n"
     ]
    },
    {
     "name": "stdout",
     "output_type": "stream",
     "text": [
      "21600\n"
     ]
    },
    {
     "name": "stderr",
     "output_type": "stream",
     "text": [
      "Loading model cost 1.229 seconds.\n",
      "Prefix dict has been built succesfully.\n",
      "Building prefix dict from C:\\Users\\PETER\\OneDrive\\桌面\\Klook 7\\dict.txt.big ...\n",
      "Loading model from cache C:\\Users\\PETER\\AppData\\Local\\Temp\\jieba.u6fb6e872883c6d9c08ea8e016e70c5c1.cache\n"
     ]
    },
    {
     "name": "stdout",
     "output_type": "stream",
     "text": [
      "2161\n"
     ]
    },
    {
     "name": "stderr",
     "output_type": "stream",
     "text": [
      "Loading model cost 1.251 seconds.\n",
      "Prefix dict has been built succesfully.\n",
      "Building prefix dict from C:\\Users\\PETER\\OneDrive\\桌面\\Klook 7\\dict.txt.big ...\n",
      "Loading model from cache C:\\Users\\PETER\\AppData\\Local\\Temp\\jieba.u6fb6e872883c6d9c08ea8e016e70c5c1.cache\n"
     ]
    },
    {
     "name": "stdout",
     "output_type": "stream",
     "text": [
      "21700\n"
     ]
    },
    {
     "name": "stderr",
     "output_type": "stream",
     "text": [
      "Loading model cost 1.225 seconds.\n",
      "Prefix dict has been built succesfully.\n",
      "Building prefix dict from C:\\Users\\PETER\\OneDrive\\桌面\\Klook 7\\dict.txt.big ...\n",
      "Loading model from cache C:\\Users\\PETER\\AppData\\Local\\Temp\\jieba.u6fb6e872883c6d9c08ea8e016e70c5c1.cache\n"
     ]
    },
    {
     "name": "stdout",
     "output_type": "stream",
     "text": [
      "21738\n"
     ]
    },
    {
     "name": "stderr",
     "output_type": "stream",
     "text": [
      "Loading model cost 1.227 seconds.\n",
      "Prefix dict has been built succesfully.\n",
      "Building prefix dict from C:\\Users\\PETER\\OneDrive\\桌面\\Klook 7\\dict.txt.big ...\n",
      "Loading model from cache C:\\Users\\PETER\\AppData\\Local\\Temp\\jieba.u6fb6e872883c6d9c08ea8e016e70c5c1.cache\n"
     ]
    },
    {
     "name": "stdout",
     "output_type": "stream",
     "text": [
      "21741\n"
     ]
    },
    {
     "name": "stderr",
     "output_type": "stream",
     "text": [
      "Loading model cost 1.214 seconds.\n",
      "Prefix dict has been built succesfully.\n",
      "Building prefix dict from C:\\Users\\PETER\\OneDrive\\桌面\\Klook 7\\dict.txt.big ...\n",
      "Loading model from cache C:\\Users\\PETER\\AppData\\Local\\Temp\\jieba.u6fb6e872883c6d9c08ea8e016e70c5c1.cache\n"
     ]
    },
    {
     "name": "stdout",
     "output_type": "stream",
     "text": [
      "21770\n"
     ]
    },
    {
     "name": "stderr",
     "output_type": "stream",
     "text": [
      "Loading model cost 1.214 seconds.\n",
      "Prefix dict has been built succesfully.\n",
      "Building prefix dict from C:\\Users\\PETER\\OneDrive\\桌面\\Klook 7\\dict.txt.big ...\n",
      "Loading model from cache C:\\Users\\PETER\\AppData\\Local\\Temp\\jieba.u6fb6e872883c6d9c08ea8e016e70c5c1.cache\n"
     ]
    },
    {
     "name": "stdout",
     "output_type": "stream",
     "text": [
      "21787\n"
     ]
    },
    {
     "name": "stderr",
     "output_type": "stream",
     "text": [
      "Loading model cost 1.243 seconds.\n",
      "Prefix dict has been built succesfully.\n",
      "Building prefix dict from C:\\Users\\PETER\\OneDrive\\桌面\\Klook 7\\dict.txt.big ...\n",
      "Loading model from cache C:\\Users\\PETER\\AppData\\Local\\Temp\\jieba.u6fb6e872883c6d9c08ea8e016e70c5c1.cache\n"
     ]
    },
    {
     "name": "stdout",
     "output_type": "stream",
     "text": [
      "21813\n"
     ]
    },
    {
     "name": "stderr",
     "output_type": "stream",
     "text": [
      "Loading model cost 1.222 seconds.\n",
      "Prefix dict has been built succesfully.\n",
      "Building prefix dict from C:\\Users\\PETER\\OneDrive\\桌面\\Klook 7\\dict.txt.big ...\n",
      "Loading model from cache C:\\Users\\PETER\\AppData\\Local\\Temp\\jieba.u6fb6e872883c6d9c08ea8e016e70c5c1.cache\n"
     ]
    },
    {
     "name": "stdout",
     "output_type": "stream",
     "text": [
      "21862\n"
     ]
    },
    {
     "name": "stderr",
     "output_type": "stream",
     "text": [
      "Loading model cost 1.216 seconds.\n",
      "Prefix dict has been built succesfully.\n",
      "Building prefix dict from C:\\Users\\PETER\\OneDrive\\桌面\\Klook 7\\dict.txt.big ...\n",
      "Loading model from cache C:\\Users\\PETER\\AppData\\Local\\Temp\\jieba.u6fb6e872883c6d9c08ea8e016e70c5c1.cache\n"
     ]
    },
    {
     "name": "stdout",
     "output_type": "stream",
     "text": [
      "21948\n"
     ]
    },
    {
     "name": "stderr",
     "output_type": "stream",
     "text": [
      "Loading model cost 1.209 seconds.\n",
      "Prefix dict has been built succesfully.\n",
      "Building prefix dict from C:\\Users\\PETER\\OneDrive\\桌面\\Klook 7\\dict.txt.big ...\n",
      "Loading model from cache C:\\Users\\PETER\\AppData\\Local\\Temp\\jieba.u6fb6e872883c6d9c08ea8e016e70c5c1.cache\n"
     ]
    },
    {
     "name": "stdout",
     "output_type": "stream",
     "text": [
      "2198\n"
     ]
    },
    {
     "name": "stderr",
     "output_type": "stream",
     "text": [
      "Loading model cost 1.249 seconds.\n",
      "Prefix dict has been built succesfully.\n",
      "Building prefix dict from C:\\Users\\PETER\\OneDrive\\桌面\\Klook 7\\dict.txt.big ...\n",
      "Loading model from cache C:\\Users\\PETER\\AppData\\Local\\Temp\\jieba.u6fb6e872883c6d9c08ea8e016e70c5c1.cache\n"
     ]
    },
    {
     "name": "stdout",
     "output_type": "stream",
     "text": [
      "2200\n"
     ]
    },
    {
     "name": "stderr",
     "output_type": "stream",
     "text": [
      "Loading model cost 1.218 seconds.\n",
      "Prefix dict has been built succesfully.\n",
      "Building prefix dict from C:\\Users\\PETER\\OneDrive\\桌面\\Klook 7\\dict.txt.big ...\n",
      "Loading model from cache C:\\Users\\PETER\\AppData\\Local\\Temp\\jieba.u6fb6e872883c6d9c08ea8e016e70c5c1.cache\n"
     ]
    },
    {
     "name": "stdout",
     "output_type": "stream",
     "text": [
      "22043\n"
     ]
    },
    {
     "name": "stderr",
     "output_type": "stream",
     "text": [
      "Loading model cost 1.208 seconds.\n",
      "Prefix dict has been built succesfully.\n",
      "Building prefix dict from C:\\Users\\PETER\\OneDrive\\桌面\\Klook 7\\dict.txt.big ...\n",
      "Loading model from cache C:\\Users\\PETER\\AppData\\Local\\Temp\\jieba.u6fb6e872883c6d9c08ea8e016e70c5c1.cache\n"
     ]
    },
    {
     "name": "stdout",
     "output_type": "stream",
     "text": [
      "22051\n"
     ]
    },
    {
     "name": "stderr",
     "output_type": "stream",
     "text": [
      "Loading model cost 1.217 seconds.\n",
      "Prefix dict has been built succesfully.\n",
      "Building prefix dict from C:\\Users\\PETER\\OneDrive\\桌面\\Klook 7\\dict.txt.big ...\n",
      "Loading model from cache C:\\Users\\PETER\\AppData\\Local\\Temp\\jieba.u6fb6e872883c6d9c08ea8e016e70c5c1.cache\n"
     ]
    },
    {
     "name": "stdout",
     "output_type": "stream",
     "text": [
      "22125\n"
     ]
    },
    {
     "name": "stderr",
     "output_type": "stream",
     "text": [
      "Loading model cost 1.221 seconds.\n",
      "Prefix dict has been built succesfully.\n",
      "Building prefix dict from C:\\Users\\PETER\\OneDrive\\桌面\\Klook 7\\dict.txt.big ...\n",
      "Loading model from cache C:\\Users\\PETER\\AppData\\Local\\Temp\\jieba.u6fb6e872883c6d9c08ea8e016e70c5c1.cache\n"
     ]
    },
    {
     "name": "stdout",
     "output_type": "stream",
     "text": [
      "22167\n"
     ]
    },
    {
     "name": "stderr",
     "output_type": "stream",
     "text": [
      "Loading model cost 1.214 seconds.\n",
      "Prefix dict has been built succesfully.\n",
      "Building prefix dict from C:\\Users\\PETER\\OneDrive\\桌面\\Klook 7\\dict.txt.big ...\n",
      "Loading model from cache C:\\Users\\PETER\\AppData\\Local\\Temp\\jieba.u6fb6e872883c6d9c08ea8e016e70c5c1.cache\n"
     ]
    },
    {
     "name": "stdout",
     "output_type": "stream",
     "text": [
      "2229\n"
     ]
    },
    {
     "name": "stderr",
     "output_type": "stream",
     "text": [
      "Loading model cost 1.219 seconds.\n",
      "Prefix dict has been built succesfully.\n",
      "Building prefix dict from C:\\Users\\PETER\\OneDrive\\桌面\\Klook 7\\dict.txt.big ...\n",
      "Loading model from cache C:\\Users\\PETER\\AppData\\Local\\Temp\\jieba.u6fb6e872883c6d9c08ea8e016e70c5c1.cache\n"
     ]
    },
    {
     "name": "stdout",
     "output_type": "stream",
     "text": [
      "2233\n"
     ]
    },
    {
     "name": "stderr",
     "output_type": "stream",
     "text": [
      "Loading model cost 1.238 seconds.\n",
      "Prefix dict has been built succesfully.\n",
      "Building prefix dict from C:\\Users\\PETER\\OneDrive\\桌面\\Klook 7\\dict.txt.big ...\n",
      "Loading model from cache C:\\Users\\PETER\\AppData\\Local\\Temp\\jieba.u6fb6e872883c6d9c08ea8e016e70c5c1.cache\n"
     ]
    },
    {
     "name": "stdout",
     "output_type": "stream",
     "text": [
      "2237\n"
     ]
    },
    {
     "name": "stderr",
     "output_type": "stream",
     "text": [
      "Loading model cost 1.223 seconds.\n",
      "Prefix dict has been built succesfully.\n",
      "Building prefix dict from C:\\Users\\PETER\\OneDrive\\桌面\\Klook 7\\dict.txt.big ...\n",
      "Loading model from cache C:\\Users\\PETER\\AppData\\Local\\Temp\\jieba.u6fb6e872883c6d9c08ea8e016e70c5c1.cache\n"
     ]
    },
    {
     "name": "stdout",
     "output_type": "stream",
     "text": [
      "22433\n"
     ]
    },
    {
     "name": "stderr",
     "output_type": "stream",
     "text": [
      "Loading model cost 1.227 seconds.\n",
      "Prefix dict has been built succesfully.\n",
      "Building prefix dict from C:\\Users\\PETER\\OneDrive\\桌面\\Klook 7\\dict.txt.big ...\n",
      "Loading model from cache C:\\Users\\PETER\\AppData\\Local\\Temp\\jieba.u6fb6e872883c6d9c08ea8e016e70c5c1.cache\n"
     ]
    },
    {
     "name": "stdout",
     "output_type": "stream",
     "text": [
      "2261\n"
     ]
    },
    {
     "name": "stderr",
     "output_type": "stream",
     "text": [
      "Loading model cost 1.213 seconds.\n",
      "Prefix dict has been built succesfully.\n",
      "Building prefix dict from C:\\Users\\PETER\\OneDrive\\桌面\\Klook 7\\dict.txt.big ...\n",
      "Loading model from cache C:\\Users\\PETER\\AppData\\Local\\Temp\\jieba.u6fb6e872883c6d9c08ea8e016e70c5c1.cache\n"
     ]
    },
    {
     "name": "stdout",
     "output_type": "stream",
     "text": [
      "2262\n"
     ]
    },
    {
     "name": "stderr",
     "output_type": "stream",
     "text": [
      "Loading model cost 1.243 seconds.\n",
      "Prefix dict has been built succesfully.\n",
      "Building prefix dict from C:\\Users\\PETER\\OneDrive\\桌面\\Klook 7\\dict.txt.big ...\n",
      "Loading model from cache C:\\Users\\PETER\\AppData\\Local\\Temp\\jieba.u6fb6e872883c6d9c08ea8e016e70c5c1.cache\n"
     ]
    },
    {
     "name": "stdout",
     "output_type": "stream",
     "text": [
      "2263\n"
     ]
    },
    {
     "name": "stderr",
     "output_type": "stream",
     "text": [
      "Loading model cost 1.210 seconds.\n",
      "Prefix dict has been built succesfully.\n",
      "Building prefix dict from C:\\Users\\PETER\\OneDrive\\桌面\\Klook 7\\dict.txt.big ...\n",
      "Loading model from cache C:\\Users\\PETER\\AppData\\Local\\Temp\\jieba.u6fb6e872883c6d9c08ea8e016e70c5c1.cache\n"
     ]
    },
    {
     "name": "stdout",
     "output_type": "stream",
     "text": [
      "2268\n"
     ]
    },
    {
     "name": "stderr",
     "output_type": "stream",
     "text": [
      "Loading model cost 1.211 seconds.\n",
      "Prefix dict has been built succesfully.\n",
      "Building prefix dict from C:\\Users\\PETER\\OneDrive\\桌面\\Klook 7\\dict.txt.big ...\n",
      "Loading model from cache C:\\Users\\PETER\\AppData\\Local\\Temp\\jieba.u6fb6e872883c6d9c08ea8e016e70c5c1.cache\n"
     ]
    },
    {
     "name": "stdout",
     "output_type": "stream",
     "text": [
      "2269\n"
     ]
    },
    {
     "name": "stderr",
     "output_type": "stream",
     "text": [
      "Loading model cost 1.209 seconds.\n",
      "Prefix dict has been built succesfully.\n",
      "Building prefix dict from C:\\Users\\PETER\\OneDrive\\桌面\\Klook 7\\dict.txt.big ...\n",
      "Loading model from cache C:\\Users\\PETER\\AppData\\Local\\Temp\\jieba.u6fb6e872883c6d9c08ea8e016e70c5c1.cache\n"
     ]
    },
    {
     "name": "stdout",
     "output_type": "stream",
     "text": [
      "2270\n"
     ]
    },
    {
     "name": "stderr",
     "output_type": "stream",
     "text": [
      "Loading model cost 1.223 seconds.\n",
      "Prefix dict has been built succesfully.\n",
      "Building prefix dict from C:\\Users\\PETER\\OneDrive\\桌面\\Klook 7\\dict.txt.big ...\n",
      "Loading model from cache C:\\Users\\PETER\\AppData\\Local\\Temp\\jieba.u6fb6e872883c6d9c08ea8e016e70c5c1.cache\n"
     ]
    },
    {
     "name": "stdout",
     "output_type": "stream",
     "text": [
      "2278\n"
     ]
    },
    {
     "name": "stderr",
     "output_type": "stream",
     "text": [
      "Loading model cost 1.209 seconds.\n",
      "Prefix dict has been built succesfully.\n",
      "Building prefix dict from C:\\Users\\PETER\\OneDrive\\桌面\\Klook 7\\dict.txt.big ...\n",
      "Loading model from cache C:\\Users\\PETER\\AppData\\Local\\Temp\\jieba.u6fb6e872883c6d9c08ea8e016e70c5c1.cache\n"
     ]
    },
    {
     "name": "stdout",
     "output_type": "stream",
     "text": [
      "228\n"
     ]
    },
    {
     "name": "stderr",
     "output_type": "stream",
     "text": [
      "Loading model cost 1.240 seconds.\n",
      "Prefix dict has been built succesfully.\n",
      "Building prefix dict from C:\\Users\\PETER\\OneDrive\\桌面\\Klook 7\\dict.txt.big ...\n",
      "Loading model from cache C:\\Users\\PETER\\AppData\\Local\\Temp\\jieba.u6fb6e872883c6d9c08ea8e016e70c5c1.cache\n"
     ]
    },
    {
     "name": "stdout",
     "output_type": "stream",
     "text": [
      "2288\n"
     ]
    },
    {
     "name": "stderr",
     "output_type": "stream",
     "text": [
      "Loading model cost 1.213 seconds.\n",
      "Prefix dict has been built succesfully.\n",
      "Building prefix dict from C:\\Users\\PETER\\OneDrive\\桌面\\Klook 7\\dict.txt.big ...\n",
      "Loading model from cache C:\\Users\\PETER\\AppData\\Local\\Temp\\jieba.u6fb6e872883c6d9c08ea8e016e70c5c1.cache\n"
     ]
    },
    {
     "name": "stdout",
     "output_type": "stream",
     "text": [
      "2289\n"
     ]
    },
    {
     "name": "stderr",
     "output_type": "stream",
     "text": [
      "Loading model cost 1.254 seconds.\n",
      "Prefix dict has been built succesfully.\n",
      "Building prefix dict from C:\\Users\\PETER\\OneDrive\\桌面\\Klook 7\\dict.txt.big ...\n",
      "Loading model from cache C:\\Users\\PETER\\AppData\\Local\\Temp\\jieba.u6fb6e872883c6d9c08ea8e016e70c5c1.cache\n"
     ]
    },
    {
     "name": "stdout",
     "output_type": "stream",
     "text": [
      "230\n"
     ]
    },
    {
     "name": "stderr",
     "output_type": "stream",
     "text": [
      "Loading model cost 1.228 seconds.\n",
      "Prefix dict has been built succesfully.\n",
      "Building prefix dict from C:\\Users\\PETER\\OneDrive\\桌面\\Klook 7\\dict.txt.big ...\n",
      "Loading model from cache C:\\Users\\PETER\\AppData\\Local\\Temp\\jieba.u6fb6e872883c6d9c08ea8e016e70c5c1.cache\n"
     ]
    },
    {
     "name": "stdout",
     "output_type": "stream",
     "text": [
      "231\n"
     ]
    },
    {
     "name": "stderr",
     "output_type": "stream",
     "text": [
      "Loading model cost 1.243 seconds.\n",
      "Prefix dict has been built succesfully.\n",
      "Building prefix dict from C:\\Users\\PETER\\OneDrive\\桌面\\Klook 7\\dict.txt.big ...\n",
      "Loading model from cache C:\\Users\\PETER\\AppData\\Local\\Temp\\jieba.u6fb6e872883c6d9c08ea8e016e70c5c1.cache\n"
     ]
    },
    {
     "name": "stdout",
     "output_type": "stream",
     "text": [
      "23287\n"
     ]
    },
    {
     "name": "stderr",
     "output_type": "stream",
     "text": [
      "Loading model cost 1.227 seconds.\n",
      "Prefix dict has been built succesfully.\n",
      "Building prefix dict from C:\\Users\\PETER\\OneDrive\\桌面\\Klook 7\\dict.txt.big ...\n",
      "Loading model from cache C:\\Users\\PETER\\AppData\\Local\\Temp\\jieba.u6fb6e872883c6d9c08ea8e016e70c5c1.cache\n"
     ]
    },
    {
     "name": "stdout",
     "output_type": "stream",
     "text": [
      "23359\n"
     ]
    },
    {
     "name": "stderr",
     "output_type": "stream",
     "text": [
      "Loading model cost 1.209 seconds.\n",
      "Prefix dict has been built succesfully.\n",
      "Building prefix dict from C:\\Users\\PETER\\OneDrive\\桌面\\Klook 7\\dict.txt.big ...\n",
      "Loading model from cache C:\\Users\\PETER\\AppData\\Local\\Temp\\jieba.u6fb6e872883c6d9c08ea8e016e70c5c1.cache\n"
     ]
    },
    {
     "name": "stdout",
     "output_type": "stream",
     "text": [
      "234\n"
     ]
    },
    {
     "name": "stderr",
     "output_type": "stream",
     "text": [
      "Loading model cost 1.217 seconds.\n",
      "Prefix dict has been built succesfully.\n",
      "Building prefix dict from C:\\Users\\PETER\\OneDrive\\桌面\\Klook 7\\dict.txt.big ...\n",
      "Loading model from cache C:\\Users\\PETER\\AppData\\Local\\Temp\\jieba.u6fb6e872883c6d9c08ea8e016e70c5c1.cache\n"
     ]
    },
    {
     "name": "stdout",
     "output_type": "stream",
     "text": [
      "23484\n"
     ]
    },
    {
     "name": "stderr",
     "output_type": "stream",
     "text": [
      "Loading model cost 1.212 seconds.\n",
      "Prefix dict has been built succesfully.\n",
      "Building prefix dict from C:\\Users\\PETER\\OneDrive\\桌面\\Klook 7\\dict.txt.big ...\n",
      "Loading model from cache C:\\Users\\PETER\\AppData\\Local\\Temp\\jieba.u6fb6e872883c6d9c08ea8e016e70c5c1.cache\n"
     ]
    },
    {
     "name": "stdout",
     "output_type": "stream",
     "text": [
      "23498\n"
     ]
    },
    {
     "name": "stderr",
     "output_type": "stream",
     "text": [
      "Loading model cost 1.231 seconds.\n",
      "Prefix dict has been built succesfully.\n",
      "Building prefix dict from C:\\Users\\PETER\\OneDrive\\桌面\\Klook 7\\dict.txt.big ...\n",
      "Loading model from cache C:\\Users\\PETER\\AppData\\Local\\Temp\\jieba.u6fb6e872883c6d9c08ea8e016e70c5c1.cache\n"
     ]
    },
    {
     "name": "stdout",
     "output_type": "stream",
     "text": [
      "2352\n"
     ]
    },
    {
     "name": "stderr",
     "output_type": "stream",
     "text": [
      "Loading model cost 1.213 seconds.\n",
      "Prefix dict has been built succesfully.\n",
      "Building prefix dict from C:\\Users\\PETER\\OneDrive\\桌面\\Klook 7\\dict.txt.big ...\n",
      "Loading model from cache C:\\Users\\PETER\\AppData\\Local\\Temp\\jieba.u6fb6e872883c6d9c08ea8e016e70c5c1.cache\n"
     ]
    },
    {
     "name": "stdout",
     "output_type": "stream",
     "text": [
      "236\n"
     ]
    },
    {
     "name": "stderr",
     "output_type": "stream",
     "text": [
      "Loading model cost 1.219 seconds.\n",
      "Prefix dict has been built succesfully.\n",
      "Building prefix dict from C:\\Users\\PETER\\OneDrive\\桌面\\Klook 7\\dict.txt.big ...\n",
      "Loading model from cache C:\\Users\\PETER\\AppData\\Local\\Temp\\jieba.u6fb6e872883c6d9c08ea8e016e70c5c1.cache\n"
     ]
    },
    {
     "name": "stdout",
     "output_type": "stream",
     "text": [
      "2373\n"
     ]
    },
    {
     "name": "stderr",
     "output_type": "stream",
     "text": [
      "Loading model cost 1.219 seconds.\n",
      "Prefix dict has been built succesfully.\n",
      "Building prefix dict from C:\\Users\\PETER\\OneDrive\\桌面\\Klook 7\\dict.txt.big ...\n",
      "Loading model from cache C:\\Users\\PETER\\AppData\\Local\\Temp\\jieba.u6fb6e872883c6d9c08ea8e016e70c5c1.cache\n"
     ]
    },
    {
     "name": "stdout",
     "output_type": "stream",
     "text": [
      "238\n"
     ]
    },
    {
     "name": "stderr",
     "output_type": "stream",
     "text": [
      "Loading model cost 1.222 seconds.\n",
      "Prefix dict has been built succesfully.\n",
      "Building prefix dict from C:\\Users\\PETER\\OneDrive\\桌面\\Klook 7\\dict.txt.big ...\n",
      "Loading model from cache C:\\Users\\PETER\\AppData\\Local\\Temp\\jieba.u6fb6e872883c6d9c08ea8e016e70c5c1.cache\n"
     ]
    },
    {
     "name": "stdout",
     "output_type": "stream",
     "text": [
      "23800\n"
     ]
    },
    {
     "name": "stderr",
     "output_type": "stream",
     "text": [
      "Loading model cost 1.248 seconds.\n",
      "Prefix dict has been built succesfully.\n",
      "Building prefix dict from C:\\Users\\PETER\\OneDrive\\桌面\\Klook 7\\dict.txt.big ...\n",
      "Loading model from cache C:\\Users\\PETER\\AppData\\Local\\Temp\\jieba.u6fb6e872883c6d9c08ea8e016e70c5c1.cache\n"
     ]
    },
    {
     "name": "stdout",
     "output_type": "stream",
     "text": [
      "23823\n"
     ]
    },
    {
     "name": "stderr",
     "output_type": "stream",
     "text": [
      "Loading model cost 1.209 seconds.\n",
      "Prefix dict has been built succesfully.\n",
      "Building prefix dict from C:\\Users\\PETER\\OneDrive\\桌面\\Klook 7\\dict.txt.big ...\n",
      "Loading model from cache C:\\Users\\PETER\\AppData\\Local\\Temp\\jieba.u6fb6e872883c6d9c08ea8e016e70c5c1.cache\n"
     ]
    },
    {
     "name": "stdout",
     "output_type": "stream",
     "text": [
      "240\n"
     ]
    },
    {
     "name": "stderr",
     "output_type": "stream",
     "text": [
      "Loading model cost 1.216 seconds.\n",
      "Prefix dict has been built succesfully.\n",
      "Building prefix dict from C:\\Users\\PETER\\OneDrive\\桌面\\Klook 7\\dict.txt.big ...\n",
      "Loading model from cache C:\\Users\\PETER\\AppData\\Local\\Temp\\jieba.u6fb6e872883c6d9c08ea8e016e70c5c1.cache\n"
     ]
    },
    {
     "name": "stdout",
     "output_type": "stream",
     "text": [
      "24029\n"
     ]
    },
    {
     "name": "stderr",
     "output_type": "stream",
     "text": [
      "Loading model cost 1.214 seconds.\n",
      "Prefix dict has been built succesfully.\n",
      "Building prefix dict from C:\\Users\\PETER\\OneDrive\\桌面\\Klook 7\\dict.txt.big ...\n",
      "Loading model from cache C:\\Users\\PETER\\AppData\\Local\\Temp\\jieba.u6fb6e872883c6d9c08ea8e016e70c5c1.cache\n"
     ]
    },
    {
     "name": "stdout",
     "output_type": "stream",
     "text": [
      "24043\n"
     ]
    },
    {
     "name": "stderr",
     "output_type": "stream",
     "text": [
      "Loading model cost 1.214 seconds.\n",
      "Prefix dict has been built succesfully.\n",
      "Building prefix dict from C:\\Users\\PETER\\OneDrive\\桌面\\Klook 7\\dict.txt.big ...\n",
      "Loading model from cache C:\\Users\\PETER\\AppData\\Local\\Temp\\jieba.u6fb6e872883c6d9c08ea8e016e70c5c1.cache\n"
     ]
    },
    {
     "name": "stdout",
     "output_type": "stream",
     "text": [
      "24096\n"
     ]
    },
    {
     "name": "stderr",
     "output_type": "stream",
     "text": [
      "Loading model cost 1.239 seconds.\n",
      "Prefix dict has been built succesfully.\n",
      "Building prefix dict from C:\\Users\\PETER\\OneDrive\\桌面\\Klook 7\\dict.txt.big ...\n",
      "Loading model from cache C:\\Users\\PETER\\AppData\\Local\\Temp\\jieba.u6fb6e872883c6d9c08ea8e016e70c5c1.cache\n"
     ]
    },
    {
     "name": "stdout",
     "output_type": "stream",
     "text": [
      "2419\n"
     ]
    },
    {
     "name": "stderr",
     "output_type": "stream",
     "text": [
      "Loading model cost 1.251 seconds.\n",
      "Prefix dict has been built succesfully.\n",
      "Building prefix dict from C:\\Users\\PETER\\OneDrive\\桌面\\Klook 7\\dict.txt.big ...\n",
      "Loading model from cache C:\\Users\\PETER\\AppData\\Local\\Temp\\jieba.u6fb6e872883c6d9c08ea8e016e70c5c1.cache\n"
     ]
    },
    {
     "name": "stdout",
     "output_type": "stream",
     "text": [
      "243\n"
     ]
    },
    {
     "name": "stderr",
     "output_type": "stream",
     "text": [
      "Loading model cost 1.217 seconds.\n",
      "Prefix dict has been built succesfully.\n",
      "Building prefix dict from C:\\Users\\PETER\\OneDrive\\桌面\\Klook 7\\dict.txt.big ...\n",
      "Loading model from cache C:\\Users\\PETER\\AppData\\Local\\Temp\\jieba.u6fb6e872883c6d9c08ea8e016e70c5c1.cache\n"
     ]
    },
    {
     "name": "stdout",
     "output_type": "stream",
     "text": [
      "2431\n"
     ]
    },
    {
     "name": "stderr",
     "output_type": "stream",
     "text": [
      "Loading model cost 1.225 seconds.\n",
      "Prefix dict has been built succesfully.\n",
      "Building prefix dict from C:\\Users\\PETER\\OneDrive\\桌面\\Klook 7\\dict.txt.big ...\n",
      "Loading model from cache C:\\Users\\PETER\\AppData\\Local\\Temp\\jieba.u6fb6e872883c6d9c08ea8e016e70c5c1.cache\n"
     ]
    },
    {
     "name": "stdout",
     "output_type": "stream",
     "text": [
      "24320\n"
     ]
    },
    {
     "name": "stderr",
     "output_type": "stream",
     "text": [
      "Loading model cost 1.240 seconds.\n",
      "Prefix dict has been built succesfully.\n",
      "Building prefix dict from C:\\Users\\PETER\\OneDrive\\桌面\\Klook 7\\dict.txt.big ...\n",
      "Loading model from cache C:\\Users\\PETER\\AppData\\Local\\Temp\\jieba.u6fb6e872883c6d9c08ea8e016e70c5c1.cache\n"
     ]
    },
    {
     "name": "stdout",
     "output_type": "stream",
     "text": [
      "246\n"
     ]
    },
    {
     "name": "stderr",
     "output_type": "stream",
     "text": [
      "Loading model cost 1.261 seconds.\n",
      "Prefix dict has been built succesfully.\n",
      "Building prefix dict from C:\\Users\\PETER\\OneDrive\\桌面\\Klook 7\\dict.txt.big ...\n",
      "Loading model from cache C:\\Users\\PETER\\AppData\\Local\\Temp\\jieba.u6fb6e872883c6d9c08ea8e016e70c5c1.cache\n"
     ]
    },
    {
     "name": "stdout",
     "output_type": "stream",
     "text": [
      "2461\n"
     ]
    },
    {
     "name": "stderr",
     "output_type": "stream",
     "text": [
      "Loading model cost 1.240 seconds.\n",
      "Prefix dict has been built succesfully.\n",
      "Building prefix dict from C:\\Users\\PETER\\OneDrive\\桌面\\Klook 7\\dict.txt.big ...\n",
      "Loading model from cache C:\\Users\\PETER\\AppData\\Local\\Temp\\jieba.u6fb6e872883c6d9c08ea8e016e70c5c1.cache\n"
     ]
    },
    {
     "name": "stdout",
     "output_type": "stream",
     "text": [
      "24811\n"
     ]
    },
    {
     "name": "stderr",
     "output_type": "stream",
     "text": [
      "Loading model cost 1.212 seconds.\n",
      "Prefix dict has been built succesfully.\n",
      "Building prefix dict from C:\\Users\\PETER\\OneDrive\\桌面\\Klook 7\\dict.txt.big ...\n",
      "Loading model from cache C:\\Users\\PETER\\AppData\\Local\\Temp\\jieba.u6fb6e872883c6d9c08ea8e016e70c5c1.cache\n"
     ]
    },
    {
     "name": "stdout",
     "output_type": "stream",
     "text": [
      "24844\n"
     ]
    },
    {
     "name": "stderr",
     "output_type": "stream",
     "text": [
      "Loading model cost 1.224 seconds.\n",
      "Prefix dict has been built succesfully.\n",
      "Building prefix dict from C:\\Users\\PETER\\OneDrive\\桌面\\Klook 7\\dict.txt.big ...\n",
      "Loading model from cache C:\\Users\\PETER\\AppData\\Local\\Temp\\jieba.u6fb6e872883c6d9c08ea8e016e70c5c1.cache\n"
     ]
    },
    {
     "name": "stdout",
     "output_type": "stream",
     "text": [
      "2487\n"
     ]
    },
    {
     "name": "stderr",
     "output_type": "stream",
     "text": [
      "Loading model cost 1.241 seconds.\n",
      "Prefix dict has been built succesfully.\n",
      "Building prefix dict from C:\\Users\\PETER\\OneDrive\\桌面\\Klook 7\\dict.txt.big ...\n",
      "Loading model from cache C:\\Users\\PETER\\AppData\\Local\\Temp\\jieba.u6fb6e872883c6d9c08ea8e016e70c5c1.cache\n"
     ]
    },
    {
     "name": "stdout",
     "output_type": "stream",
     "text": [
      "24897\n"
     ]
    },
    {
     "name": "stderr",
     "output_type": "stream",
     "text": [
      "Loading model cost 1.215 seconds.\n",
      "Prefix dict has been built succesfully.\n",
      "Building prefix dict from C:\\Users\\PETER\\OneDrive\\桌面\\Klook 7\\dict.txt.big ...\n",
      "Loading model from cache C:\\Users\\PETER\\AppData\\Local\\Temp\\jieba.u6fb6e872883c6d9c08ea8e016e70c5c1.cache\n"
     ]
    },
    {
     "name": "stdout",
     "output_type": "stream",
     "text": [
      "249\n"
     ]
    },
    {
     "name": "stderr",
     "output_type": "stream",
     "text": [
      "Loading model cost 1.243 seconds.\n",
      "Prefix dict has been built succesfully.\n",
      "Building prefix dict from C:\\Users\\PETER\\OneDrive\\桌面\\Klook 7\\dict.txt.big ...\n",
      "Loading model from cache C:\\Users\\PETER\\AppData\\Local\\Temp\\jieba.u6fb6e872883c6d9c08ea8e016e70c5c1.cache\n"
     ]
    },
    {
     "name": "stdout",
     "output_type": "stream",
     "text": [
      "24961\n"
     ]
    },
    {
     "name": "stderr",
     "output_type": "stream",
     "text": [
      "Loading model cost 1.224 seconds.\n",
      "Prefix dict has been built succesfully.\n",
      "Building prefix dict from C:\\Users\\PETER\\OneDrive\\桌面\\Klook 7\\dict.txt.big ...\n",
      "Loading model from cache C:\\Users\\PETER\\AppData\\Local\\Temp\\jieba.u6fb6e872883c6d9c08ea8e016e70c5c1.cache\n"
     ]
    },
    {
     "name": "stdout",
     "output_type": "stream",
     "text": [
      "251\n"
     ]
    },
    {
     "name": "stderr",
     "output_type": "stream",
     "text": [
      "Loading model cost 1.237 seconds.\n",
      "Prefix dict has been built succesfully.\n",
      "Building prefix dict from C:\\Users\\PETER\\OneDrive\\桌面\\Klook 7\\dict.txt.big ...\n",
      "Loading model from cache C:\\Users\\PETER\\AppData\\Local\\Temp\\jieba.u6fb6e872883c6d9c08ea8e016e70c5c1.cache\n"
     ]
    },
    {
     "name": "stdout",
     "output_type": "stream",
     "text": [
      "252\n"
     ]
    },
    {
     "name": "stderr",
     "output_type": "stream",
     "text": [
      "Loading model cost 1.233 seconds.\n",
      "Prefix dict has been built succesfully.\n",
      "Building prefix dict from C:\\Users\\PETER\\OneDrive\\桌面\\Klook 7\\dict.txt.big ...\n",
      "Loading model from cache C:\\Users\\PETER\\AppData\\Local\\Temp\\jieba.u6fb6e872883c6d9c08ea8e016e70c5c1.cache\n"
     ]
    },
    {
     "name": "stdout",
     "output_type": "stream",
     "text": [
      "25270\n"
     ]
    },
    {
     "name": "stderr",
     "output_type": "stream",
     "text": [
      "Loading model cost 1.238 seconds.\n",
      "Prefix dict has been built succesfully.\n",
      "Building prefix dict from C:\\Users\\PETER\\OneDrive\\桌面\\Klook 7\\dict.txt.big ...\n",
      "Loading model from cache C:\\Users\\PETER\\AppData\\Local\\Temp\\jieba.u6fb6e872883c6d9c08ea8e016e70c5c1.cache\n"
     ]
    },
    {
     "name": "stdout",
     "output_type": "stream",
     "text": [
      "2528\n"
     ]
    },
    {
     "name": "stderr",
     "output_type": "stream",
     "text": [
      "Loading model cost 1.212 seconds.\n",
      "Prefix dict has been built succesfully.\n",
      "Building prefix dict from C:\\Users\\PETER\\OneDrive\\桌面\\Klook 7\\dict.txt.big ...\n",
      "Loading model from cache C:\\Users\\PETER\\AppData\\Local\\Temp\\jieba.u6fb6e872883c6d9c08ea8e016e70c5c1.cache\n"
     ]
    },
    {
     "name": "stdout",
     "output_type": "stream",
     "text": [
      "25286\n"
     ]
    },
    {
     "name": "stderr",
     "output_type": "stream",
     "text": [
      "Loading model cost 1.212 seconds.\n",
      "Prefix dict has been built succesfully.\n",
      "Building prefix dict from C:\\Users\\PETER\\OneDrive\\桌面\\Klook 7\\dict.txt.big ...\n",
      "Loading model from cache C:\\Users\\PETER\\AppData\\Local\\Temp\\jieba.u6fb6e872883c6d9c08ea8e016e70c5c1.cache\n"
     ]
    },
    {
     "name": "stdout",
     "output_type": "stream",
     "text": [
      "25289\n"
     ]
    },
    {
     "name": "stderr",
     "output_type": "stream",
     "text": [
      "Loading model cost 1.213 seconds.\n",
      "Prefix dict has been built succesfully.\n",
      "Building prefix dict from C:\\Users\\PETER\\OneDrive\\桌面\\Klook 7\\dict.txt.big ...\n",
      "Loading model from cache C:\\Users\\PETER\\AppData\\Local\\Temp\\jieba.u6fb6e872883c6d9c08ea8e016e70c5c1.cache\n"
     ]
    },
    {
     "name": "stdout",
     "output_type": "stream",
     "text": [
      "25290\n"
     ]
    },
    {
     "name": "stderr",
     "output_type": "stream",
     "text": [
      "Loading model cost 1.208 seconds.\n",
      "Prefix dict has been built succesfully.\n",
      "Building prefix dict from C:\\Users\\PETER\\OneDrive\\桌面\\Klook 7\\dict.txt.big ...\n",
      "Loading model from cache C:\\Users\\PETER\\AppData\\Local\\Temp\\jieba.u6fb6e872883c6d9c08ea8e016e70c5c1.cache\n"
     ]
    },
    {
     "name": "stdout",
     "output_type": "stream",
     "text": [
      "2530\n"
     ]
    },
    {
     "name": "stderr",
     "output_type": "stream",
     "text": [
      "Loading model cost 1.211 seconds.\n",
      "Prefix dict has been built succesfully.\n",
      "Building prefix dict from C:\\Users\\PETER\\OneDrive\\桌面\\Klook 7\\dict.txt.big ...\n",
      "Loading model from cache C:\\Users\\PETER\\AppData\\Local\\Temp\\jieba.u6fb6e872883c6d9c08ea8e016e70c5c1.cache\n"
     ]
    },
    {
     "name": "stdout",
     "output_type": "stream",
     "text": [
      "25305\n"
     ]
    },
    {
     "name": "stderr",
     "output_type": "stream",
     "text": [
      "Loading model cost 1.240 seconds.\n",
      "Prefix dict has been built succesfully.\n",
      "Building prefix dict from C:\\Users\\PETER\\OneDrive\\桌面\\Klook 7\\dict.txt.big ...\n",
      "Loading model from cache C:\\Users\\PETER\\AppData\\Local\\Temp\\jieba.u6fb6e872883c6d9c08ea8e016e70c5c1.cache\n"
     ]
    },
    {
     "name": "stdout",
     "output_type": "stream",
     "text": [
      "2531\n"
     ]
    },
    {
     "name": "stderr",
     "output_type": "stream",
     "text": [
      "Loading model cost 1.214 seconds.\n",
      "Prefix dict has been built succesfully.\n",
      "Building prefix dict from C:\\Users\\PETER\\OneDrive\\桌面\\Klook 7\\dict.txt.big ...\n",
      "Loading model from cache C:\\Users\\PETER\\AppData\\Local\\Temp\\jieba.u6fb6e872883c6d9c08ea8e016e70c5c1.cache\n"
     ]
    },
    {
     "name": "stdout",
     "output_type": "stream",
     "text": [
      "25329\n"
     ]
    },
    {
     "name": "stderr",
     "output_type": "stream",
     "text": [
      "Loading model cost 1.258 seconds.\n",
      "Prefix dict has been built succesfully.\n",
      "Building prefix dict from C:\\Users\\PETER\\OneDrive\\桌面\\Klook 7\\dict.txt.big ...\n",
      "Loading model from cache C:\\Users\\PETER\\AppData\\Local\\Temp\\jieba.u6fb6e872883c6d9c08ea8e016e70c5c1.cache\n"
     ]
    },
    {
     "name": "stdout",
     "output_type": "stream",
     "text": [
      "25341\n"
     ]
    },
    {
     "name": "stderr",
     "output_type": "stream",
     "text": [
      "Loading model cost 1.214 seconds.\n",
      "Prefix dict has been built succesfully.\n",
      "Building prefix dict from C:\\Users\\PETER\\OneDrive\\桌面\\Klook 7\\dict.txt.big ...\n",
      "Loading model from cache C:\\Users\\PETER\\AppData\\Local\\Temp\\jieba.u6fb6e872883c6d9c08ea8e016e70c5c1.cache\n"
     ]
    },
    {
     "name": "stdout",
     "output_type": "stream",
     "text": [
      "2538\n"
     ]
    },
    {
     "name": "stderr",
     "output_type": "stream",
     "text": [
      "Loading model cost 1.212 seconds.\n",
      "Prefix dict has been built succesfully.\n",
      "Building prefix dict from C:\\Users\\PETER\\OneDrive\\桌面\\Klook 7\\dict.txt.big ...\n",
      "Loading model from cache C:\\Users\\PETER\\AppData\\Local\\Temp\\jieba.u6fb6e872883c6d9c08ea8e016e70c5c1.cache\n"
     ]
    },
    {
     "name": "stdout",
     "output_type": "stream",
     "text": [
      "2542\n"
     ]
    },
    {
     "name": "stderr",
     "output_type": "stream",
     "text": [
      "Loading model cost 1.248 seconds.\n",
      "Prefix dict has been built succesfully.\n",
      "Building prefix dict from C:\\Users\\PETER\\OneDrive\\桌面\\Klook 7\\dict.txt.big ...\n",
      "Loading model from cache C:\\Users\\PETER\\AppData\\Local\\Temp\\jieba.u6fb6e872883c6d9c08ea8e016e70c5c1.cache\n"
     ]
    },
    {
     "name": "stdout",
     "output_type": "stream",
     "text": [
      "25604\n"
     ]
    },
    {
     "name": "stderr",
     "output_type": "stream",
     "text": [
      "Loading model cost 1.212 seconds.\n",
      "Prefix dict has been built succesfully.\n",
      "Building prefix dict from C:\\Users\\PETER\\OneDrive\\桌面\\Klook 7\\dict.txt.big ...\n",
      "Loading model from cache C:\\Users\\PETER\\AppData\\Local\\Temp\\jieba.u6fb6e872883c6d9c08ea8e016e70c5c1.cache\n"
     ]
    },
    {
     "name": "stdout",
     "output_type": "stream",
     "text": [
      "25619\n"
     ]
    },
    {
     "name": "stderr",
     "output_type": "stream",
     "text": [
      "Loading model cost 1.214 seconds.\n",
      "Prefix dict has been built succesfully.\n",
      "Building prefix dict from C:\\Users\\PETER\\OneDrive\\桌面\\Klook 7\\dict.txt.big ...\n",
      "Loading model from cache C:\\Users\\PETER\\AppData\\Local\\Temp\\jieba.u6fb6e872883c6d9c08ea8e016e70c5c1.cache\n"
     ]
    },
    {
     "name": "stdout",
     "output_type": "stream",
     "text": [
      "25649\n"
     ]
    },
    {
     "name": "stderr",
     "output_type": "stream",
     "text": [
      "Loading model cost 1.215 seconds.\n",
      "Prefix dict has been built succesfully.\n",
      "Building prefix dict from C:\\Users\\PETER\\OneDrive\\桌面\\Klook 7\\dict.txt.big ...\n",
      "Loading model from cache C:\\Users\\PETER\\AppData\\Local\\Temp\\jieba.u6fb6e872883c6d9c08ea8e016e70c5c1.cache\n"
     ]
    },
    {
     "name": "stdout",
     "output_type": "stream",
     "text": [
      "25754\n"
     ]
    },
    {
     "name": "stderr",
     "output_type": "stream",
     "text": [
      "Loading model cost 1.214 seconds.\n",
      "Prefix dict has been built succesfully.\n",
      "Building prefix dict from C:\\Users\\PETER\\OneDrive\\桌面\\Klook 7\\dict.txt.big ...\n",
      "Loading model from cache C:\\Users\\PETER\\AppData\\Local\\Temp\\jieba.u6fb6e872883c6d9c08ea8e016e70c5c1.cache\n"
     ]
    },
    {
     "name": "stdout",
     "output_type": "stream",
     "text": [
      "25779\n"
     ]
    },
    {
     "name": "stderr",
     "output_type": "stream",
     "text": [
      "Loading model cost 1.220 seconds.\n",
      "Prefix dict has been built succesfully.\n",
      "Building prefix dict from C:\\Users\\PETER\\OneDrive\\桌面\\Klook 7\\dict.txt.big ...\n",
      "Loading model from cache C:\\Users\\PETER\\AppData\\Local\\Temp\\jieba.u6fb6e872883c6d9c08ea8e016e70c5c1.cache\n"
     ]
    },
    {
     "name": "stdout",
     "output_type": "stream",
     "text": [
      "25871\n"
     ]
    },
    {
     "name": "stderr",
     "output_type": "stream",
     "text": [
      "Loading model cost 1.211 seconds.\n",
      "Prefix dict has been built succesfully.\n",
      "Building prefix dict from C:\\Users\\PETER\\OneDrive\\桌面\\Klook 7\\dict.txt.big ...\n",
      "Loading model from cache C:\\Users\\PETER\\AppData\\Local\\Temp\\jieba.u6fb6e872883c6d9c08ea8e016e70c5c1.cache\n"
     ]
    },
    {
     "name": "stdout",
     "output_type": "stream",
     "text": [
      "25877\n"
     ]
    },
    {
     "name": "stderr",
     "output_type": "stream",
     "text": [
      "Loading model cost 1.213 seconds.\n",
      "Prefix dict has been built succesfully.\n",
      "Building prefix dict from C:\\Users\\PETER\\OneDrive\\桌面\\Klook 7\\dict.txt.big ...\n",
      "Loading model from cache C:\\Users\\PETER\\AppData\\Local\\Temp\\jieba.u6fb6e872883c6d9c08ea8e016e70c5c1.cache\n"
     ]
    },
    {
     "name": "stdout",
     "output_type": "stream",
     "text": [
      "26129\n"
     ]
    },
    {
     "name": "stderr",
     "output_type": "stream",
     "text": [
      "Loading model cost 1.239 seconds.\n",
      "Prefix dict has been built succesfully.\n",
      "Building prefix dict from C:\\Users\\PETER\\OneDrive\\桌面\\Klook 7\\dict.txt.big ...\n",
      "Loading model from cache C:\\Users\\PETER\\AppData\\Local\\Temp\\jieba.u6fb6e872883c6d9c08ea8e016e70c5c1.cache\n"
     ]
    },
    {
     "name": "stdout",
     "output_type": "stream",
     "text": [
      "2616\n"
     ]
    },
    {
     "name": "stderr",
     "output_type": "stream",
     "text": [
      "Loading model cost 1.250 seconds.\n",
      "Prefix dict has been built succesfully.\n",
      "Building prefix dict from C:\\Users\\PETER\\OneDrive\\桌面\\Klook 7\\dict.txt.big ...\n",
      "Loading model from cache C:\\Users\\PETER\\AppData\\Local\\Temp\\jieba.u6fb6e872883c6d9c08ea8e016e70c5c1.cache\n"
     ]
    },
    {
     "name": "stdout",
     "output_type": "stream",
     "text": [
      "2632\n"
     ]
    },
    {
     "name": "stderr",
     "output_type": "stream",
     "text": [
      "Loading model cost 1.227 seconds.\n",
      "Prefix dict has been built succesfully.\n",
      "Building prefix dict from C:\\Users\\PETER\\OneDrive\\桌面\\Klook 7\\dict.txt.big ...\n",
      "Loading model from cache C:\\Users\\PETER\\AppData\\Local\\Temp\\jieba.u6fb6e872883c6d9c08ea8e016e70c5c1.cache\n"
     ]
    },
    {
     "name": "stdout",
     "output_type": "stream",
     "text": [
      "26490\n"
     ]
    },
    {
     "name": "stderr",
     "output_type": "stream",
     "text": [
      "Loading model cost 1.241 seconds.\n",
      "Prefix dict has been built succesfully.\n",
      "Building prefix dict from C:\\Users\\PETER\\OneDrive\\桌面\\Klook 7\\dict.txt.big ...\n",
      "Loading model from cache C:\\Users\\PETER\\AppData\\Local\\Temp\\jieba.u6fb6e872883c6d9c08ea8e016e70c5c1.cache\n"
     ]
    },
    {
     "name": "stdout",
     "output_type": "stream",
     "text": [
      "2651\n"
     ]
    },
    {
     "name": "stderr",
     "output_type": "stream",
     "text": [
      "Loading model cost 1.208 seconds.\n",
      "Prefix dict has been built succesfully.\n",
      "Building prefix dict from C:\\Users\\PETER\\OneDrive\\桌面\\Klook 7\\dict.txt.big ...\n",
      "Loading model from cache C:\\Users\\PETER\\AppData\\Local\\Temp\\jieba.u6fb6e872883c6d9c08ea8e016e70c5c1.cache\n"
     ]
    },
    {
     "name": "stdout",
     "output_type": "stream",
     "text": [
      "26613\n"
     ]
    },
    {
     "name": "stderr",
     "output_type": "stream",
     "text": [
      "Loading model cost 1.214 seconds.\n",
      "Prefix dict has been built succesfully.\n",
      "Building prefix dict from C:\\Users\\PETER\\OneDrive\\桌面\\Klook 7\\dict.txt.big ...\n",
      "Loading model from cache C:\\Users\\PETER\\AppData\\Local\\Temp\\jieba.u6fb6e872883c6d9c08ea8e016e70c5c1.cache\n"
     ]
    },
    {
     "name": "stdout",
     "output_type": "stream",
     "text": [
      "26629\n"
     ]
    },
    {
     "name": "stderr",
     "output_type": "stream",
     "text": [
      "Loading model cost 1.207 seconds.\n",
      "Prefix dict has been built succesfully.\n",
      "Building prefix dict from C:\\Users\\PETER\\OneDrive\\桌面\\Klook 7\\dict.txt.big ...\n",
      "Loading model from cache C:\\Users\\PETER\\AppData\\Local\\Temp\\jieba.u6fb6e872883c6d9c08ea8e016e70c5c1.cache\n"
     ]
    },
    {
     "name": "stdout",
     "output_type": "stream",
     "text": [
      "26645\n"
     ]
    },
    {
     "name": "stderr",
     "output_type": "stream",
     "text": [
      "Loading model cost 1.207 seconds.\n",
      "Prefix dict has been built succesfully.\n",
      "Building prefix dict from C:\\Users\\PETER\\OneDrive\\桌面\\Klook 7\\dict.txt.big ...\n",
      "Loading model from cache C:\\Users\\PETER\\AppData\\Local\\Temp\\jieba.u6fb6e872883c6d9c08ea8e016e70c5c1.cache\n"
     ]
    },
    {
     "name": "stdout",
     "output_type": "stream",
     "text": [
      "26647\n"
     ]
    },
    {
     "name": "stderr",
     "output_type": "stream",
     "text": [
      "Loading model cost 1.219 seconds.\n",
      "Prefix dict has been built succesfully.\n",
      "Building prefix dict from C:\\Users\\PETER\\OneDrive\\桌面\\Klook 7\\dict.txt.big ...\n",
      "Loading model from cache C:\\Users\\PETER\\AppData\\Local\\Temp\\jieba.u6fb6e872883c6d9c08ea8e016e70c5c1.cache\n"
     ]
    },
    {
     "name": "stdout",
     "output_type": "stream",
     "text": [
      "26654\n"
     ]
    },
    {
     "name": "stderr",
     "output_type": "stream",
     "text": [
      "Loading model cost 1.216 seconds.\n",
      "Prefix dict has been built succesfully.\n",
      "Building prefix dict from C:\\Users\\PETER\\OneDrive\\桌面\\Klook 7\\dict.txt.big ...\n",
      "Loading model from cache C:\\Users\\PETER\\AppData\\Local\\Temp\\jieba.u6fb6e872883c6d9c08ea8e016e70c5c1.cache\n"
     ]
    },
    {
     "name": "stdout",
     "output_type": "stream",
     "text": [
      "26886\n"
     ]
    },
    {
     "name": "stderr",
     "output_type": "stream",
     "text": [
      "Loading model cost 1.239 seconds.\n",
      "Prefix dict has been built succesfully.\n",
      "Building prefix dict from C:\\Users\\PETER\\OneDrive\\桌面\\Klook 7\\dict.txt.big ...\n",
      "Loading model from cache C:\\Users\\PETER\\AppData\\Local\\Temp\\jieba.u6fb6e872883c6d9c08ea8e016e70c5c1.cache\n"
     ]
    },
    {
     "name": "stdout",
     "output_type": "stream",
     "text": [
      "2712\n"
     ]
    },
    {
     "name": "stderr",
     "output_type": "stream",
     "text": [
      "Loading model cost 1.215 seconds.\n",
      "Prefix dict has been built succesfully.\n",
      "Building prefix dict from C:\\Users\\PETER\\OneDrive\\桌面\\Klook 7\\dict.txt.big ...\n",
      "Loading model from cache C:\\Users\\PETER\\AppData\\Local\\Temp\\jieba.u6fb6e872883c6d9c08ea8e016e70c5c1.cache\n"
     ]
    },
    {
     "name": "stdout",
     "output_type": "stream",
     "text": [
      "2737\n"
     ]
    },
    {
     "name": "stderr",
     "output_type": "stream",
     "text": [
      "Loading model cost 1.212 seconds.\n",
      "Prefix dict has been built succesfully.\n",
      "Building prefix dict from C:\\Users\\PETER\\OneDrive\\桌面\\Klook 7\\dict.txt.big ...\n",
      "Loading model from cache C:\\Users\\PETER\\AppData\\Local\\Temp\\jieba.u6fb6e872883c6d9c08ea8e016e70c5c1.cache\n"
     ]
    },
    {
     "name": "stdout",
     "output_type": "stream",
     "text": [
      "2992\n"
     ]
    },
    {
     "name": "stderr",
     "output_type": "stream",
     "text": [
      "Loading model cost 1.284 seconds.\n",
      "Prefix dict has been built succesfully.\n",
      "Building prefix dict from C:\\Users\\PETER\\OneDrive\\桌面\\Klook 7\\dict.txt.big ...\n",
      "Loading model from cache C:\\Users\\PETER\\AppData\\Local\\Temp\\jieba.u6fb6e872883c6d9c08ea8e016e70c5c1.cache\n"
     ]
    },
    {
     "name": "stdout",
     "output_type": "stream",
     "text": [
      "2999\n"
     ]
    },
    {
     "name": "stderr",
     "output_type": "stream",
     "text": [
      "Loading model cost 1.222 seconds.\n",
      "Prefix dict has been built succesfully.\n",
      "Building prefix dict from C:\\Users\\PETER\\OneDrive\\桌面\\Klook 7\\dict.txt.big ...\n",
      "Loading model from cache C:\\Users\\PETER\\AppData\\Local\\Temp\\jieba.u6fb6e872883c6d9c08ea8e016e70c5c1.cache\n"
     ]
    },
    {
     "name": "stdout",
     "output_type": "stream",
     "text": [
      "3044\n"
     ]
    },
    {
     "name": "stderr",
     "output_type": "stream",
     "text": [
      "Loading model cost 1.211 seconds.\n",
      "Prefix dict has been built succesfully.\n",
      "Building prefix dict from C:\\Users\\PETER\\OneDrive\\桌面\\Klook 7\\dict.txt.big ...\n",
      "Loading model from cache C:\\Users\\PETER\\AppData\\Local\\Temp\\jieba.u6fb6e872883c6d9c08ea8e016e70c5c1.cache\n"
     ]
    },
    {
     "name": "stdout",
     "output_type": "stream",
     "text": [
      "3045\n"
     ]
    },
    {
     "name": "stderr",
     "output_type": "stream",
     "text": [
      "Loading model cost 1.218 seconds.\n",
      "Prefix dict has been built succesfully.\n",
      "Building prefix dict from C:\\Users\\PETER\\OneDrive\\桌面\\Klook 7\\dict.txt.big ...\n",
      "Loading model from cache C:\\Users\\PETER\\AppData\\Local\\Temp\\jieba.u6fb6e872883c6d9c08ea8e016e70c5c1.cache\n"
     ]
    },
    {
     "name": "stdout",
     "output_type": "stream",
     "text": [
      "3046\n"
     ]
    },
    {
     "name": "stderr",
     "output_type": "stream",
     "text": [
      "Loading model cost 1.223 seconds.\n",
      "Prefix dict has been built succesfully.\n",
      "Building prefix dict from C:\\Users\\PETER\\OneDrive\\桌面\\Klook 7\\dict.txt.big ...\n",
      "Loading model from cache C:\\Users\\PETER\\AppData\\Local\\Temp\\jieba.u6fb6e872883c6d9c08ea8e016e70c5c1.cache\n"
     ]
    },
    {
     "name": "stdout",
     "output_type": "stream",
     "text": [
      "3052\n"
     ]
    },
    {
     "name": "stderr",
     "output_type": "stream",
     "text": [
      "Loading model cost 1.213 seconds.\n",
      "Prefix dict has been built succesfully.\n",
      "Building prefix dict from C:\\Users\\PETER\\OneDrive\\桌面\\Klook 7\\dict.txt.big ...\n",
      "Loading model from cache C:\\Users\\PETER\\AppData\\Local\\Temp\\jieba.u6fb6e872883c6d9c08ea8e016e70c5c1.cache\n"
     ]
    },
    {
     "name": "stdout",
     "output_type": "stream",
     "text": [
      "3081\n"
     ]
    },
    {
     "name": "stderr",
     "output_type": "stream",
     "text": [
      "Loading model cost 1.226 seconds.\n",
      "Prefix dict has been built succesfully.\n",
      "Building prefix dict from C:\\Users\\PETER\\OneDrive\\桌面\\Klook 7\\dict.txt.big ...\n",
      "Loading model from cache C:\\Users\\PETER\\AppData\\Local\\Temp\\jieba.u6fb6e872883c6d9c08ea8e016e70c5c1.cache\n"
     ]
    },
    {
     "name": "stdout",
     "output_type": "stream",
     "text": [
      "3082\n"
     ]
    },
    {
     "name": "stderr",
     "output_type": "stream",
     "text": [
      "Loading model cost 1.278 seconds.\n",
      "Prefix dict has been built succesfully.\n",
      "Building prefix dict from C:\\Users\\PETER\\OneDrive\\桌面\\Klook 7\\dict.txt.big ...\n",
      "Loading model from cache C:\\Users\\PETER\\AppData\\Local\\Temp\\jieba.u6fb6e872883c6d9c08ea8e016e70c5c1.cache\n"
     ]
    },
    {
     "name": "stdout",
     "output_type": "stream",
     "text": [
      "311\n"
     ]
    },
    {
     "name": "stderr",
     "output_type": "stream",
     "text": [
      "Loading model cost 1.275 seconds.\n",
      "Prefix dict has been built succesfully.\n",
      "Building prefix dict from C:\\Users\\PETER\\OneDrive\\桌面\\Klook 7\\dict.txt.big ...\n",
      "Loading model from cache C:\\Users\\PETER\\AppData\\Local\\Temp\\jieba.u6fb6e872883c6d9c08ea8e016e70c5c1.cache\n"
     ]
    },
    {
     "name": "stdout",
     "output_type": "stream",
     "text": [
      "3142\n"
     ]
    },
    {
     "name": "stderr",
     "output_type": "stream",
     "text": [
      "Loading model cost 1.207 seconds.\n",
      "Prefix dict has been built succesfully.\n",
      "Building prefix dict from C:\\Users\\PETER\\OneDrive\\桌面\\Klook 7\\dict.txt.big ...\n",
      "Loading model from cache C:\\Users\\PETER\\AppData\\Local\\Temp\\jieba.u6fb6e872883c6d9c08ea8e016e70c5c1.cache\n"
     ]
    },
    {
     "name": "stdout",
     "output_type": "stream",
     "text": [
      "3182\n"
     ]
    },
    {
     "name": "stderr",
     "output_type": "stream",
     "text": [
      "Loading model cost 1.218 seconds.\n",
      "Prefix dict has been built succesfully.\n",
      "Building prefix dict from C:\\Users\\PETER\\OneDrive\\桌面\\Klook 7\\dict.txt.big ...\n",
      "Loading model from cache C:\\Users\\PETER\\AppData\\Local\\Temp\\jieba.u6fb6e872883c6d9c08ea8e016e70c5c1.cache\n"
     ]
    },
    {
     "name": "stdout",
     "output_type": "stream",
     "text": [
      "3241\n"
     ]
    },
    {
     "name": "stderr",
     "output_type": "stream",
     "text": [
      "Loading model cost 1.213 seconds.\n",
      "Prefix dict has been built succesfully.\n",
      "Building prefix dict from C:\\Users\\PETER\\OneDrive\\桌面\\Klook 7\\dict.txt.big ...\n",
      "Loading model from cache C:\\Users\\PETER\\AppData\\Local\\Temp\\jieba.u6fb6e872883c6d9c08ea8e016e70c5c1.cache\n"
     ]
    },
    {
     "name": "stdout",
     "output_type": "stream",
     "text": [
      "3248\n"
     ]
    },
    {
     "name": "stderr",
     "output_type": "stream",
     "text": [
      "Loading model cost 1.210 seconds.\n",
      "Prefix dict has been built succesfully.\n",
      "Building prefix dict from C:\\Users\\PETER\\OneDrive\\桌面\\Klook 7\\dict.txt.big ...\n",
      "Loading model from cache C:\\Users\\PETER\\AppData\\Local\\Temp\\jieba.u6fb6e872883c6d9c08ea8e016e70c5c1.cache\n"
     ]
    },
    {
     "name": "stdout",
     "output_type": "stream",
     "text": [
      "3252\n"
     ]
    },
    {
     "name": "stderr",
     "output_type": "stream",
     "text": [
      "Loading model cost 1.221 seconds.\n",
      "Prefix dict has been built succesfully.\n",
      "Building prefix dict from C:\\Users\\PETER\\OneDrive\\桌面\\Klook 7\\dict.txt.big ...\n",
      "Loading model from cache C:\\Users\\PETER\\AppData\\Local\\Temp\\jieba.u6fb6e872883c6d9c08ea8e016e70c5c1.cache\n"
     ]
    },
    {
     "name": "stdout",
     "output_type": "stream",
     "text": [
      "3253\n"
     ]
    },
    {
     "name": "stderr",
     "output_type": "stream",
     "text": [
      "Loading model cost 1.211 seconds.\n",
      "Prefix dict has been built succesfully.\n",
      "Building prefix dict from C:\\Users\\PETER\\OneDrive\\桌面\\Klook 7\\dict.txt.big ...\n",
      "Loading model from cache C:\\Users\\PETER\\AppData\\Local\\Temp\\jieba.u6fb6e872883c6d9c08ea8e016e70c5c1.cache\n"
     ]
    },
    {
     "name": "stdout",
     "output_type": "stream",
     "text": [
      "3298\n"
     ]
    },
    {
     "name": "stderr",
     "output_type": "stream",
     "text": [
      "Loading model cost 1.222 seconds.\n",
      "Prefix dict has been built succesfully.\n",
      "Building prefix dict from C:\\Users\\PETER\\OneDrive\\桌面\\Klook 7\\dict.txt.big ...\n",
      "Loading model from cache C:\\Users\\PETER\\AppData\\Local\\Temp\\jieba.u6fb6e872883c6d9c08ea8e016e70c5c1.cache\n"
     ]
    },
    {
     "name": "stdout",
     "output_type": "stream",
     "text": [
      "3329\n"
     ]
    },
    {
     "name": "stderr",
     "output_type": "stream",
     "text": [
      "Loading model cost 1.211 seconds.\n",
      "Prefix dict has been built succesfully.\n",
      "Building prefix dict from C:\\Users\\PETER\\OneDrive\\桌面\\Klook 7\\dict.txt.big ...\n",
      "Loading model from cache C:\\Users\\PETER\\AppData\\Local\\Temp\\jieba.u6fb6e872883c6d9c08ea8e016e70c5c1.cache\n"
     ]
    },
    {
     "name": "stdout",
     "output_type": "stream",
     "text": [
      "3330\n"
     ]
    },
    {
     "name": "stderr",
     "output_type": "stream",
     "text": [
      "Loading model cost 1.238 seconds.\n",
      "Prefix dict has been built succesfully.\n",
      "Building prefix dict from C:\\Users\\PETER\\OneDrive\\桌面\\Klook 7\\dict.txt.big ...\n",
      "Loading model from cache C:\\Users\\PETER\\AppData\\Local\\Temp\\jieba.u6fb6e872883c6d9c08ea8e016e70c5c1.cache\n"
     ]
    },
    {
     "name": "stdout",
     "output_type": "stream",
     "text": [
      "342\n"
     ]
    },
    {
     "name": "stderr",
     "output_type": "stream",
     "text": [
      "Loading model cost 1.220 seconds.\n",
      "Prefix dict has been built succesfully.\n",
      "Building prefix dict from C:\\Users\\PETER\\OneDrive\\桌面\\Klook 7\\dict.txt.big ...\n",
      "Loading model from cache C:\\Users\\PETER\\AppData\\Local\\Temp\\jieba.u6fb6e872883c6d9c08ea8e016e70c5c1.cache\n"
     ]
    },
    {
     "name": "stdout",
     "output_type": "stream",
     "text": [
      "343\n"
     ]
    },
    {
     "name": "stderr",
     "output_type": "stream",
     "text": [
      "Loading model cost 1.276 seconds.\n",
      "Prefix dict has been built succesfully.\n",
      "Building prefix dict from C:\\Users\\PETER\\OneDrive\\桌面\\Klook 7\\dict.txt.big ...\n",
      "Loading model from cache C:\\Users\\PETER\\AppData\\Local\\Temp\\jieba.u6fb6e872883c6d9c08ea8e016e70c5c1.cache\n"
     ]
    },
    {
     "name": "stdout",
     "output_type": "stream",
     "text": [
      "346\n"
     ]
    },
    {
     "name": "stderr",
     "output_type": "stream",
     "text": [
      "Loading model cost 1.215 seconds.\n",
      "Prefix dict has been built succesfully.\n",
      "Building prefix dict from C:\\Users\\PETER\\OneDrive\\桌面\\Klook 7\\dict.txt.big ...\n",
      "Loading model from cache C:\\Users\\PETER\\AppData\\Local\\Temp\\jieba.u6fb6e872883c6d9c08ea8e016e70c5c1.cache\n"
     ]
    },
    {
     "name": "stdout",
     "output_type": "stream",
     "text": [
      "347\n"
     ]
    },
    {
     "name": "stderr",
     "output_type": "stream",
     "text": [
      "Loading model cost 1.213 seconds.\n",
      "Prefix dict has been built succesfully.\n",
      "Building prefix dict from C:\\Users\\PETER\\OneDrive\\桌面\\Klook 7\\dict.txt.big ...\n",
      "Loading model from cache C:\\Users\\PETER\\AppData\\Local\\Temp\\jieba.u6fb6e872883c6d9c08ea8e016e70c5c1.cache\n"
     ]
    },
    {
     "name": "stdout",
     "output_type": "stream",
     "text": [
      "348\n"
     ]
    },
    {
     "name": "stderr",
     "output_type": "stream",
     "text": [
      "Loading model cost 1.224 seconds.\n",
      "Prefix dict has been built succesfully.\n",
      "Building prefix dict from C:\\Users\\PETER\\OneDrive\\桌面\\Klook 7\\dict.txt.big ...\n",
      "Loading model from cache C:\\Users\\PETER\\AppData\\Local\\Temp\\jieba.u6fb6e872883c6d9c08ea8e016e70c5c1.cache\n"
     ]
    },
    {
     "name": "stdout",
     "output_type": "stream",
     "text": [
      "349\n"
     ]
    },
    {
     "name": "stderr",
     "output_type": "stream",
     "text": [
      "Loading model cost 1.217 seconds.\n",
      "Prefix dict has been built succesfully.\n",
      "Building prefix dict from C:\\Users\\PETER\\OneDrive\\桌面\\Klook 7\\dict.txt.big ...\n",
      "Loading model from cache C:\\Users\\PETER\\AppData\\Local\\Temp\\jieba.u6fb6e872883c6d9c08ea8e016e70c5c1.cache\n"
     ]
    },
    {
     "name": "stdout",
     "output_type": "stream",
     "text": [
      "3508\n"
     ]
    },
    {
     "name": "stderr",
     "output_type": "stream",
     "text": [
      "Loading model cost 1.223 seconds.\n",
      "Prefix dict has been built succesfully.\n",
      "Building prefix dict from C:\\Users\\PETER\\OneDrive\\桌面\\Klook 7\\dict.txt.big ...\n",
      "Loading model from cache C:\\Users\\PETER\\AppData\\Local\\Temp\\jieba.u6fb6e872883c6d9c08ea8e016e70c5c1.cache\n"
     ]
    },
    {
     "name": "stdout",
     "output_type": "stream",
     "text": [
      "3791\n"
     ]
    },
    {
     "name": "stderr",
     "output_type": "stream",
     "text": [
      "Loading model cost 1.296 seconds.\n",
      "Prefix dict has been built succesfully.\n",
      "Building prefix dict from C:\\Users\\PETER\\OneDrive\\桌面\\Klook 7\\dict.txt.big ...\n",
      "Loading model from cache C:\\Users\\PETER\\AppData\\Local\\Temp\\jieba.u6fb6e872883c6d9c08ea8e016e70c5c1.cache\n"
     ]
    },
    {
     "name": "stdout",
     "output_type": "stream",
     "text": [
      "3798\n"
     ]
    },
    {
     "name": "stderr",
     "output_type": "stream",
     "text": [
      "Loading model cost 1.218 seconds.\n",
      "Prefix dict has been built succesfully.\n",
      "Building prefix dict from C:\\Users\\PETER\\OneDrive\\桌面\\Klook 7\\dict.txt.big ...\n",
      "Loading model from cache C:\\Users\\PETER\\AppData\\Local\\Temp\\jieba.u6fb6e872883c6d9c08ea8e016e70c5c1.cache\n"
     ]
    },
    {
     "name": "stdout",
     "output_type": "stream",
     "text": [
      "3819\n"
     ]
    },
    {
     "name": "stderr",
     "output_type": "stream",
     "text": [
      "Loading model cost 1.207 seconds.\n",
      "Prefix dict has been built succesfully.\n",
      "Building prefix dict from C:\\Users\\PETER\\OneDrive\\桌面\\Klook 7\\dict.txt.big ...\n",
      "Loading model from cache C:\\Users\\PETER\\AppData\\Local\\Temp\\jieba.u6fb6e872883c6d9c08ea8e016e70c5c1.cache\n"
     ]
    },
    {
     "name": "stdout",
     "output_type": "stream",
     "text": [
      "3845\n"
     ]
    },
    {
     "name": "stderr",
     "output_type": "stream",
     "text": [
      "Loading model cost 1.211 seconds.\n",
      "Prefix dict has been built succesfully.\n",
      "Building prefix dict from C:\\Users\\PETER\\OneDrive\\桌面\\Klook 7\\dict.txt.big ...\n",
      "Loading model from cache C:\\Users\\PETER\\AppData\\Local\\Temp\\jieba.u6fb6e872883c6d9c08ea8e016e70c5c1.cache\n"
     ]
    },
    {
     "name": "stdout",
     "output_type": "stream",
     "text": [
      "3854\n"
     ]
    },
    {
     "name": "stderr",
     "output_type": "stream",
     "text": [
      "Loading model cost 1.217 seconds.\n",
      "Prefix dict has been built succesfully.\n",
      "Building prefix dict from C:\\Users\\PETER\\OneDrive\\桌面\\Klook 7\\dict.txt.big ...\n",
      "Loading model from cache C:\\Users\\PETER\\AppData\\Local\\Temp\\jieba.u6fb6e872883c6d9c08ea8e016e70c5c1.cache\n"
     ]
    },
    {
     "name": "stdout",
     "output_type": "stream",
     "text": [
      "3923\n"
     ]
    },
    {
     "name": "stderr",
     "output_type": "stream",
     "text": [
      "Loading model cost 1.214 seconds.\n",
      "Prefix dict has been built succesfully.\n",
      "Building prefix dict from C:\\Users\\PETER\\OneDrive\\桌面\\Klook 7\\dict.txt.big ...\n",
      "Loading model from cache C:\\Users\\PETER\\AppData\\Local\\Temp\\jieba.u6fb6e872883c6d9c08ea8e016e70c5c1.cache\n"
     ]
    },
    {
     "name": "stdout",
     "output_type": "stream",
     "text": [
      "3929\n"
     ]
    },
    {
     "name": "stderr",
     "output_type": "stream",
     "text": [
      "Loading model cost 1.218 seconds.\n",
      "Prefix dict has been built succesfully.\n",
      "Building prefix dict from C:\\Users\\PETER\\OneDrive\\桌面\\Klook 7\\dict.txt.big ...\n",
      "Loading model from cache C:\\Users\\PETER\\AppData\\Local\\Temp\\jieba.u6fb6e872883c6d9c08ea8e016e70c5c1.cache\n"
     ]
    },
    {
     "name": "stdout",
     "output_type": "stream",
     "text": [
      "3931\n"
     ]
    },
    {
     "name": "stderr",
     "output_type": "stream",
     "text": [
      "Loading model cost 1.216 seconds.\n",
      "Prefix dict has been built succesfully.\n",
      "Building prefix dict from C:\\Users\\PETER\\OneDrive\\桌面\\Klook 7\\dict.txt.big ...\n",
      "Loading model from cache C:\\Users\\PETER\\AppData\\Local\\Temp\\jieba.u6fb6e872883c6d9c08ea8e016e70c5c1.cache\n"
     ]
    },
    {
     "name": "stdout",
     "output_type": "stream",
     "text": [
      "3936\n"
     ]
    },
    {
     "name": "stderr",
     "output_type": "stream",
     "text": [
      "Loading model cost 1.214 seconds.\n",
      "Prefix dict has been built succesfully.\n",
      "Building prefix dict from C:\\Users\\PETER\\OneDrive\\桌面\\Klook 7\\dict.txt.big ...\n",
      "Loading model from cache C:\\Users\\PETER\\AppData\\Local\\Temp\\jieba.u6fb6e872883c6d9c08ea8e016e70c5c1.cache\n"
     ]
    },
    {
     "name": "stdout",
     "output_type": "stream",
     "text": [
      "408\n"
     ]
    },
    {
     "name": "stderr",
     "output_type": "stream",
     "text": [
      "Loading model cost 1.213 seconds.\n",
      "Prefix dict has been built succesfully.\n",
      "Building prefix dict from C:\\Users\\PETER\\OneDrive\\桌面\\Klook 7\\dict.txt.big ...\n",
      "Loading model from cache C:\\Users\\PETER\\AppData\\Local\\Temp\\jieba.u6fb6e872883c6d9c08ea8e016e70c5c1.cache\n"
     ]
    },
    {
     "name": "stdout",
     "output_type": "stream",
     "text": [
      "412\n"
     ]
    },
    {
     "name": "stderr",
     "output_type": "stream",
     "text": [
      "Loading model cost 1.240 seconds.\n",
      "Prefix dict has been built succesfully.\n",
      "Building prefix dict from C:\\Users\\PETER\\OneDrive\\桌面\\Klook 7\\dict.txt.big ...\n",
      "Loading model from cache C:\\Users\\PETER\\AppData\\Local\\Temp\\jieba.u6fb6e872883c6d9c08ea8e016e70c5c1.cache\n"
     ]
    },
    {
     "name": "stdout",
     "output_type": "stream",
     "text": [
      "413\n"
     ]
    },
    {
     "name": "stderr",
     "output_type": "stream",
     "text": [
      "Loading model cost 1.233 seconds.\n",
      "Prefix dict has been built succesfully.\n",
      "Building prefix dict from C:\\Users\\PETER\\OneDrive\\桌面\\Klook 7\\dict.txt.big ...\n",
      "Loading model from cache C:\\Users\\PETER\\AppData\\Local\\Temp\\jieba.u6fb6e872883c6d9c08ea8e016e70c5c1.cache\n"
     ]
    },
    {
     "name": "stdout",
     "output_type": "stream",
     "text": [
      "414\n"
     ]
    },
    {
     "name": "stderr",
     "output_type": "stream",
     "text": [
      "Loading model cost 1.256 seconds.\n",
      "Prefix dict has been built succesfully.\n",
      "Building prefix dict from C:\\Users\\PETER\\OneDrive\\桌面\\Klook 7\\dict.txt.big ...\n",
      "Loading model from cache C:\\Users\\PETER\\AppData\\Local\\Temp\\jieba.u6fb6e872883c6d9c08ea8e016e70c5c1.cache\n"
     ]
    },
    {
     "name": "stdout",
     "output_type": "stream",
     "text": [
      "4170\n"
     ]
    },
    {
     "name": "stderr",
     "output_type": "stream",
     "text": [
      "Loading model cost 1.310 seconds.\n",
      "Prefix dict has been built succesfully.\n",
      "Building prefix dict from C:\\Users\\PETER\\OneDrive\\桌面\\Klook 7\\dict.txt.big ...\n",
      "Loading model from cache C:\\Users\\PETER\\AppData\\Local\\Temp\\jieba.u6fb6e872883c6d9c08ea8e016e70c5c1.cache\n"
     ]
    },
    {
     "name": "stdout",
     "output_type": "stream",
     "text": [
      "4172\n"
     ]
    },
    {
     "name": "stderr",
     "output_type": "stream",
     "text": [
      "Loading model cost 1.242 seconds.\n",
      "Prefix dict has been built succesfully.\n",
      "Building prefix dict from C:\\Users\\PETER\\OneDrive\\桌面\\Klook 7\\dict.txt.big ...\n",
      "Loading model from cache C:\\Users\\PETER\\AppData\\Local\\Temp\\jieba.u6fb6e872883c6d9c08ea8e016e70c5c1.cache\n"
     ]
    },
    {
     "name": "stdout",
     "output_type": "stream",
     "text": [
      "4185\n"
     ]
    },
    {
     "name": "stderr",
     "output_type": "stream",
     "text": [
      "Loading model cost 1.209 seconds.\n",
      "Prefix dict has been built succesfully.\n",
      "Building prefix dict from C:\\Users\\PETER\\OneDrive\\桌面\\Klook 7\\dict.txt.big ...\n",
      "Loading model from cache C:\\Users\\PETER\\AppData\\Local\\Temp\\jieba.u6fb6e872883c6d9c08ea8e016e70c5c1.cache\n"
     ]
    },
    {
     "name": "stdout",
     "output_type": "stream",
     "text": [
      "4410\n"
     ]
    },
    {
     "name": "stderr",
     "output_type": "stream",
     "text": [
      "Loading model cost 1.213 seconds.\n",
      "Prefix dict has been built succesfully.\n",
      "Building prefix dict from C:\\Users\\PETER\\OneDrive\\桌面\\Klook 7\\dict.txt.big ...\n",
      "Loading model from cache C:\\Users\\PETER\\AppData\\Local\\Temp\\jieba.u6fb6e872883c6d9c08ea8e016e70c5c1.cache\n"
     ]
    },
    {
     "name": "stdout",
     "output_type": "stream",
     "text": [
      "4694\n"
     ]
    },
    {
     "name": "stderr",
     "output_type": "stream",
     "text": [
      "Loading model cost 1.238 seconds.\n",
      "Prefix dict has been built succesfully.\n",
      "Building prefix dict from C:\\Users\\PETER\\OneDrive\\桌面\\Klook 7\\dict.txt.big ...\n",
      "Loading model from cache C:\\Users\\PETER\\AppData\\Local\\Temp\\jieba.u6fb6e872883c6d9c08ea8e016e70c5c1.cache\n"
     ]
    },
    {
     "name": "stdout",
     "output_type": "stream",
     "text": [
      "4705\n"
     ]
    },
    {
     "name": "stderr",
     "output_type": "stream",
     "text": [
      "Loading model cost 1.235 seconds.\n",
      "Prefix dict has been built succesfully.\n",
      "Building prefix dict from C:\\Users\\PETER\\OneDrive\\桌面\\Klook 7\\dict.txt.big ...\n",
      "Loading model from cache C:\\Users\\PETER\\AppData\\Local\\Temp\\jieba.u6fb6e872883c6d9c08ea8e016e70c5c1.cache\n"
     ]
    },
    {
     "name": "stdout",
     "output_type": "stream",
     "text": [
      "505\n"
     ]
    },
    {
     "name": "stderr",
     "output_type": "stream",
     "text": [
      "Loading model cost 1.231 seconds.\n",
      "Prefix dict has been built succesfully.\n",
      "Building prefix dict from C:\\Users\\PETER\\OneDrive\\桌面\\Klook 7\\dict.txt.big ...\n",
      "Loading model from cache C:\\Users\\PETER\\AppData\\Local\\Temp\\jieba.u6fb6e872883c6d9c08ea8e016e70c5c1.cache\n"
     ]
    },
    {
     "name": "stdout",
     "output_type": "stream",
     "text": [
      "5102\n"
     ]
    },
    {
     "name": "stderr",
     "output_type": "stream",
     "text": [
      "Loading model cost 1.219 seconds.\n",
      "Prefix dict has been built succesfully.\n",
      "Building prefix dict from C:\\Users\\PETER\\OneDrive\\桌面\\Klook 7\\dict.txt.big ...\n",
      "Loading model from cache C:\\Users\\PETER\\AppData\\Local\\Temp\\jieba.u6fb6e872883c6d9c08ea8e016e70c5c1.cache\n"
     ]
    },
    {
     "name": "stdout",
     "output_type": "stream",
     "text": [
      "5209\n"
     ]
    },
    {
     "name": "stderr",
     "output_type": "stream",
     "text": [
      "Loading model cost 1.218 seconds.\n",
      "Prefix dict has been built succesfully.\n",
      "Building prefix dict from C:\\Users\\PETER\\OneDrive\\桌面\\Klook 7\\dict.txt.big ...\n",
      "Loading model from cache C:\\Users\\PETER\\AppData\\Local\\Temp\\jieba.u6fb6e872883c6d9c08ea8e016e70c5c1.cache\n"
     ]
    },
    {
     "name": "stdout",
     "output_type": "stream",
     "text": [
      "527\n"
     ]
    },
    {
     "name": "stderr",
     "output_type": "stream",
     "text": [
      "Loading model cost 1.261 seconds.\n",
      "Prefix dict has been built succesfully.\n",
      "Building prefix dict from C:\\Users\\PETER\\OneDrive\\桌面\\Klook 7\\dict.txt.big ...\n",
      "Loading model from cache C:\\Users\\PETER\\AppData\\Local\\Temp\\jieba.u6fb6e872883c6d9c08ea8e016e70c5c1.cache\n"
     ]
    },
    {
     "name": "stdout",
     "output_type": "stream",
     "text": [
      "5456\n"
     ]
    },
    {
     "name": "stderr",
     "output_type": "stream",
     "text": [
      "Loading model cost 1.245 seconds.\n",
      "Prefix dict has been built succesfully.\n",
      "Building prefix dict from C:\\Users\\PETER\\OneDrive\\桌面\\Klook 7\\dict.txt.big ...\n",
      "Loading model from cache C:\\Users\\PETER\\AppData\\Local\\Temp\\jieba.u6fb6e872883c6d9c08ea8e016e70c5c1.cache\n"
     ]
    },
    {
     "name": "stdout",
     "output_type": "stream",
     "text": [
      "5466\n"
     ]
    },
    {
     "name": "stderr",
     "output_type": "stream",
     "text": [
      "Loading model cost 1.213 seconds.\n",
      "Prefix dict has been built succesfully.\n",
      "Building prefix dict from C:\\Users\\PETER\\OneDrive\\桌面\\Klook 7\\dict.txt.big ...\n",
      "Loading model from cache C:\\Users\\PETER\\AppData\\Local\\Temp\\jieba.u6fb6e872883c6d9c08ea8e016e70c5c1.cache\n"
     ]
    },
    {
     "name": "stdout",
     "output_type": "stream",
     "text": [
      "5474\n"
     ]
    },
    {
     "name": "stderr",
     "output_type": "stream",
     "text": [
      "Loading model cost 1.224 seconds.\n",
      "Prefix dict has been built succesfully.\n",
      "Building prefix dict from C:\\Users\\PETER\\OneDrive\\桌面\\Klook 7\\dict.txt.big ...\n",
      "Loading model from cache C:\\Users\\PETER\\AppData\\Local\\Temp\\jieba.u6fb6e872883c6d9c08ea8e016e70c5c1.cache\n"
     ]
    },
    {
     "name": "stdout",
     "output_type": "stream",
     "text": [
      "5895\n"
     ]
    },
    {
     "name": "stderr",
     "output_type": "stream",
     "text": [
      "Loading model cost 1.211 seconds.\n",
      "Prefix dict has been built succesfully.\n",
      "Building prefix dict from C:\\Users\\PETER\\OneDrive\\桌面\\Klook 7\\dict.txt.big ...\n",
      "Loading model from cache C:\\Users\\PETER\\AppData\\Local\\Temp\\jieba.u6fb6e872883c6d9c08ea8e016e70c5c1.cache\n"
     ]
    },
    {
     "name": "stdout",
     "output_type": "stream",
     "text": [
      "5941\n"
     ]
    },
    {
     "name": "stderr",
     "output_type": "stream",
     "text": [
      "Loading model cost 1.214 seconds.\n",
      "Prefix dict has been built succesfully.\n",
      "Building prefix dict from C:\\Users\\PETER\\OneDrive\\桌面\\Klook 7\\dict.txt.big ...\n",
      "Loading model from cache C:\\Users\\PETER\\AppData\\Local\\Temp\\jieba.u6fb6e872883c6d9c08ea8e016e70c5c1.cache\n"
     ]
    },
    {
     "name": "stdout",
     "output_type": "stream",
     "text": [
      "6095\n"
     ]
    },
    {
     "name": "stderr",
     "output_type": "stream",
     "text": [
      "Loading model cost 1.202 seconds.\n",
      "Prefix dict has been built succesfully.\n",
      "Building prefix dict from C:\\Users\\PETER\\OneDrive\\桌面\\Klook 7\\dict.txt.big ...\n",
      "Loading model from cache C:\\Users\\PETER\\AppData\\Local\\Temp\\jieba.u6fb6e872883c6d9c08ea8e016e70c5c1.cache\n"
     ]
    },
    {
     "name": "stdout",
     "output_type": "stream",
     "text": [
      "6200\n"
     ]
    },
    {
     "name": "stderr",
     "output_type": "stream",
     "text": [
      "Loading model cost 1.308 seconds.\n",
      "Prefix dict has been built succesfully.\n",
      "Building prefix dict from C:\\Users\\PETER\\OneDrive\\桌面\\Klook 7\\dict.txt.big ...\n",
      "Loading model from cache C:\\Users\\PETER\\AppData\\Local\\Temp\\jieba.u6fb6e872883c6d9c08ea8e016e70c5c1.cache\n"
     ]
    },
    {
     "name": "stdout",
     "output_type": "stream",
     "text": [
      "6216\n"
     ]
    },
    {
     "name": "stderr",
     "output_type": "stream",
     "text": [
      "Loading model cost 1.243 seconds.\n",
      "Prefix dict has been built succesfully.\n",
      "Building prefix dict from C:\\Users\\PETER\\OneDrive\\桌面\\Klook 7\\dict.txt.big ...\n",
      "Loading model from cache C:\\Users\\PETER\\AppData\\Local\\Temp\\jieba.u6fb6e872883c6d9c08ea8e016e70c5c1.cache\n"
     ]
    },
    {
     "name": "stdout",
     "output_type": "stream",
     "text": [
      "6257\n"
     ]
    },
    {
     "name": "stderr",
     "output_type": "stream",
     "text": [
      "Loading model cost 1.220 seconds.\n",
      "Prefix dict has been built succesfully.\n",
      "Building prefix dict from C:\\Users\\PETER\\OneDrive\\桌面\\Klook 7\\dict.txt.big ...\n",
      "Loading model from cache C:\\Users\\PETER\\AppData\\Local\\Temp\\jieba.u6fb6e872883c6d9c08ea8e016e70c5c1.cache\n"
     ]
    },
    {
     "name": "stdout",
     "output_type": "stream",
     "text": [
      "6264\n"
     ]
    },
    {
     "name": "stderr",
     "output_type": "stream",
     "text": [
      "Loading model cost 1.216 seconds.\n",
      "Prefix dict has been built succesfully.\n",
      "Building prefix dict from C:\\Users\\PETER\\OneDrive\\桌面\\Klook 7\\dict.txt.big ...\n",
      "Loading model from cache C:\\Users\\PETER\\AppData\\Local\\Temp\\jieba.u6fb6e872883c6d9c08ea8e016e70c5c1.cache\n"
     ]
    },
    {
     "name": "stdout",
     "output_type": "stream",
     "text": [
      "6488\n"
     ]
    },
    {
     "name": "stderr",
     "output_type": "stream",
     "text": [
      "Loading model cost 1.204 seconds.\n",
      "Prefix dict has been built succesfully.\n",
      "Building prefix dict from C:\\Users\\PETER\\OneDrive\\桌面\\Klook 7\\dict.txt.big ...\n",
      "Loading model from cache C:\\Users\\PETER\\AppData\\Local\\Temp\\jieba.u6fb6e872883c6d9c08ea8e016e70c5c1.cache\n"
     ]
    },
    {
     "name": "stdout",
     "output_type": "stream",
     "text": [
      "6598\n"
     ]
    },
    {
     "name": "stderr",
     "output_type": "stream",
     "text": [
      "Loading model cost 1.225 seconds.\n",
      "Prefix dict has been built succesfully.\n",
      "Building prefix dict from C:\\Users\\PETER\\OneDrive\\桌面\\Klook 7\\dict.txt.big ...\n",
      "Loading model from cache C:\\Users\\PETER\\AppData\\Local\\Temp\\jieba.u6fb6e872883c6d9c08ea8e016e70c5c1.cache\n"
     ]
    },
    {
     "name": "stdout",
     "output_type": "stream",
     "text": [
      "6720\n"
     ]
    },
    {
     "name": "stderr",
     "output_type": "stream",
     "text": [
      "Loading model cost 1.209 seconds.\n",
      "Prefix dict has been built succesfully.\n",
      "Building prefix dict from C:\\Users\\PETER\\OneDrive\\桌面\\Klook 7\\dict.txt.big ...\n",
      "Loading model from cache C:\\Users\\PETER\\AppData\\Local\\Temp\\jieba.u6fb6e872883c6d9c08ea8e016e70c5c1.cache\n"
     ]
    },
    {
     "name": "stdout",
     "output_type": "stream",
     "text": [
      "6729\n"
     ]
    },
    {
     "name": "stderr",
     "output_type": "stream",
     "text": [
      "Loading model cost 1.211 seconds.\n",
      "Prefix dict has been built succesfully.\n",
      "Building prefix dict from C:\\Users\\PETER\\OneDrive\\桌面\\Klook 7\\dict.txt.big ...\n",
      "Loading model from cache C:\\Users\\PETER\\AppData\\Local\\Temp\\jieba.u6fb6e872883c6d9c08ea8e016e70c5c1.cache\n"
     ]
    },
    {
     "name": "stdout",
     "output_type": "stream",
     "text": [
      "6823\n"
     ]
    },
    {
     "name": "stderr",
     "output_type": "stream",
     "text": [
      "Loading model cost 1.223 seconds.\n",
      "Prefix dict has been built succesfully.\n",
      "Building prefix dict from C:\\Users\\PETER\\OneDrive\\桌面\\Klook 7\\dict.txt.big ...\n",
      "Loading model from cache C:\\Users\\PETER\\AppData\\Local\\Temp\\jieba.u6fb6e872883c6d9c08ea8e016e70c5c1.cache\n"
     ]
    },
    {
     "name": "stdout",
     "output_type": "stream",
     "text": [
      "6874\n"
     ]
    },
    {
     "name": "stderr",
     "output_type": "stream",
     "text": [
      "Loading model cost 1.235 seconds.\n",
      "Prefix dict has been built succesfully.\n",
      "Building prefix dict from C:\\Users\\PETER\\OneDrive\\桌面\\Klook 7\\dict.txt.big ...\n",
      "Loading model from cache C:\\Users\\PETER\\AppData\\Local\\Temp\\jieba.u6fb6e872883c6d9c08ea8e016e70c5c1.cache\n"
     ]
    },
    {
     "name": "stdout",
     "output_type": "stream",
     "text": [
      "6886\n"
     ]
    },
    {
     "name": "stderr",
     "output_type": "stream",
     "text": [
      "Loading model cost 1.219 seconds.\n",
      "Prefix dict has been built succesfully.\n",
      "Building prefix dict from C:\\Users\\PETER\\OneDrive\\桌面\\Klook 7\\dict.txt.big ...\n",
      "Loading model from cache C:\\Users\\PETER\\AppData\\Local\\Temp\\jieba.u6fb6e872883c6d9c08ea8e016e70c5c1.cache\n"
     ]
    },
    {
     "name": "stdout",
     "output_type": "stream",
     "text": [
      "6891\n"
     ]
    },
    {
     "name": "stderr",
     "output_type": "stream",
     "text": [
      "Loading model cost 1.241 seconds.\n",
      "Prefix dict has been built succesfully.\n",
      "Building prefix dict from C:\\Users\\PETER\\OneDrive\\桌面\\Klook 7\\dict.txt.big ...\n",
      "Loading model from cache C:\\Users\\PETER\\AppData\\Local\\Temp\\jieba.u6fb6e872883c6d9c08ea8e016e70c5c1.cache\n"
     ]
    },
    {
     "name": "stdout",
     "output_type": "stream",
     "text": [
      "6900\n"
     ]
    },
    {
     "name": "stderr",
     "output_type": "stream",
     "text": [
      "Loading model cost 1.213 seconds.\n",
      "Prefix dict has been built succesfully.\n",
      "Building prefix dict from C:\\Users\\PETER\\OneDrive\\桌面\\Klook 7\\dict.txt.big ...\n",
      "Loading model from cache C:\\Users\\PETER\\AppData\\Local\\Temp\\jieba.u6fb6e872883c6d9c08ea8e016e70c5c1.cache\n"
     ]
    },
    {
     "name": "stdout",
     "output_type": "stream",
     "text": [
      "6988\n"
     ]
    },
    {
     "name": "stderr",
     "output_type": "stream",
     "text": [
      "Loading model cost 1.219 seconds.\n",
      "Prefix dict has been built succesfully.\n",
      "Building prefix dict from C:\\Users\\PETER\\OneDrive\\桌面\\Klook 7\\dict.txt.big ...\n",
      "Loading model from cache C:\\Users\\PETER\\AppData\\Local\\Temp\\jieba.u6fb6e872883c6d9c08ea8e016e70c5c1.cache\n"
     ]
    },
    {
     "name": "stdout",
     "output_type": "stream",
     "text": [
      "7325\n"
     ]
    },
    {
     "name": "stderr",
     "output_type": "stream",
     "text": [
      "Loading model cost 1.221 seconds.\n",
      "Prefix dict has been built succesfully.\n",
      "Building prefix dict from C:\\Users\\PETER\\OneDrive\\桌面\\Klook 7\\dict.txt.big ...\n",
      "Loading model from cache C:\\Users\\PETER\\AppData\\Local\\Temp\\jieba.u6fb6e872883c6d9c08ea8e016e70c5c1.cache\n"
     ]
    },
    {
     "name": "stdout",
     "output_type": "stream",
     "text": [
      "7326\n"
     ]
    },
    {
     "name": "stderr",
     "output_type": "stream",
     "text": [
      "Loading model cost 1.211 seconds.\n",
      "Prefix dict has been built succesfully.\n",
      "Building prefix dict from C:\\Users\\PETER\\OneDrive\\桌面\\Klook 7\\dict.txt.big ...\n",
      "Loading model from cache C:\\Users\\PETER\\AppData\\Local\\Temp\\jieba.u6fb6e872883c6d9c08ea8e016e70c5c1.cache\n"
     ]
    },
    {
     "name": "stdout",
     "output_type": "stream",
     "text": [
      "7522\n"
     ]
    },
    {
     "name": "stderr",
     "output_type": "stream",
     "text": [
      "Loading model cost 1.219 seconds.\n",
      "Prefix dict has been built succesfully.\n",
      "Building prefix dict from C:\\Users\\PETER\\OneDrive\\桌面\\Klook 7\\dict.txt.big ...\n",
      "Loading model from cache C:\\Users\\PETER\\AppData\\Local\\Temp\\jieba.u6fb6e872883c6d9c08ea8e016e70c5c1.cache\n"
     ]
    },
    {
     "name": "stdout",
     "output_type": "stream",
     "text": [
      "7701\n"
     ]
    },
    {
     "name": "stderr",
     "output_type": "stream",
     "text": [
      "Loading model cost 1.216 seconds.\n",
      "Prefix dict has been built succesfully.\n",
      "Building prefix dict from C:\\Users\\PETER\\OneDrive\\桌面\\Klook 7\\dict.txt.big ...\n",
      "Loading model from cache C:\\Users\\PETER\\AppData\\Local\\Temp\\jieba.u6fb6e872883c6d9c08ea8e016e70c5c1.cache\n"
     ]
    },
    {
     "name": "stdout",
     "output_type": "stream",
     "text": [
      "7716\n"
     ]
    },
    {
     "name": "stderr",
     "output_type": "stream",
     "text": [
      "Loading model cost 1.246 seconds.\n",
      "Prefix dict has been built succesfully.\n",
      "Building prefix dict from C:\\Users\\PETER\\OneDrive\\桌面\\Klook 7\\dict.txt.big ...\n",
      "Loading model from cache C:\\Users\\PETER\\AppData\\Local\\Temp\\jieba.u6fb6e872883c6d9c08ea8e016e70c5c1.cache\n"
     ]
    },
    {
     "name": "stdout",
     "output_type": "stream",
     "text": [
      "7725\n"
     ]
    },
    {
     "name": "stderr",
     "output_type": "stream",
     "text": [
      "Loading model cost 1.247 seconds.\n",
      "Prefix dict has been built succesfully.\n",
      "Building prefix dict from C:\\Users\\PETER\\OneDrive\\桌面\\Klook 7\\dict.txt.big ...\n",
      "Loading model from cache C:\\Users\\PETER\\AppData\\Local\\Temp\\jieba.u6fb6e872883c6d9c08ea8e016e70c5c1.cache\n"
     ]
    },
    {
     "name": "stdout",
     "output_type": "stream",
     "text": [
      "7802\n"
     ]
    },
    {
     "name": "stderr",
     "output_type": "stream",
     "text": [
      "Loading model cost 1.239 seconds.\n",
      "Prefix dict has been built succesfully.\n",
      "Building prefix dict from C:\\Users\\PETER\\OneDrive\\桌面\\Klook 7\\dict.txt.big ...\n",
      "Loading model from cache C:\\Users\\PETER\\AppData\\Local\\Temp\\jieba.u6fb6e872883c6d9c08ea8e016e70c5c1.cache\n"
     ]
    },
    {
     "name": "stdout",
     "output_type": "stream",
     "text": [
      "787\n"
     ]
    },
    {
     "name": "stderr",
     "output_type": "stream",
     "text": [
      "Loading model cost 1.241 seconds.\n",
      "Prefix dict has been built succesfully.\n",
      "Building prefix dict from C:\\Users\\PETER\\OneDrive\\桌面\\Klook 7\\dict.txt.big ...\n",
      "Loading model from cache C:\\Users\\PETER\\AppData\\Local\\Temp\\jieba.u6fb6e872883c6d9c08ea8e016e70c5c1.cache\n"
     ]
    },
    {
     "name": "stdout",
     "output_type": "stream",
     "text": [
      "789\n"
     ]
    },
    {
     "name": "stderr",
     "output_type": "stream",
     "text": [
      "Loading model cost 1.242 seconds.\n",
      "Prefix dict has been built succesfully.\n",
      "Building prefix dict from C:\\Users\\PETER\\OneDrive\\桌面\\Klook 7\\dict.txt.big ...\n",
      "Loading model from cache C:\\Users\\PETER\\AppData\\Local\\Temp\\jieba.u6fb6e872883c6d9c08ea8e016e70c5c1.cache\n"
     ]
    },
    {
     "name": "stdout",
     "output_type": "stream",
     "text": [
      "791\n"
     ]
    },
    {
     "name": "stderr",
     "output_type": "stream",
     "text": [
      "Loading model cost 1.331 seconds.\n",
      "Prefix dict has been built succesfully.\n",
      "Building prefix dict from C:\\Users\\PETER\\OneDrive\\桌面\\Klook 7\\dict.txt.big ...\n",
      "Loading model from cache C:\\Users\\PETER\\AppData\\Local\\Temp\\jieba.u6fb6e872883c6d9c08ea8e016e70c5c1.cache\n"
     ]
    },
    {
     "name": "stdout",
     "output_type": "stream",
     "text": [
      "7955\n"
     ]
    },
    {
     "name": "stderr",
     "output_type": "stream",
     "text": [
      "Loading model cost 1.423 seconds.\n",
      "Prefix dict has been built succesfully.\n",
      "Building prefix dict from C:\\Users\\PETER\\OneDrive\\桌面\\Klook 7\\dict.txt.big ...\n",
      "Loading model from cache C:\\Users\\PETER\\AppData\\Local\\Temp\\jieba.u6fb6e872883c6d9c08ea8e016e70c5c1.cache\n"
     ]
    },
    {
     "name": "stdout",
     "output_type": "stream",
     "text": [
      "8021\n"
     ]
    },
    {
     "name": "stderr",
     "output_type": "stream",
     "text": [
      "Loading model cost 1.214 seconds.\n",
      "Prefix dict has been built succesfully.\n",
      "Building prefix dict from C:\\Users\\PETER\\OneDrive\\桌面\\Klook 7\\dict.txt.big ...\n",
      "Loading model from cache C:\\Users\\PETER\\AppData\\Local\\Temp\\jieba.u6fb6e872883c6d9c08ea8e016e70c5c1.cache\n"
     ]
    },
    {
     "name": "stdout",
     "output_type": "stream",
     "text": [
      "8063\n"
     ]
    },
    {
     "name": "stderr",
     "output_type": "stream",
     "text": [
      "Loading model cost 1.217 seconds.\n",
      "Prefix dict has been built succesfully.\n",
      "Building prefix dict from C:\\Users\\PETER\\OneDrive\\桌面\\Klook 7\\dict.txt.big ...\n",
      "Loading model from cache C:\\Users\\PETER\\AppData\\Local\\Temp\\jieba.u6fb6e872883c6d9c08ea8e016e70c5c1.cache\n"
     ]
    },
    {
     "name": "stdout",
     "output_type": "stream",
     "text": [
      "8183\n"
     ]
    },
    {
     "name": "stderr",
     "output_type": "stream",
     "text": [
      "Loading model cost 1.244 seconds.\n",
      "Prefix dict has been built succesfully.\n",
      "Building prefix dict from C:\\Users\\PETER\\OneDrive\\桌面\\Klook 7\\dict.txt.big ...\n",
      "Loading model from cache C:\\Users\\PETER\\AppData\\Local\\Temp\\jieba.u6fb6e872883c6d9c08ea8e016e70c5c1.cache\n"
     ]
    },
    {
     "name": "stdout",
     "output_type": "stream",
     "text": [
      "8185\n"
     ]
    },
    {
     "name": "stderr",
     "output_type": "stream",
     "text": [
      "Loading model cost 1.282 seconds.\n",
      "Prefix dict has been built succesfully.\n",
      "Building prefix dict from C:\\Users\\PETER\\OneDrive\\桌面\\Klook 7\\dict.txt.big ...\n",
      "Loading model from cache C:\\Users\\PETER\\AppData\\Local\\Temp\\jieba.u6fb6e872883c6d9c08ea8e016e70c5c1.cache\n"
     ]
    },
    {
     "name": "stdout",
     "output_type": "stream",
     "text": [
      "8187\n"
     ]
    },
    {
     "name": "stderr",
     "output_type": "stream",
     "text": [
      "Loading model cost 1.210 seconds.\n",
      "Prefix dict has been built succesfully.\n",
      "Building prefix dict from C:\\Users\\PETER\\OneDrive\\桌面\\Klook 7\\dict.txt.big ...\n",
      "Loading model from cache C:\\Users\\PETER\\AppData\\Local\\Temp\\jieba.u6fb6e872883c6d9c08ea8e016e70c5c1.cache\n"
     ]
    },
    {
     "name": "stdout",
     "output_type": "stream",
     "text": [
      "8259\n"
     ]
    },
    {
     "name": "stderr",
     "output_type": "stream",
     "text": [
      "Loading model cost 1.279 seconds.\n",
      "Prefix dict has been built succesfully.\n",
      "Building prefix dict from C:\\Users\\PETER\\OneDrive\\桌面\\Klook 7\\dict.txt.big ...\n",
      "Loading model from cache C:\\Users\\PETER\\AppData\\Local\\Temp\\jieba.u6fb6e872883c6d9c08ea8e016e70c5c1.cache\n"
     ]
    },
    {
     "name": "stdout",
     "output_type": "stream",
     "text": [
      "8265\n"
     ]
    },
    {
     "name": "stderr",
     "output_type": "stream",
     "text": [
      "Loading model cost 1.211 seconds.\n",
      "Prefix dict has been built succesfully.\n",
      "Building prefix dict from C:\\Users\\PETER\\OneDrive\\桌面\\Klook 7\\dict.txt.big ...\n",
      "Loading model from cache C:\\Users\\PETER\\AppData\\Local\\Temp\\jieba.u6fb6e872883c6d9c08ea8e016e70c5c1.cache\n"
     ]
    },
    {
     "name": "stdout",
     "output_type": "stream",
     "text": [
      "8400\n"
     ]
    },
    {
     "name": "stderr",
     "output_type": "stream",
     "text": [
      "Loading model cost 1.281 seconds.\n",
      "Prefix dict has been built succesfully.\n",
      "Building prefix dict from C:\\Users\\PETER\\OneDrive\\桌面\\Klook 7\\dict.txt.big ...\n",
      "Loading model from cache C:\\Users\\PETER\\AppData\\Local\\Temp\\jieba.u6fb6e872883c6d9c08ea8e016e70c5c1.cache\n"
     ]
    },
    {
     "name": "stdout",
     "output_type": "stream",
     "text": [
      "8599\n"
     ]
    },
    {
     "name": "stderr",
     "output_type": "stream",
     "text": [
      "Loading model cost 1.236 seconds.\n",
      "Prefix dict has been built succesfully.\n",
      "Building prefix dict from C:\\Users\\PETER\\OneDrive\\桌面\\Klook 7\\dict.txt.big ...\n",
      "Loading model from cache C:\\Users\\PETER\\AppData\\Local\\Temp\\jieba.u6fb6e872883c6d9c08ea8e016e70c5c1.cache\n"
     ]
    },
    {
     "name": "stdout",
     "output_type": "stream",
     "text": [
      "8663\n"
     ]
    },
    {
     "name": "stderr",
     "output_type": "stream",
     "text": [
      "Loading model cost 1.209 seconds.\n",
      "Prefix dict has been built succesfully.\n",
      "Building prefix dict from C:\\Users\\PETER\\OneDrive\\桌面\\Klook 7\\dict.txt.big ...\n",
      "Loading model from cache C:\\Users\\PETER\\AppData\\Local\\Temp\\jieba.u6fb6e872883c6d9c08ea8e016e70c5c1.cache\n"
     ]
    },
    {
     "name": "stdout",
     "output_type": "stream",
     "text": [
      "8849\n"
     ]
    },
    {
     "name": "stderr",
     "output_type": "stream",
     "text": [
      "Loading model cost 1.217 seconds.\n",
      "Prefix dict has been built succesfully.\n",
      "Building prefix dict from C:\\Users\\PETER\\OneDrive\\桌面\\Klook 7\\dict.txt.big ...\n",
      "Loading model from cache C:\\Users\\PETER\\AppData\\Local\\Temp\\jieba.u6fb6e872883c6d9c08ea8e016e70c5c1.cache\n"
     ]
    },
    {
     "name": "stdout",
     "output_type": "stream",
     "text": [
      "8878\n"
     ]
    },
    {
     "name": "stderr",
     "output_type": "stream",
     "text": [
      "Loading model cost 1.204 seconds.\n",
      "Prefix dict has been built succesfully.\n",
      "Building prefix dict from C:\\Users\\PETER\\OneDrive\\桌面\\Klook 7\\dict.txt.big ...\n",
      "Loading model from cache C:\\Users\\PETER\\AppData\\Local\\Temp\\jieba.u6fb6e872883c6d9c08ea8e016e70c5c1.cache\n"
     ]
    },
    {
     "name": "stdout",
     "output_type": "stream",
     "text": [
      "8893\n"
     ]
    },
    {
     "name": "stderr",
     "output_type": "stream",
     "text": [
      "Loading model cost 1.215 seconds.\n",
      "Prefix dict has been built succesfully.\n",
      "Building prefix dict from C:\\Users\\PETER\\OneDrive\\桌面\\Klook 7\\dict.txt.big ...\n",
      "Loading model from cache C:\\Users\\PETER\\AppData\\Local\\Temp\\jieba.u6fb6e872883c6d9c08ea8e016e70c5c1.cache\n"
     ]
    },
    {
     "name": "stdout",
     "output_type": "stream",
     "text": [
      "8894\n"
     ]
    },
    {
     "name": "stderr",
     "output_type": "stream",
     "text": [
      "Loading model cost 1.219 seconds.\n",
      "Prefix dict has been built succesfully.\n",
      "Building prefix dict from C:\\Users\\PETER\\OneDrive\\桌面\\Klook 7\\dict.txt.big ...\n",
      "Loading model from cache C:\\Users\\PETER\\AppData\\Local\\Temp\\jieba.u6fb6e872883c6d9c08ea8e016e70c5c1.cache\n"
     ]
    },
    {
     "name": "stdout",
     "output_type": "stream",
     "text": [
      "8898\n"
     ]
    },
    {
     "name": "stderr",
     "output_type": "stream",
     "text": [
      "Loading model cost 1.212 seconds.\n",
      "Prefix dict has been built succesfully.\n",
      "Building prefix dict from C:\\Users\\PETER\\OneDrive\\桌面\\Klook 7\\dict.txt.big ...\n",
      "Loading model from cache C:\\Users\\PETER\\AppData\\Local\\Temp\\jieba.u6fb6e872883c6d9c08ea8e016e70c5c1.cache\n"
     ]
    },
    {
     "name": "stdout",
     "output_type": "stream",
     "text": [
      "8899\n"
     ]
    },
    {
     "name": "stderr",
     "output_type": "stream",
     "text": [
      "Loading model cost 1.212 seconds.\n",
      "Prefix dict has been built succesfully.\n",
      "Building prefix dict from C:\\Users\\PETER\\OneDrive\\桌面\\Klook 7\\dict.txt.big ...\n",
      "Loading model from cache C:\\Users\\PETER\\AppData\\Local\\Temp\\jieba.u6fb6e872883c6d9c08ea8e016e70c5c1.cache\n"
     ]
    },
    {
     "name": "stdout",
     "output_type": "stream",
     "text": [
      "8904\n"
     ]
    },
    {
     "name": "stderr",
     "output_type": "stream",
     "text": [
      "Loading model cost 1.293 seconds.\n",
      "Prefix dict has been built succesfully.\n",
      "Building prefix dict from C:\\Users\\PETER\\OneDrive\\桌面\\Klook 7\\dict.txt.big ...\n",
      "Loading model from cache C:\\Users\\PETER\\AppData\\Local\\Temp\\jieba.u6fb6e872883c6d9c08ea8e016e70c5c1.cache\n"
     ]
    },
    {
     "name": "stdout",
     "output_type": "stream",
     "text": [
      "8959\n"
     ]
    },
    {
     "name": "stderr",
     "output_type": "stream",
     "text": [
      "Loading model cost 1.214 seconds.\n",
      "Prefix dict has been built succesfully.\n",
      "Building prefix dict from C:\\Users\\PETER\\OneDrive\\桌面\\Klook 7\\dict.txt.big ...\n",
      "Loading model from cache C:\\Users\\PETER\\AppData\\Local\\Temp\\jieba.u6fb6e872883c6d9c08ea8e016e70c5c1.cache\n"
     ]
    },
    {
     "name": "stdout",
     "output_type": "stream",
     "text": [
      "8962\n"
     ]
    },
    {
     "name": "stderr",
     "output_type": "stream",
     "text": [
      "Loading model cost 1.215 seconds.\n",
      "Prefix dict has been built succesfully.\n",
      "Building prefix dict from C:\\Users\\PETER\\OneDrive\\桌面\\Klook 7\\dict.txt.big ...\n",
      "Loading model from cache C:\\Users\\PETER\\AppData\\Local\\Temp\\jieba.u6fb6e872883c6d9c08ea8e016e70c5c1.cache\n"
     ]
    },
    {
     "name": "stdout",
     "output_type": "stream",
     "text": [
      "8965\n"
     ]
    },
    {
     "name": "stderr",
     "output_type": "stream",
     "text": [
      "Loading model cost 1.294 seconds.\n",
      "Prefix dict has been built succesfully.\n",
      "Building prefix dict from C:\\Users\\PETER\\OneDrive\\桌面\\Klook 7\\dict.txt.big ...\n",
      "Loading model from cache C:\\Users\\PETER\\AppData\\Local\\Temp\\jieba.u6fb6e872883c6d9c08ea8e016e70c5c1.cache\n"
     ]
    },
    {
     "name": "stdout",
     "output_type": "stream",
     "text": [
      "8989\n"
     ]
    },
    {
     "name": "stderr",
     "output_type": "stream",
     "text": [
      "Loading model cost 1.287 seconds.\n",
      "Prefix dict has been built succesfully.\n",
      "Building prefix dict from C:\\Users\\PETER\\OneDrive\\桌面\\Klook 7\\dict.txt.big ...\n",
      "Loading model from cache C:\\Users\\PETER\\AppData\\Local\\Temp\\jieba.u6fb6e872883c6d9c08ea8e016e70c5c1.cache\n"
     ]
    },
    {
     "name": "stdout",
     "output_type": "stream",
     "text": [
      "901\n"
     ]
    },
    {
     "name": "stderr",
     "output_type": "stream",
     "text": [
      "Loading model cost 1.285 seconds.\n",
      "Prefix dict has been built succesfully.\n",
      "Building prefix dict from C:\\Users\\PETER\\OneDrive\\桌面\\Klook 7\\dict.txt.big ...\n",
      "Loading model from cache C:\\Users\\PETER\\AppData\\Local\\Temp\\jieba.u6fb6e872883c6d9c08ea8e016e70c5c1.cache\n"
     ]
    },
    {
     "name": "stdout",
     "output_type": "stream",
     "text": [
      "9074\n"
     ]
    },
    {
     "name": "stderr",
     "output_type": "stream",
     "text": [
      "Loading model cost 1.314 seconds.\n",
      "Prefix dict has been built succesfully.\n",
      "Building prefix dict from C:\\Users\\PETER\\OneDrive\\桌面\\Klook 7\\dict.txt.big ...\n",
      "Loading model from cache C:\\Users\\PETER\\AppData\\Local\\Temp\\jieba.u6fb6e872883c6d9c08ea8e016e70c5c1.cache\n"
     ]
    },
    {
     "name": "stdout",
     "output_type": "stream",
     "text": [
      "9126\n"
     ]
    },
    {
     "name": "stderr",
     "output_type": "stream",
     "text": [
      "Loading model cost 1.261 seconds.\n",
      "Prefix dict has been built succesfully.\n",
      "Building prefix dict from C:\\Users\\PETER\\OneDrive\\桌面\\Klook 7\\dict.txt.big ...\n",
      "Loading model from cache C:\\Users\\PETER\\AppData\\Local\\Temp\\jieba.u6fb6e872883c6d9c08ea8e016e70c5c1.cache\n"
     ]
    },
    {
     "name": "stdout",
     "output_type": "stream",
     "text": [
      "9158\n"
     ]
    },
    {
     "name": "stderr",
     "output_type": "stream",
     "text": [
      "Loading model cost 1.259 seconds.\n",
      "Prefix dict has been built succesfully.\n",
      "Building prefix dict from C:\\Users\\PETER\\OneDrive\\桌面\\Klook 7\\dict.txt.big ...\n",
      "Loading model from cache C:\\Users\\PETER\\AppData\\Local\\Temp\\jieba.u6fb6e872883c6d9c08ea8e016e70c5c1.cache\n"
     ]
    },
    {
     "name": "stdout",
     "output_type": "stream",
     "text": [
      "919\n"
     ]
    },
    {
     "name": "stderr",
     "output_type": "stream",
     "text": [
      "Loading model cost 1.375 seconds.\n",
      "Prefix dict has been built succesfully.\n",
      "Building prefix dict from C:\\Users\\PETER\\OneDrive\\桌面\\Klook 7\\dict.txt.big ...\n",
      "Loading model from cache C:\\Users\\PETER\\AppData\\Local\\Temp\\jieba.u6fb6e872883c6d9c08ea8e016e70c5c1.cache\n"
     ]
    },
    {
     "name": "stdout",
     "output_type": "stream",
     "text": [
      "920\n"
     ]
    },
    {
     "name": "stderr",
     "output_type": "stream",
     "text": [
      "Loading model cost 1.342 seconds.\n",
      "Prefix dict has been built succesfully.\n",
      "Building prefix dict from C:\\Users\\PETER\\OneDrive\\桌面\\Klook 7\\dict.txt.big ...\n",
      "Loading model from cache C:\\Users\\PETER\\AppData\\Local\\Temp\\jieba.u6fb6e872883c6d9c08ea8e016e70c5c1.cache\n"
     ]
    },
    {
     "name": "stdout",
     "output_type": "stream",
     "text": [
      "9219\n"
     ]
    },
    {
     "name": "stderr",
     "output_type": "stream",
     "text": [
      "Loading model cost 1.351 seconds.\n",
      "Prefix dict has been built succesfully.\n",
      "Building prefix dict from C:\\Users\\PETER\\OneDrive\\桌面\\Klook 7\\dict.txt.big ...\n",
      "Loading model from cache C:\\Users\\PETER\\AppData\\Local\\Temp\\jieba.u6fb6e872883c6d9c08ea8e016e70c5c1.cache\n"
     ]
    },
    {
     "name": "stdout",
     "output_type": "stream",
     "text": [
      "9306\n"
     ]
    },
    {
     "name": "stderr",
     "output_type": "stream",
     "text": [
      "Loading model cost 1.229 seconds.\n",
      "Prefix dict has been built succesfully.\n",
      "Building prefix dict from C:\\Users\\PETER\\OneDrive\\桌面\\Klook 7\\dict.txt.big ...\n",
      "Loading model from cache C:\\Users\\PETER\\AppData\\Local\\Temp\\jieba.u6fb6e872883c6d9c08ea8e016e70c5c1.cache\n"
     ]
    },
    {
     "name": "stdout",
     "output_type": "stream",
     "text": [
      "936\n"
     ]
    },
    {
     "name": "stderr",
     "output_type": "stream",
     "text": [
      "Loading model cost 1.213 seconds.\n",
      "Prefix dict has been built succesfully.\n",
      "Building prefix dict from C:\\Users\\PETER\\OneDrive\\桌面\\Klook 7\\dict.txt.big ...\n",
      "Loading model from cache C:\\Users\\PETER\\AppData\\Local\\Temp\\jieba.u6fb6e872883c6d9c08ea8e016e70c5c1.cache\n"
     ]
    },
    {
     "name": "stdout",
     "output_type": "stream",
     "text": [
      "9529\n"
     ]
    },
    {
     "name": "stderr",
     "output_type": "stream",
     "text": [
      "Loading model cost 1.228 seconds.\n",
      "Prefix dict has been built succesfully.\n",
      "Building prefix dict from C:\\Users\\PETER\\OneDrive\\桌面\\Klook 7\\dict.txt.big ...\n",
      "Loading model from cache C:\\Users\\PETER\\AppData\\Local\\Temp\\jieba.u6fb6e872883c6d9c08ea8e016e70c5c1.cache\n"
     ]
    },
    {
     "name": "stdout",
     "output_type": "stream",
     "text": [
      "9572\n"
     ]
    },
    {
     "name": "stderr",
     "output_type": "stream",
     "text": [
      "Loading model cost 1.219 seconds.\n",
      "Prefix dict has been built succesfully.\n",
      "Building prefix dict from C:\\Users\\PETER\\OneDrive\\桌面\\Klook 7\\dict.txt.big ...\n",
      "Loading model from cache C:\\Users\\PETER\\AppData\\Local\\Temp\\jieba.u6fb6e872883c6d9c08ea8e016e70c5c1.cache\n"
     ]
    },
    {
     "name": "stdout",
     "output_type": "stream",
     "text": [
      "9596\n"
     ]
    },
    {
     "name": "stderr",
     "output_type": "stream",
     "text": [
      "Loading model cost 1.257 seconds.\n",
      "Prefix dict has been built succesfully.\n",
      "Building prefix dict from C:\\Users\\PETER\\OneDrive\\桌面\\Klook 7\\dict.txt.big ...\n",
      "Loading model from cache C:\\Users\\PETER\\AppData\\Local\\Temp\\jieba.u6fb6e872883c6d9c08ea8e016e70c5c1.cache\n"
     ]
    },
    {
     "name": "stdout",
     "output_type": "stream",
     "text": [
      "9818\n"
     ]
    },
    {
     "name": "stderr",
     "output_type": "stream",
     "text": [
      "Loading model cost 1.263 seconds.\n",
      "Prefix dict has been built succesfully.\n",
      "Building prefix dict from C:\\Users\\PETER\\OneDrive\\桌面\\Klook 7\\dict.txt.big ...\n",
      "Loading model from cache C:\\Users\\PETER\\AppData\\Local\\Temp\\jieba.u6fb6e872883c6d9c08ea8e016e70c5c1.cache\n"
     ]
    },
    {
     "name": "stdout",
     "output_type": "stream",
     "text": [
      "9826\n"
     ]
    },
    {
     "name": "stderr",
     "output_type": "stream",
     "text": [
      "Loading model cost 1.295 seconds.\n",
      "Prefix dict has been built succesfully.\n",
      "Building prefix dict from C:\\Users\\PETER\\OneDrive\\桌面\\Klook 7\\dict.txt.big ...\n",
      "Loading model from cache C:\\Users\\PETER\\AppData\\Local\\Temp\\jieba.u6fb6e872883c6d9c08ea8e016e70c5c1.cache\n"
     ]
    },
    {
     "name": "stdout",
     "output_type": "stream",
     "text": [
      "9834\n"
     ]
    },
    {
     "name": "stderr",
     "output_type": "stream",
     "text": [
      "Loading model cost 1.253 seconds.\n",
      "Prefix dict has been built succesfully.\n",
      "Building prefix dict from C:\\Users\\PETER\\OneDrive\\桌面\\Klook 7\\dict.txt.big ...\n",
      "Loading model from cache C:\\Users\\PETER\\AppData\\Local\\Temp\\jieba.u6fb6e872883c6d9c08ea8e016e70c5c1.cache\n"
     ]
    },
    {
     "name": "stdout",
     "output_type": "stream",
     "text": [
      "9931\n"
     ]
    },
    {
     "name": "stderr",
     "output_type": "stream",
     "text": [
      "Loading model cost 1.296 seconds.\n",
      "Prefix dict has been built succesfully.\n"
     ]
    }
   ],
   "source": [
    "import os\n",
    "\n",
    "path='output\\comment\\KW_comment\\\\'\n",
    "\n",
    "files = []\n",
    "# r=root, d=directories, f = files\n",
    "for r, d, f in os.walk(path):\n",
    "    for file in f:\n",
    "        if '.csv' in file:\n",
    "            #print(os.path.join(r, file))\n",
    "            files.append(os.path.join(r, file))\n",
    "for i in files:\n",
    "    df=pd.read_csv(i)\n",
    "    \n",
    "    t=i.find(\".csv\")\n",
    "    n=(i[15:t])\n",
    "    u=n.find(\"t\")\n",
    "    u=u+2\n",
    "    name=(n[u:] )\n",
    "    print((n[u:] ))\n",
    "    \n",
    "    #jieba\n",
    "    jw=list()\n",
    "    jb=list()\n",
    "    import jieba\n",
    "    import jieba.posseg as pseg\n",
    "    jieba.set_dictionary('dict.txt.big')\n",
    "    for k in df[\"translate_content\"]:\n",
    "        words =pseg.cut(k)\n",
    "        for w in words:\n",
    "            try:\n",
    "                #print(w.word,w.flag)\n",
    "                jw.append((w.word,w.flag))\n",
    "            except:\n",
    "                pass\n",
    "    # select a and x\n",
    "    for g in range(len(jw)):\n",
    "        if \"a\" in jw[g]:\n",
    "            if len(jw[g][0])>1:\n",
    "                #print(jw[g])\n",
    "                jb.append(jw[g][0])\n",
    "    from snownlp import SnowNLP\n",
    "    f= open(\"output/feeling/KW_comment/\"+name+\"_neg1.txt\",\"w+\",encoding=\"utf-8\")\n",
    "    q= open(\"output/feeling/KW_comment/\"+name+\"_pos1.txt\",\"w+\",encoding=\"utf-8\")\n",
    "    for i in jb:\n",
    "        s=SnowNLP(i)\n",
    "        if (s.sentiments)<0.5:\n",
    "            #print(i,s.sentiments)\n",
    "            f.write(i+ '\\n')\n",
    "        elif (s.sentiments)>0.5:\n",
    "            #print(i,s.sentiments)\n",
    "            q.write(i+ '\\n')\n",
    "    f.close()\n",
    "    q.close()\n",
    "    \n",
    "    "
   ]
  },
  {
   "cell_type": "code",
   "execution_count": 7,
   "metadata": {},
   "outputs": [
    {
     "name": "stderr",
     "output_type": "stream",
     "text": [
      "Building prefix dict from C:\\Users\\PETER\\OneDrive\\桌面\\Klook 7\\dict.txt.big ...\n",
      "Loading model from cache C:\\Users\\PETER\\AppData\\Local\\Temp\\jieba.u6fb6e872883c6d9c08ea8e016e70c5c1.cache\n"
     ]
    },
    {
     "name": "stdout",
     "output_type": "stream",
     "text": [
      "10136\n"
     ]
    },
    {
     "name": "stderr",
     "output_type": "stream",
     "text": [
      "Loading model cost 1.257 seconds.\n",
      "Prefix dict has been built succesfully.\n",
      "Building prefix dict from C:\\Users\\PETER\\OneDrive\\桌面\\Klook 7\\dict.txt.big ...\n",
      "Loading model from cache C:\\Users\\PETER\\AppData\\Local\\Temp\\jieba.u6fb6e872883c6d9c08ea8e016e70c5c1.cache\n"
     ]
    },
    {
     "name": "stdout",
     "output_type": "stream",
     "text": [
      "10199\n"
     ]
    },
    {
     "name": "stderr",
     "output_type": "stream",
     "text": [
      "Loading model cost 1.280 seconds.\n",
      "Prefix dict has been built succesfully.\n",
      "Building prefix dict from C:\\Users\\PETER\\OneDrive\\桌面\\Klook 7\\dict.txt.big ...\n",
      "Loading model from cache C:\\Users\\PETER\\AppData\\Local\\Temp\\jieba.u6fb6e872883c6d9c08ea8e016e70c5c1.cache\n"
     ]
    },
    {
     "name": "stdout",
     "output_type": "stream",
     "text": [
      "10316\n"
     ]
    },
    {
     "name": "stderr",
     "output_type": "stream",
     "text": [
      "Loading model cost 1.274 seconds.\n",
      "Prefix dict has been built succesfully.\n",
      "Building prefix dict from C:\\Users\\PETER\\OneDrive\\桌面\\Klook 7\\dict.txt.big ...\n",
      "Loading model from cache C:\\Users\\PETER\\AppData\\Local\\Temp\\jieba.u6fb6e872883c6d9c08ea8e016e70c5c1.cache\n"
     ]
    },
    {
     "name": "stdout",
     "output_type": "stream",
     "text": [
      "10603\n"
     ]
    },
    {
     "name": "stderr",
     "output_type": "stream",
     "text": [
      "Loading model cost 1.216 seconds.\n",
      "Prefix dict has been built succesfully.\n",
      "Building prefix dict from C:\\Users\\PETER\\OneDrive\\桌面\\Klook 7\\dict.txt.big ...\n",
      "Loading model from cache C:\\Users\\PETER\\AppData\\Local\\Temp\\jieba.u6fb6e872883c6d9c08ea8e016e70c5c1.cache\n"
     ]
    },
    {
     "name": "stdout",
     "output_type": "stream",
     "text": [
      "1061\n"
     ]
    },
    {
     "name": "stderr",
     "output_type": "stream",
     "text": [
      "Loading model cost 1.231 seconds.\n",
      "Prefix dict has been built succesfully.\n",
      "Building prefix dict from C:\\Users\\PETER\\OneDrive\\桌面\\Klook 7\\dict.txt.big ...\n",
      "Loading model from cache C:\\Users\\PETER\\AppData\\Local\\Temp\\jieba.u6fb6e872883c6d9c08ea8e016e70c5c1.cache\n"
     ]
    },
    {
     "name": "stdout",
     "output_type": "stream",
     "text": [
      "10613\n"
     ]
    },
    {
     "name": "stderr",
     "output_type": "stream",
     "text": [
      "Loading model cost 1.279 seconds.\n",
      "Prefix dict has been built succesfully.\n",
      "Building prefix dict from C:\\Users\\PETER\\OneDrive\\桌面\\Klook 7\\dict.txt.big ...\n",
      "Loading model from cache C:\\Users\\PETER\\AppData\\Local\\Temp\\jieba.u6fb6e872883c6d9c08ea8e016e70c5c1.cache\n"
     ]
    },
    {
     "name": "stdout",
     "output_type": "stream",
     "text": [
      "1065\n"
     ]
    },
    {
     "name": "stderr",
     "output_type": "stream",
     "text": [
      "Loading model cost 1.209 seconds.\n",
      "Prefix dict has been built succesfully.\n",
      "Building prefix dict from C:\\Users\\PETER\\OneDrive\\桌面\\Klook 7\\dict.txt.big ...\n",
      "Loading model from cache C:\\Users\\PETER\\AppData\\Local\\Temp\\jieba.u6fb6e872883c6d9c08ea8e016e70c5c1.cache\n"
     ]
    },
    {
     "name": "stdout",
     "output_type": "stream",
     "text": [
      "1066\n"
     ]
    },
    {
     "name": "stderr",
     "output_type": "stream",
     "text": [
      "Loading model cost 1.237 seconds.\n",
      "Prefix dict has been built succesfully.\n",
      "Building prefix dict from C:\\Users\\PETER\\OneDrive\\桌面\\Klook 7\\dict.txt.big ...\n",
      "Loading model from cache C:\\Users\\PETER\\AppData\\Local\\Temp\\jieba.u6fb6e872883c6d9c08ea8e016e70c5c1.cache\n"
     ]
    },
    {
     "name": "stdout",
     "output_type": "stream",
     "text": [
      "1067\n"
     ]
    },
    {
     "name": "stderr",
     "output_type": "stream",
     "text": [
      "Loading model cost 1.217 seconds.\n",
      "Prefix dict has been built succesfully.\n",
      "Building prefix dict from C:\\Users\\PETER\\OneDrive\\桌面\\Klook 7\\dict.txt.big ...\n",
      "Loading model from cache C:\\Users\\PETER\\AppData\\Local\\Temp\\jieba.u6fb6e872883c6d9c08ea8e016e70c5c1.cache\n"
     ]
    },
    {
     "name": "stdout",
     "output_type": "stream",
     "text": [
      "10737\n"
     ]
    },
    {
     "name": "stderr",
     "output_type": "stream",
     "text": [
      "Loading model cost 1.217 seconds.\n",
      "Prefix dict has been built succesfully.\n",
      "Building prefix dict from C:\\Users\\PETER\\OneDrive\\桌面\\Klook 7\\dict.txt.big ...\n",
      "Loading model from cache C:\\Users\\PETER\\AppData\\Local\\Temp\\jieba.u6fb6e872883c6d9c08ea8e016e70c5c1.cache\n"
     ]
    },
    {
     "name": "stdout",
     "output_type": "stream",
     "text": [
      "1085\n"
     ]
    },
    {
     "name": "stderr",
     "output_type": "stream",
     "text": [
      "Loading model cost 1.211 seconds.\n",
      "Prefix dict has been built succesfully.\n",
      "Building prefix dict from C:\\Users\\PETER\\OneDrive\\桌面\\Klook 7\\dict.txt.big ...\n",
      "Loading model from cache C:\\Users\\PETER\\AppData\\Local\\Temp\\jieba.u6fb6e872883c6d9c08ea8e016e70c5c1.cache\n"
     ]
    },
    {
     "name": "stdout",
     "output_type": "stream",
     "text": [
      "1086\n"
     ]
    },
    {
     "name": "stderr",
     "output_type": "stream",
     "text": [
      "Loading model cost 1.261 seconds.\n",
      "Prefix dict has been built succesfully.\n",
      "Building prefix dict from C:\\Users\\PETER\\OneDrive\\桌面\\Klook 7\\dict.txt.big ...\n",
      "Loading model from cache C:\\Users\\PETER\\AppData\\Local\\Temp\\jieba.u6fb6e872883c6d9c08ea8e016e70c5c1.cache\n"
     ]
    },
    {
     "name": "stdout",
     "output_type": "stream",
     "text": [
      "1089\n"
     ]
    },
    {
     "name": "stderr",
     "output_type": "stream",
     "text": [
      "Loading model cost 1.211 seconds.\n",
      "Prefix dict has been built succesfully.\n",
      "Building prefix dict from C:\\Users\\PETER\\OneDrive\\桌面\\Klook 7\\dict.txt.big ...\n",
      "Loading model from cache C:\\Users\\PETER\\AppData\\Local\\Temp\\jieba.u6fb6e872883c6d9c08ea8e016e70c5c1.cache\n"
     ]
    },
    {
     "name": "stdout",
     "output_type": "stream",
     "text": [
      "1090\n"
     ]
    },
    {
     "name": "stderr",
     "output_type": "stream",
     "text": [
      "Loading model cost 1.204 seconds.\n",
      "Prefix dict has been built succesfully.\n",
      "Building prefix dict from C:\\Users\\PETER\\OneDrive\\桌面\\Klook 7\\dict.txt.big ...\n",
      "Loading model from cache C:\\Users\\PETER\\AppData\\Local\\Temp\\jieba.u6fb6e872883c6d9c08ea8e016e70c5c1.cache\n"
     ]
    },
    {
     "name": "stdout",
     "output_type": "stream",
     "text": [
      "1091\n"
     ]
    },
    {
     "name": "stderr",
     "output_type": "stream",
     "text": [
      "Loading model cost 1.214 seconds.\n",
      "Prefix dict has been built succesfully.\n",
      "Building prefix dict from C:\\Users\\PETER\\OneDrive\\桌面\\Klook 7\\dict.txt.big ...\n",
      "Loading model from cache C:\\Users\\PETER\\AppData\\Local\\Temp\\jieba.u6fb6e872883c6d9c08ea8e016e70c5c1.cache\n"
     ]
    },
    {
     "name": "stdout",
     "output_type": "stream",
     "text": [
      "1092\n"
     ]
    },
    {
     "name": "stderr",
     "output_type": "stream",
     "text": [
      "Loading model cost 1.217 seconds.\n",
      "Prefix dict has been built succesfully.\n",
      "Building prefix dict from C:\\Users\\PETER\\OneDrive\\桌面\\Klook 7\\dict.txt.big ...\n",
      "Loading model from cache C:\\Users\\PETER\\AppData\\Local\\Temp\\jieba.u6fb6e872883c6d9c08ea8e016e70c5c1.cache\n"
     ]
    },
    {
     "name": "stdout",
     "output_type": "stream",
     "text": [
      "1094\n"
     ]
    },
    {
     "name": "stderr",
     "output_type": "stream",
     "text": [
      "Loading model cost 1.206 seconds.\n",
      "Prefix dict has been built succesfully.\n",
      "Building prefix dict from C:\\Users\\PETER\\OneDrive\\桌面\\Klook 7\\dict.txt.big ...\n",
      "Loading model from cache C:\\Users\\PETER\\AppData\\Local\\Temp\\jieba.u6fb6e872883c6d9c08ea8e016e70c5c1.cache\n"
     ]
    },
    {
     "name": "stdout",
     "output_type": "stream",
     "text": [
      "11044\n"
     ]
    },
    {
     "name": "stderr",
     "output_type": "stream",
     "text": [
      "Loading model cost 1.224 seconds.\n",
      "Prefix dict has been built succesfully.\n",
      "Building prefix dict from C:\\Users\\PETER\\OneDrive\\桌面\\Klook 7\\dict.txt.big ...\n",
      "Loading model from cache C:\\Users\\PETER\\AppData\\Local\\Temp\\jieba.u6fb6e872883c6d9c08ea8e016e70c5c1.cache\n"
     ]
    },
    {
     "name": "stdout",
     "output_type": "stream",
     "text": [
      "11965\n"
     ]
    },
    {
     "name": "stderr",
     "output_type": "stream",
     "text": [
      "Loading model cost 1.221 seconds.\n",
      "Prefix dict has been built succesfully.\n",
      "Building prefix dict from C:\\Users\\PETER\\OneDrive\\桌面\\Klook 7\\dict.txt.big ...\n",
      "Loading model from cache C:\\Users\\PETER\\AppData\\Local\\Temp\\jieba.u6fb6e872883c6d9c08ea8e016e70c5c1.cache\n"
     ]
    },
    {
     "name": "stdout",
     "output_type": "stream",
     "text": [
      "12080\n"
     ]
    },
    {
     "name": "stderr",
     "output_type": "stream",
     "text": [
      "Loading model cost 1.228 seconds.\n",
      "Prefix dict has been built succesfully.\n",
      "Building prefix dict from C:\\Users\\PETER\\OneDrive\\桌面\\Klook 7\\dict.txt.big ...\n",
      "Loading model from cache C:\\Users\\PETER\\AppData\\Local\\Temp\\jieba.u6fb6e872883c6d9c08ea8e016e70c5c1.cache\n"
     ]
    },
    {
     "name": "stdout",
     "output_type": "stream",
     "text": [
      "1234\n"
     ]
    },
    {
     "name": "stderr",
     "output_type": "stream",
     "text": [
      "Loading model cost 1.235 seconds.\n",
      "Prefix dict has been built succesfully.\n",
      "Building prefix dict from C:\\Users\\PETER\\OneDrive\\桌面\\Klook 7\\dict.txt.big ...\n",
      "Loading model from cache C:\\Users\\PETER\\AppData\\Local\\Temp\\jieba.u6fb6e872883c6d9c08ea8e016e70c5c1.cache\n"
     ]
    },
    {
     "name": "stdout",
     "output_type": "stream",
     "text": [
      "12390\n"
     ]
    },
    {
     "name": "stderr",
     "output_type": "stream",
     "text": [
      "Loading model cost 1.214 seconds.\n",
      "Prefix dict has been built succesfully.\n",
      "Building prefix dict from C:\\Users\\PETER\\OneDrive\\桌面\\Klook 7\\dict.txt.big ...\n",
      "Loading model from cache C:\\Users\\PETER\\AppData\\Local\\Temp\\jieba.u6fb6e872883c6d9c08ea8e016e70c5c1.cache\n"
     ]
    },
    {
     "name": "stdout",
     "output_type": "stream",
     "text": [
      "12447\n"
     ]
    },
    {
     "name": "stderr",
     "output_type": "stream",
     "text": [
      "Loading model cost 1.214 seconds.\n",
      "Prefix dict has been built succesfully.\n",
      "Building prefix dict from C:\\Users\\PETER\\OneDrive\\桌面\\Klook 7\\dict.txt.big ...\n",
      "Loading model from cache C:\\Users\\PETER\\AppData\\Local\\Temp\\jieba.u6fb6e872883c6d9c08ea8e016e70c5c1.cache\n"
     ]
    },
    {
     "name": "stdout",
     "output_type": "stream",
     "text": [
      "12538\n"
     ]
    },
    {
     "name": "stderr",
     "output_type": "stream",
     "text": [
      "Loading model cost 1.208 seconds.\n",
      "Prefix dict has been built succesfully.\n",
      "Building prefix dict from C:\\Users\\PETER\\OneDrive\\桌面\\Klook 7\\dict.txt.big ...\n",
      "Loading model from cache C:\\Users\\PETER\\AppData\\Local\\Temp\\jieba.u6fb6e872883c6d9c08ea8e016e70c5c1.cache\n"
     ]
    },
    {
     "name": "stdout",
     "output_type": "stream",
     "text": [
      "1277\n"
     ]
    },
    {
     "name": "stderr",
     "output_type": "stream",
     "text": [
      "Loading model cost 1.216 seconds.\n",
      "Prefix dict has been built succesfully.\n",
      "Building prefix dict from C:\\Users\\PETER\\OneDrive\\桌面\\Klook 7\\dict.txt.big ...\n",
      "Loading model from cache C:\\Users\\PETER\\AppData\\Local\\Temp\\jieba.u6fb6e872883c6d9c08ea8e016e70c5c1.cache\n"
     ]
    },
    {
     "name": "stdout",
     "output_type": "stream",
     "text": [
      "1278\n"
     ]
    },
    {
     "name": "stderr",
     "output_type": "stream",
     "text": [
      "Loading model cost 1.205 seconds.\n",
      "Prefix dict has been built succesfully.\n",
      "Building prefix dict from C:\\Users\\PETER\\OneDrive\\桌面\\Klook 7\\dict.txt.big ...\n",
      "Loading model from cache C:\\Users\\PETER\\AppData\\Local\\Temp\\jieba.u6fb6e872883c6d9c08ea8e016e70c5c1.cache\n"
     ]
    },
    {
     "name": "stdout",
     "output_type": "stream",
     "text": [
      "1279\n"
     ]
    },
    {
     "name": "stderr",
     "output_type": "stream",
     "text": [
      "Loading model cost 1.206 seconds.\n",
      "Prefix dict has been built succesfully.\n",
      "Building prefix dict from C:\\Users\\PETER\\OneDrive\\桌面\\Klook 7\\dict.txt.big ...\n",
      "Loading model from cache C:\\Users\\PETER\\AppData\\Local\\Temp\\jieba.u6fb6e872883c6d9c08ea8e016e70c5c1.cache\n"
     ]
    },
    {
     "name": "stdout",
     "output_type": "stream",
     "text": [
      "13542\n"
     ]
    },
    {
     "name": "stderr",
     "output_type": "stream",
     "text": [
      "Loading model cost 1.252 seconds.\n",
      "Prefix dict has been built succesfully.\n",
      "Building prefix dict from C:\\Users\\PETER\\OneDrive\\桌面\\Klook 7\\dict.txt.big ...\n",
      "Loading model from cache C:\\Users\\PETER\\AppData\\Local\\Temp\\jieba.u6fb6e872883c6d9c08ea8e016e70c5c1.cache\n"
     ]
    },
    {
     "name": "stdout",
     "output_type": "stream",
     "text": [
      "13607\n"
     ]
    },
    {
     "name": "stderr",
     "output_type": "stream",
     "text": [
      "Loading model cost 1.213 seconds.\n",
      "Prefix dict has been built succesfully.\n",
      "Building prefix dict from C:\\Users\\PETER\\OneDrive\\桌面\\Klook 7\\dict.txt.big ...\n",
      "Loading model from cache C:\\Users\\PETER\\AppData\\Local\\Temp\\jieba.u6fb6e872883c6d9c08ea8e016e70c5c1.cache\n"
     ]
    },
    {
     "name": "stdout",
     "output_type": "stream",
     "text": [
      "13617\n"
     ]
    },
    {
     "name": "stderr",
     "output_type": "stream",
     "text": [
      "Loading model cost 1.207 seconds.\n",
      "Prefix dict has been built succesfully.\n",
      "Building prefix dict from C:\\Users\\PETER\\OneDrive\\桌面\\Klook 7\\dict.txt.big ...\n",
      "Loading model from cache C:\\Users\\PETER\\AppData\\Local\\Temp\\jieba.u6fb6e872883c6d9c08ea8e016e70c5c1.cache\n"
     ]
    },
    {
     "name": "stdout",
     "output_type": "stream",
     "text": [
      "13631\n"
     ]
    },
    {
     "name": "stderr",
     "output_type": "stream",
     "text": [
      "Loading model cost 1.207 seconds.\n",
      "Prefix dict has been built succesfully.\n",
      "Building prefix dict from C:\\Users\\PETER\\OneDrive\\桌面\\Klook 7\\dict.txt.big ...\n",
      "Loading model from cache C:\\Users\\PETER\\AppData\\Local\\Temp\\jieba.u6fb6e872883c6d9c08ea8e016e70c5c1.cache\n"
     ]
    },
    {
     "name": "stdout",
     "output_type": "stream",
     "text": [
      "13670\n"
     ]
    },
    {
     "name": "stderr",
     "output_type": "stream",
     "text": [
      "Loading model cost 1.205 seconds.\n",
      "Prefix dict has been built succesfully.\n",
      "Building prefix dict from C:\\Users\\PETER\\OneDrive\\桌面\\Klook 7\\dict.txt.big ...\n",
      "Loading model from cache C:\\Users\\PETER\\AppData\\Local\\Temp\\jieba.u6fb6e872883c6d9c08ea8e016e70c5c1.cache\n"
     ]
    },
    {
     "name": "stdout",
     "output_type": "stream",
     "text": [
      "13827\n"
     ]
    },
    {
     "name": "stderr",
     "output_type": "stream",
     "text": [
      "Loading model cost 1.207 seconds.\n",
      "Prefix dict has been built succesfully.\n",
      "Building prefix dict from C:\\Users\\PETER\\OneDrive\\桌面\\Klook 7\\dict.txt.big ...\n",
      "Loading model from cache C:\\Users\\PETER\\AppData\\Local\\Temp\\jieba.u6fb6e872883c6d9c08ea8e016e70c5c1.cache\n"
     ]
    },
    {
     "name": "stdout",
     "output_type": "stream",
     "text": [
      "14960\n"
     ]
    },
    {
     "name": "stderr",
     "output_type": "stream",
     "text": [
      "Loading model cost 1.215 seconds.\n",
      "Prefix dict has been built succesfully.\n",
      "Building prefix dict from C:\\Users\\PETER\\OneDrive\\桌面\\Klook 7\\dict.txt.big ...\n",
      "Loading model from cache C:\\Users\\PETER\\AppData\\Local\\Temp\\jieba.u6fb6e872883c6d9c08ea8e016e70c5c1.cache\n"
     ]
    },
    {
     "name": "stdout",
     "output_type": "stream",
     "text": [
      "15000\n"
     ]
    },
    {
     "name": "stderr",
     "output_type": "stream",
     "text": [
      "Loading model cost 1.210 seconds.\n",
      "Prefix dict has been built succesfully.\n",
      "Building prefix dict from C:\\Users\\PETER\\OneDrive\\桌面\\Klook 7\\dict.txt.big ...\n",
      "Loading model from cache C:\\Users\\PETER\\AppData\\Local\\Temp\\jieba.u6fb6e872883c6d9c08ea8e016e70c5c1.cache\n"
     ]
    },
    {
     "name": "stdout",
     "output_type": "stream",
     "text": [
      "15054\n"
     ]
    },
    {
     "name": "stderr",
     "output_type": "stream",
     "text": [
      "Loading model cost 1.214 seconds.\n",
      "Prefix dict has been built succesfully.\n",
      "Building prefix dict from C:\\Users\\PETER\\OneDrive\\桌面\\Klook 7\\dict.txt.big ...\n",
      "Loading model from cache C:\\Users\\PETER\\AppData\\Local\\Temp\\jieba.u6fb6e872883c6d9c08ea8e016e70c5c1.cache\n"
     ]
    },
    {
     "name": "stdout",
     "output_type": "stream",
     "text": [
      "15062\n"
     ]
    },
    {
     "name": "stderr",
     "output_type": "stream",
     "text": [
      "Loading model cost 1.217 seconds.\n",
      "Prefix dict has been built succesfully.\n",
      "Building prefix dict from C:\\Users\\PETER\\OneDrive\\桌面\\Klook 7\\dict.txt.big ...\n",
      "Loading model from cache C:\\Users\\PETER\\AppData\\Local\\Temp\\jieba.u6fb6e872883c6d9c08ea8e016e70c5c1.cache\n"
     ]
    },
    {
     "name": "stdout",
     "output_type": "stream",
     "text": [
      "15528\n"
     ]
    },
    {
     "name": "stderr",
     "output_type": "stream",
     "text": [
      "Loading model cost 1.228 seconds.\n",
      "Prefix dict has been built succesfully.\n",
      "Building prefix dict from C:\\Users\\PETER\\OneDrive\\桌面\\Klook 7\\dict.txt.big ...\n",
      "Loading model from cache C:\\Users\\PETER\\AppData\\Local\\Temp\\jieba.u6fb6e872883c6d9c08ea8e016e70c5c1.cache\n"
     ]
    },
    {
     "name": "stdout",
     "output_type": "stream",
     "text": [
      "15713\n"
     ]
    },
    {
     "name": "stderr",
     "output_type": "stream",
     "text": [
      "Loading model cost 1.209 seconds.\n",
      "Prefix dict has been built succesfully.\n",
      "Building prefix dict from C:\\Users\\PETER\\OneDrive\\桌面\\Klook 7\\dict.txt.big ...\n",
      "Loading model from cache C:\\Users\\PETER\\AppData\\Local\\Temp\\jieba.u6fb6e872883c6d9c08ea8e016e70c5c1.cache\n"
     ]
    },
    {
     "name": "stdout",
     "output_type": "stream",
     "text": [
      "15831\n"
     ]
    },
    {
     "name": "stderr",
     "output_type": "stream",
     "text": [
      "Loading model cost 1.265 seconds.\n",
      "Prefix dict has been built succesfully.\n",
      "Building prefix dict from C:\\Users\\PETER\\OneDrive\\桌面\\Klook 7\\dict.txt.big ...\n",
      "Loading model from cache C:\\Users\\PETER\\AppData\\Local\\Temp\\jieba.u6fb6e872883c6d9c08ea8e016e70c5c1.cache\n"
     ]
    },
    {
     "name": "stdout",
     "output_type": "stream",
     "text": [
      "16000\n"
     ]
    },
    {
     "name": "stderr",
     "output_type": "stream",
     "text": [
      "Loading model cost 1.252 seconds.\n",
      "Prefix dict has been built succesfully.\n",
      "Building prefix dict from C:\\Users\\PETER\\OneDrive\\桌面\\Klook 7\\dict.txt.big ...\n",
      "Loading model from cache C:\\Users\\PETER\\AppData\\Local\\Temp\\jieba.u6fb6e872883c6d9c08ea8e016e70c5c1.cache\n"
     ]
    },
    {
     "name": "stdout",
     "output_type": "stream",
     "text": [
      "1601\n"
     ]
    },
    {
     "name": "stderr",
     "output_type": "stream",
     "text": [
      "Loading model cost 1.357 seconds.\n",
      "Prefix dict has been built succesfully.\n",
      "Building prefix dict from C:\\Users\\PETER\\OneDrive\\桌面\\Klook 7\\dict.txt.big ...\n",
      "Loading model from cache C:\\Users\\PETER\\AppData\\Local\\Temp\\jieba.u6fb6e872883c6d9c08ea8e016e70c5c1.cache\n"
     ]
    },
    {
     "name": "stdout",
     "output_type": "stream",
     "text": [
      "16035\n"
     ]
    },
    {
     "name": "stderr",
     "output_type": "stream",
     "text": [
      "Loading model cost 1.333 seconds.\n",
      "Prefix dict has been built succesfully.\n",
      "Building prefix dict from C:\\Users\\PETER\\OneDrive\\桌面\\Klook 7\\dict.txt.big ...\n",
      "Loading model from cache C:\\Users\\PETER\\AppData\\Local\\Temp\\jieba.u6fb6e872883c6d9c08ea8e016e70c5c1.cache\n"
     ]
    },
    {
     "name": "stdout",
     "output_type": "stream",
     "text": [
      "1659\n"
     ]
    },
    {
     "name": "stderr",
     "output_type": "stream",
     "text": [
      "Loading model cost 1.333 seconds.\n",
      "Prefix dict has been built succesfully.\n",
      "Building prefix dict from C:\\Users\\PETER\\OneDrive\\桌面\\Klook 7\\dict.txt.big ...\n",
      "Loading model from cache C:\\Users\\PETER\\AppData\\Local\\Temp\\jieba.u6fb6e872883c6d9c08ea8e016e70c5c1.cache\n"
     ]
    },
    {
     "name": "stdout",
     "output_type": "stream",
     "text": [
      "1669\n"
     ]
    },
    {
     "name": "stderr",
     "output_type": "stream",
     "text": [
      "Loading model cost 1.357 seconds.\n",
      "Prefix dict has been built succesfully.\n",
      "Building prefix dict from C:\\Users\\PETER\\OneDrive\\桌面\\Klook 7\\dict.txt.big ...\n",
      "Loading model from cache C:\\Users\\PETER\\AppData\\Local\\Temp\\jieba.u6fb6e872883c6d9c08ea8e016e70c5c1.cache\n"
     ]
    },
    {
     "name": "stdout",
     "output_type": "stream",
     "text": [
      "17236\n"
     ]
    },
    {
     "name": "stderr",
     "output_type": "stream",
     "text": [
      "Loading model cost 1.283 seconds.\n",
      "Prefix dict has been built succesfully.\n",
      "Building prefix dict from C:\\Users\\PETER\\OneDrive\\桌面\\Klook 7\\dict.txt.big ...\n",
      "Loading model from cache C:\\Users\\PETER\\AppData\\Local\\Temp\\jieba.u6fb6e872883c6d9c08ea8e016e70c5c1.cache\n"
     ]
    },
    {
     "name": "stdout",
     "output_type": "stream",
     "text": [
      "17290\n"
     ]
    },
    {
     "name": "stderr",
     "output_type": "stream",
     "text": [
      "Loading model cost 1.276 seconds.\n",
      "Prefix dict has been built succesfully.\n",
      "Building prefix dict from C:\\Users\\PETER\\OneDrive\\桌面\\Klook 7\\dict.txt.big ...\n",
      "Loading model from cache C:\\Users\\PETER\\AppData\\Local\\Temp\\jieba.u6fb6e872883c6d9c08ea8e016e70c5c1.cache\n"
     ]
    },
    {
     "name": "stdout",
     "output_type": "stream",
     "text": [
      "17576\n"
     ]
    },
    {
     "name": "stderr",
     "output_type": "stream",
     "text": [
      "Loading model cost 1.267 seconds.\n",
      "Prefix dict has been built succesfully.\n",
      "Building prefix dict from C:\\Users\\PETER\\OneDrive\\桌面\\Klook 7\\dict.txt.big ...\n",
      "Loading model from cache C:\\Users\\PETER\\AppData\\Local\\Temp\\jieba.u6fb6e872883c6d9c08ea8e016e70c5c1.cache\n"
     ]
    },
    {
     "name": "stdout",
     "output_type": "stream",
     "text": [
      "17686\n"
     ]
    },
    {
     "name": "stderr",
     "output_type": "stream",
     "text": [
      "Loading model cost 1.279 seconds.\n",
      "Prefix dict has been built succesfully.\n",
      "Building prefix dict from C:\\Users\\PETER\\OneDrive\\桌面\\Klook 7\\dict.txt.big ...\n",
      "Loading model from cache C:\\Users\\PETER\\AppData\\Local\\Temp\\jieba.u6fb6e872883c6d9c08ea8e016e70c5c1.cache\n"
     ]
    },
    {
     "name": "stdout",
     "output_type": "stream",
     "text": [
      "17764\n"
     ]
    },
    {
     "name": "stderr",
     "output_type": "stream",
     "text": [
      "Loading model cost 1.293 seconds.\n",
      "Prefix dict has been built succesfully.\n",
      "Building prefix dict from C:\\Users\\PETER\\OneDrive\\桌面\\Klook 7\\dict.txt.big ...\n",
      "Loading model from cache C:\\Users\\PETER\\AppData\\Local\\Temp\\jieba.u6fb6e872883c6d9c08ea8e016e70c5c1.cache\n"
     ]
    },
    {
     "name": "stdout",
     "output_type": "stream",
     "text": [
      "17971\n"
     ]
    },
    {
     "name": "stderr",
     "output_type": "stream",
     "text": [
      "Loading model cost 1.282 seconds.\n",
      "Prefix dict has been built succesfully.\n",
      "Building prefix dict from C:\\Users\\PETER\\OneDrive\\桌面\\Klook 7\\dict.txt.big ...\n",
      "Loading model from cache C:\\Users\\PETER\\AppData\\Local\\Temp\\jieba.u6fb6e872883c6d9c08ea8e016e70c5c1.cache\n"
     ]
    },
    {
     "name": "stdout",
     "output_type": "stream",
     "text": [
      "18107\n"
     ]
    },
    {
     "name": "stderr",
     "output_type": "stream",
     "text": [
      "Loading model cost 1.273 seconds.\n",
      "Prefix dict has been built succesfully.\n",
      "Building prefix dict from C:\\Users\\PETER\\OneDrive\\桌面\\Klook 7\\dict.txt.big ...\n",
      "Loading model from cache C:\\Users\\PETER\\AppData\\Local\\Temp\\jieba.u6fb6e872883c6d9c08ea8e016e70c5c1.cache\n"
     ]
    },
    {
     "name": "stdout",
     "output_type": "stream",
     "text": [
      "18747\n"
     ]
    },
    {
     "name": "stderr",
     "output_type": "stream",
     "text": [
      "Loading model cost 1.275 seconds.\n",
      "Prefix dict has been built succesfully.\n",
      "Building prefix dict from C:\\Users\\PETER\\OneDrive\\桌面\\Klook 7\\dict.txt.big ...\n",
      "Loading model from cache C:\\Users\\PETER\\AppData\\Local\\Temp\\jieba.u6fb6e872883c6d9c08ea8e016e70c5c1.cache\n"
     ]
    },
    {
     "name": "stdout",
     "output_type": "stream",
     "text": [
      "18831\n"
     ]
    },
    {
     "name": "stderr",
     "output_type": "stream",
     "text": [
      "Loading model cost 1.276 seconds.\n",
      "Prefix dict has been built succesfully.\n",
      "Building prefix dict from C:\\Users\\PETER\\OneDrive\\桌面\\Klook 7\\dict.txt.big ...\n",
      "Loading model from cache C:\\Users\\PETER\\AppData\\Local\\Temp\\jieba.u6fb6e872883c6d9c08ea8e016e70c5c1.cache\n"
     ]
    },
    {
     "name": "stdout",
     "output_type": "stream",
     "text": [
      "19130\n"
     ]
    },
    {
     "name": "stderr",
     "output_type": "stream",
     "text": [
      "Loading model cost 1.265 seconds.\n",
      "Prefix dict has been built succesfully.\n",
      "Building prefix dict from C:\\Users\\PETER\\OneDrive\\桌面\\Klook 7\\dict.txt.big ...\n",
      "Loading model from cache C:\\Users\\PETER\\AppData\\Local\\Temp\\jieba.u6fb6e872883c6d9c08ea8e016e70c5c1.cache\n"
     ]
    },
    {
     "name": "stdout",
     "output_type": "stream",
     "text": [
      "19131\n"
     ]
    },
    {
     "name": "stderr",
     "output_type": "stream",
     "text": [
      "Loading model cost 1.266 seconds.\n",
      "Prefix dict has been built succesfully.\n",
      "Building prefix dict from C:\\Users\\PETER\\OneDrive\\桌面\\Klook 7\\dict.txt.big ...\n",
      "Loading model from cache C:\\Users\\PETER\\AppData\\Local\\Temp\\jieba.u6fb6e872883c6d9c08ea8e016e70c5c1.cache\n"
     ]
    },
    {
     "name": "stdout",
     "output_type": "stream",
     "text": [
      "19534\n"
     ]
    },
    {
     "name": "stderr",
     "output_type": "stream",
     "text": [
      "Loading model cost 1.269 seconds.\n",
      "Prefix dict has been built succesfully.\n",
      "Building prefix dict from C:\\Users\\PETER\\OneDrive\\桌面\\Klook 7\\dict.txt.big ...\n",
      "Loading model from cache C:\\Users\\PETER\\AppData\\Local\\Temp\\jieba.u6fb6e872883c6d9c08ea8e016e70c5c1.cache\n"
     ]
    },
    {
     "name": "stdout",
     "output_type": "stream",
     "text": [
      "19834\n"
     ]
    },
    {
     "name": "stderr",
     "output_type": "stream",
     "text": [
      "Loading model cost 1.261 seconds.\n",
      "Prefix dict has been built succesfully.\n",
      "Building prefix dict from C:\\Users\\PETER\\OneDrive\\桌面\\Klook 7\\dict.txt.big ...\n",
      "Loading model from cache C:\\Users\\PETER\\AppData\\Local\\Temp\\jieba.u6fb6e872883c6d9c08ea8e016e70c5c1.cache\n"
     ]
    },
    {
     "name": "stdout",
     "output_type": "stream",
     "text": [
      "19846\n"
     ]
    },
    {
     "name": "stderr",
     "output_type": "stream",
     "text": [
      "Loading model cost 1.266 seconds.\n",
      "Prefix dict has been built succesfully.\n",
      "Building prefix dict from C:\\Users\\PETER\\OneDrive\\桌面\\Klook 7\\dict.txt.big ...\n",
      "Loading model from cache C:\\Users\\PETER\\AppData\\Local\\Temp\\jieba.u6fb6e872883c6d9c08ea8e016e70c5c1.cache\n"
     ]
    },
    {
     "name": "stdout",
     "output_type": "stream",
     "text": [
      "19952\n"
     ]
    },
    {
     "name": "stderr",
     "output_type": "stream",
     "text": [
      "Loading model cost 1.302 seconds.\n",
      "Prefix dict has been built succesfully.\n",
      "Building prefix dict from C:\\Users\\PETER\\OneDrive\\桌面\\Klook 7\\dict.txt.big ...\n",
      "Loading model from cache C:\\Users\\PETER\\AppData\\Local\\Temp\\jieba.u6fb6e872883c6d9c08ea8e016e70c5c1.cache\n"
     ]
    },
    {
     "name": "stdout",
     "output_type": "stream",
     "text": [
      "19954\n"
     ]
    },
    {
     "name": "stderr",
     "output_type": "stream",
     "text": [
      "Loading model cost 1.293 seconds.\n",
      "Prefix dict has been built succesfully.\n",
      "Building prefix dict from C:\\Users\\PETER\\OneDrive\\桌面\\Klook 7\\dict.txt.big ...\n",
      "Loading model from cache C:\\Users\\PETER\\AppData\\Local\\Temp\\jieba.u6fb6e872883c6d9c08ea8e016e70c5c1.cache\n"
     ]
    },
    {
     "name": "stdout",
     "output_type": "stream",
     "text": [
      "19955\n"
     ]
    },
    {
     "name": "stderr",
     "output_type": "stream",
     "text": [
      "Loading model cost 1.262 seconds.\n",
      "Prefix dict has been built succesfully.\n",
      "Building prefix dict from C:\\Users\\PETER\\OneDrive\\桌面\\Klook 7\\dict.txt.big ...\n",
      "Loading model from cache C:\\Users\\PETER\\AppData\\Local\\Temp\\jieba.u6fb6e872883c6d9c08ea8e016e70c5c1.cache\n"
     ]
    },
    {
     "name": "stdout",
     "output_type": "stream",
     "text": [
      "20075\n"
     ]
    },
    {
     "name": "stderr",
     "output_type": "stream",
     "text": [
      "Loading model cost 1.269 seconds.\n",
      "Prefix dict has been built succesfully.\n",
      "Building prefix dict from C:\\Users\\PETER\\OneDrive\\桌面\\Klook 7\\dict.txt.big ...\n",
      "Loading model from cache C:\\Users\\PETER\\AppData\\Local\\Temp\\jieba.u6fb6e872883c6d9c08ea8e016e70c5c1.cache\n"
     ]
    },
    {
     "name": "stdout",
     "output_type": "stream",
     "text": [
      "20118\n"
     ]
    },
    {
     "name": "stderr",
     "output_type": "stream",
     "text": [
      "Loading model cost 1.287 seconds.\n",
      "Prefix dict has been built succesfully.\n",
      "Building prefix dict from C:\\Users\\PETER\\OneDrive\\桌面\\Klook 7\\dict.txt.big ...\n",
      "Loading model from cache C:\\Users\\PETER\\AppData\\Local\\Temp\\jieba.u6fb6e872883c6d9c08ea8e016e70c5c1.cache\n"
     ]
    },
    {
     "name": "stdout",
     "output_type": "stream",
     "text": [
      "20163\n"
     ]
    },
    {
     "name": "stderr",
     "output_type": "stream",
     "text": [
      "Loading model cost 1.273 seconds.\n",
      "Prefix dict has been built succesfully.\n",
      "Building prefix dict from C:\\Users\\PETER\\OneDrive\\桌面\\Klook 7\\dict.txt.big ...\n",
      "Loading model from cache C:\\Users\\PETER\\AppData\\Local\\Temp\\jieba.u6fb6e872883c6d9c08ea8e016e70c5c1.cache\n"
     ]
    },
    {
     "name": "stdout",
     "output_type": "stream",
     "text": [
      "20188\n"
     ]
    },
    {
     "name": "stderr",
     "output_type": "stream",
     "text": [
      "Loading model cost 1.278 seconds.\n",
      "Prefix dict has been built succesfully.\n",
      "Building prefix dict from C:\\Users\\PETER\\OneDrive\\桌面\\Klook 7\\dict.txt.big ...\n",
      "Loading model from cache C:\\Users\\PETER\\AppData\\Local\\Temp\\jieba.u6fb6e872883c6d9c08ea8e016e70c5c1.cache\n"
     ]
    },
    {
     "name": "stdout",
     "output_type": "stream",
     "text": [
      "20219\n"
     ]
    },
    {
     "name": "stderr",
     "output_type": "stream",
     "text": [
      "Loading model cost 1.271 seconds.\n",
      "Prefix dict has been built succesfully.\n",
      "Building prefix dict from C:\\Users\\PETER\\OneDrive\\桌面\\Klook 7\\dict.txt.big ...\n",
      "Loading model from cache C:\\Users\\PETER\\AppData\\Local\\Temp\\jieba.u6fb6e872883c6d9c08ea8e016e70c5c1.cache\n"
     ]
    },
    {
     "name": "stdout",
     "output_type": "stream",
     "text": [
      "20783\n"
     ]
    },
    {
     "name": "stderr",
     "output_type": "stream",
     "text": [
      "Loading model cost 1.279 seconds.\n",
      "Prefix dict has been built succesfully.\n",
      "Building prefix dict from C:\\Users\\PETER\\OneDrive\\桌面\\Klook 7\\dict.txt.big ...\n",
      "Loading model from cache C:\\Users\\PETER\\AppData\\Local\\Temp\\jieba.u6fb6e872883c6d9c08ea8e016e70c5c1.cache\n"
     ]
    },
    {
     "name": "stdout",
     "output_type": "stream",
     "text": [
      "2093\n"
     ]
    },
    {
     "name": "stderr",
     "output_type": "stream",
     "text": [
      "Loading model cost 1.267 seconds.\n",
      "Prefix dict has been built succesfully.\n",
      "Building prefix dict from C:\\Users\\PETER\\OneDrive\\桌面\\Klook 7\\dict.txt.big ...\n",
      "Loading model from cache C:\\Users\\PETER\\AppData\\Local\\Temp\\jieba.u6fb6e872883c6d9c08ea8e016e70c5c1.cache\n"
     ]
    },
    {
     "name": "stdout",
     "output_type": "stream",
     "text": [
      "21023\n"
     ]
    },
    {
     "name": "stderr",
     "output_type": "stream",
     "text": [
      "Loading model cost 1.277 seconds.\n",
      "Prefix dict has been built succesfully.\n",
      "Building prefix dict from C:\\Users\\PETER\\OneDrive\\桌面\\Klook 7\\dict.txt.big ...\n",
      "Loading model from cache C:\\Users\\PETER\\AppData\\Local\\Temp\\jieba.u6fb6e872883c6d9c08ea8e016e70c5c1.cache\n"
     ]
    },
    {
     "name": "stdout",
     "output_type": "stream",
     "text": [
      "21048\n"
     ]
    },
    {
     "name": "stderr",
     "output_type": "stream",
     "text": [
      "Loading model cost 1.276 seconds.\n",
      "Prefix dict has been built succesfully.\n",
      "Building prefix dict from C:\\Users\\PETER\\OneDrive\\桌面\\Klook 7\\dict.txt.big ...\n",
      "Loading model from cache C:\\Users\\PETER\\AppData\\Local\\Temp\\jieba.u6fb6e872883c6d9c08ea8e016e70c5c1.cache\n"
     ]
    },
    {
     "name": "stdout",
     "output_type": "stream",
     "text": [
      "21545\n"
     ]
    },
    {
     "name": "stderr",
     "output_type": "stream",
     "text": [
      "Loading model cost 1.282 seconds.\n",
      "Prefix dict has been built succesfully.\n",
      "Building prefix dict from C:\\Users\\PETER\\OneDrive\\桌面\\Klook 7\\dict.txt.big ...\n",
      "Loading model from cache C:\\Users\\PETER\\AppData\\Local\\Temp\\jieba.u6fb6e872883c6d9c08ea8e016e70c5c1.cache\n"
     ]
    },
    {
     "name": "stdout",
     "output_type": "stream",
     "text": [
      "21546\n"
     ]
    },
    {
     "name": "stderr",
     "output_type": "stream",
     "text": [
      "Loading model cost 1.276 seconds.\n",
      "Prefix dict has been built succesfully.\n",
      "Building prefix dict from C:\\Users\\PETER\\OneDrive\\桌面\\Klook 7\\dict.txt.big ...\n",
      "Loading model from cache C:\\Users\\PETER\\AppData\\Local\\Temp\\jieba.u6fb6e872883c6d9c08ea8e016e70c5c1.cache\n"
     ]
    },
    {
     "name": "stdout",
     "output_type": "stream",
     "text": [
      "21588\n"
     ]
    },
    {
     "name": "stderr",
     "output_type": "stream",
     "text": [
      "Loading model cost 1.266 seconds.\n",
      "Prefix dict has been built succesfully.\n",
      "Building prefix dict from C:\\Users\\PETER\\OneDrive\\桌面\\Klook 7\\dict.txt.big ...\n",
      "Loading model from cache C:\\Users\\PETER\\AppData\\Local\\Temp\\jieba.u6fb6e872883c6d9c08ea8e016e70c5c1.cache\n"
     ]
    },
    {
     "name": "stdout",
     "output_type": "stream",
     "text": [
      "21897\n"
     ]
    },
    {
     "name": "stderr",
     "output_type": "stream",
     "text": [
      "Loading model cost 1.330 seconds.\n",
      "Prefix dict has been built succesfully.\n",
      "Building prefix dict from C:\\Users\\PETER\\OneDrive\\桌面\\Klook 7\\dict.txt.big ...\n",
      "Loading model from cache C:\\Users\\PETER\\AppData\\Local\\Temp\\jieba.u6fb6e872883c6d9c08ea8e016e70c5c1.cache\n"
     ]
    },
    {
     "name": "stdout",
     "output_type": "stream",
     "text": [
      "21899\n"
     ]
    },
    {
     "name": "stderr",
     "output_type": "stream",
     "text": [
      "Loading model cost 1.283 seconds.\n",
      "Prefix dict has been built succesfully.\n",
      "Building prefix dict from C:\\Users\\PETER\\OneDrive\\桌面\\Klook 7\\dict.txt.big ...\n",
      "Loading model from cache C:\\Users\\PETER\\AppData\\Local\\Temp\\jieba.u6fb6e872883c6d9c08ea8e016e70c5c1.cache\n"
     ]
    },
    {
     "name": "stdout",
     "output_type": "stream",
     "text": [
      "21931\n"
     ]
    },
    {
     "name": "stderr",
     "output_type": "stream",
     "text": [
      "Loading model cost 1.277 seconds.\n",
      "Prefix dict has been built succesfully.\n",
      "Building prefix dict from C:\\Users\\PETER\\OneDrive\\桌面\\Klook 7\\dict.txt.big ...\n",
      "Loading model from cache C:\\Users\\PETER\\AppData\\Local\\Temp\\jieba.u6fb6e872883c6d9c08ea8e016e70c5c1.cache\n"
     ]
    },
    {
     "name": "stdout",
     "output_type": "stream",
     "text": [
      "23096\n"
     ]
    },
    {
     "name": "stderr",
     "output_type": "stream",
     "text": [
      "Loading model cost 1.265 seconds.\n",
      "Prefix dict has been built succesfully.\n",
      "Building prefix dict from C:\\Users\\PETER\\OneDrive\\桌面\\Klook 7\\dict.txt.big ...\n",
      "Loading model from cache C:\\Users\\PETER\\AppData\\Local\\Temp\\jieba.u6fb6e872883c6d9c08ea8e016e70c5c1.cache\n"
     ]
    },
    {
     "name": "stdout",
     "output_type": "stream",
     "text": [
      "23103\n"
     ]
    },
    {
     "name": "stderr",
     "output_type": "stream",
     "text": [
      "Loading model cost 1.284 seconds.\n",
      "Prefix dict has been built succesfully.\n",
      "Building prefix dict from C:\\Users\\PETER\\OneDrive\\桌面\\Klook 7\\dict.txt.big ...\n",
      "Loading model from cache C:\\Users\\PETER\\AppData\\Local\\Temp\\jieba.u6fb6e872883c6d9c08ea8e016e70c5c1.cache\n"
     ]
    },
    {
     "name": "stdout",
     "output_type": "stream",
     "text": [
      "23560\n"
     ]
    },
    {
     "name": "stderr",
     "output_type": "stream",
     "text": [
      "Loading model cost 1.273 seconds.\n",
      "Prefix dict has been built succesfully.\n",
      "Building prefix dict from C:\\Users\\PETER\\OneDrive\\桌面\\Klook 7\\dict.txt.big ...\n",
      "Loading model from cache C:\\Users\\PETER\\AppData\\Local\\Temp\\jieba.u6fb6e872883c6d9c08ea8e016e70c5c1.cache\n"
     ]
    },
    {
     "name": "stdout",
     "output_type": "stream",
     "text": [
      "23850\n"
     ]
    },
    {
     "name": "stderr",
     "output_type": "stream",
     "text": [
      "Loading model cost 1.281 seconds.\n",
      "Prefix dict has been built succesfully.\n",
      "Building prefix dict from C:\\Users\\PETER\\OneDrive\\桌面\\Klook 7\\dict.txt.big ...\n",
      "Loading model from cache C:\\Users\\PETER\\AppData\\Local\\Temp\\jieba.u6fb6e872883c6d9c08ea8e016e70c5c1.cache\n"
     ]
    },
    {
     "name": "stdout",
     "output_type": "stream",
     "text": [
      "23966\n"
     ]
    },
    {
     "name": "stderr",
     "output_type": "stream",
     "text": [
      "Loading model cost 1.263 seconds.\n",
      "Prefix dict has been built succesfully.\n",
      "Building prefix dict from C:\\Users\\PETER\\OneDrive\\桌面\\Klook 7\\dict.txt.big ...\n",
      "Loading model from cache C:\\Users\\PETER\\AppData\\Local\\Temp\\jieba.u6fb6e872883c6d9c08ea8e016e70c5c1.cache\n"
     ]
    },
    {
     "name": "stdout",
     "output_type": "stream",
     "text": [
      "24553\n"
     ]
    },
    {
     "name": "stderr",
     "output_type": "stream",
     "text": [
      "Loading model cost 1.281 seconds.\n",
      "Prefix dict has been built succesfully.\n",
      "Building prefix dict from C:\\Users\\PETER\\OneDrive\\桌面\\Klook 7\\dict.txt.big ...\n",
      "Loading model from cache C:\\Users\\PETER\\AppData\\Local\\Temp\\jieba.u6fb6e872883c6d9c08ea8e016e70c5c1.cache\n"
     ]
    },
    {
     "name": "stdout",
     "output_type": "stream",
     "text": [
      "24564\n"
     ]
    },
    {
     "name": "stderr",
     "output_type": "stream",
     "text": [
      "Loading model cost 1.269 seconds.\n",
      "Prefix dict has been built succesfully.\n",
      "Building prefix dict from C:\\Users\\PETER\\OneDrive\\桌面\\Klook 7\\dict.txt.big ...\n",
      "Loading model from cache C:\\Users\\PETER\\AppData\\Local\\Temp\\jieba.u6fb6e872883c6d9c08ea8e016e70c5c1.cache\n"
     ]
    },
    {
     "name": "stdout",
     "output_type": "stream",
     "text": [
      "24596\n"
     ]
    },
    {
     "name": "stderr",
     "output_type": "stream",
     "text": [
      "Loading model cost 1.281 seconds.\n",
      "Prefix dict has been built succesfully.\n",
      "Building prefix dict from C:\\Users\\PETER\\OneDrive\\桌面\\Klook 7\\dict.txt.big ...\n",
      "Loading model from cache C:\\Users\\PETER\\AppData\\Local\\Temp\\jieba.u6fb6e872883c6d9c08ea8e016e70c5c1.cache\n"
     ]
    },
    {
     "name": "stdout",
     "output_type": "stream",
     "text": [
      "24597\n"
     ]
    },
    {
     "name": "stderr",
     "output_type": "stream",
     "text": [
      "Loading model cost 1.296 seconds.\n",
      "Prefix dict has been built succesfully.\n",
      "Building prefix dict from C:\\Users\\PETER\\OneDrive\\桌面\\Klook 7\\dict.txt.big ...\n",
      "Loading model from cache C:\\Users\\PETER\\AppData\\Local\\Temp\\jieba.u6fb6e872883c6d9c08ea8e016e70c5c1.cache\n"
     ]
    },
    {
     "name": "stdout",
     "output_type": "stream",
     "text": [
      "24684\n"
     ]
    },
    {
     "name": "stderr",
     "output_type": "stream",
     "text": [
      "Loading model cost 1.356 seconds.\n",
      "Prefix dict has been built succesfully.\n",
      "Building prefix dict from C:\\Users\\PETER\\OneDrive\\桌面\\Klook 7\\dict.txt.big ...\n",
      "Loading model from cache C:\\Users\\PETER\\AppData\\Local\\Temp\\jieba.u6fb6e872883c6d9c08ea8e016e70c5c1.cache\n"
     ]
    },
    {
     "name": "stdout",
     "output_type": "stream",
     "text": [
      "24962\n"
     ]
    },
    {
     "name": "stderr",
     "output_type": "stream",
     "text": [
      "Loading model cost 1.280 seconds.\n",
      "Prefix dict has been built succesfully.\n",
      "Building prefix dict from C:\\Users\\PETER\\OneDrive\\桌面\\Klook 7\\dict.txt.big ...\n",
      "Loading model from cache C:\\Users\\PETER\\AppData\\Local\\Temp\\jieba.u6fb6e872883c6d9c08ea8e016e70c5c1.cache\n"
     ]
    },
    {
     "name": "stdout",
     "output_type": "stream",
     "text": [
      "25525\n"
     ]
    },
    {
     "name": "stderr",
     "output_type": "stream",
     "text": [
      "Loading model cost 1.297 seconds.\n",
      "Prefix dict has been built succesfully.\n",
      "Building prefix dict from C:\\Users\\PETER\\OneDrive\\桌面\\Klook 7\\dict.txt.big ...\n",
      "Loading model from cache C:\\Users\\PETER\\AppData\\Local\\Temp\\jieba.u6fb6e872883c6d9c08ea8e016e70c5c1.cache\n"
     ]
    },
    {
     "name": "stdout",
     "output_type": "stream",
     "text": [
      "26126\n"
     ]
    },
    {
     "name": "stderr",
     "output_type": "stream",
     "text": [
      "Loading model cost 1.265 seconds.\n",
      "Prefix dict has been built succesfully.\n",
      "Building prefix dict from C:\\Users\\PETER\\OneDrive\\桌面\\Klook 7\\dict.txt.big ...\n",
      "Loading model from cache C:\\Users\\PETER\\AppData\\Local\\Temp\\jieba.u6fb6e872883c6d9c08ea8e016e70c5c1.cache\n"
     ]
    },
    {
     "name": "stdout",
     "output_type": "stream",
     "text": [
      "26872\n"
     ]
    },
    {
     "name": "stderr",
     "output_type": "stream",
     "text": [
      "Loading model cost 1.271 seconds.\n",
      "Prefix dict has been built succesfully.\n",
      "Building prefix dict from C:\\Users\\PETER\\OneDrive\\桌面\\Klook 7\\dict.txt.big ...\n",
      "Loading model from cache C:\\Users\\PETER\\AppData\\Local\\Temp\\jieba.u6fb6e872883c6d9c08ea8e016e70c5c1.cache\n"
     ]
    },
    {
     "name": "stdout",
     "output_type": "stream",
     "text": [
      "28009\n"
     ]
    },
    {
     "name": "stderr",
     "output_type": "stream",
     "text": [
      "Loading model cost 1.280 seconds.\n",
      "Prefix dict has been built succesfully.\n",
      "Building prefix dict from C:\\Users\\PETER\\OneDrive\\桌面\\Klook 7\\dict.txt.big ...\n",
      "Loading model from cache C:\\Users\\PETER\\AppData\\Local\\Temp\\jieba.u6fb6e872883c6d9c08ea8e016e70c5c1.cache\n"
     ]
    },
    {
     "name": "stdout",
     "output_type": "stream",
     "text": [
      "28520\n"
     ]
    },
    {
     "name": "stderr",
     "output_type": "stream",
     "text": [
      "Loading model cost 1.306 seconds.\n",
      "Prefix dict has been built succesfully.\n",
      "Building prefix dict from C:\\Users\\PETER\\OneDrive\\桌面\\Klook 7\\dict.txt.big ...\n",
      "Loading model from cache C:\\Users\\PETER\\AppData\\Local\\Temp\\jieba.u6fb6e872883c6d9c08ea8e016e70c5c1.cache\n"
     ]
    },
    {
     "name": "stdout",
     "output_type": "stream",
     "text": [
      "2921\n"
     ]
    },
    {
     "name": "stderr",
     "output_type": "stream",
     "text": [
      "Loading model cost 1.289 seconds.\n",
      "Prefix dict has been built succesfully.\n",
      "Building prefix dict from C:\\Users\\PETER\\OneDrive\\桌面\\Klook 7\\dict.txt.big ...\n",
      "Loading model from cache C:\\Users\\PETER\\AppData\\Local\\Temp\\jieba.u6fb6e872883c6d9c08ea8e016e70c5c1.cache\n"
     ]
    },
    {
     "name": "stdout",
     "output_type": "stream",
     "text": [
      "2953\n"
     ]
    },
    {
     "name": "stderr",
     "output_type": "stream",
     "text": [
      "Loading model cost 1.284 seconds.\n",
      "Prefix dict has been built succesfully.\n",
      "Building prefix dict from C:\\Users\\PETER\\OneDrive\\桌面\\Klook 7\\dict.txt.big ...\n",
      "Loading model from cache C:\\Users\\PETER\\AppData\\Local\\Temp\\jieba.u6fb6e872883c6d9c08ea8e016e70c5c1.cache\n"
     ]
    },
    {
     "name": "stdout",
     "output_type": "stream",
     "text": [
      "3010\n"
     ]
    },
    {
     "name": "stderr",
     "output_type": "stream",
     "text": [
      "Loading model cost 1.341 seconds.\n",
      "Prefix dict has been built succesfully.\n",
      "Building prefix dict from C:\\Users\\PETER\\OneDrive\\桌面\\Klook 7\\dict.txt.big ...\n",
      "Loading model from cache C:\\Users\\PETER\\AppData\\Local\\Temp\\jieba.u6fb6e872883c6d9c08ea8e016e70c5c1.cache\n"
     ]
    },
    {
     "name": "stdout",
     "output_type": "stream",
     "text": [
      "3198\n"
     ]
    },
    {
     "name": "stderr",
     "output_type": "stream",
     "text": [
      "Loading model cost 1.289 seconds.\n",
      "Prefix dict has been built succesfully.\n",
      "Building prefix dict from C:\\Users\\PETER\\OneDrive\\桌面\\Klook 7\\dict.txt.big ...\n",
      "Loading model from cache C:\\Users\\PETER\\AppData\\Local\\Temp\\jieba.u6fb6e872883c6d9c08ea8e016e70c5c1.cache\n"
     ]
    },
    {
     "name": "stdout",
     "output_type": "stream",
     "text": [
      "3209\n"
     ]
    },
    {
     "name": "stderr",
     "output_type": "stream",
     "text": [
      "Loading model cost 1.288 seconds.\n",
      "Prefix dict has been built succesfully.\n",
      "Building prefix dict from C:\\Users\\PETER\\OneDrive\\桌面\\Klook 7\\dict.txt.big ...\n",
      "Loading model from cache C:\\Users\\PETER\\AppData\\Local\\Temp\\jieba.u6fb6e872883c6d9c08ea8e016e70c5c1.cache\n"
     ]
    },
    {
     "name": "stdout",
     "output_type": "stream",
     "text": [
      "3328\n"
     ]
    },
    {
     "name": "stderr",
     "output_type": "stream",
     "text": [
      "Loading model cost 1.275 seconds.\n",
      "Prefix dict has been built succesfully.\n",
      "Building prefix dict from C:\\Users\\PETER\\OneDrive\\桌面\\Klook 7\\dict.txt.big ...\n",
      "Loading model from cache C:\\Users\\PETER\\AppData\\Local\\Temp\\jieba.u6fb6e872883c6d9c08ea8e016e70c5c1.cache\n"
     ]
    },
    {
     "name": "stdout",
     "output_type": "stream",
     "text": [
      "3332\n"
     ]
    },
    {
     "name": "stderr",
     "output_type": "stream",
     "text": [
      "Loading model cost 1.290 seconds.\n",
      "Prefix dict has been built succesfully.\n",
      "Building prefix dict from C:\\Users\\PETER\\OneDrive\\桌面\\Klook 7\\dict.txt.big ...\n",
      "Loading model from cache C:\\Users\\PETER\\AppData\\Local\\Temp\\jieba.u6fb6e872883c6d9c08ea8e016e70c5c1.cache\n"
     ]
    },
    {
     "name": "stdout",
     "output_type": "stream",
     "text": [
      "3360\n"
     ]
    },
    {
     "name": "stderr",
     "output_type": "stream",
     "text": [
      "Loading model cost 1.280 seconds.\n",
      "Prefix dict has been built succesfully.\n",
      "Building prefix dict from C:\\Users\\PETER\\OneDrive\\桌面\\Klook 7\\dict.txt.big ...\n",
      "Loading model from cache C:\\Users\\PETER\\AppData\\Local\\Temp\\jieba.u6fb6e872883c6d9c08ea8e016e70c5c1.cache\n"
     ]
    },
    {
     "name": "stdout",
     "output_type": "stream",
     "text": [
      "3369\n"
     ]
    },
    {
     "name": "stderr",
     "output_type": "stream",
     "text": [
      "Loading model cost 1.282 seconds.\n",
      "Prefix dict has been built succesfully.\n",
      "Building prefix dict from C:\\Users\\PETER\\OneDrive\\桌面\\Klook 7\\dict.txt.big ...\n",
      "Loading model from cache C:\\Users\\PETER\\AppData\\Local\\Temp\\jieba.u6fb6e872883c6d9c08ea8e016e70c5c1.cache\n"
     ]
    },
    {
     "name": "stdout",
     "output_type": "stream",
     "text": [
      "3371\n"
     ]
    },
    {
     "name": "stderr",
     "output_type": "stream",
     "text": [
      "Loading model cost 1.282 seconds.\n",
      "Prefix dict has been built succesfully.\n",
      "Building prefix dict from C:\\Users\\PETER\\OneDrive\\桌面\\Klook 7\\dict.txt.big ...\n",
      "Loading model from cache C:\\Users\\PETER\\AppData\\Local\\Temp\\jieba.u6fb6e872883c6d9c08ea8e016e70c5c1.cache\n"
     ]
    },
    {
     "name": "stdout",
     "output_type": "stream",
     "text": [
      "3390\n"
     ]
    },
    {
     "name": "stderr",
     "output_type": "stream",
     "text": [
      "Loading model cost 1.282 seconds.\n",
      "Prefix dict has been built succesfully.\n",
      "Building prefix dict from C:\\Users\\PETER\\OneDrive\\桌面\\Klook 7\\dict.txt.big ...\n",
      "Loading model from cache C:\\Users\\PETER\\AppData\\Local\\Temp\\jieba.u6fb6e872883c6d9c08ea8e016e70c5c1.cache\n"
     ]
    },
    {
     "name": "stdout",
     "output_type": "stream",
     "text": [
      "3394\n"
     ]
    },
    {
     "name": "stderr",
     "output_type": "stream",
     "text": [
      "Loading model cost 1.278 seconds.\n",
      "Prefix dict has been built succesfully.\n",
      "Building prefix dict from C:\\Users\\PETER\\OneDrive\\桌面\\Klook 7\\dict.txt.big ...\n",
      "Loading model from cache C:\\Users\\PETER\\AppData\\Local\\Temp\\jieba.u6fb6e872883c6d9c08ea8e016e70c5c1.cache\n"
     ]
    },
    {
     "name": "stdout",
     "output_type": "stream",
     "text": [
      "3396\n"
     ]
    },
    {
     "name": "stderr",
     "output_type": "stream",
     "text": [
      "Loading model cost 1.276 seconds.\n",
      "Prefix dict has been built succesfully.\n",
      "Building prefix dict from C:\\Users\\PETER\\OneDrive\\桌面\\Klook 7\\dict.txt.big ...\n",
      "Loading model from cache C:\\Users\\PETER\\AppData\\Local\\Temp\\jieba.u6fb6e872883c6d9c08ea8e016e70c5c1.cache\n"
     ]
    },
    {
     "name": "stdout",
     "output_type": "stream",
     "text": [
      "3414\n"
     ]
    },
    {
     "name": "stderr",
     "output_type": "stream",
     "text": [
      "Loading model cost 1.278 seconds.\n",
      "Prefix dict has been built succesfully.\n",
      "Building prefix dict from C:\\Users\\PETER\\OneDrive\\桌面\\Klook 7\\dict.txt.big ...\n",
      "Loading model from cache C:\\Users\\PETER\\AppData\\Local\\Temp\\jieba.u6fb6e872883c6d9c08ea8e016e70c5c1.cache\n"
     ]
    },
    {
     "name": "stdout",
     "output_type": "stream",
     "text": [
      "3416\n"
     ]
    },
    {
     "name": "stderr",
     "output_type": "stream",
     "text": [
      "Loading model cost 1.362 seconds.\n",
      "Prefix dict has been built succesfully.\n",
      "Building prefix dict from C:\\Users\\PETER\\OneDrive\\桌面\\Klook 7\\dict.txt.big ...\n",
      "Loading model from cache C:\\Users\\PETER\\AppData\\Local\\Temp\\jieba.u6fb6e872883c6d9c08ea8e016e70c5c1.cache\n"
     ]
    },
    {
     "name": "stdout",
     "output_type": "stream",
     "text": [
      "3429\n"
     ]
    },
    {
     "name": "stderr",
     "output_type": "stream",
     "text": [
      "Loading model cost 1.274 seconds.\n",
      "Prefix dict has been built succesfully.\n",
      "Building prefix dict from C:\\Users\\PETER\\OneDrive\\桌面\\Klook 7\\dict.txt.big ...\n",
      "Loading model from cache C:\\Users\\PETER\\AppData\\Local\\Temp\\jieba.u6fb6e872883c6d9c08ea8e016e70c5c1.cache\n"
     ]
    },
    {
     "name": "stdout",
     "output_type": "stream",
     "text": [
      "3518\n"
     ]
    },
    {
     "name": "stderr",
     "output_type": "stream",
     "text": [
      "Loading model cost 1.278 seconds.\n",
      "Prefix dict has been built succesfully.\n",
      "Building prefix dict from C:\\Users\\PETER\\OneDrive\\桌面\\Klook 7\\dict.txt.big ...\n",
      "Loading model from cache C:\\Users\\PETER\\AppData\\Local\\Temp\\jieba.u6fb6e872883c6d9c08ea8e016e70c5c1.cache\n"
     ]
    },
    {
     "name": "stdout",
     "output_type": "stream",
     "text": [
      "3537\n"
     ]
    },
    {
     "name": "stderr",
     "output_type": "stream",
     "text": [
      "Loading model cost 1.275 seconds.\n",
      "Prefix dict has been built succesfully.\n",
      "Building prefix dict from C:\\Users\\PETER\\OneDrive\\桌面\\Klook 7\\dict.txt.big ...\n",
      "Loading model from cache C:\\Users\\PETER\\AppData\\Local\\Temp\\jieba.u6fb6e872883c6d9c08ea8e016e70c5c1.cache\n"
     ]
    },
    {
     "name": "stdout",
     "output_type": "stream",
     "text": [
      "3604\n"
     ]
    },
    {
     "name": "stderr",
     "output_type": "stream",
     "text": [
      "Loading model cost 1.258 seconds.\n",
      "Prefix dict has been built succesfully.\n",
      "Building prefix dict from C:\\Users\\PETER\\OneDrive\\桌面\\Klook 7\\dict.txt.big ...\n",
      "Loading model from cache C:\\Users\\PETER\\AppData\\Local\\Temp\\jieba.u6fb6e872883c6d9c08ea8e016e70c5c1.cache\n"
     ]
    },
    {
     "name": "stdout",
     "output_type": "stream",
     "text": [
      "3639\n"
     ]
    },
    {
     "name": "stderr",
     "output_type": "stream",
     "text": [
      "Loading model cost 1.273 seconds.\n",
      "Prefix dict has been built succesfully.\n",
      "Building prefix dict from C:\\Users\\PETER\\OneDrive\\桌面\\Klook 7\\dict.txt.big ...\n",
      "Loading model from cache C:\\Users\\PETER\\AppData\\Local\\Temp\\jieba.u6fb6e872883c6d9c08ea8e016e70c5c1.cache\n"
     ]
    },
    {
     "name": "stdout",
     "output_type": "stream",
     "text": [
      "3722\n"
     ]
    },
    {
     "name": "stderr",
     "output_type": "stream",
     "text": [
      "Loading model cost 1.322 seconds.\n",
      "Prefix dict has been built succesfully.\n",
      "Building prefix dict from C:\\Users\\PETER\\OneDrive\\桌面\\Klook 7\\dict.txt.big ...\n",
      "Loading model from cache C:\\Users\\PETER\\AppData\\Local\\Temp\\jieba.u6fb6e872883c6d9c08ea8e016e70c5c1.cache\n"
     ]
    },
    {
     "name": "stdout",
     "output_type": "stream",
     "text": [
      "3725\n"
     ]
    },
    {
     "name": "stderr",
     "output_type": "stream",
     "text": [
      "Loading model cost 1.275 seconds.\n",
      "Prefix dict has been built succesfully.\n",
      "Building prefix dict from C:\\Users\\PETER\\OneDrive\\桌面\\Klook 7\\dict.txt.big ...\n",
      "Loading model from cache C:\\Users\\PETER\\AppData\\Local\\Temp\\jieba.u6fb6e872883c6d9c08ea8e016e70c5c1.cache\n"
     ]
    },
    {
     "name": "stdout",
     "output_type": "stream",
     "text": [
      "3734\n"
     ]
    },
    {
     "name": "stderr",
     "output_type": "stream",
     "text": [
      "Loading model cost 1.276 seconds.\n",
      "Prefix dict has been built succesfully.\n",
      "Building prefix dict from C:\\Users\\PETER\\OneDrive\\桌面\\Klook 7\\dict.txt.big ...\n",
      "Loading model from cache C:\\Users\\PETER\\AppData\\Local\\Temp\\jieba.u6fb6e872883c6d9c08ea8e016e70c5c1.cache\n"
     ]
    },
    {
     "name": "stdout",
     "output_type": "stream",
     "text": [
      "3775\n"
     ]
    },
    {
     "name": "stderr",
     "output_type": "stream",
     "text": [
      "Loading model cost 1.281 seconds.\n",
      "Prefix dict has been built succesfully.\n",
      "Building prefix dict from C:\\Users\\PETER\\OneDrive\\桌面\\Klook 7\\dict.txt.big ...\n",
      "Loading model from cache C:\\Users\\PETER\\AppData\\Local\\Temp\\jieba.u6fb6e872883c6d9c08ea8e016e70c5c1.cache\n"
     ]
    },
    {
     "name": "stdout",
     "output_type": "stream",
     "text": [
      "3786\n"
     ]
    },
    {
     "name": "stderr",
     "output_type": "stream",
     "text": [
      "Loading model cost 1.273 seconds.\n",
      "Prefix dict has been built succesfully.\n",
      "Building prefix dict from C:\\Users\\PETER\\OneDrive\\桌面\\Klook 7\\dict.txt.big ...\n",
      "Loading model from cache C:\\Users\\PETER\\AppData\\Local\\Temp\\jieba.u6fb6e872883c6d9c08ea8e016e70c5c1.cache\n"
     ]
    },
    {
     "name": "stdout",
     "output_type": "stream",
     "text": [
      "3787\n"
     ]
    },
    {
     "name": "stderr",
     "output_type": "stream",
     "text": [
      "Loading model cost 1.268 seconds.\n",
      "Prefix dict has been built succesfully.\n",
      "Building prefix dict from C:\\Users\\PETER\\OneDrive\\桌面\\Klook 7\\dict.txt.big ...\n",
      "Loading model from cache C:\\Users\\PETER\\AppData\\Local\\Temp\\jieba.u6fb6e872883c6d9c08ea8e016e70c5c1.cache\n"
     ]
    },
    {
     "name": "stdout",
     "output_type": "stream",
     "text": [
      "3788\n"
     ]
    },
    {
     "name": "stderr",
     "output_type": "stream",
     "text": [
      "Loading model cost 1.278 seconds.\n",
      "Prefix dict has been built succesfully.\n",
      "Building prefix dict from C:\\Users\\PETER\\OneDrive\\桌面\\Klook 7\\dict.txt.big ...\n",
      "Loading model from cache C:\\Users\\PETER\\AppData\\Local\\Temp\\jieba.u6fb6e872883c6d9c08ea8e016e70c5c1.cache\n"
     ]
    },
    {
     "name": "stdout",
     "output_type": "stream",
     "text": [
      "3795\n"
     ]
    },
    {
     "name": "stderr",
     "output_type": "stream",
     "text": [
      "Loading model cost 1.314 seconds.\n",
      "Prefix dict has been built succesfully.\n",
      "Building prefix dict from C:\\Users\\PETER\\OneDrive\\桌面\\Klook 7\\dict.txt.big ...\n",
      "Loading model from cache C:\\Users\\PETER\\AppData\\Local\\Temp\\jieba.u6fb6e872883c6d9c08ea8e016e70c5c1.cache\n"
     ]
    },
    {
     "name": "stdout",
     "output_type": "stream",
     "text": [
      "3813\n"
     ]
    },
    {
     "name": "stderr",
     "output_type": "stream",
     "text": [
      "Loading model cost 1.286 seconds.\n",
      "Prefix dict has been built succesfully.\n",
      "Building prefix dict from C:\\Users\\PETER\\OneDrive\\桌面\\Klook 7\\dict.txt.big ...\n",
      "Loading model from cache C:\\Users\\PETER\\AppData\\Local\\Temp\\jieba.u6fb6e872883c6d9c08ea8e016e70c5c1.cache\n"
     ]
    },
    {
     "name": "stdout",
     "output_type": "stream",
     "text": [
      "3858\n"
     ]
    },
    {
     "name": "stderr",
     "output_type": "stream",
     "text": [
      "Loading model cost 1.280 seconds.\n",
      "Prefix dict has been built succesfully.\n",
      "Building prefix dict from C:\\Users\\PETER\\OneDrive\\桌面\\Klook 7\\dict.txt.big ...\n",
      "Loading model from cache C:\\Users\\PETER\\AppData\\Local\\Temp\\jieba.u6fb6e872883c6d9c08ea8e016e70c5c1.cache\n"
     ]
    },
    {
     "name": "stdout",
     "output_type": "stream",
     "text": [
      "3910\n"
     ]
    },
    {
     "name": "stderr",
     "output_type": "stream",
     "text": [
      "Loading model cost 1.277 seconds.\n",
      "Prefix dict has been built succesfully.\n",
      "Building prefix dict from C:\\Users\\PETER\\OneDrive\\桌面\\Klook 7\\dict.txt.big ...\n",
      "Loading model from cache C:\\Users\\PETER\\AppData\\Local\\Temp\\jieba.u6fb6e872883c6d9c08ea8e016e70c5c1.cache\n"
     ]
    },
    {
     "name": "stdout",
     "output_type": "stream",
     "text": [
      "3911\n"
     ]
    },
    {
     "name": "stderr",
     "output_type": "stream",
     "text": [
      "Loading model cost 1.278 seconds.\n",
      "Prefix dict has been built succesfully.\n",
      "Building prefix dict from C:\\Users\\PETER\\OneDrive\\桌面\\Klook 7\\dict.txt.big ...\n",
      "Loading model from cache C:\\Users\\PETER\\AppData\\Local\\Temp\\jieba.u6fb6e872883c6d9c08ea8e016e70c5c1.cache\n"
     ]
    },
    {
     "name": "stdout",
     "output_type": "stream",
     "text": [
      "3975\n"
     ]
    },
    {
     "name": "stderr",
     "output_type": "stream",
     "text": [
      "Loading model cost 1.283 seconds.\n",
      "Prefix dict has been built succesfully.\n",
      "Building prefix dict from C:\\Users\\PETER\\OneDrive\\桌面\\Klook 7\\dict.txt.big ...\n",
      "Loading model from cache C:\\Users\\PETER\\AppData\\Local\\Temp\\jieba.u6fb6e872883c6d9c08ea8e016e70c5c1.cache\n"
     ]
    },
    {
     "name": "stdout",
     "output_type": "stream",
     "text": [
      "4043\n"
     ]
    },
    {
     "name": "stderr",
     "output_type": "stream",
     "text": [
      "Loading model cost 1.274 seconds.\n",
      "Prefix dict has been built succesfully.\n",
      "Building prefix dict from C:\\Users\\PETER\\OneDrive\\桌面\\Klook 7\\dict.txt.big ...\n",
      "Loading model from cache C:\\Users\\PETER\\AppData\\Local\\Temp\\jieba.u6fb6e872883c6d9c08ea8e016e70c5c1.cache\n"
     ]
    },
    {
     "name": "stdout",
     "output_type": "stream",
     "text": [
      "419\n"
     ]
    },
    {
     "name": "stderr",
     "output_type": "stream",
     "text": [
      "Loading model cost 1.270 seconds.\n",
      "Prefix dict has been built succesfully.\n",
      "Building prefix dict from C:\\Users\\PETER\\OneDrive\\桌面\\Klook 7\\dict.txt.big ...\n",
      "Loading model from cache C:\\Users\\PETER\\AppData\\Local\\Temp\\jieba.u6fb6e872883c6d9c08ea8e016e70c5c1.cache\n"
     ]
    },
    {
     "name": "stdout",
     "output_type": "stream",
     "text": [
      "420\n"
     ]
    },
    {
     "name": "stderr",
     "output_type": "stream",
     "text": [
      "Loading model cost 1.273 seconds.\n",
      "Prefix dict has been built succesfully.\n",
      "Building prefix dict from C:\\Users\\PETER\\OneDrive\\桌面\\Klook 7\\dict.txt.big ...\n",
      "Loading model from cache C:\\Users\\PETER\\AppData\\Local\\Temp\\jieba.u6fb6e872883c6d9c08ea8e016e70c5c1.cache\n"
     ]
    },
    {
     "name": "stdout",
     "output_type": "stream",
     "text": [
      "421\n"
     ]
    },
    {
     "name": "stderr",
     "output_type": "stream",
     "text": [
      "Loading model cost 1.265 seconds.\n",
      "Prefix dict has been built succesfully.\n",
      "Building prefix dict from C:\\Users\\PETER\\OneDrive\\桌面\\Klook 7\\dict.txt.big ...\n",
      "Loading model from cache C:\\Users\\PETER\\AppData\\Local\\Temp\\jieba.u6fb6e872883c6d9c08ea8e016e70c5c1.cache\n"
     ]
    },
    {
     "name": "stdout",
     "output_type": "stream",
     "text": [
      "422\n"
     ]
    },
    {
     "name": "stderr",
     "output_type": "stream",
     "text": [
      "Loading model cost 1.269 seconds.\n",
      "Prefix dict has been built succesfully.\n",
      "Building prefix dict from C:\\Users\\PETER\\OneDrive\\桌面\\Klook 7\\dict.txt.big ...\n",
      "Loading model from cache C:\\Users\\PETER\\AppData\\Local\\Temp\\jieba.u6fb6e872883c6d9c08ea8e016e70c5c1.cache\n"
     ]
    },
    {
     "name": "stdout",
     "output_type": "stream",
     "text": [
      "423\n"
     ]
    },
    {
     "name": "stderr",
     "output_type": "stream",
     "text": [
      "Loading model cost 1.320 seconds.\n",
      "Prefix dict has been built succesfully.\n",
      "Building prefix dict from C:\\Users\\PETER\\OneDrive\\桌面\\Klook 7\\dict.txt.big ...\n",
      "Loading model from cache C:\\Users\\PETER\\AppData\\Local\\Temp\\jieba.u6fb6e872883c6d9c08ea8e016e70c5c1.cache\n"
     ]
    },
    {
     "name": "stdout",
     "output_type": "stream",
     "text": [
      "424\n"
     ]
    },
    {
     "name": "stderr",
     "output_type": "stream",
     "text": [
      "Loading model cost 1.262 seconds.\n",
      "Prefix dict has been built succesfully.\n",
      "Building prefix dict from C:\\Users\\PETER\\OneDrive\\桌面\\Klook 7\\dict.txt.big ...\n",
      "Loading model from cache C:\\Users\\PETER\\AppData\\Local\\Temp\\jieba.u6fb6e872883c6d9c08ea8e016e70c5c1.cache\n"
     ]
    },
    {
     "name": "stdout",
     "output_type": "stream",
     "text": [
      "436\n"
     ]
    },
    {
     "name": "stderr",
     "output_type": "stream",
     "text": [
      "Loading model cost 1.270 seconds.\n",
      "Prefix dict has been built succesfully.\n",
      "Building prefix dict from C:\\Users\\PETER\\OneDrive\\桌面\\Klook 7\\dict.txt.big ...\n",
      "Loading model from cache C:\\Users\\PETER\\AppData\\Local\\Temp\\jieba.u6fb6e872883c6d9c08ea8e016e70c5c1.cache\n"
     ]
    },
    {
     "name": "stdout",
     "output_type": "stream",
     "text": [
      "440\n"
     ]
    },
    {
     "name": "stderr",
     "output_type": "stream",
     "text": [
      "Loading model cost 1.305 seconds.\n",
      "Prefix dict has been built succesfully.\n",
      "Building prefix dict from C:\\Users\\PETER\\OneDrive\\桌面\\Klook 7\\dict.txt.big ...\n",
      "Loading model from cache C:\\Users\\PETER\\AppData\\Local\\Temp\\jieba.u6fb6e872883c6d9c08ea8e016e70c5c1.cache\n"
     ]
    },
    {
     "name": "stdout",
     "output_type": "stream",
     "text": [
      "441\n"
     ]
    },
    {
     "name": "stderr",
     "output_type": "stream",
     "text": [
      "Loading model cost 1.273 seconds.\n",
      "Prefix dict has been built succesfully.\n",
      "Building prefix dict from C:\\Users\\PETER\\OneDrive\\桌面\\Klook 7\\dict.txt.big ...\n",
      "Loading model from cache C:\\Users\\PETER\\AppData\\Local\\Temp\\jieba.u6fb6e872883c6d9c08ea8e016e70c5c1.cache\n"
     ]
    },
    {
     "name": "stdout",
     "output_type": "stream",
     "text": [
      "444\n"
     ]
    },
    {
     "name": "stderr",
     "output_type": "stream",
     "text": [
      "Loading model cost 1.287 seconds.\n",
      "Prefix dict has been built succesfully.\n",
      "Building prefix dict from C:\\Users\\PETER\\OneDrive\\桌面\\Klook 7\\dict.txt.big ...\n",
      "Loading model from cache C:\\Users\\PETER\\AppData\\Local\\Temp\\jieba.u6fb6e872883c6d9c08ea8e016e70c5c1.cache\n"
     ]
    },
    {
     "name": "stdout",
     "output_type": "stream",
     "text": [
      "445\n"
     ]
    },
    {
     "name": "stderr",
     "output_type": "stream",
     "text": [
      "Loading model cost 1.279 seconds.\n",
      "Prefix dict has been built succesfully.\n",
      "Building prefix dict from C:\\Users\\PETER\\OneDrive\\桌面\\Klook 7\\dict.txt.big ...\n",
      "Loading model from cache C:\\Users\\PETER\\AppData\\Local\\Temp\\jieba.u6fb6e872883c6d9c08ea8e016e70c5c1.cache\n"
     ]
    },
    {
     "name": "stdout",
     "output_type": "stream",
     "text": [
      "447\n"
     ]
    },
    {
     "name": "stderr",
     "output_type": "stream",
     "text": [
      "Loading model cost 1.271 seconds.\n",
      "Prefix dict has been built succesfully.\n",
      "Building prefix dict from C:\\Users\\PETER\\OneDrive\\桌面\\Klook 7\\dict.txt.big ...\n",
      "Loading model from cache C:\\Users\\PETER\\AppData\\Local\\Temp\\jieba.u6fb6e872883c6d9c08ea8e016e70c5c1.cache\n"
     ]
    },
    {
     "name": "stdout",
     "output_type": "stream",
     "text": [
      "456\n"
     ]
    },
    {
     "name": "stderr",
     "output_type": "stream",
     "text": [
      "Loading model cost 1.278 seconds.\n",
      "Prefix dict has been built succesfully.\n",
      "Building prefix dict from C:\\Users\\PETER\\OneDrive\\桌面\\Klook 7\\dict.txt.big ...\n",
      "Loading model from cache C:\\Users\\PETER\\AppData\\Local\\Temp\\jieba.u6fb6e872883c6d9c08ea8e016e70c5c1.cache\n"
     ]
    },
    {
     "name": "stdout",
     "output_type": "stream",
     "text": [
      "458\n"
     ]
    },
    {
     "name": "stderr",
     "output_type": "stream",
     "text": [
      "Loading model cost 1.265 seconds.\n",
      "Prefix dict has been built succesfully.\n",
      "Building prefix dict from C:\\Users\\PETER\\OneDrive\\桌面\\Klook 7\\dict.txt.big ...\n",
      "Loading model from cache C:\\Users\\PETER\\AppData\\Local\\Temp\\jieba.u6fb6e872883c6d9c08ea8e016e70c5c1.cache\n"
     ]
    },
    {
     "name": "stdout",
     "output_type": "stream",
     "text": [
      "459\n"
     ]
    },
    {
     "name": "stderr",
     "output_type": "stream",
     "text": [
      "Loading model cost 1.277 seconds.\n",
      "Prefix dict has been built succesfully.\n",
      "Building prefix dict from C:\\Users\\PETER\\OneDrive\\桌面\\Klook 7\\dict.txt.big ...\n",
      "Loading model from cache C:\\Users\\PETER\\AppData\\Local\\Temp\\jieba.u6fb6e872883c6d9c08ea8e016e70c5c1.cache\n"
     ]
    },
    {
     "name": "stdout",
     "output_type": "stream",
     "text": [
      "460\n"
     ]
    },
    {
     "name": "stderr",
     "output_type": "stream",
     "text": [
      "Loading model cost 1.291 seconds.\n",
      "Prefix dict has been built succesfully.\n",
      "Building prefix dict from C:\\Users\\PETER\\OneDrive\\桌面\\Klook 7\\dict.txt.big ...\n",
      "Loading model from cache C:\\Users\\PETER\\AppData\\Local\\Temp\\jieba.u6fb6e872883c6d9c08ea8e016e70c5c1.cache\n"
     ]
    },
    {
     "name": "stdout",
     "output_type": "stream",
     "text": [
      "4603\n"
     ]
    },
    {
     "name": "stderr",
     "output_type": "stream",
     "text": [
      "Loading model cost 1.283 seconds.\n",
      "Prefix dict has been built succesfully.\n",
      "Building prefix dict from C:\\Users\\PETER\\OneDrive\\桌面\\Klook 7\\dict.txt.big ...\n",
      "Loading model from cache C:\\Users\\PETER\\AppData\\Local\\Temp\\jieba.u6fb6e872883c6d9c08ea8e016e70c5c1.cache\n"
     ]
    },
    {
     "name": "stdout",
     "output_type": "stream",
     "text": [
      "461\n"
     ]
    },
    {
     "name": "stderr",
     "output_type": "stream",
     "text": [
      "Loading model cost 1.293 seconds.\n",
      "Prefix dict has been built succesfully.\n",
      "Building prefix dict from C:\\Users\\PETER\\OneDrive\\桌面\\Klook 7\\dict.txt.big ...\n",
      "Loading model from cache C:\\Users\\PETER\\AppData\\Local\\Temp\\jieba.u6fb6e872883c6d9c08ea8e016e70c5c1.cache\n"
     ]
    },
    {
     "name": "stdout",
     "output_type": "stream",
     "text": [
      "462\n"
     ]
    },
    {
     "name": "stderr",
     "output_type": "stream",
     "text": [
      "Loading model cost 1.274 seconds.\n",
      "Prefix dict has been built succesfully.\n",
      "Building prefix dict from C:\\Users\\PETER\\OneDrive\\桌面\\Klook 7\\dict.txt.big ...\n",
      "Loading model from cache C:\\Users\\PETER\\AppData\\Local\\Temp\\jieba.u6fb6e872883c6d9c08ea8e016e70c5c1.cache\n"
     ]
    },
    {
     "name": "stdout",
     "output_type": "stream",
     "text": [
      "4698\n"
     ]
    },
    {
     "name": "stderr",
     "output_type": "stream",
     "text": [
      "Loading model cost 1.282 seconds.\n",
      "Prefix dict has been built succesfully.\n",
      "Building prefix dict from C:\\Users\\PETER\\OneDrive\\桌面\\Klook 7\\dict.txt.big ...\n",
      "Loading model from cache C:\\Users\\PETER\\AppData\\Local\\Temp\\jieba.u6fb6e872883c6d9c08ea8e016e70c5c1.cache\n"
     ]
    },
    {
     "name": "stdout",
     "output_type": "stream",
     "text": [
      "471\n"
     ]
    },
    {
     "name": "stderr",
     "output_type": "stream",
     "text": [
      "Loading model cost 1.279 seconds.\n",
      "Prefix dict has been built succesfully.\n",
      "Building prefix dict from C:\\Users\\PETER\\OneDrive\\桌面\\Klook 7\\dict.txt.big ...\n",
      "Loading model from cache C:\\Users\\PETER\\AppData\\Local\\Temp\\jieba.u6fb6e872883c6d9c08ea8e016e70c5c1.cache\n"
     ]
    },
    {
     "name": "stdout",
     "output_type": "stream",
     "text": [
      "472\n"
     ]
    },
    {
     "name": "stderr",
     "output_type": "stream",
     "text": [
      "Loading model cost 1.272 seconds.\n",
      "Prefix dict has been built succesfully.\n",
      "Building prefix dict from C:\\Users\\PETER\\OneDrive\\桌面\\Klook 7\\dict.txt.big ...\n",
      "Loading model from cache C:\\Users\\PETER\\AppData\\Local\\Temp\\jieba.u6fb6e872883c6d9c08ea8e016e70c5c1.cache\n"
     ]
    },
    {
     "name": "stdout",
     "output_type": "stream",
     "text": [
      "4738\n"
     ]
    },
    {
     "name": "stderr",
     "output_type": "stream",
     "text": [
      "Loading model cost 1.280 seconds.\n",
      "Prefix dict has been built succesfully.\n",
      "Building prefix dict from C:\\Users\\PETER\\OneDrive\\桌面\\Klook 7\\dict.txt.big ...\n",
      "Loading model from cache C:\\Users\\PETER\\AppData\\Local\\Temp\\jieba.u6fb6e872883c6d9c08ea8e016e70c5c1.cache\n"
     ]
    },
    {
     "name": "stdout",
     "output_type": "stream",
     "text": [
      "476\n"
     ]
    },
    {
     "name": "stderr",
     "output_type": "stream",
     "text": [
      "Loading model cost 1.292 seconds.\n",
      "Prefix dict has been built succesfully.\n",
      "Building prefix dict from C:\\Users\\PETER\\OneDrive\\桌面\\Klook 7\\dict.txt.big ...\n",
      "Loading model from cache C:\\Users\\PETER\\AppData\\Local\\Temp\\jieba.u6fb6e872883c6d9c08ea8e016e70c5c1.cache\n"
     ]
    },
    {
     "name": "stdout",
     "output_type": "stream",
     "text": [
      "477\n"
     ]
    },
    {
     "name": "stderr",
     "output_type": "stream",
     "text": [
      "Loading model cost 1.279 seconds.\n",
      "Prefix dict has been built succesfully.\n",
      "Building prefix dict from C:\\Users\\PETER\\OneDrive\\桌面\\Klook 7\\dict.txt.big ...\n",
      "Loading model from cache C:\\Users\\PETER\\AppData\\Local\\Temp\\jieba.u6fb6e872883c6d9c08ea8e016e70c5c1.cache\n"
     ]
    },
    {
     "name": "stdout",
     "output_type": "stream",
     "text": [
      "478\n"
     ]
    },
    {
     "name": "stderr",
     "output_type": "stream",
     "text": [
      "Loading model cost 1.333 seconds.\n",
      "Prefix dict has been built succesfully.\n",
      "Building prefix dict from C:\\Users\\PETER\\OneDrive\\桌面\\Klook 7\\dict.txt.big ...\n",
      "Loading model from cache C:\\Users\\PETER\\AppData\\Local\\Temp\\jieba.u6fb6e872883c6d9c08ea8e016e70c5c1.cache\n"
     ]
    },
    {
     "name": "stdout",
     "output_type": "stream",
     "text": [
      "479\n"
     ]
    },
    {
     "name": "stderr",
     "output_type": "stream",
     "text": [
      "Loading model cost 1.289 seconds.\n",
      "Prefix dict has been built succesfully.\n",
      "Building prefix dict from C:\\Users\\PETER\\OneDrive\\桌面\\Klook 7\\dict.txt.big ...\n",
      "Loading model from cache C:\\Users\\PETER\\AppData\\Local\\Temp\\jieba.u6fb6e872883c6d9c08ea8e016e70c5c1.cache\n"
     ]
    },
    {
     "name": "stdout",
     "output_type": "stream",
     "text": [
      "480\n"
     ]
    },
    {
     "name": "stderr",
     "output_type": "stream",
     "text": [
      "Loading model cost 1.296 seconds.\n",
      "Prefix dict has been built succesfully.\n",
      "Building prefix dict from C:\\Users\\PETER\\OneDrive\\桌面\\Klook 7\\dict.txt.big ...\n",
      "Loading model from cache C:\\Users\\PETER\\AppData\\Local\\Temp\\jieba.u6fb6e872883c6d9c08ea8e016e70c5c1.cache\n"
     ]
    },
    {
     "name": "stdout",
     "output_type": "stream",
     "text": [
      "481\n"
     ]
    },
    {
     "name": "stderr",
     "output_type": "stream",
     "text": [
      "Loading model cost 1.282 seconds.\n",
      "Prefix dict has been built succesfully.\n",
      "Building prefix dict from C:\\Users\\PETER\\OneDrive\\桌面\\Klook 7\\dict.txt.big ...\n",
      "Loading model from cache C:\\Users\\PETER\\AppData\\Local\\Temp\\jieba.u6fb6e872883c6d9c08ea8e016e70c5c1.cache\n"
     ]
    },
    {
     "name": "stdout",
     "output_type": "stream",
     "text": [
      "482\n"
     ]
    },
    {
     "name": "stderr",
     "output_type": "stream",
     "text": [
      "Loading model cost 1.264 seconds.\n",
      "Prefix dict has been built succesfully.\n",
      "Building prefix dict from C:\\Users\\PETER\\OneDrive\\桌面\\Klook 7\\dict.txt.big ...\n",
      "Loading model from cache C:\\Users\\PETER\\AppData\\Local\\Temp\\jieba.u6fb6e872883c6d9c08ea8e016e70c5c1.cache\n"
     ]
    },
    {
     "name": "stdout",
     "output_type": "stream",
     "text": [
      "483\n"
     ]
    },
    {
     "name": "stderr",
     "output_type": "stream",
     "text": [
      "Loading model cost 1.287 seconds.\n",
      "Prefix dict has been built succesfully.\n",
      "Building prefix dict from C:\\Users\\PETER\\OneDrive\\桌面\\Klook 7\\dict.txt.big ...\n",
      "Loading model from cache C:\\Users\\PETER\\AppData\\Local\\Temp\\jieba.u6fb6e872883c6d9c08ea8e016e70c5c1.cache\n"
     ]
    },
    {
     "name": "stdout",
     "output_type": "stream",
     "text": [
      "488\n"
     ]
    },
    {
     "name": "stderr",
     "output_type": "stream",
     "text": [
      "Loading model cost 1.278 seconds.\n",
      "Prefix dict has been built succesfully.\n",
      "Building prefix dict from C:\\Users\\PETER\\OneDrive\\桌面\\Klook 7\\dict.txt.big ...\n",
      "Loading model from cache C:\\Users\\PETER\\AppData\\Local\\Temp\\jieba.u6fb6e872883c6d9c08ea8e016e70c5c1.cache\n"
     ]
    },
    {
     "name": "stdout",
     "output_type": "stream",
     "text": [
      "490\n"
     ]
    },
    {
     "name": "stderr",
     "output_type": "stream",
     "text": [
      "Loading model cost 1.265 seconds.\n",
      "Prefix dict has been built succesfully.\n",
      "Building prefix dict from C:\\Users\\PETER\\OneDrive\\桌面\\Klook 7\\dict.txt.big ...\n",
      "Loading model from cache C:\\Users\\PETER\\AppData\\Local\\Temp\\jieba.u6fb6e872883c6d9c08ea8e016e70c5c1.cache\n"
     ]
    },
    {
     "name": "stdout",
     "output_type": "stream",
     "text": [
      "491\n"
     ]
    },
    {
     "name": "stderr",
     "output_type": "stream",
     "text": [
      "Loading model cost 1.313 seconds.\n",
      "Prefix dict has been built succesfully.\n",
      "Building prefix dict from C:\\Users\\PETER\\OneDrive\\桌面\\Klook 7\\dict.txt.big ...\n",
      "Loading model from cache C:\\Users\\PETER\\AppData\\Local\\Temp\\jieba.u6fb6e872883c6d9c08ea8e016e70c5c1.cache\n"
     ]
    },
    {
     "name": "stdout",
     "output_type": "stream",
     "text": [
      "492\n"
     ]
    },
    {
     "name": "stderr",
     "output_type": "stream",
     "text": [
      "Loading model cost 1.268 seconds.\n",
      "Prefix dict has been built succesfully.\n",
      "Building prefix dict from C:\\Users\\PETER\\OneDrive\\桌面\\Klook 7\\dict.txt.big ...\n",
      "Loading model from cache C:\\Users\\PETER\\AppData\\Local\\Temp\\jieba.u6fb6e872883c6d9c08ea8e016e70c5c1.cache\n"
     ]
    },
    {
     "name": "stdout",
     "output_type": "stream",
     "text": [
      "493\n"
     ]
    },
    {
     "name": "stderr",
     "output_type": "stream",
     "text": [
      "Loading model cost 1.275 seconds.\n",
      "Prefix dict has been built succesfully.\n",
      "Building prefix dict from C:\\Users\\PETER\\OneDrive\\桌面\\Klook 7\\dict.txt.big ...\n",
      "Loading model from cache C:\\Users\\PETER\\AppData\\Local\\Temp\\jieba.u6fb6e872883c6d9c08ea8e016e70c5c1.cache\n"
     ]
    },
    {
     "name": "stdout",
     "output_type": "stream",
     "text": [
      "494\n"
     ]
    },
    {
     "name": "stderr",
     "output_type": "stream",
     "text": [
      "Loading model cost 1.282 seconds.\n",
      "Prefix dict has been built succesfully.\n",
      "Building prefix dict from C:\\Users\\PETER\\OneDrive\\桌面\\Klook 7\\dict.txt.big ...\n",
      "Loading model from cache C:\\Users\\PETER\\AppData\\Local\\Temp\\jieba.u6fb6e872883c6d9c08ea8e016e70c5c1.cache\n"
     ]
    },
    {
     "name": "stdout",
     "output_type": "stream",
     "text": [
      "495\n"
     ]
    },
    {
     "name": "stderr",
     "output_type": "stream",
     "text": [
      "Loading model cost 1.285 seconds.\n",
      "Prefix dict has been built succesfully.\n",
      "Building prefix dict from C:\\Users\\PETER\\OneDrive\\桌面\\Klook 7\\dict.txt.big ...\n",
      "Loading model from cache C:\\Users\\PETER\\AppData\\Local\\Temp\\jieba.u6fb6e872883c6d9c08ea8e016e70c5c1.cache\n"
     ]
    },
    {
     "name": "stdout",
     "output_type": "stream",
     "text": [
      "498\n"
     ]
    },
    {
     "name": "stderr",
     "output_type": "stream",
     "text": [
      "Loading model cost 1.291 seconds.\n",
      "Prefix dict has been built succesfully.\n",
      "Building prefix dict from C:\\Users\\PETER\\OneDrive\\桌面\\Klook 7\\dict.txt.big ...\n",
      "Loading model from cache C:\\Users\\PETER\\AppData\\Local\\Temp\\jieba.u6fb6e872883c6d9c08ea8e016e70c5c1.cache\n"
     ]
    },
    {
     "name": "stdout",
     "output_type": "stream",
     "text": [
      "5485\n"
     ]
    },
    {
     "name": "stderr",
     "output_type": "stream",
     "text": [
      "Loading model cost 1.265 seconds.\n",
      "Prefix dict has been built succesfully.\n",
      "Building prefix dict from C:\\Users\\PETER\\OneDrive\\桌面\\Klook 7\\dict.txt.big ...\n",
      "Loading model from cache C:\\Users\\PETER\\AppData\\Local\\Temp\\jieba.u6fb6e872883c6d9c08ea8e016e70c5c1.cache\n"
     ]
    },
    {
     "name": "stdout",
     "output_type": "stream",
     "text": [
      "5489\n"
     ]
    },
    {
     "name": "stderr",
     "output_type": "stream",
     "text": [
      "Loading model cost 1.271 seconds.\n",
      "Prefix dict has been built succesfully.\n",
      "Building prefix dict from C:\\Users\\PETER\\OneDrive\\桌面\\Klook 7\\dict.txt.big ...\n",
      "Loading model from cache C:\\Users\\PETER\\AppData\\Local\\Temp\\jieba.u6fb6e872883c6d9c08ea8e016e70c5c1.cache\n"
     ]
    },
    {
     "name": "stdout",
     "output_type": "stream",
     "text": [
      "5497\n"
     ]
    },
    {
     "name": "stderr",
     "output_type": "stream",
     "text": [
      "Loading model cost 1.304 seconds.\n",
      "Prefix dict has been built succesfully.\n",
      "Building prefix dict from C:\\Users\\PETER\\OneDrive\\桌面\\Klook 7\\dict.txt.big ...\n",
      "Loading model from cache C:\\Users\\PETER\\AppData\\Local\\Temp\\jieba.u6fb6e872883c6d9c08ea8e016e70c5c1.cache\n"
     ]
    },
    {
     "name": "stdout",
     "output_type": "stream",
     "text": [
      "555\n"
     ]
    },
    {
     "name": "stderr",
     "output_type": "stream",
     "text": [
      "Loading model cost 1.318 seconds.\n",
      "Prefix dict has been built succesfully.\n",
      "Building prefix dict from C:\\Users\\PETER\\OneDrive\\桌面\\Klook 7\\dict.txt.big ...\n",
      "Loading model from cache C:\\Users\\PETER\\AppData\\Local\\Temp\\jieba.u6fb6e872883c6d9c08ea8e016e70c5c1.cache\n"
     ]
    },
    {
     "name": "stdout",
     "output_type": "stream",
     "text": [
      "556\n"
     ]
    },
    {
     "name": "stderr",
     "output_type": "stream",
     "text": [
      "Loading model cost 1.284 seconds.\n",
      "Prefix dict has been built succesfully.\n",
      "Building prefix dict from C:\\Users\\PETER\\OneDrive\\桌面\\Klook 7\\dict.txt.big ...\n",
      "Loading model from cache C:\\Users\\PETER\\AppData\\Local\\Temp\\jieba.u6fb6e872883c6d9c08ea8e016e70c5c1.cache\n"
     ]
    },
    {
     "name": "stdout",
     "output_type": "stream",
     "text": [
      "561\n"
     ]
    },
    {
     "name": "stderr",
     "output_type": "stream",
     "text": [
      "Loading model cost 1.281 seconds.\n",
      "Prefix dict has been built succesfully.\n",
      "Building prefix dict from C:\\Users\\PETER\\OneDrive\\桌面\\Klook 7\\dict.txt.big ...\n",
      "Loading model from cache C:\\Users\\PETER\\AppData\\Local\\Temp\\jieba.u6fb6e872883c6d9c08ea8e016e70c5c1.cache\n"
     ]
    },
    {
     "name": "stdout",
     "output_type": "stream",
     "text": [
      "5639\n"
     ]
    },
    {
     "name": "stderr",
     "output_type": "stream",
     "text": [
      "Loading model cost 1.272 seconds.\n",
      "Prefix dict has been built succesfully.\n",
      "Building prefix dict from C:\\Users\\PETER\\OneDrive\\桌面\\Klook 7\\dict.txt.big ...\n",
      "Loading model from cache C:\\Users\\PETER\\AppData\\Local\\Temp\\jieba.u6fb6e872883c6d9c08ea8e016e70c5c1.cache\n"
     ]
    },
    {
     "name": "stdout",
     "output_type": "stream",
     "text": [
      "5657\n"
     ]
    },
    {
     "name": "stderr",
     "output_type": "stream",
     "text": [
      "Loading model cost 1.274 seconds.\n",
      "Prefix dict has been built succesfully.\n",
      "Building prefix dict from C:\\Users\\PETER\\OneDrive\\桌面\\Klook 7\\dict.txt.big ...\n",
      "Loading model from cache C:\\Users\\PETER\\AppData\\Local\\Temp\\jieba.u6fb6e872883c6d9c08ea8e016e70c5c1.cache\n"
     ]
    },
    {
     "name": "stdout",
     "output_type": "stream",
     "text": [
      "5674\n"
     ]
    },
    {
     "name": "stderr",
     "output_type": "stream",
     "text": [
      "Loading model cost 1.280 seconds.\n",
      "Prefix dict has been built succesfully.\n",
      "Building prefix dict from C:\\Users\\PETER\\OneDrive\\桌面\\Klook 7\\dict.txt.big ...\n",
      "Loading model from cache C:\\Users\\PETER\\AppData\\Local\\Temp\\jieba.u6fb6e872883c6d9c08ea8e016e70c5c1.cache\n"
     ]
    },
    {
     "name": "stdout",
     "output_type": "stream",
     "text": [
      "5695\n"
     ]
    },
    {
     "name": "stderr",
     "output_type": "stream",
     "text": [
      "Loading model cost 1.282 seconds.\n",
      "Prefix dict has been built succesfully.\n",
      "Building prefix dict from C:\\Users\\PETER\\OneDrive\\桌面\\Klook 7\\dict.txt.big ...\n",
      "Loading model from cache C:\\Users\\PETER\\AppData\\Local\\Temp\\jieba.u6fb6e872883c6d9c08ea8e016e70c5c1.cache\n"
     ]
    },
    {
     "name": "stdout",
     "output_type": "stream",
     "text": [
      "5874\n"
     ]
    },
    {
     "name": "stderr",
     "output_type": "stream",
     "text": [
      "Loading model cost 1.302 seconds.\n",
      "Prefix dict has been built succesfully.\n",
      "Building prefix dict from C:\\Users\\PETER\\OneDrive\\桌面\\Klook 7\\dict.txt.big ...\n",
      "Loading model from cache C:\\Users\\PETER\\AppData\\Local\\Temp\\jieba.u6fb6e872883c6d9c08ea8e016e70c5c1.cache\n"
     ]
    },
    {
     "name": "stdout",
     "output_type": "stream",
     "text": [
      "5918\n"
     ]
    },
    {
     "name": "stderr",
     "output_type": "stream",
     "text": [
      "Loading model cost 1.267 seconds.\n",
      "Prefix dict has been built succesfully.\n",
      "Building prefix dict from C:\\Users\\PETER\\OneDrive\\桌面\\Klook 7\\dict.txt.big ...\n",
      "Loading model from cache C:\\Users\\PETER\\AppData\\Local\\Temp\\jieba.u6fb6e872883c6d9c08ea8e016e70c5c1.cache\n"
     ]
    },
    {
     "name": "stdout",
     "output_type": "stream",
     "text": [
      "6335\n"
     ]
    },
    {
     "name": "stderr",
     "output_type": "stream",
     "text": [
      "Loading model cost 1.282 seconds.\n",
      "Prefix dict has been built succesfully.\n",
      "Building prefix dict from C:\\Users\\PETER\\OneDrive\\桌面\\Klook 7\\dict.txt.big ...\n",
      "Loading model from cache C:\\Users\\PETER\\AppData\\Local\\Temp\\jieba.u6fb6e872883c6d9c08ea8e016e70c5c1.cache\n"
     ]
    },
    {
     "name": "stdout",
     "output_type": "stream",
     "text": [
      "6362\n"
     ]
    },
    {
     "name": "stderr",
     "output_type": "stream",
     "text": [
      "Loading model cost 1.331 seconds.\n",
      "Prefix dict has been built succesfully.\n",
      "Building prefix dict from C:\\Users\\PETER\\OneDrive\\桌面\\Klook 7\\dict.txt.big ...\n",
      "Loading model from cache C:\\Users\\PETER\\AppData\\Local\\Temp\\jieba.u6fb6e872883c6d9c08ea8e016e70c5c1.cache\n"
     ]
    },
    {
     "name": "stdout",
     "output_type": "stream",
     "text": [
      "6561\n"
     ]
    },
    {
     "name": "stderr",
     "output_type": "stream",
     "text": [
      "Loading model cost 1.272 seconds.\n",
      "Prefix dict has been built succesfully.\n",
      "Building prefix dict from C:\\Users\\PETER\\OneDrive\\桌面\\Klook 7\\dict.txt.big ...\n",
      "Loading model from cache C:\\Users\\PETER\\AppData\\Local\\Temp\\jieba.u6fb6e872883c6d9c08ea8e016e70c5c1.cache\n"
     ]
    },
    {
     "name": "stdout",
     "output_type": "stream",
     "text": [
      "6568\n"
     ]
    },
    {
     "name": "stderr",
     "output_type": "stream",
     "text": [
      "Loading model cost 1.291 seconds.\n",
      "Prefix dict has been built succesfully.\n",
      "Building prefix dict from C:\\Users\\PETER\\OneDrive\\桌面\\Klook 7\\dict.txt.big ...\n",
      "Loading model from cache C:\\Users\\PETER\\AppData\\Local\\Temp\\jieba.u6fb6e872883c6d9c08ea8e016e70c5c1.cache\n"
     ]
    },
    {
     "name": "stdout",
     "output_type": "stream",
     "text": [
      "6660\n"
     ]
    },
    {
     "name": "stderr",
     "output_type": "stream",
     "text": [
      "Loading model cost 1.317 seconds.\n",
      "Prefix dict has been built succesfully.\n",
      "Building prefix dict from C:\\Users\\PETER\\OneDrive\\桌面\\Klook 7\\dict.txt.big ...\n",
      "Loading model from cache C:\\Users\\PETER\\AppData\\Local\\Temp\\jieba.u6fb6e872883c6d9c08ea8e016e70c5c1.cache\n"
     ]
    },
    {
     "name": "stdout",
     "output_type": "stream",
     "text": [
      "6685\n"
     ]
    },
    {
     "name": "stderr",
     "output_type": "stream",
     "text": [
      "Loading model cost 1.278 seconds.\n",
      "Prefix dict has been built succesfully.\n",
      "Building prefix dict from C:\\Users\\PETER\\OneDrive\\桌面\\Klook 7\\dict.txt.big ...\n",
      "Loading model from cache C:\\Users\\PETER\\AppData\\Local\\Temp\\jieba.u6fb6e872883c6d9c08ea8e016e70c5c1.cache\n"
     ]
    },
    {
     "name": "stdout",
     "output_type": "stream",
     "text": [
      "6700\n"
     ]
    },
    {
     "name": "stderr",
     "output_type": "stream",
     "text": [
      "Loading model cost 1.276 seconds.\n",
      "Prefix dict has been built succesfully.\n",
      "Building prefix dict from C:\\Users\\PETER\\OneDrive\\桌面\\Klook 7\\dict.txt.big ...\n",
      "Loading model from cache C:\\Users\\PETER\\AppData\\Local\\Temp\\jieba.u6fb6e872883c6d9c08ea8e016e70c5c1.cache\n"
     ]
    },
    {
     "name": "stdout",
     "output_type": "stream",
     "text": [
      "6833\n"
     ]
    },
    {
     "name": "stderr",
     "output_type": "stream",
     "text": [
      "Loading model cost 1.282 seconds.\n",
      "Prefix dict has been built succesfully.\n",
      "Building prefix dict from C:\\Users\\PETER\\OneDrive\\桌面\\Klook 7\\dict.txt.big ...\n",
      "Loading model from cache C:\\Users\\PETER\\AppData\\Local\\Temp\\jieba.u6fb6e872883c6d9c08ea8e016e70c5c1.cache\n"
     ]
    },
    {
     "name": "stdout",
     "output_type": "stream",
     "text": [
      "696\n"
     ]
    },
    {
     "name": "stderr",
     "output_type": "stream",
     "text": [
      "Loading model cost 1.273 seconds.\n",
      "Prefix dict has been built succesfully.\n",
      "Building prefix dict from C:\\Users\\PETER\\OneDrive\\桌面\\Klook 7\\dict.txt.big ...\n",
      "Loading model from cache C:\\Users\\PETER\\AppData\\Local\\Temp\\jieba.u6fb6e872883c6d9c08ea8e016e70c5c1.cache\n"
     ]
    },
    {
     "name": "stdout",
     "output_type": "stream",
     "text": [
      "697\n"
     ]
    },
    {
     "name": "stderr",
     "output_type": "stream",
     "text": [
      "Loading model cost 1.289 seconds.\n",
      "Prefix dict has been built succesfully.\n",
      "Building prefix dict from C:\\Users\\PETER\\OneDrive\\桌面\\Klook 7\\dict.txt.big ...\n",
      "Loading model from cache C:\\Users\\PETER\\AppData\\Local\\Temp\\jieba.u6fb6e872883c6d9c08ea8e016e70c5c1.cache\n"
     ]
    },
    {
     "name": "stdout",
     "output_type": "stream",
     "text": [
      "703\n"
     ]
    },
    {
     "name": "stderr",
     "output_type": "stream",
     "text": [
      "Loading model cost 1.277 seconds.\n",
      "Prefix dict has been built succesfully.\n",
      "Building prefix dict from C:\\Users\\PETER\\OneDrive\\桌面\\Klook 7\\dict.txt.big ...\n",
      "Loading model from cache C:\\Users\\PETER\\AppData\\Local\\Temp\\jieba.u6fb6e872883c6d9c08ea8e016e70c5c1.cache\n"
     ]
    },
    {
     "name": "stdout",
     "output_type": "stream",
     "text": [
      "7142\n"
     ]
    },
    {
     "name": "stderr",
     "output_type": "stream",
     "text": [
      "Loading model cost 1.282 seconds.\n",
      "Prefix dict has been built succesfully.\n",
      "Building prefix dict from C:\\Users\\PETER\\OneDrive\\桌面\\Klook 7\\dict.txt.big ...\n",
      "Loading model from cache C:\\Users\\PETER\\AppData\\Local\\Temp\\jieba.u6fb6e872883c6d9c08ea8e016e70c5c1.cache\n"
     ]
    },
    {
     "name": "stdout",
     "output_type": "stream",
     "text": [
      "716\n"
     ]
    },
    {
     "name": "stderr",
     "output_type": "stream",
     "text": [
      "Loading model cost 1.284 seconds.\n",
      "Prefix dict has been built succesfully.\n",
      "Building prefix dict from C:\\Users\\PETER\\OneDrive\\桌面\\Klook 7\\dict.txt.big ...\n",
      "Loading model from cache C:\\Users\\PETER\\AppData\\Local\\Temp\\jieba.u6fb6e872883c6d9c08ea8e016e70c5c1.cache\n"
     ]
    },
    {
     "name": "stdout",
     "output_type": "stream",
     "text": [
      "7182\n"
     ]
    },
    {
     "name": "stderr",
     "output_type": "stream",
     "text": [
      "Loading model cost 1.269 seconds.\n",
      "Prefix dict has been built succesfully.\n",
      "Building prefix dict from C:\\Users\\PETER\\OneDrive\\桌面\\Klook 7\\dict.txt.big ...\n",
      "Loading model from cache C:\\Users\\PETER\\AppData\\Local\\Temp\\jieba.u6fb6e872883c6d9c08ea8e016e70c5c1.cache\n"
     ]
    },
    {
     "name": "stdout",
     "output_type": "stream",
     "text": [
      "7189\n"
     ]
    },
    {
     "name": "stderr",
     "output_type": "stream",
     "text": [
      "Loading model cost 1.291 seconds.\n",
      "Prefix dict has been built succesfully.\n",
      "Building prefix dict from C:\\Users\\PETER\\OneDrive\\桌面\\Klook 7\\dict.txt.big ...\n",
      "Loading model from cache C:\\Users\\PETER\\AppData\\Local\\Temp\\jieba.u6fb6e872883c6d9c08ea8e016e70c5c1.cache\n"
     ]
    },
    {
     "name": "stdout",
     "output_type": "stream",
     "text": [
      "7573\n"
     ]
    },
    {
     "name": "stderr",
     "output_type": "stream",
     "text": [
      "Loading model cost 1.312 seconds.\n",
      "Prefix dict has been built succesfully.\n",
      "Building prefix dict from C:\\Users\\PETER\\OneDrive\\桌面\\Klook 7\\dict.txt.big ...\n",
      "Loading model from cache C:\\Users\\PETER\\AppData\\Local\\Temp\\jieba.u6fb6e872883c6d9c08ea8e016e70c5c1.cache\n"
     ]
    },
    {
     "name": "stdout",
     "output_type": "stream",
     "text": [
      "759\n"
     ]
    },
    {
     "name": "stderr",
     "output_type": "stream",
     "text": [
      "Loading model cost 1.277 seconds.\n",
      "Prefix dict has been built succesfully.\n",
      "Building prefix dict from C:\\Users\\PETER\\OneDrive\\桌面\\Klook 7\\dict.txt.big ...\n",
      "Loading model from cache C:\\Users\\PETER\\AppData\\Local\\Temp\\jieba.u6fb6e872883c6d9c08ea8e016e70c5c1.cache\n"
     ]
    },
    {
     "name": "stdout",
     "output_type": "stream",
     "text": [
      "7917\n"
     ]
    },
    {
     "name": "stderr",
     "output_type": "stream",
     "text": [
      "Loading model cost 1.296 seconds.\n",
      "Prefix dict has been built succesfully.\n",
      "Building prefix dict from C:\\Users\\PETER\\OneDrive\\桌面\\Klook 7\\dict.txt.big ...\n",
      "Loading model from cache C:\\Users\\PETER\\AppData\\Local\\Temp\\jieba.u6fb6e872883c6d9c08ea8e016e70c5c1.cache\n"
     ]
    },
    {
     "name": "stdout",
     "output_type": "stream",
     "text": [
      "7935\n"
     ]
    },
    {
     "name": "stderr",
     "output_type": "stream",
     "text": [
      "Loading model cost 1.287 seconds.\n",
      "Prefix dict has been built succesfully.\n",
      "Building prefix dict from C:\\Users\\PETER\\OneDrive\\桌面\\Klook 7\\dict.txt.big ...\n",
      "Loading model from cache C:\\Users\\PETER\\AppData\\Local\\Temp\\jieba.u6fb6e872883c6d9c08ea8e016e70c5c1.cache\n"
     ]
    },
    {
     "name": "stdout",
     "output_type": "stream",
     "text": [
      "7936\n"
     ]
    },
    {
     "name": "stderr",
     "output_type": "stream",
     "text": [
      "Loading model cost 1.277 seconds.\n",
      "Prefix dict has been built succesfully.\n",
      "Building prefix dict from C:\\Users\\PETER\\OneDrive\\桌面\\Klook 7\\dict.txt.big ...\n",
      "Loading model from cache C:\\Users\\PETER\\AppData\\Local\\Temp\\jieba.u6fb6e872883c6d9c08ea8e016e70c5c1.cache\n"
     ]
    },
    {
     "name": "stdout",
     "output_type": "stream",
     "text": [
      "7950\n"
     ]
    },
    {
     "name": "stderr",
     "output_type": "stream",
     "text": [
      "Loading model cost 1.304 seconds.\n",
      "Prefix dict has been built succesfully.\n",
      "Building prefix dict from C:\\Users\\PETER\\OneDrive\\桌面\\Klook 7\\dict.txt.big ...\n",
      "Loading model from cache C:\\Users\\PETER\\AppData\\Local\\Temp\\jieba.u6fb6e872883c6d9c08ea8e016e70c5c1.cache\n"
     ]
    },
    {
     "name": "stdout",
     "output_type": "stream",
     "text": [
      "7962\n"
     ]
    },
    {
     "name": "stderr",
     "output_type": "stream",
     "text": [
      "Loading model cost 1.284 seconds.\n",
      "Prefix dict has been built succesfully.\n",
      "Building prefix dict from C:\\Users\\PETER\\OneDrive\\桌面\\Klook 7\\dict.txt.big ...\n",
      "Loading model from cache C:\\Users\\PETER\\AppData\\Local\\Temp\\jieba.u6fb6e872883c6d9c08ea8e016e70c5c1.cache\n"
     ]
    },
    {
     "name": "stdout",
     "output_type": "stream",
     "text": [
      "7981\n"
     ]
    },
    {
     "name": "stderr",
     "output_type": "stream",
     "text": [
      "Loading model cost 1.269 seconds.\n",
      "Prefix dict has been built succesfully.\n",
      "Building prefix dict from C:\\Users\\PETER\\OneDrive\\桌面\\Klook 7\\dict.txt.big ...\n",
      "Loading model from cache C:\\Users\\PETER\\AppData\\Local\\Temp\\jieba.u6fb6e872883c6d9c08ea8e016e70c5c1.cache\n"
     ]
    },
    {
     "name": "stdout",
     "output_type": "stream",
     "text": [
      "8015\n"
     ]
    },
    {
     "name": "stderr",
     "output_type": "stream",
     "text": [
      "Loading model cost 1.287 seconds.\n",
      "Prefix dict has been built succesfully.\n",
      "Building prefix dict from C:\\Users\\PETER\\OneDrive\\桌面\\Klook 7\\dict.txt.big ...\n",
      "Loading model from cache C:\\Users\\PETER\\AppData\\Local\\Temp\\jieba.u6fb6e872883c6d9c08ea8e016e70c5c1.cache\n"
     ]
    },
    {
     "name": "stdout",
     "output_type": "stream",
     "text": [
      "8019\n"
     ]
    },
    {
     "name": "stderr",
     "output_type": "stream",
     "text": [
      "Loading model cost 1.272 seconds.\n",
      "Prefix dict has been built succesfully.\n",
      "Building prefix dict from C:\\Users\\PETER\\OneDrive\\桌面\\Klook 7\\dict.txt.big ...\n",
      "Loading model from cache C:\\Users\\PETER\\AppData\\Local\\Temp\\jieba.u6fb6e872883c6d9c08ea8e016e70c5c1.cache\n"
     ]
    },
    {
     "name": "stdout",
     "output_type": "stream",
     "text": [
      "8074\n"
     ]
    },
    {
     "name": "stderr",
     "output_type": "stream",
     "text": [
      "Loading model cost 1.275 seconds.\n",
      "Prefix dict has been built succesfully.\n",
      "Building prefix dict from C:\\Users\\PETER\\OneDrive\\桌面\\Klook 7\\dict.txt.big ...\n",
      "Loading model from cache C:\\Users\\PETER\\AppData\\Local\\Temp\\jieba.u6fb6e872883c6d9c08ea8e016e70c5c1.cache\n"
     ]
    },
    {
     "name": "stdout",
     "output_type": "stream",
     "text": [
      "8109\n"
     ]
    },
    {
     "name": "stderr",
     "output_type": "stream",
     "text": [
      "Loading model cost 1.290 seconds.\n",
      "Prefix dict has been built succesfully.\n",
      "Building prefix dict from C:\\Users\\PETER\\OneDrive\\桌面\\Klook 7\\dict.txt.big ...\n",
      "Loading model from cache C:\\Users\\PETER\\AppData\\Local\\Temp\\jieba.u6fb6e872883c6d9c08ea8e016e70c5c1.cache\n"
     ]
    },
    {
     "name": "stdout",
     "output_type": "stream",
     "text": [
      "825\n"
     ]
    },
    {
     "name": "stderr",
     "output_type": "stream",
     "text": [
      "Loading model cost 1.257 seconds.\n",
      "Prefix dict has been built succesfully.\n",
      "Building prefix dict from C:\\Users\\PETER\\OneDrive\\桌面\\Klook 7\\dict.txt.big ...\n",
      "Loading model from cache C:\\Users\\PETER\\AppData\\Local\\Temp\\jieba.u6fb6e872883c6d9c08ea8e016e70c5c1.cache\n"
     ]
    },
    {
     "name": "stdout",
     "output_type": "stream",
     "text": [
      "826\n"
     ]
    },
    {
     "name": "stderr",
     "output_type": "stream",
     "text": [
      "Loading model cost 1.273 seconds.\n",
      "Prefix dict has been built succesfully.\n",
      "Building prefix dict from C:\\Users\\PETER\\OneDrive\\桌面\\Klook 7\\dict.txt.big ...\n",
      "Loading model from cache C:\\Users\\PETER\\AppData\\Local\\Temp\\jieba.u6fb6e872883c6d9c08ea8e016e70c5c1.cache\n"
     ]
    },
    {
     "name": "stdout",
     "output_type": "stream",
     "text": [
      "8302\n"
     ]
    },
    {
     "name": "stderr",
     "output_type": "stream",
     "text": [
      "Loading model cost 1.287 seconds.\n",
      "Prefix dict has been built succesfully.\n",
      "Building prefix dict from C:\\Users\\PETER\\OneDrive\\桌面\\Klook 7\\dict.txt.big ...\n",
      "Loading model from cache C:\\Users\\PETER\\AppData\\Local\\Temp\\jieba.u6fb6e872883c6d9c08ea8e016e70c5c1.cache\n"
     ]
    },
    {
     "name": "stdout",
     "output_type": "stream",
     "text": [
      "8325\n"
     ]
    },
    {
     "name": "stderr",
     "output_type": "stream",
     "text": [
      "Loading model cost 1.281 seconds.\n",
      "Prefix dict has been built succesfully.\n",
      "Building prefix dict from C:\\Users\\PETER\\OneDrive\\桌面\\Klook 7\\dict.txt.big ...\n",
      "Loading model from cache C:\\Users\\PETER\\AppData\\Local\\Temp\\jieba.u6fb6e872883c6d9c08ea8e016e70c5c1.cache\n"
     ]
    },
    {
     "name": "stdout",
     "output_type": "stream",
     "text": [
      "8552\n"
     ]
    },
    {
     "name": "stderr",
     "output_type": "stream",
     "text": [
      "Loading model cost 1.285 seconds.\n",
      "Prefix dict has been built succesfully.\n",
      "Building prefix dict from C:\\Users\\PETER\\OneDrive\\桌面\\Klook 7\\dict.txt.big ...\n",
      "Loading model from cache C:\\Users\\PETER\\AppData\\Local\\Temp\\jieba.u6fb6e872883c6d9c08ea8e016e70c5c1.cache\n"
     ]
    },
    {
     "name": "stdout",
     "output_type": "stream",
     "text": [
      "8668\n"
     ]
    },
    {
     "name": "stderr",
     "output_type": "stream",
     "text": [
      "Loading model cost 1.296 seconds.\n",
      "Prefix dict has been built succesfully.\n",
      "Building prefix dict from C:\\Users\\PETER\\OneDrive\\桌面\\Klook 7\\dict.txt.big ...\n",
      "Loading model from cache C:\\Users\\PETER\\AppData\\Local\\Temp\\jieba.u6fb6e872883c6d9c08ea8e016e70c5c1.cache\n"
     ]
    },
    {
     "name": "stdout",
     "output_type": "stream",
     "text": [
      "8739\n"
     ]
    },
    {
     "name": "stderr",
     "output_type": "stream",
     "text": [
      "Loading model cost 1.272 seconds.\n",
      "Prefix dict has been built succesfully.\n",
      "Building prefix dict from C:\\Users\\PETER\\OneDrive\\桌面\\Klook 7\\dict.txt.big ...\n",
      "Loading model from cache C:\\Users\\PETER\\AppData\\Local\\Temp\\jieba.u6fb6e872883c6d9c08ea8e016e70c5c1.cache\n"
     ]
    },
    {
     "name": "stdout",
     "output_type": "stream",
     "text": [
      "8750\n"
     ]
    },
    {
     "name": "stderr",
     "output_type": "stream",
     "text": [
      "Loading model cost 1.291 seconds.\n",
      "Prefix dict has been built succesfully.\n",
      "Building prefix dict from C:\\Users\\PETER\\OneDrive\\桌面\\Klook 7\\dict.txt.big ...\n",
      "Loading model from cache C:\\Users\\PETER\\AppData\\Local\\Temp\\jieba.u6fb6e872883c6d9c08ea8e016e70c5c1.cache\n"
     ]
    },
    {
     "name": "stdout",
     "output_type": "stream",
     "text": [
      "8794\n"
     ]
    },
    {
     "name": "stderr",
     "output_type": "stream",
     "text": [
      "Loading model cost 1.299 seconds.\n",
      "Prefix dict has been built succesfully.\n",
      "Building prefix dict from C:\\Users\\PETER\\OneDrive\\桌面\\Klook 7\\dict.txt.big ...\n",
      "Loading model from cache C:\\Users\\PETER\\AppData\\Local\\Temp\\jieba.u6fb6e872883c6d9c08ea8e016e70c5c1.cache\n"
     ]
    },
    {
     "name": "stdout",
     "output_type": "stream",
     "text": [
      "8875\n"
     ]
    },
    {
     "name": "stderr",
     "output_type": "stream",
     "text": [
      "Loading model cost 1.323 seconds.\n",
      "Prefix dict has been built succesfully.\n",
      "Building prefix dict from C:\\Users\\PETER\\OneDrive\\桌面\\Klook 7\\dict.txt.big ...\n",
      "Loading model from cache C:\\Users\\PETER\\AppData\\Local\\Temp\\jieba.u6fb6e872883c6d9c08ea8e016e70c5c1.cache\n"
     ]
    },
    {
     "name": "stdout",
     "output_type": "stream",
     "text": [
      "9163\n"
     ]
    },
    {
     "name": "stderr",
     "output_type": "stream",
     "text": [
      "Loading model cost 1.286 seconds.\n",
      "Prefix dict has been built succesfully.\n",
      "Building prefix dict from C:\\Users\\PETER\\OneDrive\\桌面\\Klook 7\\dict.txt.big ...\n",
      "Loading model from cache C:\\Users\\PETER\\AppData\\Local\\Temp\\jieba.u6fb6e872883c6d9c08ea8e016e70c5c1.cache\n"
     ]
    },
    {
     "name": "stdout",
     "output_type": "stream",
     "text": [
      "9239\n"
     ]
    },
    {
     "name": "stderr",
     "output_type": "stream",
     "text": [
      "Loading model cost 1.285 seconds.\n",
      "Prefix dict has been built succesfully.\n",
      "Building prefix dict from C:\\Users\\PETER\\OneDrive\\桌面\\Klook 7\\dict.txt.big ...\n",
      "Loading model from cache C:\\Users\\PETER\\AppData\\Local\\Temp\\jieba.u6fb6e872883c6d9c08ea8e016e70c5c1.cache\n"
     ]
    },
    {
     "name": "stdout",
     "output_type": "stream",
     "text": [
      "937\n"
     ]
    },
    {
     "name": "stderr",
     "output_type": "stream",
     "text": [
      "Loading model cost 1.280 seconds.\n",
      "Prefix dict has been built succesfully.\n",
      "Building prefix dict from C:\\Users\\PETER\\OneDrive\\桌面\\Klook 7\\dict.txt.big ...\n",
      "Loading model from cache C:\\Users\\PETER\\AppData\\Local\\Temp\\jieba.u6fb6e872883c6d9c08ea8e016e70c5c1.cache\n"
     ]
    },
    {
     "name": "stdout",
     "output_type": "stream",
     "text": [
      "9546\n"
     ]
    },
    {
     "name": "stderr",
     "output_type": "stream",
     "text": [
      "Loading model cost 1.279 seconds.\n",
      "Prefix dict has been built succesfully.\n",
      "Building prefix dict from C:\\Users\\PETER\\OneDrive\\桌面\\Klook 7\\dict.txt.big ...\n",
      "Loading model from cache C:\\Users\\PETER\\AppData\\Local\\Temp\\jieba.u6fb6e872883c6d9c08ea8e016e70c5c1.cache\n"
     ]
    },
    {
     "name": "stdout",
     "output_type": "stream",
     "text": [
      "9548\n"
     ]
    },
    {
     "name": "stderr",
     "output_type": "stream",
     "text": [
      "Loading model cost 1.281 seconds.\n",
      "Prefix dict has been built succesfully.\n",
      "Building prefix dict from C:\\Users\\PETER\\OneDrive\\桌面\\Klook 7\\dict.txt.big ...\n",
      "Loading model from cache C:\\Users\\PETER\\AppData\\Local\\Temp\\jieba.u6fb6e872883c6d9c08ea8e016e70c5c1.cache\n"
     ]
    },
    {
     "name": "stdout",
     "output_type": "stream",
     "text": [
      "9550\n"
     ]
    },
    {
     "name": "stderr",
     "output_type": "stream",
     "text": [
      "Loading model cost 1.346 seconds.\n",
      "Prefix dict has been built succesfully.\n",
      "Building prefix dict from C:\\Users\\PETER\\OneDrive\\桌面\\Klook 7\\dict.txt.big ...\n",
      "Loading model from cache C:\\Users\\PETER\\AppData\\Local\\Temp\\jieba.u6fb6e872883c6d9c08ea8e016e70c5c1.cache\n"
     ]
    },
    {
     "name": "stdout",
     "output_type": "stream",
     "text": [
      "9601\n"
     ]
    },
    {
     "name": "stderr",
     "output_type": "stream",
     "text": [
      "Loading model cost 1.295 seconds.\n",
      "Prefix dict has been built succesfully.\n",
      "Building prefix dict from C:\\Users\\PETER\\OneDrive\\桌面\\Klook 7\\dict.txt.big ...\n",
      "Loading model from cache C:\\Users\\PETER\\AppData\\Local\\Temp\\jieba.u6fb6e872883c6d9c08ea8e016e70c5c1.cache\n"
     ]
    },
    {
     "name": "stdout",
     "output_type": "stream",
     "text": [
      "973\n"
     ]
    },
    {
     "name": "stderr",
     "output_type": "stream",
     "text": [
      "Loading model cost 1.325 seconds.\n",
      "Prefix dict has been built succesfully.\n",
      "Building prefix dict from C:\\Users\\PETER\\OneDrive\\桌面\\Klook 7\\dict.txt.big ...\n",
      "Loading model from cache C:\\Users\\PETER\\AppData\\Local\\Temp\\jieba.u6fb6e872883c6d9c08ea8e016e70c5c1.cache\n"
     ]
    },
    {
     "name": "stdout",
     "output_type": "stream",
     "text": [
      "984\n"
     ]
    },
    {
     "name": "stderr",
     "output_type": "stream",
     "text": [
      "Loading model cost 1.299 seconds.\n",
      "Prefix dict has been built succesfully.\n"
     ]
    }
   ],
   "source": [
    "import os\n",
    "\n",
    "path='output\\comment\\TW_comment\\\\'\n",
    "\n",
    "files = []\n",
    "# r=root, d=directories, f = files\n",
    "for r, d, f in os.walk(path):\n",
    "    for file in f:\n",
    "        if '.csv' in file:\n",
    "            #print(os.path.join(r, file))\n",
    "            files.append(os.path.join(r, file))\n",
    "for i in files:\n",
    "    df=pd.read_csv(i)\n",
    "    \n",
    "    t=i.find(\".csv\")\n",
    "    n=(i[15:t])\n",
    "    u=n.find(\"t\")\n",
    "    u=u+2\n",
    "    name=(n[u:] )\n",
    "    print((n[u:] ))\n",
    "    \n",
    "    #jieba\n",
    "    jw=list()\n",
    "    jb=list()\n",
    "    import jieba\n",
    "    import jieba.posseg as pseg\n",
    "    jieba.set_dictionary('dict.txt.big')\n",
    "    for k in df[\"translate_content\"]:\n",
    "        words =pseg.cut(k)\n",
    "        for w in words:\n",
    "            try:\n",
    "                #print(w.word,w.flag)\n",
    "                jw.append((w.word,w.flag))\n",
    "            except:\n",
    "                pass\n",
    "    # select a and x\n",
    "    for g in range(len(jw)):\n",
    "        if \"a\" in jw[g]:\n",
    "            if len(jw[g][0])>1:\n",
    "                #print(jw[g])\n",
    "                jb.append(jw[g][0])\n",
    "    from snownlp import SnowNLP\n",
    "    f= open(\"output/feeling/TW_comment/\"+name+\"_neg1.txt\",\"w+\",encoding=\"utf-8\")\n",
    "    q= open(\"output/feeling/TW_comment/\"+name+\"_pos1.txt\",\"w+\",encoding=\"utf-8\")\n",
    "    for i in jb:\n",
    "        s=SnowNLP(i)\n",
    "        if (s.sentiments)<0.5:\n",
    "            #print(i,s.sentiments)\n",
    "            f.write(i+ '\\n')\n",
    "        elif (s.sentiments)>0.5:\n",
    "            #print(i,s.sentiments)\n",
    "            q.write(i+ '\\n')\n",
    "    f.close()\n",
    "    q.close()\n",
    "    \n",
    "    "
   ]
  },
  {
   "cell_type": "code",
   "execution_count": null,
   "metadata": {},
   "outputs": [],
   "source": [
    "#Full Comment\n",
    "df=pd.read_csv('full_comments.csv')\n",
    "jw=list()\n",
    "jb=list()\n",
    "import jieba\n",
    "import jieba.posseg as pseg\n",
    "jieba.set_dictionary('dict.txt.big')\n",
    "for k in df[\"translate_content\"]:\n",
    "    words =pseg.cut(k)\n",
    "    for w in words:\n",
    "        #print(w.word,w.flag)\n",
    "        jw.append((w.word,w.flag))\n",
    "# select a and x\n",
    "for g in range(len(jw)):\n",
    "    if \"a\" in jw[g]:\n",
    "        if len(jw[g][0])>1:\n",
    "            #print(jw[g])\n",
    "            jb.append(jw[g][0])\n",
    "from snownlp import SnowNLP\n",
    "f= open(\"output/feeling/\"+\"full\"+\"_neg1_jbNLP.txt\",\"w+\",encoding=\"utf-8\")\n",
    "q= open(\"output/feeling/\"+\"full\"+\"_pos1_jbNLP.txt\",\"w+\",encoding=\"utf-8\")\n",
    "for i in jb:\n",
    "    s=SnowNLP(i)\n",
    "    if (s.sentiments)<0.5:\n",
    "        #print(i,s.sentiments)\n",
    "        f.write(i+ '\\n')\n",
    "    elif (s.sentiments)>0.5:\n",
    "        #print(i,s.sentiments)\n",
    "        q.write(i+ '\\n')\n",
    "f.close()\n",
    "q.close()\n",
    "    \n",
    "    "
   ]
  }
 ],
 "metadata": {
  "kernelspec": {
   "display_name": "Python 3",
   "language": "python",
   "name": "python3"
  },
  "language_info": {
   "codemirror_mode": {
    "name": "ipython",
    "version": 3
   },
   "file_extension": ".py",
   "mimetype": "text/x-python",
   "name": "python",
   "nbconvert_exporter": "python",
   "pygments_lexer": "ipython3",
   "version": "3.7.3"
  }
 },
 "nbformat": 4,
 "nbformat_minor": 4
}
